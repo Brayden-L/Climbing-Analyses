{
 "cells": [
  {
   "cell_type": "code",
   "execution_count": 368,
   "metadata": {},
   "outputs": [],
   "source": [
    "import numpy as np\n",
    "import pandas as pd\n",
    "import matplotlib.pyplot as plt\n",
    "import seaborn as sns\n",
    "import plotly.express as px\n",
    "from pandas_profiling import ProfileReport\n",
    "import pickle\n",
    "import os\n",
    "import datetime\n",
    "from scipy.stats import zscore"
   ]
  },
  {
   "cell_type": "code",
   "execution_count": 2,
   "metadata": {},
   "outputs": [],
   "source": [
    "# Upload and clean\n",
    "df, _, _ = pickle.load(open('C:/Users/Brayden/Desktop/LocScrapes/Indian Creek (Full).pkl', 'rb'))\n",
    "df.drop_duplicates(subset='URL', inplace=True)"
   ]
  },
  {
   "cell_type": "code",
   "execution_count": null,
   "metadata": {},
   "outputs": [],
   "source": [
    "# Prefab EDA\n",
    "profile = ProfileReport(df)\n",
    "profile.to_widgets()"
   ]
  },
  {
   "cell_type": "code",
   "execution_count": 3,
   "metadata": {},
   "outputs": [
    {
     "data": {
      "application/vnd.plotly.v1+json": {
       "config": {
        "plotlyServerURL": "https://plot.ly"
       },
       "data": [
        {
         "hovertemplate": "x=%{x}<br>y=%{y}<extra></extra>",
         "legendgroup": "",
         "line": {
          "color": "#636efa",
          "dash": "solid",
          "width": 4
         },
         "marker": {
          "symbol": "circle"
         },
         "mode": "lines",
         "name": "",
         "orientation": "v",
         "showlegend": false,
         "type": "scatter",
         "x": [
          0,
          0,
          0,
          0,
          0,
          0,
          0,
          0,
          0,
          0,
          1,
          1,
          1,
          1,
          1,
          1,
          1,
          1,
          1,
          2,
          2,
          2,
          2,
          2,
          2,
          2,
          3,
          3,
          3,
          3,
          3,
          4,
          4,
          4,
          4,
          5,
          5,
          5,
          6,
          6,
          7,
          7,
          7,
          8,
          8,
          9,
          10,
          10,
          11,
          12,
          13,
          14,
          15,
          15,
          16,
          18,
          19,
          20,
          22,
          23,
          24,
          25.399999999999977,
          27.799999999999955,
          29,
          31,
          34,
          36,
          38.799999999999955,
          41,
          44,
          46,
          49.399999999999864,
          53,
          58,
          63,
          67,
          71,
          75,
          79,
          84,
          88,
          98,
          106,
          115,
          127.59999999999991,
          134,
          145.4000000000001,
          163,
          181.60000000000014,
          205.79999999999973,
          225,
          247,
          279,
          313,
          354.5999999999999,
          386,
          458.79999999999905,
          512.3999999999999,
          663.2000000000012,
          981.1999999999857
         ],
         "xaxis": "x",
         "y": [
          0,
          1,
          2,
          3,
          4,
          5,
          6,
          7,
          8,
          9,
          10,
          11,
          12,
          13,
          14,
          15,
          16,
          17,
          18,
          19,
          20,
          21,
          22,
          23,
          24,
          25,
          26,
          27,
          28,
          29,
          30,
          31,
          32,
          33,
          34,
          35,
          36,
          37,
          38,
          39,
          40,
          41,
          42,
          43,
          44,
          45,
          46,
          47,
          48,
          49,
          50,
          51,
          52,
          53,
          54,
          55,
          56,
          57,
          58,
          59,
          60,
          61,
          62,
          63,
          64,
          65,
          66,
          67,
          68,
          69,
          70,
          71,
          72,
          73,
          74,
          75,
          76,
          77,
          78,
          79,
          80,
          81,
          82,
          83,
          84,
          85,
          86,
          87,
          88,
          89,
          90,
          91,
          92,
          93,
          94,
          95,
          96,
          97,
          98,
          99
         ],
         "yaxis": "y"
        }
       ],
       "layout": {
        "legend": {
         "tracegroupgap": 0
        },
        "template": {
         "data": {
          "bar": [
           {
            "error_x": {
             "color": "#2a3f5f"
            },
            "error_y": {
             "color": "#2a3f5f"
            },
            "marker": {
             "line": {
              "color": "#E5ECF6",
              "width": 0.5
             },
             "pattern": {
              "fillmode": "overlay",
              "size": 10,
              "solidity": 0.2
             }
            },
            "type": "bar"
           }
          ],
          "barpolar": [
           {
            "marker": {
             "line": {
              "color": "#E5ECF6",
              "width": 0.5
             },
             "pattern": {
              "fillmode": "overlay",
              "size": 10,
              "solidity": 0.2
             }
            },
            "type": "barpolar"
           }
          ],
          "carpet": [
           {
            "aaxis": {
             "endlinecolor": "#2a3f5f",
             "gridcolor": "white",
             "linecolor": "white",
             "minorgridcolor": "white",
             "startlinecolor": "#2a3f5f"
            },
            "baxis": {
             "endlinecolor": "#2a3f5f",
             "gridcolor": "white",
             "linecolor": "white",
             "minorgridcolor": "white",
             "startlinecolor": "#2a3f5f"
            },
            "type": "carpet"
           }
          ],
          "choropleth": [
           {
            "colorbar": {
             "outlinewidth": 0,
             "ticks": ""
            },
            "type": "choropleth"
           }
          ],
          "contour": [
           {
            "colorbar": {
             "outlinewidth": 0,
             "ticks": ""
            },
            "colorscale": [
             [
              0,
              "#0d0887"
             ],
             [
              0.1111111111111111,
              "#46039f"
             ],
             [
              0.2222222222222222,
              "#7201a8"
             ],
             [
              0.3333333333333333,
              "#9c179e"
             ],
             [
              0.4444444444444444,
              "#bd3786"
             ],
             [
              0.5555555555555556,
              "#d8576b"
             ],
             [
              0.6666666666666666,
              "#ed7953"
             ],
             [
              0.7777777777777778,
              "#fb9f3a"
             ],
             [
              0.8888888888888888,
              "#fdca26"
             ],
             [
              1,
              "#f0f921"
             ]
            ],
            "type": "contour"
           }
          ],
          "contourcarpet": [
           {
            "colorbar": {
             "outlinewidth": 0,
             "ticks": ""
            },
            "type": "contourcarpet"
           }
          ],
          "heatmap": [
           {
            "colorbar": {
             "outlinewidth": 0,
             "ticks": ""
            },
            "colorscale": [
             [
              0,
              "#0d0887"
             ],
             [
              0.1111111111111111,
              "#46039f"
             ],
             [
              0.2222222222222222,
              "#7201a8"
             ],
             [
              0.3333333333333333,
              "#9c179e"
             ],
             [
              0.4444444444444444,
              "#bd3786"
             ],
             [
              0.5555555555555556,
              "#d8576b"
             ],
             [
              0.6666666666666666,
              "#ed7953"
             ],
             [
              0.7777777777777778,
              "#fb9f3a"
             ],
             [
              0.8888888888888888,
              "#fdca26"
             ],
             [
              1,
              "#f0f921"
             ]
            ],
            "type": "heatmap"
           }
          ],
          "heatmapgl": [
           {
            "colorbar": {
             "outlinewidth": 0,
             "ticks": ""
            },
            "colorscale": [
             [
              0,
              "#0d0887"
             ],
             [
              0.1111111111111111,
              "#46039f"
             ],
             [
              0.2222222222222222,
              "#7201a8"
             ],
             [
              0.3333333333333333,
              "#9c179e"
             ],
             [
              0.4444444444444444,
              "#bd3786"
             ],
             [
              0.5555555555555556,
              "#d8576b"
             ],
             [
              0.6666666666666666,
              "#ed7953"
             ],
             [
              0.7777777777777778,
              "#fb9f3a"
             ],
             [
              0.8888888888888888,
              "#fdca26"
             ],
             [
              1,
              "#f0f921"
             ]
            ],
            "type": "heatmapgl"
           }
          ],
          "histogram": [
           {
            "marker": {
             "pattern": {
              "fillmode": "overlay",
              "size": 10,
              "solidity": 0.2
             }
            },
            "type": "histogram"
           }
          ],
          "histogram2d": [
           {
            "colorbar": {
             "outlinewidth": 0,
             "ticks": ""
            },
            "colorscale": [
             [
              0,
              "#0d0887"
             ],
             [
              0.1111111111111111,
              "#46039f"
             ],
             [
              0.2222222222222222,
              "#7201a8"
             ],
             [
              0.3333333333333333,
              "#9c179e"
             ],
             [
              0.4444444444444444,
              "#bd3786"
             ],
             [
              0.5555555555555556,
              "#d8576b"
             ],
             [
              0.6666666666666666,
              "#ed7953"
             ],
             [
              0.7777777777777778,
              "#fb9f3a"
             ],
             [
              0.8888888888888888,
              "#fdca26"
             ],
             [
              1,
              "#f0f921"
             ]
            ],
            "type": "histogram2d"
           }
          ],
          "histogram2dcontour": [
           {
            "colorbar": {
             "outlinewidth": 0,
             "ticks": ""
            },
            "colorscale": [
             [
              0,
              "#0d0887"
             ],
             [
              0.1111111111111111,
              "#46039f"
             ],
             [
              0.2222222222222222,
              "#7201a8"
             ],
             [
              0.3333333333333333,
              "#9c179e"
             ],
             [
              0.4444444444444444,
              "#bd3786"
             ],
             [
              0.5555555555555556,
              "#d8576b"
             ],
             [
              0.6666666666666666,
              "#ed7953"
             ],
             [
              0.7777777777777778,
              "#fb9f3a"
             ],
             [
              0.8888888888888888,
              "#fdca26"
             ],
             [
              1,
              "#f0f921"
             ]
            ],
            "type": "histogram2dcontour"
           }
          ],
          "mesh3d": [
           {
            "colorbar": {
             "outlinewidth": 0,
             "ticks": ""
            },
            "type": "mesh3d"
           }
          ],
          "parcoords": [
           {
            "line": {
             "colorbar": {
              "outlinewidth": 0,
              "ticks": ""
             }
            },
            "type": "parcoords"
           }
          ],
          "pie": [
           {
            "automargin": true,
            "type": "pie"
           }
          ],
          "scatter": [
           {
            "marker": {
             "colorbar": {
              "outlinewidth": 0,
              "ticks": ""
             }
            },
            "type": "scatter"
           }
          ],
          "scatter3d": [
           {
            "line": {
             "colorbar": {
              "outlinewidth": 0,
              "ticks": ""
             }
            },
            "marker": {
             "colorbar": {
              "outlinewidth": 0,
              "ticks": ""
             }
            },
            "type": "scatter3d"
           }
          ],
          "scattercarpet": [
           {
            "marker": {
             "colorbar": {
              "outlinewidth": 0,
              "ticks": ""
             }
            },
            "type": "scattercarpet"
           }
          ],
          "scattergeo": [
           {
            "marker": {
             "colorbar": {
              "outlinewidth": 0,
              "ticks": ""
             }
            },
            "type": "scattergeo"
           }
          ],
          "scattergl": [
           {
            "marker": {
             "colorbar": {
              "outlinewidth": 0,
              "ticks": ""
             }
            },
            "type": "scattergl"
           }
          ],
          "scattermapbox": [
           {
            "marker": {
             "colorbar": {
              "outlinewidth": 0,
              "ticks": ""
             }
            },
            "type": "scattermapbox"
           }
          ],
          "scatterpolar": [
           {
            "marker": {
             "colorbar": {
              "outlinewidth": 0,
              "ticks": ""
             }
            },
            "type": "scatterpolar"
           }
          ],
          "scatterpolargl": [
           {
            "marker": {
             "colorbar": {
              "outlinewidth": 0,
              "ticks": ""
             }
            },
            "type": "scatterpolargl"
           }
          ],
          "scatterternary": [
           {
            "marker": {
             "colorbar": {
              "outlinewidth": 0,
              "ticks": ""
             }
            },
            "type": "scatterternary"
           }
          ],
          "surface": [
           {
            "colorbar": {
             "outlinewidth": 0,
             "ticks": ""
            },
            "colorscale": [
             [
              0,
              "#0d0887"
             ],
             [
              0.1111111111111111,
              "#46039f"
             ],
             [
              0.2222222222222222,
              "#7201a8"
             ],
             [
              0.3333333333333333,
              "#9c179e"
             ],
             [
              0.4444444444444444,
              "#bd3786"
             ],
             [
              0.5555555555555556,
              "#d8576b"
             ],
             [
              0.6666666666666666,
              "#ed7953"
             ],
             [
              0.7777777777777778,
              "#fb9f3a"
             ],
             [
              0.8888888888888888,
              "#fdca26"
             ],
             [
              1,
              "#f0f921"
             ]
            ],
            "type": "surface"
           }
          ],
          "table": [
           {
            "cells": {
             "fill": {
              "color": "#EBF0F8"
             },
             "line": {
              "color": "white"
             }
            },
            "header": {
             "fill": {
              "color": "#C8D4E3"
             },
             "line": {
              "color": "white"
             }
            },
            "type": "table"
           }
          ]
         },
         "layout": {
          "annotationdefaults": {
           "arrowcolor": "#2a3f5f",
           "arrowhead": 0,
           "arrowwidth": 1
          },
          "autotypenumbers": "strict",
          "coloraxis": {
           "colorbar": {
            "outlinewidth": 0,
            "ticks": ""
           }
          },
          "colorscale": {
           "diverging": [
            [
             0,
             "#8e0152"
            ],
            [
             0.1,
             "#c51b7d"
            ],
            [
             0.2,
             "#de77ae"
            ],
            [
             0.3,
             "#f1b6da"
            ],
            [
             0.4,
             "#fde0ef"
            ],
            [
             0.5,
             "#f7f7f7"
            ],
            [
             0.6,
             "#e6f5d0"
            ],
            [
             0.7,
             "#b8e186"
            ],
            [
             0.8,
             "#7fbc41"
            ],
            [
             0.9,
             "#4d9221"
            ],
            [
             1,
             "#276419"
            ]
           ],
           "sequential": [
            [
             0,
             "#0d0887"
            ],
            [
             0.1111111111111111,
             "#46039f"
            ],
            [
             0.2222222222222222,
             "#7201a8"
            ],
            [
             0.3333333333333333,
             "#9c179e"
            ],
            [
             0.4444444444444444,
             "#bd3786"
            ],
            [
             0.5555555555555556,
             "#d8576b"
            ],
            [
             0.6666666666666666,
             "#ed7953"
            ],
            [
             0.7777777777777778,
             "#fb9f3a"
            ],
            [
             0.8888888888888888,
             "#fdca26"
            ],
            [
             1,
             "#f0f921"
            ]
           ],
           "sequentialminus": [
            [
             0,
             "#0d0887"
            ],
            [
             0.1111111111111111,
             "#46039f"
            ],
            [
             0.2222222222222222,
             "#7201a8"
            ],
            [
             0.3333333333333333,
             "#9c179e"
            ],
            [
             0.4444444444444444,
             "#bd3786"
            ],
            [
             0.5555555555555556,
             "#d8576b"
            ],
            [
             0.6666666666666666,
             "#ed7953"
            ],
            [
             0.7777777777777778,
             "#fb9f3a"
            ],
            [
             0.8888888888888888,
             "#fdca26"
            ],
            [
             1,
             "#f0f921"
            ]
           ]
          },
          "colorway": [
           "#636efa",
           "#EF553B",
           "#00cc96",
           "#ab63fa",
           "#FFA15A",
           "#19d3f3",
           "#FF6692",
           "#B6E880",
           "#FF97FF",
           "#FECB52"
          ],
          "font": {
           "color": "#2a3f5f"
          },
          "geo": {
           "bgcolor": "white",
           "lakecolor": "white",
           "landcolor": "#E5ECF6",
           "showlakes": true,
           "showland": true,
           "subunitcolor": "white"
          },
          "hoverlabel": {
           "align": "left"
          },
          "hovermode": "closest",
          "mapbox": {
           "style": "light"
          },
          "paper_bgcolor": "white",
          "plot_bgcolor": "#E5ECF6",
          "polar": {
           "angularaxis": {
            "gridcolor": "white",
            "linecolor": "white",
            "ticks": ""
           },
           "bgcolor": "#E5ECF6",
           "radialaxis": {
            "gridcolor": "white",
            "linecolor": "white",
            "ticks": ""
           }
          },
          "scene": {
           "xaxis": {
            "backgroundcolor": "#E5ECF6",
            "gridcolor": "white",
            "gridwidth": 2,
            "linecolor": "white",
            "showbackground": true,
            "ticks": "",
            "zerolinecolor": "white"
           },
           "yaxis": {
            "backgroundcolor": "#E5ECF6",
            "gridcolor": "white",
            "gridwidth": 2,
            "linecolor": "white",
            "showbackground": true,
            "ticks": "",
            "zerolinecolor": "white"
           },
           "zaxis": {
            "backgroundcolor": "#E5ECF6",
            "gridcolor": "white",
            "gridwidth": 2,
            "linecolor": "white",
            "showbackground": true,
            "ticks": "",
            "zerolinecolor": "white"
           }
          },
          "shapedefaults": {
           "line": {
            "color": "#2a3f5f"
           }
          },
          "ternary": {
           "aaxis": {
            "gridcolor": "white",
            "linecolor": "white",
            "ticks": ""
           },
           "baxis": {
            "gridcolor": "white",
            "linecolor": "white",
            "ticks": ""
           },
           "bgcolor": "#E5ECF6",
           "caxis": {
            "gridcolor": "white",
            "linecolor": "white",
            "ticks": ""
           }
          },
          "title": {
           "x": 0.05
          },
          "xaxis": {
           "automargin": true,
           "gridcolor": "white",
           "linecolor": "white",
           "ticks": "",
           "title": {
            "standoff": 15
           },
           "zerolinecolor": "white",
           "zerolinewidth": 2
          },
          "yaxis": {
           "automargin": true,
           "gridcolor": "white",
           "linecolor": "white",
           "ticks": "",
           "title": {
            "standoff": 15
           },
           "zerolinecolor": "white",
           "zerolinewidth": 2
          }
         }
        },
        "title": {
         "text": "Number of Ticks Percentile Plot",
         "x": 0.5
        },
        "width": 800,
        "xaxis": {
         "anchor": "y",
         "domain": [
          0,
          1
         ],
         "range": [
          -10,
          1000
         ],
         "title": {
          "text": "Number of Ticks"
         }
        },
        "yaxis": {
         "anchor": "x",
         "domain": [
          0,
          1
         ],
         "title": {
          "text": "Percentile (%)"
         }
        }
       }
      }
     },
     "metadata": {},
     "output_type": "display_data"
    }
   ],
   "source": [
    "# Number of Ticks Exploration\n",
    "pd.to_numeric(df['Num Ticks'].fillna(0, inplace=True), downcast='integer')\n",
    "\n",
    "col=df['Num Ticks']\n",
    "yperc = np.percentile(col, range(0,100))\n",
    "\n",
    "fig1 = px.histogram(col, nbins=500, marginal='box', width=800)\n",
    "fig1.update_layout(showlegend=False, title_x=0.5)\n",
    "fig1.update_xaxes(title=\"Number of Ticks\", row=1,col=1)\n",
    "fig1\n",
    "col.describe()\n",
    "fig2 = px.line(x=yperc, y=range(0,100), title='Number of Ticks Percentile Plot', width=800)\n",
    "fig2.update_layout(title_x=0.5)\n",
    "fig2.update_xaxes(title=\"Number of Ticks\", range=[-10,1000])\n",
    "fig2.update_yaxes(title=\"Percentile (%)\")\n",
    "fig2.update_traces(line_width=4)\n",
    "fig2"
   ]
  },
  {
   "cell_type": "code",
   "execution_count": 4,
   "metadata": {},
   "outputs": [
    {
     "data": {
      "application/vnd.plotly.v1+json": {
       "config": {
        "plotlyServerURL": "https://plot.ly"
       },
       "data": [
        {
         "hovertemplate": "x=%{x}<br>y=%{y}<extra></extra>",
         "legendgroup": "",
         "line": {
          "color": "#636efa",
          "dash": "solid"
         },
         "marker": {
          "symbol": "circle"
         },
         "mode": "lines",
         "name": "",
         "showlegend": false,
         "type": "scattergl",
         "x": [
          0,
          1,
          2,
          3,
          4,
          5,
          6,
          7,
          8,
          9,
          10,
          11,
          12,
          13,
          14,
          15,
          16,
          17,
          18,
          19,
          20,
          21,
          22,
          23,
          24,
          25,
          26,
          27,
          28,
          29,
          30,
          31,
          32,
          33,
          34,
          35,
          36,
          37,
          38,
          39,
          40,
          41,
          42,
          43,
          44,
          45,
          46,
          47,
          48,
          49,
          50,
          51,
          52,
          53,
          54,
          55,
          56,
          57,
          58,
          59,
          60,
          61,
          62,
          63,
          64,
          65,
          66,
          67,
          68,
          69,
          70,
          71,
          72,
          73,
          74,
          75,
          76,
          77,
          78,
          79,
          80,
          81,
          82,
          83,
          84,
          85,
          86,
          87,
          88,
          89,
          90,
          91,
          92,
          93,
          94,
          95,
          96,
          97,
          98,
          99,
          100,
          101,
          102,
          103,
          104,
          105,
          106,
          107,
          108,
          109,
          110,
          111,
          112,
          113,
          114,
          115,
          116,
          117,
          118,
          119,
          120,
          121,
          122,
          123,
          124,
          125,
          126,
          127,
          128,
          129,
          130,
          131,
          132,
          133,
          134,
          135,
          136,
          137,
          138,
          139,
          140,
          141,
          142,
          143,
          144,
          145,
          146,
          147,
          148,
          149,
          150,
          151,
          152,
          153,
          154,
          155,
          156,
          157,
          158,
          159,
          160,
          161,
          162,
          163,
          164,
          165,
          166,
          167,
          168,
          169,
          170,
          171,
          172,
          173,
          174,
          175,
          176,
          177,
          178,
          179,
          180,
          181,
          182,
          183,
          184,
          185,
          186,
          187,
          188,
          189,
          190,
          191,
          192,
          193,
          194,
          195,
          196,
          197,
          198,
          199,
          200,
          201,
          202,
          203,
          204,
          205,
          206,
          207,
          208,
          209,
          210,
          211,
          212,
          213,
          214,
          215,
          216,
          217,
          218,
          219,
          220,
          221,
          222,
          223,
          224,
          225,
          226,
          227,
          228,
          229,
          230,
          231,
          232,
          233,
          234,
          235,
          236,
          237,
          238,
          239,
          240,
          241,
          242,
          243,
          244,
          245,
          246,
          247,
          248,
          249,
          250,
          251,
          252,
          253,
          254,
          255,
          256,
          257,
          258,
          259,
          260,
          261,
          262,
          263,
          264,
          265,
          266,
          267,
          268,
          269,
          270,
          271,
          272,
          273,
          274,
          275,
          276,
          277,
          278,
          279,
          280,
          281,
          282,
          283,
          284,
          285,
          286,
          287,
          288,
          289,
          290,
          291,
          292,
          293,
          294,
          295,
          296,
          297,
          298,
          299,
          300,
          301,
          302,
          303,
          304,
          305,
          306,
          307,
          308,
          309,
          310,
          311,
          312,
          313,
          314,
          315,
          316,
          317,
          318,
          319,
          320,
          321,
          322,
          323,
          324,
          325,
          326,
          327,
          328,
          329,
          330,
          331,
          332,
          333,
          334,
          335,
          336,
          337,
          338,
          339,
          340,
          341,
          342,
          343,
          344,
          345,
          346,
          347,
          348,
          349,
          350,
          351,
          352,
          353,
          354,
          355,
          356,
          357,
          358,
          359,
          360,
          361,
          362,
          363,
          364,
          365,
          366,
          367,
          368,
          369,
          370,
          371,
          372,
          373,
          374,
          375,
          376,
          377,
          378,
          379,
          380,
          381,
          382,
          383,
          384,
          385,
          386,
          387,
          388,
          389,
          390,
          391,
          392,
          393,
          394,
          395,
          396,
          397,
          398,
          399,
          400,
          401,
          402,
          403,
          404,
          405,
          406,
          407,
          408,
          409,
          410,
          411,
          412,
          413,
          414,
          415,
          416,
          417,
          418,
          419,
          420,
          421,
          422,
          423,
          424,
          425,
          426,
          427,
          428,
          429,
          430,
          431,
          432,
          433,
          434,
          435,
          436,
          437,
          438,
          439,
          440,
          441,
          442,
          443,
          444,
          445,
          446,
          447,
          448,
          449,
          450,
          451,
          452,
          453,
          454,
          455,
          456,
          457,
          458,
          459,
          460,
          461,
          462,
          463,
          464,
          465,
          466,
          467,
          468,
          469,
          470,
          471,
          472,
          473,
          474,
          475,
          476,
          477,
          478,
          479,
          480,
          481,
          482,
          483,
          484,
          485,
          486,
          487,
          488,
          489,
          490,
          491,
          492,
          493,
          494,
          495,
          496,
          497,
          498,
          499,
          500,
          501,
          502,
          503,
          504,
          505,
          506,
          507,
          508,
          509,
          510,
          511,
          512,
          513,
          514,
          515,
          516,
          517,
          518,
          519,
          520,
          521,
          522,
          523,
          524,
          525,
          526,
          527,
          528,
          529,
          530,
          531,
          532,
          533,
          534,
          535,
          536,
          537,
          538,
          539,
          540,
          541,
          542,
          543,
          544,
          545,
          546,
          547,
          548,
          549,
          550,
          551,
          552,
          553,
          554,
          555,
          556,
          557,
          558,
          559,
          560,
          561,
          562,
          563,
          564,
          565,
          566,
          567,
          568,
          569,
          570,
          571,
          572,
          573,
          574,
          575,
          576,
          577,
          578,
          579,
          580,
          581,
          582,
          583,
          584,
          585,
          586,
          587,
          588,
          589,
          590,
          591,
          592,
          593,
          594,
          595,
          596,
          597,
          598,
          599,
          600,
          601,
          602,
          603,
          604,
          605,
          606,
          607,
          608,
          609,
          610,
          611,
          612,
          613,
          614,
          615,
          616,
          617,
          618,
          619,
          620,
          621,
          622,
          623,
          624,
          625,
          626,
          627,
          628,
          629,
          630,
          631,
          632,
          633,
          634,
          635,
          636,
          637,
          638,
          639,
          640,
          641,
          642,
          643,
          644,
          645,
          646,
          647,
          648,
          649,
          650,
          651,
          652,
          653,
          654,
          655,
          656,
          657,
          658,
          659,
          660,
          661,
          662,
          663,
          664,
          665,
          666,
          667,
          668,
          669,
          670,
          671,
          672,
          673,
          674,
          675,
          676,
          677,
          678,
          679,
          680,
          681,
          682,
          683,
          684,
          685,
          686,
          687,
          688,
          689,
          690,
          691,
          692,
          693,
          694,
          695,
          696,
          697,
          698,
          699,
          700,
          701,
          702,
          703,
          704,
          705,
          706,
          707,
          708,
          709,
          710,
          711,
          712,
          713,
          714,
          715,
          716,
          717,
          718,
          719,
          720,
          721,
          722,
          723,
          724,
          725,
          726,
          727,
          728,
          729,
          730,
          731,
          732,
          733,
          734,
          735,
          736,
          737,
          738,
          739,
          740,
          741,
          742,
          743,
          744,
          745,
          746,
          747,
          748,
          749,
          750,
          751,
          752,
          753,
          754,
          755,
          756,
          757,
          758,
          759,
          760,
          761,
          762,
          763,
          764,
          765,
          766,
          767,
          768,
          769,
          770,
          771,
          772,
          773,
          774,
          775,
          776,
          777,
          778,
          779,
          780,
          781,
          782,
          783,
          784,
          785,
          786,
          787,
          788,
          789,
          790,
          791,
          792,
          793,
          794,
          795,
          796,
          797,
          798,
          799,
          800,
          801,
          802,
          803,
          804,
          805,
          806,
          807,
          808,
          809,
          810,
          811,
          812,
          813,
          814,
          815,
          816,
          817,
          818,
          819,
          820,
          821,
          822,
          823,
          824,
          825,
          826,
          827,
          828,
          829,
          830,
          831,
          832,
          833,
          834,
          835,
          836,
          837,
          838,
          839,
          840,
          841,
          842,
          843,
          844,
          845,
          846,
          847,
          848,
          849,
          850,
          851,
          852,
          853,
          854,
          855,
          856,
          857,
          858,
          859,
          860,
          861,
          862,
          863,
          864,
          865,
          866,
          867,
          868,
          869,
          870,
          871,
          872,
          873,
          874,
          875,
          876,
          877,
          878,
          879,
          880,
          881,
          882,
          883,
          884,
          885,
          886,
          887,
          888,
          889,
          890,
          891,
          892,
          893,
          894,
          895,
          896,
          897,
          898,
          899,
          900,
          901,
          902,
          903,
          904,
          905,
          906,
          907,
          908,
          909,
          910,
          911,
          912,
          913,
          914,
          915,
          916,
          917,
          918,
          919,
          920,
          921,
          922,
          923,
          924,
          925,
          926,
          927,
          928,
          929,
          930,
          931,
          932,
          933,
          934,
          935,
          936,
          937,
          938,
          939,
          940,
          941,
          942,
          943,
          944,
          945,
          946,
          947,
          948,
          949,
          950,
          951,
          952,
          953,
          954,
          955,
          956,
          957,
          958,
          959,
          960,
          961,
          962,
          963,
          964,
          965,
          966,
          967,
          968,
          969,
          970,
          971,
          972,
          973,
          974,
          975,
          976,
          977,
          978,
          979,
          980,
          981,
          982,
          983,
          984,
          985,
          986,
          987,
          988,
          989,
          990,
          991,
          992,
          993,
          994,
          995,
          996,
          997,
          998,
          999,
          1000,
          1001,
          1002,
          1003,
          1004,
          1005,
          1006,
          1007,
          1008,
          1009,
          1010,
          1011,
          1012,
          1013,
          1014,
          1015,
          1016,
          1017,
          1018,
          1019,
          1020,
          1021,
          1022,
          1023,
          1024,
          1025,
          1026,
          1027,
          1028,
          1029,
          1030,
          1031,
          1032,
          1033,
          1034,
          1035,
          1036,
          1037,
          1038,
          1039,
          1040,
          1041,
          1042,
          1043,
          1044,
          1045,
          1046,
          1047,
          1048,
          1049,
          1050,
          1051,
          1052,
          1053,
          1054,
          1055,
          1056,
          1057,
          1058,
          1059,
          1060,
          1061,
          1062,
          1063,
          1064,
          1065,
          1066,
          1067,
          1068,
          1069,
          1070,
          1071,
          1072,
          1073,
          1074,
          1075,
          1076,
          1077,
          1078,
          1079,
          1080,
          1081,
          1082,
          1083,
          1084,
          1085,
          1086,
          1087,
          1088,
          1089,
          1090,
          1091,
          1092,
          1093,
          1094,
          1095,
          1096,
          1097,
          1098,
          1099,
          1100,
          1101,
          1102,
          1103,
          1104,
          1105,
          1106,
          1107,
          1108,
          1109,
          1110,
          1111,
          1112,
          1113,
          1114,
          1115,
          1116,
          1117,
          1118,
          1119,
          1120,
          1121,
          1122,
          1123,
          1124,
          1125,
          1126,
          1127,
          1128,
          1129,
          1130,
          1131,
          1132,
          1133,
          1134,
          1135,
          1136,
          1137,
          1138,
          1139,
          1140,
          1141,
          1142,
          1143,
          1144,
          1145,
          1146,
          1147,
          1148,
          1149,
          1150,
          1151,
          1152,
          1153,
          1154,
          1155,
          1156,
          1157,
          1158,
          1159,
          1160,
          1161,
          1162,
          1163,
          1164,
          1165,
          1166,
          1167,
          1168,
          1169,
          1170,
          1171,
          1172,
          1173,
          1174,
          1175,
          1176,
          1177,
          1178,
          1179,
          1180,
          1181,
          1182,
          1183,
          1184,
          1185,
          1186,
          1187,
          1188,
          1189,
          1190,
          1191,
          1192,
          1193,
          1194,
          1195,
          1196,
          1197,
          1198,
          1199,
          1200,
          1201,
          1202,
          1203,
          1204,
          1205,
          1206,
          1207,
          1208,
          1209,
          1210,
          1211,
          1212,
          1213,
          1214,
          1215,
          1216,
          1217,
          1218,
          1219,
          1220,
          1221,
          1222,
          1223,
          1224,
          1225,
          1226,
          1227,
          1228,
          1229,
          1230,
          1231,
          1232,
          1233,
          1234,
          1235,
          1236,
          1237,
          1238,
          1239,
          1240,
          1241,
          1242,
          1243,
          1244,
          1245,
          1246,
          1247,
          1248,
          1249,
          1250,
          1251,
          1252,
          1253,
          1254,
          1255,
          1256,
          1257,
          1258,
          1259,
          1260,
          1261,
          1262,
          1263,
          1264,
          1265,
          1266,
          1267,
          1268,
          1269,
          1270,
          1271,
          1272,
          1273,
          1274,
          1275,
          1276,
          1277,
          1278,
          1279,
          1280,
          1281,
          1282,
          1283,
          1284,
          1285,
          1286,
          1287,
          1288,
          1289,
          1290,
          1291,
          1292,
          1293,
          1294,
          1295,
          1296,
          1297,
          1298,
          1299,
          1300,
          1301,
          1302,
          1303,
          1304,
          1305,
          1306,
          1307,
          1308,
          1309,
          1310,
          1311,
          1312,
          1313,
          1314,
          1315,
          1316,
          1317,
          1318,
          1319,
          1320,
          1321,
          1322,
          1323,
          1324,
          1325,
          1326,
          1327,
          1328,
          1329,
          1330,
          1331,
          1332,
          1333,
          1334,
          1335,
          1336,
          1337,
          1338,
          1339,
          1340,
          1341,
          1342,
          1343,
          1344,
          1345,
          1346,
          1347,
          1348,
          1349,
          1350,
          1351,
          1352,
          1353,
          1354,
          1355,
          1356,
          1357,
          1358,
          1359,
          1360,
          1361,
          1362,
          1363,
          1364,
          1365,
          1366,
          1367,
          1368,
          1369,
          1370,
          1371,
          1372,
          1373,
          1374,
          1375,
          1376,
          1377,
          1378,
          1379,
          1380,
          1381,
          1382,
          1383,
          1384,
          1385,
          1386,
          1387,
          1388,
          1389,
          1390,
          1391,
          1392,
          1393,
          1394,
          1395,
          1396,
          1397,
          1398,
          1399,
          1400,
          1401,
          1402,
          1403,
          1404,
          1405,
          1406,
          1407,
          1408,
          1409,
          1410,
          1411,
          1412,
          1413,
          1414,
          1415,
          1416,
          1417,
          1418,
          1419,
          1420,
          1421,
          1422,
          1423,
          1424,
          1425,
          1426,
          1427,
          1428,
          1429,
          1430,
          1431,
          1432,
          1433,
          1434,
          1435,
          1436,
          1437,
          1438,
          1439,
          1440,
          1441,
          1442,
          1443,
          1444,
          1445,
          1446,
          1447,
          1448,
          1449,
          1450,
          1451,
          1452,
          1453,
          1454,
          1455,
          1456,
          1457,
          1458,
          1459,
          1460,
          1461,
          1462,
          1463,
          1464,
          1465,
          1466,
          1467,
          1468,
          1469,
          1470,
          1471,
          1472,
          1473,
          1474,
          1475,
          1476,
          1477,
          1478,
          1479,
          1480,
          1481,
          1482,
          1483,
          1484,
          1485,
          1486,
          1487,
          1488,
          1489,
          1490,
          1491,
          1492,
          1493,
          1494,
          1495,
          1496,
          1497,
          1498,
          1499,
          1500,
          1501,
          1502,
          1503,
          1504,
          1505,
          1506,
          1507,
          1508,
          1509,
          1510,
          1511,
          1512,
          1513,
          1514,
          1515,
          1516,
          1517,
          1518,
          1519,
          1520,
          1521,
          1522,
          1523,
          1524,
          1525,
          1526,
          1527,
          1528,
          1529,
          1530,
          1531,
          1532,
          1533,
          1534,
          1535,
          1536,
          1537,
          1538,
          1539,
          1540
         ],
         "xaxis": "x",
         "y": [
          0,
          2.261902004832596,
          4.404147077668929,
          6.39508403004547,
          8.249380485884341,
          9.933841296309161,
          11.428394975952818,
          12.886665585894377,
          14.314828967785264,
          15.474343237839383,
          16.52114839775508,
          17.560233755606504,
          18.521349112608753,
          19.474744667546723,
          20.338590518539103,
          21.18468082478365,
          21.99062816029397,
          22.675374603395166,
          23.338505600716395,
          23.965353528335534,
          24.59220145595467,
          25.21750542316095,
          25.828913746651537,
          26.436462169109987,
          27.02857098743988,
          27.612960003705506,
          28.17804951481044,
          28.737735164470386,
          29.2966488339239,
          29.85324656275813,
          30.39594864787667,
          30.923983109073085,
          31.431946084902386,
          31.92524143680956,
          32.41853678871674,
          32.90720025938535,
          33.39431976964111,
          33.8768073986583,
          34.332275720450525,
          34.786972062036334,
          35.23858048279642,
          35.68555702231795,
          36.12404177956877,
          36.55789465558103,
          36.96550020457475,
          37.3707898129492,
          37.76913159946579,
          38.1651574453631,
          38.55886735064113,
          38.95257725591916,
          39.342427260165046,
          39.730733303998086,
          40.11363548638613,
          40.488817866709894,
          40.86091232620795,
          41.22683094405459,
          41.59274956190123,
          41.958668179747875,
          42.3214988767688,
          42.6835575935833,
          43.04175640936566,
          43.39995522514803,
          43.75738206072396,
          44.1094050348549,
          44.45834008816014,
          44.806503161258945,
          45.153894254151325,
          45.49819742621799,
          45.84172861807823,
          46.18371584952562,
          46.52415912056015,
          46.853794668704694,
          47.17802635540424,
          47.49762616086524,
          47.81722596632622,
          48.135281811374355,
          48.443301913738935,
          48.74591815465851,
          49.043902514339536,
          49.33879895319484,
          49.63292341184372,
          49.92473192987332,
          50.216540447902915,
          50.50680500551966,
          50.796297582929974,
          51.085790160340295,
          51.372194816924896,
          51.658599473509504,
          51.94346016968125,
          52.22137304399516,
          52.499285918309056,
          52.77565483221011,
          53.05047978569829,
          53.324532758980055,
          53.5978137520554,
          53.8703227649243,
          54.14051583717393,
          54.40298910735929,
          54.66391841713178,
          54.92407574669785,
          55.18037317523179,
          55.43589862355929,
          55.69065209168037,
          55.94463357959501,
          56.19552714668396,
          56.446420713772895,
          56.69577032044898,
          56.94280398650579,
          57.1844337911176,
          57.4260635957294,
          57.667693400341214,
          57.908551224746596,
          58.14400518770698,
          58.37868717046095,
          58.61259717300848,
          58.84496321514317,
          59.076557277071416,
          59.30660737858682,
          59.53588549989578,
          59.76284768058547,
          59.98903788106873,
          60.20828025969415,
          60.425206697700276,
          60.64136115549997,
          60.856743633093245,
          61.07212611068652,
          61.28596462786694,
          61.498259184634506,
          61.70978176119565,
          61.9189883971375,
          62.12819503307935,
          62.33662968881478,
          62.540432463311646,
          62.74114731698279,
          62.94031821024109,
          63.13640118267367,
          63.33094019469341,
          63.52239128588742,
          63.713070396875025,
          63.903749507862614,
          64.0944286188502,
          64.28124782880566,
          64.4672950585547,
          64.6525703080973,
          64.83630159722705,
          65.02003288635679,
          65.20299219528012,
          65.38517952399701,
          65.56505091209462,
          65.74415031998579,
          65.92247774767056,
          66.09926121494244,
          66.27372874159506,
          66.44742428804126,
          66.62111983448744,
          66.79481538093364,
          66.96542300655412,
          67.13525865196817,
          67.30509429738221,
          67.47492994279627,
          67.64476558821032,
          67.81382925341795,
          67.97980499779985,
          68.14500876197535,
          68.31021252615082,
          68.47464431011988,
          68.63907609408895,
          68.803507878058,
          68.96716768182064,
          69.12773956475756,
          69.28753946748806,
          69.44502342959926,
          69.60096343129763,
          69.75535947258312,
          69.90743957324935,
          70.05951967391556,
          70.21005581416892,
          70.35981997421587,
          70.50881215405637,
          70.65703235369045,
          70.8044805731181,
          70.95192879254576,
          71.09706107135413,
          71.24142136995607,
          71.38423770814516,
          71.52628206612782,
          71.6660104834912,
          71.80496692064816,
          71.94315137759868,
          72.0813358345492,
          72.2187483112933,
          72.35384484741812,
          72.48894138354292,
          72.62249395925488,
          72.75295861414114,
          72.88187930861453,
          73.01002802288149,
          73.13817673714847,
          73.265553471209,
          73.39293020526954,
          73.51953495912365,
          73.64536773277133,
          73.771200506419,
          73.89703328006671,
          74.02132209330152,
          74.14561090653635,
          74.26989971977119,
          74.39418853300602,
          74.51770536603442,
          74.63890625844354,
          74.7585631904398,
          74.87822012243606,
          74.99633309401948,
          75.11444606560288,
          75.23178705697985,
          75.3452681473247,
          75.45797725746311,
          75.56991438739512,
          75.68107953712067,
          75.79147270663981,
          75.90186587615894,
          76.00994310505878,
          76.1172483537522,
          76.2237816222392,
          76.32954291051978,
          76.43530419880035,
          76.54029350687448,
          76.64528281494863,
          76.74950014281634,
          76.85371747068405,
          76.95793479855176,
          77.06215212641948,
          77.16559747408076,
          77.26827084153562,
          77.37094420899048,
          77.47361757644533,
          77.57551896369377,
          77.67664837073578,
          77.77700579757135,
          77.87736322440692,
          77.97694867103607,
          78.0757621374588,
          78.17457560388151,
          78.27338907030423,
          78.37220253672696,
          78.47101600314967,
          78.56982946957241,
          78.66864293599512,
          78.76668442221143,
          78.86395392822128,
          78.96122343423114,
          79.05849294024101,
          79.15499046604445,
          79.2514879918479,
          79.34798551765134,
          79.44371106324833,
          79.53634868801964,
          79.62821433258452,
          79.72007997714938,
          79.81194562171426,
          79.90303928607271,
          79.99181700981187,
          80.08059473355104,
          80.1693724572902,
          80.25737820082293,
          80.34538394435566,
          80.43261770768197,
          80.51985147100828,
          80.60708523433459,
          80.6943189976609,
          80.78155276098721,
          80.8680145441071,
          80.95447632722697,
          81.04016613014042,
          81.12585593305388,
          81.21000177555447,
          81.29414761805506,
          81.37674950014282,
          81.45857940202413,
          81.54040930390545,
          81.62146722558033,
          81.70175316704879,
          81.78203910851725,
          81.86078108957287,
          81.93952307062847,
          82.01826505168407,
          82.09700703273968,
          82.17497703358886,
          82.25294703443804,
          82.33014505508078,
          82.40734307572353,
          82.48376911615986,
          82.55942317638976,
          82.63507723661967,
          82.71073129684954,
          82.78561337687302,
          82.86049545689649,
          82.9338335765071,
          83.00639971591129,
          83.07896585531547,
          83.15153199471965,
          83.22332615391741,
          83.29512031311516,
          83.3661424921065,
          83.43716467109783,
          83.50664288967631,
          83.57534912804836,
          83.64328338621398,
          83.7112176443796,
          83.77915190254522,
          83.84708616071083,
          83.91502041887647,
          83.98218269683565,
          84.04934497479485,
          84.11650725275403,
          84.18366953071323,
          84.250059828466,
          84.31645012621877,
          84.38284042397153,
          84.4492307217243,
          84.51562101947707,
          84.58201131722983,
          84.64762963477617,
          84.7132479523225,
          84.7780942896624,
          84.84294062700232,
          84.90701498413581,
          84.97108934126929,
          85.03516369840277,
          85.09923805553625,
          85.1625404324633,
          85.22584280939036,
          85.28914518631743,
          85.35167558303806,
          85.41420597975869,
          85.47673637647931,
          85.53926677319994,
          85.60102518971414,
          85.66278360622833,
          85.7237700425361,
          85.78475647884389,
          85.84574291515166,
          85.90672935145943,
          85.9677157877672,
          86.02870222407498,
          86.08968866038275,
          86.15067509669052,
          86.21166153299829,
          86.27187598909964,
          86.33209044520098,
          86.39230490130232,
          86.45251935740367,
          86.51118985309216,
          86.56908836857423,
          86.6269868840563,
          86.68488539953836,
          86.74278391502041,
          86.80068243050249,
          86.85858094598454,
          86.91570748126018,
          86.97283401653581,
          87.02918857160502,
          87.08554312667424,
          87.14189768174344,
          87.19825223681265,
          87.25383481167542,
          87.30941738653821,
          87.364999961401,
          87.41981055605734,
          87.47462115071369,
          87.52943174537005,
          87.58424234002639,
          87.63828095447633,
          87.69231956892625,
          87.74635818337619,
          87.80039679782611,
          87.85443541227603,
          87.90770204651953,
          87.96096868076303,
          88.01423531500653,
          88.06750194925003,
          88.12076858349351,
          88.17326323753059,
          88.22575789156765,
          88.27825254560473,
          88.3307471996418,
          88.38246987347244,
          88.4341925473031,
          88.48591522113372,
          88.53686591475794,
          88.58781660838217,
          88.63876730200637,
          88.68971799563059,
          88.7406686892548,
          88.7908474026726,
          88.84102611609038,
          88.89120482950817,
          88.94061156271952,
          88.9900182959309,
          89.03865304893583,
          89.08728780194076,
          89.1359225549457,
          89.18455730795063,
          89.23319206095556,
          89.28105483375406,
          89.32891760655257,
          89.37600839914465,
          89.42309919173672,
          89.47018998432881,
          89.51728077692088,
          89.56437156951296,
          89.6106903818986,
          89.65623721407783,
          89.70178404625705,
          89.74733087843629,
          89.79210573040908,
          89.83688058238187,
          89.88165543435467,
          89.92643028632746,
          89.97043315809383,
          90.01443602986019,
          90.05843890162656,
          90.1016697931865,
          90.14412870454002,
          90.18658761589353,
          90.22827454704061,
          90.2699614781877,
          90.3116484093348,
          90.35333534048186,
          90.39502227162896,
          90.43593722256962,
          90.47685217351027,
          90.51776712445093,
          90.55868207539159,
          90.59959702633225,
          90.63973999706647,
          90.67988296780071,
          90.72002593853493,
          90.76016890926917,
          90.80031188000339,
          90.8396828705312,
          90.879053861059,
          90.9184248515868,
          90.9577958421146,
          90.9971668326424,
          91.03576584296378,
          91.07436485328516,
          91.11296386360654,
          91.15079089372149,
          91.18861792383643,
          91.22644495395139,
          91.26427198406633,
          91.30209901418128,
          91.3391540640898,
          91.37620911399831,
          91.41326416390683,
          91.45031921381536,
          91.48737426372388,
          91.5244293136324,
          91.56148436354093,
          91.59853941344944,
          91.63559446335796,
          91.67187753306006,
          91.70738862255573,
          91.74289971205138,
          91.77841080154705,
          91.81392189104271,
          91.84943298053838,
          91.88494407003405,
          91.91968317932329,
          91.95442228861252,
          91.98916139790175,
          92.02390050719099,
          92.05863961648024,
          92.09337872576947,
          92.12734585485228,
          92.16131298393509,
          92.1952801130179,
          92.22924724210071,
          92.26321437118352,
          92.29640952005991,
          92.3296046689363,
          92.36279981781267,
          92.39599496668906,
          92.42919011556545,
          92.46238526444182,
          92.49558041331821,
          92.52877556219458,
          92.56119873086453,
          92.5936218995345,
          92.62604506820445,
          92.6584682368744,
          92.69089140554436,
          92.72254259400789,
          92.75419378247142,
          92.78584497093495,
          92.81749615939847,
          92.84837536765558,
          92.87925457591267,
          92.91013378416977,
          92.94101299242688,
          92.97112022047754,
          93.00122744852823,
          93.0313346765789,
          93.06144190462956,
          93.09154913268024,
          93.12165636073091,
          93.15176358878159,
          93.18187081683226,
          93.21197804488293,
          93.24131329272718,
          93.27064854057141,
          93.29998378841566,
          93.3293190362599,
          93.35865428410416,
          93.3879895319484,
          93.41732477979264,
          93.4466600276369,
          93.47599527548114,
          93.50455854311896,
          93.53312181075677,
          93.56168507839459,
          93.59024834603241,
          93.61881161367023,
          93.64660290110162,
          93.674394188533,
          93.7021854759644,
          93.72997676339578,
          93.75699607062074,
          93.7840153778457,
          93.81103468507067,
          93.83805399229563,
          93.8650732995206,
          93.89209260674556,
          93.91911191397053,
          93.94613122119549,
          93.97315052842045,
          94.00016983564541,
          94.02641716266395,
          94.05266448968248,
          94.07891181670102,
          94.10438716351312,
          94.12986251032524,
          94.15533785713734,
          94.18081320394946,
          94.20628855076157,
          94.23176389757366,
          94.25723924438577,
          94.28271459119787,
          94.30741795780357,
          94.33212132440924,
          94.35682469101492,
          94.3815280576206,
          94.40623142422628,
          94.43016281062555,
          94.45409419702479,
          94.47802558342404,
          94.5019569698233,
          94.52588835622254,
          94.54981974262179,
          94.57297914881462,
          94.59613855500744,
          94.61929796120027,
          94.64245736739309,
          94.66561677358592,
          94.68877617977876,
          94.71193558597157,
          94.73432301195798,
          94.75671043794436,
          94.77909786393077,
          94.80148528991717,
          94.82387271590356,
          94.84626014188996,
          94.86864756787637,
          94.89103499386276,
          94.91342241984916,
          94.93503786562913,
          94.9566533114091,
          94.97826875718907,
          94.99988420296903,
          95.02149964874901,
          95.04311509452897,
          95.06473054030894,
          95.08634598608892,
          95.10796143186889,
          95.12957687764886,
          95.15119232342883,
          95.17203578900238,
          95.19287925457591,
          95.21372272014945,
          95.234566185723,
          95.25540965129655,
          95.27625311687008,
          95.29709658244363,
          95.31716806781074,
          95.33723955317785,
          95.35731103854496,
          95.37738252391209,
          95.3974540092792,
          95.41752549464631,
          95.43759698001342,
          95.45766846538055,
          95.47696797054124,
          95.49626747570193,
          95.51556698086262,
          95.53486648602329,
          95.55416599118398,
          95.57346549634468,
          95.59276500150537,
          95.61206450666604,
          95.63136401182673,
          95.65066351698742,
          95.66996302214811,
          95.68849054710236,
          95.70701807205664,
          95.72554559701089,
          95.74407312196516,
          95.76260064691941,
          95.78112817187368,
          95.79965569682794,
          95.81818322178219,
          95.83671074673646,
          95.85523827169071,
          95.87299381643855,
          95.89074936118638,
          95.90850490593421,
          95.92626045068204,
          95.94401599542988,
          95.96177154017771,
          95.97952708492554,
          95.99728262967338,
          96.0150381744212,
          96.03279371916904,
          96.05054926391688,
          96.0683048086647,
          96.08606035341253,
          96.10304391795394,
          96.12002748249535,
          96.13701104703676,
          96.15399461157817,
          96.17097817611956,
          96.18796174066097,
          96.20494530520237,
          96.22192886974378,
          96.23891243428518,
          96.25589599882659,
          96.272879563368,
          96.2898631279094,
          96.3068466924508,
          96.32383025699221,
          96.34004184132718,
          96.35625342566216,
          96.37246500999714,
          96.38867659433213,
          96.40488817866711,
          96.42109976300208,
          96.43731134733706,
          96.45352293167203,
          96.46896253580059,
          96.48440213992913,
          96.49984174405768,
          96.51528134818624,
          96.53072095231478,
          96.54616055644333,
          96.56160016057188,
          96.57703976470043,
          96.59247936882899,
          96.60791897295753,
          96.62335857708608,
          96.63879818121464,
          96.65423778534318,
          96.66967738947173,
          96.68511699360029,
          96.69978461752241,
          96.71445224144452,
          96.72911986536666,
          96.74378748928878,
          96.7584551132109,
          96.77312273713302,
          96.78779036105513,
          96.80245798497727,
          96.81635362869297,
          96.83024927240865,
          96.84414491612435,
          96.85804055984005,
          96.87193620355575,
          96.88583184727143,
          96.89972749098713,
          96.91362313470283,
          96.92751877841852,
          96.94141442213422,
          96.95531006584991,
          96.96920570956561,
          96.9831013532813,
          96.996996996997,
          97.01012066050626,
          97.02324432401554,
          97.0363679875248,
          97.04949165103407,
          97.06261531454334,
          97.07573897805261,
          97.08886264156187,
          97.10198630507114,
          97.1151099685804,
          97.12823363208967,
          97.14135729559894,
          97.15448095910821,
          97.16683264241105,
          97.17918432571389,
          97.19153600901673,
          97.20388769231957,
          97.21623937562241,
          97.22859105892525,
          97.24094274222809,
          97.25329442553094,
          97.26564610883376,
          97.2779977921366,
          97.29034947543946,
          97.3027011587423,
          97.31505284204513,
          97.32740452534797,
          97.33898422844437,
          97.35056393154079,
          97.3621436346372,
          97.37372333773362,
          97.38530304083002,
          97.39688274392645,
          97.40846244702286,
          97.42004215011927,
          97.43162185321569,
          97.4432015563121,
          97.4547812594085,
          97.46636096250492,
          97.47794066560134,
          97.48952036869774,
          97.50110007179416,
          97.51267977489057,
          97.52425947798699,
          97.53583918108339,
          97.54741888417982,
          97.55899858727622,
          97.57057829037264,
          97.58215799346904,
          97.59373769656547,
          97.60454541945545,
          97.61535314234543,
          97.6261608652354,
          97.6369685881254,
          97.64777631101539,
          97.65858403390537,
          97.66939175679535,
          97.68019947968534,
          97.69100720257534,
          97.70181492546531,
          97.71262264835529,
          97.72343037124529,
          97.73423809413526,
          97.74504581702526,
          97.75585353991524,
          97.76666126280521,
          97.77746898569521,
          97.78827670858519,
          97.79908443147518,
          97.80989215436516,
          97.81992789704871,
          97.82996363973227,
          97.83999938241583,
          97.85003512509938,
          97.86007086778295,
          97.87010661046651,
          97.88014235315006,
          97.89017809583362,
          97.90021383851717,
          97.91024958120073,
          97.92028532388429,
          97.93032106656784,
          97.94035680925141,
          97.95039255193497,
          97.96042829461852,
          97.97046403730208,
          97.98049977998564,
          97.99053552266919,
          98.00057126535276,
          98.00983502782988,
          98.01909879030701,
          98.02836255278415,
          98.03762631526128,
          98.0468900777384,
          98.05615384021553,
          98.06541760269266,
          98.07468136516981,
          98.08394512764693,
          98.09320889012406,
          98.1024726526012,
          98.11173641507833,
          98.12100017755544,
          98.13026394003258,
          98.13875572230329,
          98.14724750457398,
          98.15573928684469,
          98.16423106911539,
          98.17272285138608,
          98.1812146336568,
          98.18970641592749,
          98.1981981981982,
          98.2066899804689,
          98.2151817627396,
          98.2236735450103,
          98.23216532728101,
          98.2406571095517,
          98.24914889182241,
          98.25764067409311,
          98.26613245636382,
          98.2738522584281,
          98.28157206049238,
          98.28929186255665,
          98.29701166462091,
          98.3047314666852,
          98.31245126874947,
          98.32017107081374,
          98.32789087287802,
          98.3356106749423,
          98.34333047700657,
          98.35105027907083,
          98.35877008113512,
          98.36648988319939,
          98.37420968526366,
          98.38192948732795,
          98.38964928939222,
          98.3973690914565,
          98.40508889352077,
          98.41280869558504,
          98.42052849764931,
          98.4282482997136,
          98.43596810177787,
          98.44368790384215,
          98.45140770590642,
          98.4591275079707,
          98.46684731003496,
          98.47379513189281,
          98.48074295375066,
          98.48769077560851,
          98.49463859746636,
          98.50158641932421,
          98.50853424118206,
          98.51548206303991,
          98.52242988489776,
          98.5293777067556,
          98.53632552861345,
          98.5432733504713,
          98.55022117232915,
          98.557168994187,
          98.56411681604483,
          98.57106463790268,
          98.57801245976053,
          98.58496028161838,
          98.59190810347623,
          98.59885592533408,
          98.60580374719193,
          98.61275156904978,
          98.61969939090763,
          98.62664721276546,
          98.63359503462331,
          98.63977087627474,
          98.64594671792615,
          98.65212255957758,
          98.65829840122899,
          98.66447424288042,
          98.67065008453183,
          98.67682592618326,
          98.68300176783468,
          98.6891776094861,
          98.6953534511375,
          98.70152929278893,
          98.70770513444035,
          98.71388097609177,
          98.7200568177432,
          98.72623265939461,
          98.73240850104604,
          98.73858434269745,
          98.74476018434888,
          98.75093602600029,
          98.75711186765172,
          98.76328770930314,
          98.76946355095455,
          98.77563939260597,
          98.7818152342574,
          98.7879910759088,
          98.79416691756023,
          98.80034275921166,
          98.80574662065665,
          98.81115048210164,
          98.81655434354664,
          98.82195820499162,
          98.82736206643662,
          98.83276592788161,
          98.8381697893266,
          98.8435736507716,
          98.84897751221658,
          98.85438137366158,
          98.85978523510657,
          98.86518909655156,
          98.87059295799656,
          98.87599681944155,
          98.88140068088654,
          98.88680454233153,
          98.89220840377652,
          98.89761226522153,
          98.90301612666651,
          98.9084199881115,
          98.9138238495565,
          98.91922771100148,
          98.92463157244649,
          98.93003543389148,
          98.93543929533647,
          98.94084315678145,
          98.94624701822646,
          98.95165087967145,
          98.95705474111644,
          98.96245860256143,
          98.96786246400642,
          98.97326632545142,
          98.97867018689641,
          98.9840740483414,
          98.98947790978639,
          98.99488177123139,
          98.99951365246994,
          99.00414553370852,
          99.00877741494708,
          99.01340929618566,
          99.01804117742421,
          99.02267305866278,
          99.02730493990134,
          99.03193682113991,
          99.03656870237847,
          99.04120058361704,
          99.0458324648556,
          99.05046434609417,
          99.05509622733273,
          99.05972810857129,
          99.06435998980986,
          99.06899187104842,
          99.07362375228699,
          99.07825563352556,
          99.08288751476412,
          99.08751939600269,
          99.09215127724124,
          99.09678315847982,
          99.10141503971838,
          99.10604692095694,
          99.11067880219551,
          99.11531068343407,
          99.11994256467264,
          99.12457444591121,
          99.12920632714977,
          99.13383820838834,
          99.1384700896269,
          99.14310197086547,
          99.14773385210404,
          99.15236573334259,
          99.15699761458117,
          99.16162949581972,
          99.16626137705829,
          99.17089325829686,
          99.17552513953542,
          99.18015702077399,
          99.18478890201256,
          99.18942078325111,
          99.19405266448969,
          99.19868454572824,
          99.20331642696681,
          99.20717632799895,
          99.2110362290311,
          99.21489613006322,
          99.21875603109537,
          99.2226159321275,
          99.22647583315964,
          99.23033573419178,
          99.23419563522391,
          99.23805553625606,
          99.24191543728818,
          99.24577533832033,
          99.24963523935246,
          99.2534951403846,
          99.25735504141674,
          99.26121494244887,
          99.26507484348102,
          99.26893474451315,
          99.27279464554529,
          99.27665454657742,
          99.28051444760956,
          99.2843743486417,
          99.28823424967383,
          99.29209415070598,
          99.29595405173811,
          99.29981395277025,
          99.3036738538024,
          99.30753375483452,
          99.31139365586667,
          99.3152535568988,
          99.31911345793094,
          99.32297335896307,
          99.32683325999521,
          99.33069316102736,
          99.3345530620595,
          99.33841296309163,
          99.34227286412376,
          99.3461327651559,
          99.3492206859816,
          99.35230860680733,
          99.35539652763303,
          99.35848444845874,
          99.36157236928446,
          99.36466029011017,
          99.36774821093587,
          99.37083613176159,
          99.3739240525873,
          99.377011973413,
          99.38009989423871,
          99.38318781506442,
          99.38627573589012,
          99.38936365671584,
          99.39245157754155,
          99.39553949836726,
          99.39862741919298,
          99.40171534001868,
          99.40480326084439,
          99.40789118167011,
          99.41097910249582,
          99.41406702332152,
          99.41715494414723,
          99.42024286497293,
          99.42333078579864,
          99.42641870662436,
          99.42950662745007,
          99.43259454827577,
          99.4356824691015,
          99.4387703899272,
          99.44185831075292,
          99.44494623157863,
          99.44803415240433,
          99.45112207323005,
          99.45420999405576,
          99.45729791488147,
          99.46038583570717,
          99.46347375653288,
          99.46656167735858,
          99.4696495981843,
          99.47273751901001,
          99.47582543983572,
          99.47891336066144,
          99.48200128148714,
          99.48508920231285,
          99.48817712313857,
          99.49126504396428,
          99.49435296478998,
          99.4974408856157,
          99.5005288064414,
          99.50361672726712,
          99.50670464809282,
          99.50979256891853,
          99.51288048974423,
          99.51596841056995,
          99.51905633139566,
          99.52214425222138,
          99.52523217304709,
          99.5283200938728,
          99.53140801469851,
          99.53449593552422,
          99.53758385634993,
          99.54067177717563,
          99.54375969800134,
          99.54684761882704,
          99.54993553965276,
          99.55302346047847,
          99.55533940109775,
          99.55765534171704,
          99.55997128233632,
          99.5622872229556,
          99.56460316357489,
          99.56691910419417,
          99.56923504481345,
          99.57155098543274,
          99.573866926052,
          99.5761828666713,
          99.57849880729059,
          99.58081474790987,
          99.58313068852914,
          99.58544662914844,
          99.58776256976772,
          99.59007851038699,
          99.59239445100627,
          99.59471039162557,
          99.59702633224484,
          99.59934227286412,
          99.6016582134834,
          99.60397415410269,
          99.60629009472197,
          99.60860603534125,
          99.61092197596054,
          99.61323791657982,
          99.6155538571991,
          99.61786979781839,
          99.62018573843766,
          99.62250167905695,
          99.62481761967624,
          99.6271335602955,
          99.6294495009148,
          99.63176544153409,
          99.63408138215335,
          99.63639732277264,
          99.63871326339194,
          99.6410292040112,
          99.64334514463049,
          99.64566108524977,
          99.64797702586907,
          99.65029296648834,
          99.65260890710762,
          99.6549248477269,
          99.65724078834619,
          99.65955672896547,
          99.66187266958475,
          99.66418861020404,
          99.66650455082332,
          99.6688204914426,
          99.67113643206189,
          99.67345237268115,
          99.67576831330045,
          99.67808425391974,
          99.680400194539,
          99.68271613515829,
          99.68503207577758,
          99.68734801639685,
          99.68966395701614,
          99.69197989763543,
          99.6942958382547,
          99.69661177887399,
          99.69892771949327,
          99.70124366011255,
          99.70355960073184,
          99.70587554135112,
          99.7081914819704,
          99.71050742258969,
          99.71282336320897,
          99.71513930382825,
          99.71745524444754,
          99.71977118506682,
          99.72131514547968,
          99.72285910589252,
          99.72440306630538,
          99.72594702671823,
          99.72749098713109,
          99.72903494754395,
          99.7305789079568,
          99.73212286836966,
          99.7336668287825,
          99.73521078919536,
          99.73675474960822,
          99.73829871002108,
          99.73984267043393,
          99.74138663084679,
          99.74293059125964,
          99.7444745516725,
          99.74601851208536,
          99.7475624724982,
          99.74910643291106,
          99.75065039332391,
          99.75219435373677,
          99.75373831414962,
          99.75528227456249,
          99.75682623497534,
          99.7583701953882,
          99.75991415580104,
          99.7614581162139,
          99.76300207662675,
          99.76454603703961,
          99.76608999745247,
          99.76763395786531,
          99.76917791827817,
          99.77072187869102,
          99.7722658391039,
          99.77380979951674,
          99.7753537599296,
          99.77689772034245,
          99.77844168075531,
          99.77998564116815,
          99.78152960158101,
          99.78307356199387,
          99.78461752240673,
          99.78616148281958,
          99.78770544323243,
          99.78924940364529,
          99.79079336405815,
          99.792337324471,
          99.79388128488385,
          99.79542524529671,
          99.79696920570956,
          99.79851316612242,
          99.80005712653528,
          99.80160108694814,
          99.80314504736099,
          99.80468900777385,
          99.80623296818669,
          99.80777692859955,
          99.80932088901241,
          99.81086484942526,
          99.81240880983812,
          99.81395277025096,
          99.81549673066382,
          99.81704069107668,
          99.81858465148954,
          99.82012861190239,
          99.82167257231525,
          99.8232165327281,
          99.82476049314096,
          99.82630445355382,
          99.82784841396666,
          99.82939237437952,
          99.83093633479237,
          99.83248029520523,
          99.83402425561808,
          99.83556821603095,
          99.8371121764438,
          99.83865613685666,
          99.8402000972695,
          99.84174405768236,
          99.84328801809521,
          99.84483197850807,
          99.84637593892093,
          99.84791989933377,
          99.84946385974663,
          99.85100782015948,
          99.85255178057234,
          99.8540957409852,
          99.85563970139806,
          99.85718366181091,
          99.85872762222377,
          99.86027158263661,
          99.86181554304949,
          99.86335950346233,
          99.8649034638752,
          99.86644742428804,
          99.8679913847009,
          99.86953534511375,
          99.8710793055266,
          99.87262326593947,
          99.87416722635231,
          99.87571118676517,
          99.87725514717802,
          99.87879910759088,
          99.88034306800374,
          99.8818870284166,
          99.88343098882945,
          99.8849749492423,
          99.88651890965515,
          99.88806287006801,
          99.88960683048087,
          99.8903788106873,
          99.89115079089372,
          99.89192277110016,
          99.89269475130658,
          99.893466731513,
          99.89423871171942,
          99.89501069192586,
          99.89578267213228,
          99.89655465233871,
          99.89732663254514,
          99.89809861275157,
          99.898870592958,
          99.89964257316443,
          99.90041455337085,
          99.90118653357727,
          99.90195851378371,
          99.90273049399013,
          99.90350247419656,
          99.90427445440298,
          99.90504643460942,
          99.90581841481584,
          99.90659039502228,
          99.9073623752287,
          99.90813435543512,
          99.90890633564156,
          99.90967831584798,
          99.9104502960544,
          99.91122227626083,
          99.91199425646727,
          99.91276623667369,
          99.91353821688011,
          99.91431019708654,
          99.91508217729297,
          99.91585415749941,
          99.91662613770583,
          99.91739811791226,
          99.91817009811868,
          99.91894207832512,
          99.91971405853154,
          99.92048603873796,
          99.92125801894439,
          99.92202999915082,
          99.92280197935725,
          99.92357395956367,
          99.9243459397701,
          99.92511791997654,
          99.92588990018297,
          99.92666188038939,
          99.92743386059581,
          99.92820584080224,
          99.92897782100867,
          99.9297498012151,
          99.93052178142152,
          99.93129376162796,
          99.93206574183438,
          99.9328377220408,
          99.93360970224724,
          99.93438168245366,
          99.9351536626601,
          99.93592564286652,
          99.93669762307294,
          99.93746960327937,
          99.9382415834858,
          99.93901356369223,
          99.93978554389865,
          99.94055752410507,
          99.94132950431151,
          99.94210148451795,
          99.94287346472437,
          99.9436454449308,
          99.94441742513722,
          99.94518940534365,
          99.94596138555008,
          99.9467333657565,
          99.94750534596292,
          99.94827732616936,
          99.94904930637578,
          99.9498212865822,
          99.95059326678863,
          99.95136524699507,
          99.9521372272015,
          99.95290920740793,
          99.95368118761435,
          99.95445316782077,
          99.95522514802721,
          99.95599712823363,
          99.95676910844006,
          99.95754108864648,
          99.95831306885292,
          99.95908504905934,
          99.95985702926578,
          99.9606290094722,
          99.96140098967862,
          99.96217296988506,
          99.96294495009148,
          99.9637169302979,
          99.96448891050433,
          99.96526089071077,
          99.96603287091719,
          99.96680485112361,
          99.96757683133004,
          99.96834881153647,
          99.96912079174291,
          99.96989277194933,
          99.97066475215576,
          99.97143673236218,
          99.97220871256862,
          99.97298069277504,
          99.97375267298146,
          99.97452465318788,
          99.97529663339432,
          99.97606861360075,
          99.97684059380717,
          99.97761257401359,
          99.97838455422003,
          99.97915653442647,
          99.97992851463289,
          99.98070049483931,
          99.98147247504573,
          99.98224445525217,
          99.9830164354586,
          99.98378841566502,
          99.98456039587144,
          99.98533237607788,
          99.9861043562843,
          99.98687633649074,
          99.98764831669716,
          99.98842029690358,
          99.98919227711002,
          99.98996425731644,
          99.99073623752287,
          99.99150821772929,
          99.99228019793573,
          99.99305217814215,
          99.99382415834857,
          99.994596138555,
          99.99536811876143,
          99.99614009896787,
          99.9969120791743,
          99.99768405938072,
          99.99845603958715,
          99.99922801979358,
          100,
          100,
          100,
          100,
          100,
          100,
          100,
          100,
          100,
          100,
          100,
          100,
          100,
          100,
          100,
          100,
          100,
          100,
          100,
          100,
          100,
          100,
          100,
          100,
          100,
          100,
          100,
          100,
          100,
          100,
          100,
          100,
          100,
          100,
          100,
          100,
          100,
          100,
          100,
          100,
          100,
          100,
          100,
          100,
          100,
          100,
          100,
          100,
          100,
          100,
          100,
          100,
          100,
          100,
          100,
          100,
          100,
          100,
          100,
          100,
          100,
          100,
          100,
          100,
          100,
          100,
          100,
          100,
          100,
          100,
          100,
          100,
          100,
          100,
          100,
          100,
          100,
          100,
          100,
          100,
          100,
          100,
          100,
          100,
          100,
          100,
          100,
          100,
          100,
          100,
          100,
          100,
          100,
          100,
          100,
          100,
          100,
          100,
          100,
          100,
          100,
          100,
          100,
          100,
          100,
          100,
          100,
          100,
          100,
          100,
          100,
          100,
          100,
          100,
          100,
          100,
          100,
          100,
          100,
          100,
          100,
          100,
          100,
          100,
          100,
          100,
          100,
          100,
          100,
          100,
          100,
          100,
          100,
          100,
          100,
          100,
          100,
          100,
          100,
          100,
          100,
          100
         ],
         "yaxis": "y"
        }
       ],
       "layout": {
        "height": 400,
        "legend": {
         "tracegroupgap": 0
        },
        "template": {
         "data": {
          "bar": [
           {
            "error_x": {
             "color": "#2a3f5f"
            },
            "error_y": {
             "color": "#2a3f5f"
            },
            "marker": {
             "line": {
              "color": "#E5ECF6",
              "width": 0.5
             },
             "pattern": {
              "fillmode": "overlay",
              "size": 10,
              "solidity": 0.2
             }
            },
            "type": "bar"
           }
          ],
          "barpolar": [
           {
            "marker": {
             "line": {
              "color": "#E5ECF6",
              "width": 0.5
             },
             "pattern": {
              "fillmode": "overlay",
              "size": 10,
              "solidity": 0.2
             }
            },
            "type": "barpolar"
           }
          ],
          "carpet": [
           {
            "aaxis": {
             "endlinecolor": "#2a3f5f",
             "gridcolor": "white",
             "linecolor": "white",
             "minorgridcolor": "white",
             "startlinecolor": "#2a3f5f"
            },
            "baxis": {
             "endlinecolor": "#2a3f5f",
             "gridcolor": "white",
             "linecolor": "white",
             "minorgridcolor": "white",
             "startlinecolor": "#2a3f5f"
            },
            "type": "carpet"
           }
          ],
          "choropleth": [
           {
            "colorbar": {
             "outlinewidth": 0,
             "ticks": ""
            },
            "type": "choropleth"
           }
          ],
          "contour": [
           {
            "colorbar": {
             "outlinewidth": 0,
             "ticks": ""
            },
            "colorscale": [
             [
              0,
              "#0d0887"
             ],
             [
              0.1111111111111111,
              "#46039f"
             ],
             [
              0.2222222222222222,
              "#7201a8"
             ],
             [
              0.3333333333333333,
              "#9c179e"
             ],
             [
              0.4444444444444444,
              "#bd3786"
             ],
             [
              0.5555555555555556,
              "#d8576b"
             ],
             [
              0.6666666666666666,
              "#ed7953"
             ],
             [
              0.7777777777777778,
              "#fb9f3a"
             ],
             [
              0.8888888888888888,
              "#fdca26"
             ],
             [
              1,
              "#f0f921"
             ]
            ],
            "type": "contour"
           }
          ],
          "contourcarpet": [
           {
            "colorbar": {
             "outlinewidth": 0,
             "ticks": ""
            },
            "type": "contourcarpet"
           }
          ],
          "heatmap": [
           {
            "colorbar": {
             "outlinewidth": 0,
             "ticks": ""
            },
            "colorscale": [
             [
              0,
              "#0d0887"
             ],
             [
              0.1111111111111111,
              "#46039f"
             ],
             [
              0.2222222222222222,
              "#7201a8"
             ],
             [
              0.3333333333333333,
              "#9c179e"
             ],
             [
              0.4444444444444444,
              "#bd3786"
             ],
             [
              0.5555555555555556,
              "#d8576b"
             ],
             [
              0.6666666666666666,
              "#ed7953"
             ],
             [
              0.7777777777777778,
              "#fb9f3a"
             ],
             [
              0.8888888888888888,
              "#fdca26"
             ],
             [
              1,
              "#f0f921"
             ]
            ],
            "type": "heatmap"
           }
          ],
          "heatmapgl": [
           {
            "colorbar": {
             "outlinewidth": 0,
             "ticks": ""
            },
            "colorscale": [
             [
              0,
              "#0d0887"
             ],
             [
              0.1111111111111111,
              "#46039f"
             ],
             [
              0.2222222222222222,
              "#7201a8"
             ],
             [
              0.3333333333333333,
              "#9c179e"
             ],
             [
              0.4444444444444444,
              "#bd3786"
             ],
             [
              0.5555555555555556,
              "#d8576b"
             ],
             [
              0.6666666666666666,
              "#ed7953"
             ],
             [
              0.7777777777777778,
              "#fb9f3a"
             ],
             [
              0.8888888888888888,
              "#fdca26"
             ],
             [
              1,
              "#f0f921"
             ]
            ],
            "type": "heatmapgl"
           }
          ],
          "histogram": [
           {
            "marker": {
             "pattern": {
              "fillmode": "overlay",
              "size": 10,
              "solidity": 0.2
             }
            },
            "type": "histogram"
           }
          ],
          "histogram2d": [
           {
            "colorbar": {
             "outlinewidth": 0,
             "ticks": ""
            },
            "colorscale": [
             [
              0,
              "#0d0887"
             ],
             [
              0.1111111111111111,
              "#46039f"
             ],
             [
              0.2222222222222222,
              "#7201a8"
             ],
             [
              0.3333333333333333,
              "#9c179e"
             ],
             [
              0.4444444444444444,
              "#bd3786"
             ],
             [
              0.5555555555555556,
              "#d8576b"
             ],
             [
              0.6666666666666666,
              "#ed7953"
             ],
             [
              0.7777777777777778,
              "#fb9f3a"
             ],
             [
              0.8888888888888888,
              "#fdca26"
             ],
             [
              1,
              "#f0f921"
             ]
            ],
            "type": "histogram2d"
           }
          ],
          "histogram2dcontour": [
           {
            "colorbar": {
             "outlinewidth": 0,
             "ticks": ""
            },
            "colorscale": [
             [
              0,
              "#0d0887"
             ],
             [
              0.1111111111111111,
              "#46039f"
             ],
             [
              0.2222222222222222,
              "#7201a8"
             ],
             [
              0.3333333333333333,
              "#9c179e"
             ],
             [
              0.4444444444444444,
              "#bd3786"
             ],
             [
              0.5555555555555556,
              "#d8576b"
             ],
             [
              0.6666666666666666,
              "#ed7953"
             ],
             [
              0.7777777777777778,
              "#fb9f3a"
             ],
             [
              0.8888888888888888,
              "#fdca26"
             ],
             [
              1,
              "#f0f921"
             ]
            ],
            "type": "histogram2dcontour"
           }
          ],
          "mesh3d": [
           {
            "colorbar": {
             "outlinewidth": 0,
             "ticks": ""
            },
            "type": "mesh3d"
           }
          ],
          "parcoords": [
           {
            "line": {
             "colorbar": {
              "outlinewidth": 0,
              "ticks": ""
             }
            },
            "type": "parcoords"
           }
          ],
          "pie": [
           {
            "automargin": true,
            "type": "pie"
           }
          ],
          "scatter": [
           {
            "marker": {
             "colorbar": {
              "outlinewidth": 0,
              "ticks": ""
             }
            },
            "type": "scatter"
           }
          ],
          "scatter3d": [
           {
            "line": {
             "colorbar": {
              "outlinewidth": 0,
              "ticks": ""
             }
            },
            "marker": {
             "colorbar": {
              "outlinewidth": 0,
              "ticks": ""
             }
            },
            "type": "scatter3d"
           }
          ],
          "scattercarpet": [
           {
            "marker": {
             "colorbar": {
              "outlinewidth": 0,
              "ticks": ""
             }
            },
            "type": "scattercarpet"
           }
          ],
          "scattergeo": [
           {
            "marker": {
             "colorbar": {
              "outlinewidth": 0,
              "ticks": ""
             }
            },
            "type": "scattergeo"
           }
          ],
          "scattergl": [
           {
            "marker": {
             "colorbar": {
              "outlinewidth": 0,
              "ticks": ""
             }
            },
            "type": "scattergl"
           }
          ],
          "scattermapbox": [
           {
            "marker": {
             "colorbar": {
              "outlinewidth": 0,
              "ticks": ""
             }
            },
            "type": "scattermapbox"
           }
          ],
          "scatterpolar": [
           {
            "marker": {
             "colorbar": {
              "outlinewidth": 0,
              "ticks": ""
             }
            },
            "type": "scatterpolar"
           }
          ],
          "scatterpolargl": [
           {
            "marker": {
             "colorbar": {
              "outlinewidth": 0,
              "ticks": ""
             }
            },
            "type": "scatterpolargl"
           }
          ],
          "scatterternary": [
           {
            "marker": {
             "colorbar": {
              "outlinewidth": 0,
              "ticks": ""
             }
            },
            "type": "scatterternary"
           }
          ],
          "surface": [
           {
            "colorbar": {
             "outlinewidth": 0,
             "ticks": ""
            },
            "colorscale": [
             [
              0,
              "#0d0887"
             ],
             [
              0.1111111111111111,
              "#46039f"
             ],
             [
              0.2222222222222222,
              "#7201a8"
             ],
             [
              0.3333333333333333,
              "#9c179e"
             ],
             [
              0.4444444444444444,
              "#bd3786"
             ],
             [
              0.5555555555555556,
              "#d8576b"
             ],
             [
              0.6666666666666666,
              "#ed7953"
             ],
             [
              0.7777777777777778,
              "#fb9f3a"
             ],
             [
              0.8888888888888888,
              "#fdca26"
             ],
             [
              1,
              "#f0f921"
             ]
            ],
            "type": "surface"
           }
          ],
          "table": [
           {
            "cells": {
             "fill": {
              "color": "#EBF0F8"
             },
             "line": {
              "color": "white"
             }
            },
            "header": {
             "fill": {
              "color": "#C8D4E3"
             },
             "line": {
              "color": "white"
             }
            },
            "type": "table"
           }
          ]
         },
         "layout": {
          "annotationdefaults": {
           "arrowcolor": "#2a3f5f",
           "arrowhead": 0,
           "arrowwidth": 1
          },
          "autotypenumbers": "strict",
          "coloraxis": {
           "colorbar": {
            "outlinewidth": 0,
            "ticks": ""
           }
          },
          "colorscale": {
           "diverging": [
            [
             0,
             "#8e0152"
            ],
            [
             0.1,
             "#c51b7d"
            ],
            [
             0.2,
             "#de77ae"
            ],
            [
             0.3,
             "#f1b6da"
            ],
            [
             0.4,
             "#fde0ef"
            ],
            [
             0.5,
             "#f7f7f7"
            ],
            [
             0.6,
             "#e6f5d0"
            ],
            [
             0.7,
             "#b8e186"
            ],
            [
             0.8,
             "#7fbc41"
            ],
            [
             0.9,
             "#4d9221"
            ],
            [
             1,
             "#276419"
            ]
           ],
           "sequential": [
            [
             0,
             "#0d0887"
            ],
            [
             0.1111111111111111,
             "#46039f"
            ],
            [
             0.2222222222222222,
             "#7201a8"
            ],
            [
             0.3333333333333333,
             "#9c179e"
            ],
            [
             0.4444444444444444,
             "#bd3786"
            ],
            [
             0.5555555555555556,
             "#d8576b"
            ],
            [
             0.6666666666666666,
             "#ed7953"
            ],
            [
             0.7777777777777778,
             "#fb9f3a"
            ],
            [
             0.8888888888888888,
             "#fdca26"
            ],
            [
             1,
             "#f0f921"
            ]
           ],
           "sequentialminus": [
            [
             0,
             "#0d0887"
            ],
            [
             0.1111111111111111,
             "#46039f"
            ],
            [
             0.2222222222222222,
             "#7201a8"
            ],
            [
             0.3333333333333333,
             "#9c179e"
            ],
            [
             0.4444444444444444,
             "#bd3786"
            ],
            [
             0.5555555555555556,
             "#d8576b"
            ],
            [
             0.6666666666666666,
             "#ed7953"
            ],
            [
             0.7777777777777778,
             "#fb9f3a"
            ],
            [
             0.8888888888888888,
             "#fdca26"
            ],
            [
             1,
             "#f0f921"
            ]
           ]
          },
          "colorway": [
           "#636efa",
           "#EF553B",
           "#00cc96",
           "#ab63fa",
           "#FFA15A",
           "#19d3f3",
           "#FF6692",
           "#B6E880",
           "#FF97FF",
           "#FECB52"
          ],
          "font": {
           "color": "#2a3f5f"
          },
          "geo": {
           "bgcolor": "white",
           "lakecolor": "white",
           "landcolor": "#E5ECF6",
           "showlakes": true,
           "showland": true,
           "subunitcolor": "white"
          },
          "hoverlabel": {
           "align": "left"
          },
          "hovermode": "closest",
          "mapbox": {
           "style": "light"
          },
          "paper_bgcolor": "white",
          "plot_bgcolor": "#E5ECF6",
          "polar": {
           "angularaxis": {
            "gridcolor": "white",
            "linecolor": "white",
            "ticks": ""
           },
           "bgcolor": "#E5ECF6",
           "radialaxis": {
            "gridcolor": "white",
            "linecolor": "white",
            "ticks": ""
           }
          },
          "scene": {
           "xaxis": {
            "backgroundcolor": "#E5ECF6",
            "gridcolor": "white",
            "gridwidth": 2,
            "linecolor": "white",
            "showbackground": true,
            "ticks": "",
            "zerolinecolor": "white"
           },
           "yaxis": {
            "backgroundcolor": "#E5ECF6",
            "gridcolor": "white",
            "gridwidth": 2,
            "linecolor": "white",
            "showbackground": true,
            "ticks": "",
            "zerolinecolor": "white"
           },
           "zaxis": {
            "backgroundcolor": "#E5ECF6",
            "gridcolor": "white",
            "gridwidth": 2,
            "linecolor": "white",
            "showbackground": true,
            "ticks": "",
            "zerolinecolor": "white"
           }
          },
          "shapedefaults": {
           "line": {
            "color": "#2a3f5f"
           }
          },
          "ternary": {
           "aaxis": {
            "gridcolor": "white",
            "linecolor": "white",
            "ticks": ""
           },
           "baxis": {
            "gridcolor": "white",
            "linecolor": "white",
            "ticks": ""
           },
           "bgcolor": "#E5ECF6",
           "caxis": {
            "gridcolor": "white",
            "linecolor": "white",
            "ticks": ""
           }
          },
          "title": {
           "x": 0.05
          },
          "xaxis": {
           "automargin": true,
           "gridcolor": "white",
           "linecolor": "white",
           "ticks": "",
           "title": {
            "standoff": 15
           },
           "zerolinecolor": "white",
           "zerolinewidth": 2
          },
          "yaxis": {
           "automargin": true,
           "gridcolor": "white",
           "linecolor": "white",
           "ticks": "",
           "title": {
            "standoff": 15
           },
           "zerolinecolor": "white",
           "zerolinewidth": 2
          }
         }
        },
        "title": {
         "text": "N Most Ticked Routes Vs. Percent of Ticks",
         "x": 0.5
        },
        "width": 800,
        "xaxis": {
         "anchor": "y",
         "domain": [
          0,
          1
         ],
         "range": [
          0,
          500
         ],
         "title": {
          "text": "N Highest Ticked Routes"
         }
        },
        "yaxis": {
         "anchor": "x",
         "domain": [
          0,
          1
         ],
         "range": [
          0,
          100
         ],
         "title": {
          "text": "Percent of Ticks (%)"
         }
        }
       }
      }
     },
     "metadata": {},
     "output_type": "display_data"
    }
   ],
   "source": [
    "# Percent of climbs responsible for percent of ticks analysis\n",
    "pd.to_numeric(df['Num Ticks'].fillna(0, inplace=True), downcast='integer')\n",
    "df_sorted = df.sort_values('Num Ticks', ascending=False)['Num Ticks']\n",
    "sum_ticks = df['Num Ticks'].sum()\n",
    "num_climbs = len(df.index)\n",
    "df_sorted_sums = []\n",
    "for i in range(0,num_climbs):\n",
    "    df_sorted_sums.append(df_sorted.nlargest(i).sum())\n",
    "df_sorted_sums = (df_sorted_sums/sum_ticks)*100\n",
    "df_perc_of_climbs = np.round_((np.array([*range(0,num_climbs)])/num_climbs)*100, 1)\n",
    "\n",
    "fig = px.line(x=df_perc_of_climbs, y=df_sorted_sums, title=\"Percent of Climbs Responsible for Percent of Ticks\", width=800, height=400)\n",
    "fig.update_yaxes(range = [0,100], title=\"Percent of Ticks (%)\")\n",
    "fig.update_xaxes(range = [0,100], title=\"Percent of Climbs (%)\")\n",
    "fig.update_layout(title_x=0.5)\n",
    "fig\n",
    "\n",
    "fig = px.line(x=[*range(0,num_climbs)], y=df_sorted_sums, title=\"N Most Ticked Routes Vs. Percent of Ticks\", width=800, height=400)\n",
    "fig.update_yaxes(range = [0,100], title=\"Percent of Ticks (%)\")\n",
    "fig.update_xaxes(range = [0,500], title=\"N Highest Ticked Routes\")\n",
    "fig.update_layout(title_x=0.5)\n",
    "fig"
   ]
  },
  {
   "cell_type": "code",
   "execution_count": 49,
   "metadata": {},
   "outputs": [
    {
     "data": {
      "application/vnd.plotly.v1+json": {
       "config": {
        "plotlyServerURL": "https://plot.ly"
       },
       "data": [
        {
         "alignmentgroup": "True",
         "hovertemplate": "Route=%{x}<br>Num Ticks=%{y}<extra></extra>",
         "legendgroup": "",
         "marker": {
          "color": "#636efa",
          "pattern": {
           "shape": ""
          }
         },
         "name": "",
         "offsetgroup": "",
         "orientation": "v",
         "showlegend": false,
         "textposition": "auto",
         "texttemplate": "%{y}",
         "type": "bar",
         "x": [
          "Incredible Hand Crack",
          "Supercrack of the Desert",
          "Chocolate Corner",
          "Generic Crack",
          "Blue Sun",
          "Binou's Crack",
          "Scarface",
          "Twin Cracks",
          "3AM Crack",
          "Elephant Man",
          "Wavy Gravy",
          "Cave Route",
          "Annunaki",
          "South Face",
          "Railroad Tracks",
          "Rochambeau",
          "Neat",
          "Way Rambo",
          "Soul Fire",
          "Jolly Rancher",
          "Tom Cat",
          "Coyne Crack",
          "Hand Solo",
          "Sparkling Zygote",
          "Go Sparky Go",
          "Fuzz",
          "Way Putter",
          "Italian Combo",
          "Gorilla"
         ],
         "xaxis": "x",
         "y": [
          2930,
          2775,
          2579,
          2402,
          2182,
          1936,
          1889,
          1850,
          1502,
          1356,
          1346,
          1245,
          1235,
          1119,
          1096,
          1044,
          887,
          859,
          812,
          812,
          810,
          792,
          787,
          767,
          757,
          732,
          725,
          724,
          721
         ],
         "yaxis": "y"
        }
       ],
       "layout": {
        "barmode": "relative",
        "legend": {
         "tracegroupgap": 0
        },
        "template": {
         "data": {
          "bar": [
           {
            "error_x": {
             "color": "#2a3f5f"
            },
            "error_y": {
             "color": "#2a3f5f"
            },
            "marker": {
             "line": {
              "color": "#E5ECF6",
              "width": 0.5
             },
             "pattern": {
              "fillmode": "overlay",
              "size": 10,
              "solidity": 0.2
             }
            },
            "type": "bar"
           }
          ],
          "barpolar": [
           {
            "marker": {
             "line": {
              "color": "#E5ECF6",
              "width": 0.5
             },
             "pattern": {
              "fillmode": "overlay",
              "size": 10,
              "solidity": 0.2
             }
            },
            "type": "barpolar"
           }
          ],
          "carpet": [
           {
            "aaxis": {
             "endlinecolor": "#2a3f5f",
             "gridcolor": "white",
             "linecolor": "white",
             "minorgridcolor": "white",
             "startlinecolor": "#2a3f5f"
            },
            "baxis": {
             "endlinecolor": "#2a3f5f",
             "gridcolor": "white",
             "linecolor": "white",
             "minorgridcolor": "white",
             "startlinecolor": "#2a3f5f"
            },
            "type": "carpet"
           }
          ],
          "choropleth": [
           {
            "colorbar": {
             "outlinewidth": 0,
             "ticks": ""
            },
            "type": "choropleth"
           }
          ],
          "contour": [
           {
            "colorbar": {
             "outlinewidth": 0,
             "ticks": ""
            },
            "colorscale": [
             [
              0,
              "#0d0887"
             ],
             [
              0.1111111111111111,
              "#46039f"
             ],
             [
              0.2222222222222222,
              "#7201a8"
             ],
             [
              0.3333333333333333,
              "#9c179e"
             ],
             [
              0.4444444444444444,
              "#bd3786"
             ],
             [
              0.5555555555555556,
              "#d8576b"
             ],
             [
              0.6666666666666666,
              "#ed7953"
             ],
             [
              0.7777777777777778,
              "#fb9f3a"
             ],
             [
              0.8888888888888888,
              "#fdca26"
             ],
             [
              1,
              "#f0f921"
             ]
            ],
            "type": "contour"
           }
          ],
          "contourcarpet": [
           {
            "colorbar": {
             "outlinewidth": 0,
             "ticks": ""
            },
            "type": "contourcarpet"
           }
          ],
          "heatmap": [
           {
            "colorbar": {
             "outlinewidth": 0,
             "ticks": ""
            },
            "colorscale": [
             [
              0,
              "#0d0887"
             ],
             [
              0.1111111111111111,
              "#46039f"
             ],
             [
              0.2222222222222222,
              "#7201a8"
             ],
             [
              0.3333333333333333,
              "#9c179e"
             ],
             [
              0.4444444444444444,
              "#bd3786"
             ],
             [
              0.5555555555555556,
              "#d8576b"
             ],
             [
              0.6666666666666666,
              "#ed7953"
             ],
             [
              0.7777777777777778,
              "#fb9f3a"
             ],
             [
              0.8888888888888888,
              "#fdca26"
             ],
             [
              1,
              "#f0f921"
             ]
            ],
            "type": "heatmap"
           }
          ],
          "heatmapgl": [
           {
            "colorbar": {
             "outlinewidth": 0,
             "ticks": ""
            },
            "colorscale": [
             [
              0,
              "#0d0887"
             ],
             [
              0.1111111111111111,
              "#46039f"
             ],
             [
              0.2222222222222222,
              "#7201a8"
             ],
             [
              0.3333333333333333,
              "#9c179e"
             ],
             [
              0.4444444444444444,
              "#bd3786"
             ],
             [
              0.5555555555555556,
              "#d8576b"
             ],
             [
              0.6666666666666666,
              "#ed7953"
             ],
             [
              0.7777777777777778,
              "#fb9f3a"
             ],
             [
              0.8888888888888888,
              "#fdca26"
             ],
             [
              1,
              "#f0f921"
             ]
            ],
            "type": "heatmapgl"
           }
          ],
          "histogram": [
           {
            "marker": {
             "pattern": {
              "fillmode": "overlay",
              "size": 10,
              "solidity": 0.2
             }
            },
            "type": "histogram"
           }
          ],
          "histogram2d": [
           {
            "colorbar": {
             "outlinewidth": 0,
             "ticks": ""
            },
            "colorscale": [
             [
              0,
              "#0d0887"
             ],
             [
              0.1111111111111111,
              "#46039f"
             ],
             [
              0.2222222222222222,
              "#7201a8"
             ],
             [
              0.3333333333333333,
              "#9c179e"
             ],
             [
              0.4444444444444444,
              "#bd3786"
             ],
             [
              0.5555555555555556,
              "#d8576b"
             ],
             [
              0.6666666666666666,
              "#ed7953"
             ],
             [
              0.7777777777777778,
              "#fb9f3a"
             ],
             [
              0.8888888888888888,
              "#fdca26"
             ],
             [
              1,
              "#f0f921"
             ]
            ],
            "type": "histogram2d"
           }
          ],
          "histogram2dcontour": [
           {
            "colorbar": {
             "outlinewidth": 0,
             "ticks": ""
            },
            "colorscale": [
             [
              0,
              "#0d0887"
             ],
             [
              0.1111111111111111,
              "#46039f"
             ],
             [
              0.2222222222222222,
              "#7201a8"
             ],
             [
              0.3333333333333333,
              "#9c179e"
             ],
             [
              0.4444444444444444,
              "#bd3786"
             ],
             [
              0.5555555555555556,
              "#d8576b"
             ],
             [
              0.6666666666666666,
              "#ed7953"
             ],
             [
              0.7777777777777778,
              "#fb9f3a"
             ],
             [
              0.8888888888888888,
              "#fdca26"
             ],
             [
              1,
              "#f0f921"
             ]
            ],
            "type": "histogram2dcontour"
           }
          ],
          "mesh3d": [
           {
            "colorbar": {
             "outlinewidth": 0,
             "ticks": ""
            },
            "type": "mesh3d"
           }
          ],
          "parcoords": [
           {
            "line": {
             "colorbar": {
              "outlinewidth": 0,
              "ticks": ""
             }
            },
            "type": "parcoords"
           }
          ],
          "pie": [
           {
            "automargin": true,
            "type": "pie"
           }
          ],
          "scatter": [
           {
            "marker": {
             "colorbar": {
              "outlinewidth": 0,
              "ticks": ""
             }
            },
            "type": "scatter"
           }
          ],
          "scatter3d": [
           {
            "line": {
             "colorbar": {
              "outlinewidth": 0,
              "ticks": ""
             }
            },
            "marker": {
             "colorbar": {
              "outlinewidth": 0,
              "ticks": ""
             }
            },
            "type": "scatter3d"
           }
          ],
          "scattercarpet": [
           {
            "marker": {
             "colorbar": {
              "outlinewidth": 0,
              "ticks": ""
             }
            },
            "type": "scattercarpet"
           }
          ],
          "scattergeo": [
           {
            "marker": {
             "colorbar": {
              "outlinewidth": 0,
              "ticks": ""
             }
            },
            "type": "scattergeo"
           }
          ],
          "scattergl": [
           {
            "marker": {
             "colorbar": {
              "outlinewidth": 0,
              "ticks": ""
             }
            },
            "type": "scattergl"
           }
          ],
          "scattermapbox": [
           {
            "marker": {
             "colorbar": {
              "outlinewidth": 0,
              "ticks": ""
             }
            },
            "type": "scattermapbox"
           }
          ],
          "scatterpolar": [
           {
            "marker": {
             "colorbar": {
              "outlinewidth": 0,
              "ticks": ""
             }
            },
            "type": "scatterpolar"
           }
          ],
          "scatterpolargl": [
           {
            "marker": {
             "colorbar": {
              "outlinewidth": 0,
              "ticks": ""
             }
            },
            "type": "scatterpolargl"
           }
          ],
          "scatterternary": [
           {
            "marker": {
             "colorbar": {
              "outlinewidth": 0,
              "ticks": ""
             }
            },
            "type": "scatterternary"
           }
          ],
          "surface": [
           {
            "colorbar": {
             "outlinewidth": 0,
             "ticks": ""
            },
            "colorscale": [
             [
              0,
              "#0d0887"
             ],
             [
              0.1111111111111111,
              "#46039f"
             ],
             [
              0.2222222222222222,
              "#7201a8"
             ],
             [
              0.3333333333333333,
              "#9c179e"
             ],
             [
              0.4444444444444444,
              "#bd3786"
             ],
             [
              0.5555555555555556,
              "#d8576b"
             ],
             [
              0.6666666666666666,
              "#ed7953"
             ],
             [
              0.7777777777777778,
              "#fb9f3a"
             ],
             [
              0.8888888888888888,
              "#fdca26"
             ],
             [
              1,
              "#f0f921"
             ]
            ],
            "type": "surface"
           }
          ],
          "table": [
           {
            "cells": {
             "fill": {
              "color": "#EBF0F8"
             },
             "line": {
              "color": "white"
             }
            },
            "header": {
             "fill": {
              "color": "#C8D4E3"
             },
             "line": {
              "color": "white"
             }
            },
            "type": "table"
           }
          ]
         },
         "layout": {
          "annotationdefaults": {
           "arrowcolor": "#2a3f5f",
           "arrowhead": 0,
           "arrowwidth": 1
          },
          "autotypenumbers": "strict",
          "coloraxis": {
           "colorbar": {
            "outlinewidth": 0,
            "ticks": ""
           }
          },
          "colorscale": {
           "diverging": [
            [
             0,
             "#8e0152"
            ],
            [
             0.1,
             "#c51b7d"
            ],
            [
             0.2,
             "#de77ae"
            ],
            [
             0.3,
             "#f1b6da"
            ],
            [
             0.4,
             "#fde0ef"
            ],
            [
             0.5,
             "#f7f7f7"
            ],
            [
             0.6,
             "#e6f5d0"
            ],
            [
             0.7,
             "#b8e186"
            ],
            [
             0.8,
             "#7fbc41"
            ],
            [
             0.9,
             "#4d9221"
            ],
            [
             1,
             "#276419"
            ]
           ],
           "sequential": [
            [
             0,
             "#0d0887"
            ],
            [
             0.1111111111111111,
             "#46039f"
            ],
            [
             0.2222222222222222,
             "#7201a8"
            ],
            [
             0.3333333333333333,
             "#9c179e"
            ],
            [
             0.4444444444444444,
             "#bd3786"
            ],
            [
             0.5555555555555556,
             "#d8576b"
            ],
            [
             0.6666666666666666,
             "#ed7953"
            ],
            [
             0.7777777777777778,
             "#fb9f3a"
            ],
            [
             0.8888888888888888,
             "#fdca26"
            ],
            [
             1,
             "#f0f921"
            ]
           ],
           "sequentialminus": [
            [
             0,
             "#0d0887"
            ],
            [
             0.1111111111111111,
             "#46039f"
            ],
            [
             0.2222222222222222,
             "#7201a8"
            ],
            [
             0.3333333333333333,
             "#9c179e"
            ],
            [
             0.4444444444444444,
             "#bd3786"
            ],
            [
             0.5555555555555556,
             "#d8576b"
            ],
            [
             0.6666666666666666,
             "#ed7953"
            ],
            [
             0.7777777777777778,
             "#fb9f3a"
            ],
            [
             0.8888888888888888,
             "#fdca26"
            ],
            [
             1,
             "#f0f921"
            ]
           ]
          },
          "colorway": [
           "#636efa",
           "#EF553B",
           "#00cc96",
           "#ab63fa",
           "#FFA15A",
           "#19d3f3",
           "#FF6692",
           "#B6E880",
           "#FF97FF",
           "#FECB52"
          ],
          "font": {
           "color": "#2a3f5f"
          },
          "geo": {
           "bgcolor": "white",
           "lakecolor": "white",
           "landcolor": "#E5ECF6",
           "showlakes": true,
           "showland": true,
           "subunitcolor": "white"
          },
          "hoverlabel": {
           "align": "left"
          },
          "hovermode": "closest",
          "mapbox": {
           "style": "light"
          },
          "paper_bgcolor": "white",
          "plot_bgcolor": "#E5ECF6",
          "polar": {
           "angularaxis": {
            "gridcolor": "white",
            "linecolor": "white",
            "ticks": ""
           },
           "bgcolor": "#E5ECF6",
           "radialaxis": {
            "gridcolor": "white",
            "linecolor": "white",
            "ticks": ""
           }
          },
          "scene": {
           "xaxis": {
            "backgroundcolor": "#E5ECF6",
            "gridcolor": "white",
            "gridwidth": 2,
            "linecolor": "white",
            "showbackground": true,
            "ticks": "",
            "zerolinecolor": "white"
           },
           "yaxis": {
            "backgroundcolor": "#E5ECF6",
            "gridcolor": "white",
            "gridwidth": 2,
            "linecolor": "white",
            "showbackground": true,
            "ticks": "",
            "zerolinecolor": "white"
           },
           "zaxis": {
            "backgroundcolor": "#E5ECF6",
            "gridcolor": "white",
            "gridwidth": 2,
            "linecolor": "white",
            "showbackground": true,
            "ticks": "",
            "zerolinecolor": "white"
           }
          },
          "shapedefaults": {
           "line": {
            "color": "#2a3f5f"
           }
          },
          "ternary": {
           "aaxis": {
            "gridcolor": "white",
            "linecolor": "white",
            "ticks": ""
           },
           "baxis": {
            "gridcolor": "white",
            "linecolor": "white",
            "ticks": ""
           },
           "bgcolor": "#E5ECF6",
           "caxis": {
            "gridcolor": "white",
            "linecolor": "white",
            "ticks": ""
           }
          },
          "title": {
           "x": 0.05
          },
          "xaxis": {
           "automargin": true,
           "gridcolor": "white",
           "linecolor": "white",
           "ticks": "",
           "title": {
            "standoff": 15
           },
           "zerolinecolor": "white",
           "zerolinewidth": 2
          },
          "yaxis": {
           "automargin": true,
           "gridcolor": "white",
           "linecolor": "white",
           "ticks": "",
           "title": {
            "standoff": 15
           },
           "zerolinecolor": "white",
           "zerolinewidth": 2
          }
         }
        },
        "title": {
         "text": "Top 30 Routes Tick Counts",
         "x": 0.5
        },
        "width": 1200,
        "xaxis": {
         "anchor": "y",
         "domain": [
          0,
          1
         ],
         "title": {
          "text": "Route Name"
         }
        },
        "yaxis": {
         "anchor": "x",
         "domain": [
          0,
          1
         ],
         "title": {
          "text": "Number of Ticks"
         }
        }
       }
      }
     },
     "metadata": {},
     "output_type": "display_data"
    }
   ],
   "source": [
    "# Top climbed analysis\n",
    "top_climbed = df.sort_values('Num Ticks', ascending=False)[0:29]\n",
    "plt.rcParams['figure.figsize']=(30,5)\n",
    "fig = px.bar(top_climbed, x='Route', y='Num Ticks', title=\"Top 30 Routes Tick Counts\", text_auto=True, width=1200)\n",
    "fig.update_xaxes(title='Route Name')\n",
    "fig.update_yaxes(title='Number of Ticks')\n",
    "fig.update_layout(title_x=0.5)"
   ]
  },
  {
   "cell_type": "code",
   "execution_count": 73,
   "metadata": {},
   "outputs": [
    {
     "data": {
      "application/vnd.plotly.v1+json": {
       "config": {
        "plotlyServerURL": "https://plot.ly"
       },
       "data": [
        {
         "alignmentgroup": "True",
         "bingroup": "x",
         "hovertemplate": "variable=0<br>value=%{x}<br>count=%{y}<extra></extra>",
         "legendgroup": "0",
         "marker": {
          "color": "#636efa",
          "pattern": {
           "shape": ""
          }
         },
         "name": "0",
         "offsetgroup": "0",
         "orientation": "v",
         "showlegend": true,
         "type": "histogram",
         "x": [
          "5.10",
          "5.10",
          "5.9+",
          "5.10-",
          "5.10-",
          "5.8+",
          "5.11-",
          "5.8+",
          "5.10",
          "5.10-",
          "5.10",
          "5.10+",
          "5.11+",
          "5.7",
          "5.10",
          "5.9",
          "5.10",
          "5.12-",
          "5.11-",
          "5.10",
          "5.10",
          "5.11+",
          "5.9",
          "5.10-",
          "5.11",
          "5.10",
          "5.9",
          "5.9+",
          "5.10"
         ],
         "xaxis": "x",
         "yaxis": "y"
        }
       ],
       "layout": {
        "barmode": "relative",
        "legend": {
         "title": {
          "text": "variable"
         },
         "tracegroupgap": 0
        },
        "showlegend": false,
        "template": {
         "data": {
          "bar": [
           {
            "error_x": {
             "color": "#2a3f5f"
            },
            "error_y": {
             "color": "#2a3f5f"
            },
            "marker": {
             "line": {
              "color": "#E5ECF6",
              "width": 0.5
             },
             "pattern": {
              "fillmode": "overlay",
              "size": 10,
              "solidity": 0.2
             }
            },
            "type": "bar"
           }
          ],
          "barpolar": [
           {
            "marker": {
             "line": {
              "color": "#E5ECF6",
              "width": 0.5
             },
             "pattern": {
              "fillmode": "overlay",
              "size": 10,
              "solidity": 0.2
             }
            },
            "type": "barpolar"
           }
          ],
          "carpet": [
           {
            "aaxis": {
             "endlinecolor": "#2a3f5f",
             "gridcolor": "white",
             "linecolor": "white",
             "minorgridcolor": "white",
             "startlinecolor": "#2a3f5f"
            },
            "baxis": {
             "endlinecolor": "#2a3f5f",
             "gridcolor": "white",
             "linecolor": "white",
             "minorgridcolor": "white",
             "startlinecolor": "#2a3f5f"
            },
            "type": "carpet"
           }
          ],
          "choropleth": [
           {
            "colorbar": {
             "outlinewidth": 0,
             "ticks": ""
            },
            "type": "choropleth"
           }
          ],
          "contour": [
           {
            "colorbar": {
             "outlinewidth": 0,
             "ticks": ""
            },
            "colorscale": [
             [
              0,
              "#0d0887"
             ],
             [
              0.1111111111111111,
              "#46039f"
             ],
             [
              0.2222222222222222,
              "#7201a8"
             ],
             [
              0.3333333333333333,
              "#9c179e"
             ],
             [
              0.4444444444444444,
              "#bd3786"
             ],
             [
              0.5555555555555556,
              "#d8576b"
             ],
             [
              0.6666666666666666,
              "#ed7953"
             ],
             [
              0.7777777777777778,
              "#fb9f3a"
             ],
             [
              0.8888888888888888,
              "#fdca26"
             ],
             [
              1,
              "#f0f921"
             ]
            ],
            "type": "contour"
           }
          ],
          "contourcarpet": [
           {
            "colorbar": {
             "outlinewidth": 0,
             "ticks": ""
            },
            "type": "contourcarpet"
           }
          ],
          "heatmap": [
           {
            "colorbar": {
             "outlinewidth": 0,
             "ticks": ""
            },
            "colorscale": [
             [
              0,
              "#0d0887"
             ],
             [
              0.1111111111111111,
              "#46039f"
             ],
             [
              0.2222222222222222,
              "#7201a8"
             ],
             [
              0.3333333333333333,
              "#9c179e"
             ],
             [
              0.4444444444444444,
              "#bd3786"
             ],
             [
              0.5555555555555556,
              "#d8576b"
             ],
             [
              0.6666666666666666,
              "#ed7953"
             ],
             [
              0.7777777777777778,
              "#fb9f3a"
             ],
             [
              0.8888888888888888,
              "#fdca26"
             ],
             [
              1,
              "#f0f921"
             ]
            ],
            "type": "heatmap"
           }
          ],
          "heatmapgl": [
           {
            "colorbar": {
             "outlinewidth": 0,
             "ticks": ""
            },
            "colorscale": [
             [
              0,
              "#0d0887"
             ],
             [
              0.1111111111111111,
              "#46039f"
             ],
             [
              0.2222222222222222,
              "#7201a8"
             ],
             [
              0.3333333333333333,
              "#9c179e"
             ],
             [
              0.4444444444444444,
              "#bd3786"
             ],
             [
              0.5555555555555556,
              "#d8576b"
             ],
             [
              0.6666666666666666,
              "#ed7953"
             ],
             [
              0.7777777777777778,
              "#fb9f3a"
             ],
             [
              0.8888888888888888,
              "#fdca26"
             ],
             [
              1,
              "#f0f921"
             ]
            ],
            "type": "heatmapgl"
           }
          ],
          "histogram": [
           {
            "marker": {
             "pattern": {
              "fillmode": "overlay",
              "size": 10,
              "solidity": 0.2
             }
            },
            "type": "histogram"
           }
          ],
          "histogram2d": [
           {
            "colorbar": {
             "outlinewidth": 0,
             "ticks": ""
            },
            "colorscale": [
             [
              0,
              "#0d0887"
             ],
             [
              0.1111111111111111,
              "#46039f"
             ],
             [
              0.2222222222222222,
              "#7201a8"
             ],
             [
              0.3333333333333333,
              "#9c179e"
             ],
             [
              0.4444444444444444,
              "#bd3786"
             ],
             [
              0.5555555555555556,
              "#d8576b"
             ],
             [
              0.6666666666666666,
              "#ed7953"
             ],
             [
              0.7777777777777778,
              "#fb9f3a"
             ],
             [
              0.8888888888888888,
              "#fdca26"
             ],
             [
              1,
              "#f0f921"
             ]
            ],
            "type": "histogram2d"
           }
          ],
          "histogram2dcontour": [
           {
            "colorbar": {
             "outlinewidth": 0,
             "ticks": ""
            },
            "colorscale": [
             [
              0,
              "#0d0887"
             ],
             [
              0.1111111111111111,
              "#46039f"
             ],
             [
              0.2222222222222222,
              "#7201a8"
             ],
             [
              0.3333333333333333,
              "#9c179e"
             ],
             [
              0.4444444444444444,
              "#bd3786"
             ],
             [
              0.5555555555555556,
              "#d8576b"
             ],
             [
              0.6666666666666666,
              "#ed7953"
             ],
             [
              0.7777777777777778,
              "#fb9f3a"
             ],
             [
              0.8888888888888888,
              "#fdca26"
             ],
             [
              1,
              "#f0f921"
             ]
            ],
            "type": "histogram2dcontour"
           }
          ],
          "mesh3d": [
           {
            "colorbar": {
             "outlinewidth": 0,
             "ticks": ""
            },
            "type": "mesh3d"
           }
          ],
          "parcoords": [
           {
            "line": {
             "colorbar": {
              "outlinewidth": 0,
              "ticks": ""
             }
            },
            "type": "parcoords"
           }
          ],
          "pie": [
           {
            "automargin": true,
            "type": "pie"
           }
          ],
          "scatter": [
           {
            "marker": {
             "colorbar": {
              "outlinewidth": 0,
              "ticks": ""
             }
            },
            "type": "scatter"
           }
          ],
          "scatter3d": [
           {
            "line": {
             "colorbar": {
              "outlinewidth": 0,
              "ticks": ""
             }
            },
            "marker": {
             "colorbar": {
              "outlinewidth": 0,
              "ticks": ""
             }
            },
            "type": "scatter3d"
           }
          ],
          "scattercarpet": [
           {
            "marker": {
             "colorbar": {
              "outlinewidth": 0,
              "ticks": ""
             }
            },
            "type": "scattercarpet"
           }
          ],
          "scattergeo": [
           {
            "marker": {
             "colorbar": {
              "outlinewidth": 0,
              "ticks": ""
             }
            },
            "type": "scattergeo"
           }
          ],
          "scattergl": [
           {
            "marker": {
             "colorbar": {
              "outlinewidth": 0,
              "ticks": ""
             }
            },
            "type": "scattergl"
           }
          ],
          "scattermapbox": [
           {
            "marker": {
             "colorbar": {
              "outlinewidth": 0,
              "ticks": ""
             }
            },
            "type": "scattermapbox"
           }
          ],
          "scatterpolar": [
           {
            "marker": {
             "colorbar": {
              "outlinewidth": 0,
              "ticks": ""
             }
            },
            "type": "scatterpolar"
           }
          ],
          "scatterpolargl": [
           {
            "marker": {
             "colorbar": {
              "outlinewidth": 0,
              "ticks": ""
             }
            },
            "type": "scatterpolargl"
           }
          ],
          "scatterternary": [
           {
            "marker": {
             "colorbar": {
              "outlinewidth": 0,
              "ticks": ""
             }
            },
            "type": "scatterternary"
           }
          ],
          "surface": [
           {
            "colorbar": {
             "outlinewidth": 0,
             "ticks": ""
            },
            "colorscale": [
             [
              0,
              "#0d0887"
             ],
             [
              0.1111111111111111,
              "#46039f"
             ],
             [
              0.2222222222222222,
              "#7201a8"
             ],
             [
              0.3333333333333333,
              "#9c179e"
             ],
             [
              0.4444444444444444,
              "#bd3786"
             ],
             [
              0.5555555555555556,
              "#d8576b"
             ],
             [
              0.6666666666666666,
              "#ed7953"
             ],
             [
              0.7777777777777778,
              "#fb9f3a"
             ],
             [
              0.8888888888888888,
              "#fdca26"
             ],
             [
              1,
              "#f0f921"
             ]
            ],
            "type": "surface"
           }
          ],
          "table": [
           {
            "cells": {
             "fill": {
              "color": "#EBF0F8"
             },
             "line": {
              "color": "white"
             }
            },
            "header": {
             "fill": {
              "color": "#C8D4E3"
             },
             "line": {
              "color": "white"
             }
            },
            "type": "table"
           }
          ]
         },
         "layout": {
          "annotationdefaults": {
           "arrowcolor": "#2a3f5f",
           "arrowhead": 0,
           "arrowwidth": 1
          },
          "autotypenumbers": "strict",
          "coloraxis": {
           "colorbar": {
            "outlinewidth": 0,
            "ticks": ""
           }
          },
          "colorscale": {
           "diverging": [
            [
             0,
             "#8e0152"
            ],
            [
             0.1,
             "#c51b7d"
            ],
            [
             0.2,
             "#de77ae"
            ],
            [
             0.3,
             "#f1b6da"
            ],
            [
             0.4,
             "#fde0ef"
            ],
            [
             0.5,
             "#f7f7f7"
            ],
            [
             0.6,
             "#e6f5d0"
            ],
            [
             0.7,
             "#b8e186"
            ],
            [
             0.8,
             "#7fbc41"
            ],
            [
             0.9,
             "#4d9221"
            ],
            [
             1,
             "#276419"
            ]
           ],
           "sequential": [
            [
             0,
             "#0d0887"
            ],
            [
             0.1111111111111111,
             "#46039f"
            ],
            [
             0.2222222222222222,
             "#7201a8"
            ],
            [
             0.3333333333333333,
             "#9c179e"
            ],
            [
             0.4444444444444444,
             "#bd3786"
            ],
            [
             0.5555555555555556,
             "#d8576b"
            ],
            [
             0.6666666666666666,
             "#ed7953"
            ],
            [
             0.7777777777777778,
             "#fb9f3a"
            ],
            [
             0.8888888888888888,
             "#fdca26"
            ],
            [
             1,
             "#f0f921"
            ]
           ],
           "sequentialminus": [
            [
             0,
             "#0d0887"
            ],
            [
             0.1111111111111111,
             "#46039f"
            ],
            [
             0.2222222222222222,
             "#7201a8"
            ],
            [
             0.3333333333333333,
             "#9c179e"
            ],
            [
             0.4444444444444444,
             "#bd3786"
            ],
            [
             0.5555555555555556,
             "#d8576b"
            ],
            [
             0.6666666666666666,
             "#ed7953"
            ],
            [
             0.7777777777777778,
             "#fb9f3a"
            ],
            [
             0.8888888888888888,
             "#fdca26"
            ],
            [
             1,
             "#f0f921"
            ]
           ]
          },
          "colorway": [
           "#636efa",
           "#EF553B",
           "#00cc96",
           "#ab63fa",
           "#FFA15A",
           "#19d3f3",
           "#FF6692",
           "#B6E880",
           "#FF97FF",
           "#FECB52"
          ],
          "font": {
           "color": "#2a3f5f"
          },
          "geo": {
           "bgcolor": "white",
           "lakecolor": "white",
           "landcolor": "#E5ECF6",
           "showlakes": true,
           "showland": true,
           "subunitcolor": "white"
          },
          "hoverlabel": {
           "align": "left"
          },
          "hovermode": "closest",
          "mapbox": {
           "style": "light"
          },
          "paper_bgcolor": "white",
          "plot_bgcolor": "#E5ECF6",
          "polar": {
           "angularaxis": {
            "gridcolor": "white",
            "linecolor": "white",
            "ticks": ""
           },
           "bgcolor": "#E5ECF6",
           "radialaxis": {
            "gridcolor": "white",
            "linecolor": "white",
            "ticks": ""
           }
          },
          "scene": {
           "xaxis": {
            "backgroundcolor": "#E5ECF6",
            "gridcolor": "white",
            "gridwidth": 2,
            "linecolor": "white",
            "showbackground": true,
            "ticks": "",
            "zerolinecolor": "white"
           },
           "yaxis": {
            "backgroundcolor": "#E5ECF6",
            "gridcolor": "white",
            "gridwidth": 2,
            "linecolor": "white",
            "showbackground": true,
            "ticks": "",
            "zerolinecolor": "white"
           },
           "zaxis": {
            "backgroundcolor": "#E5ECF6",
            "gridcolor": "white",
            "gridwidth": 2,
            "linecolor": "white",
            "showbackground": true,
            "ticks": "",
            "zerolinecolor": "white"
           }
          },
          "shapedefaults": {
           "line": {
            "color": "#2a3f5f"
           }
          },
          "ternary": {
           "aaxis": {
            "gridcolor": "white",
            "linecolor": "white",
            "ticks": ""
           },
           "baxis": {
            "gridcolor": "white",
            "linecolor": "white",
            "ticks": ""
           },
           "bgcolor": "#E5ECF6",
           "caxis": {
            "gridcolor": "white",
            "linecolor": "white",
            "ticks": ""
           }
          },
          "title": {
           "x": 0.05
          },
          "xaxis": {
           "automargin": true,
           "gridcolor": "white",
           "linecolor": "white",
           "ticks": "",
           "title": {
            "standoff": 15
           },
           "zerolinecolor": "white",
           "zerolinewidth": 2
          },
          "yaxis": {
           "automargin": true,
           "gridcolor": "white",
           "linecolor": "white",
           "ticks": "",
           "title": {
            "standoff": 15
           },
           "zerolinecolor": "white",
           "zerolinewidth": 2
          }
         }
        },
        "title": {
         "text": "Grade Distribution of Top 30 Routes by Number of Ticks",
         "x": 0.5
        },
        "width": 1200,
        "xaxis": {
         "anchor": "y",
         "categoryarray": [
          "5.7",
          "5.8",
          "5.8+",
          "5.9",
          "5.9+",
          "5.10-",
          "5.10",
          "5.10+",
          "5.11-",
          "5.11",
          "5.11+"
         ],
         "categoryorder": "array",
         "domain": [
          0,
          1
         ],
         "title": {
          "text": "Grade"
         },
         "type": "category"
        },
        "yaxis": {
         "anchor": "x",
         "domain": [
          0,
          1
         ],
         "title": {
          "text": "count"
         }
        }
       }
      }
     },
     "metadata": {},
     "output_type": "display_data"
    }
   ],
   "source": [
    "list=['5.10',\n",
    "'5.10',\n",
    "'5.9+',\n",
    "'5.10-',\n",
    "'5.10-',\n",
    "'5.8+',\n",
    "'5.11-',\n",
    "'5.8+',\n",
    "'5.10',\n",
    "'5.10-',\n",
    "'5.10',\n",
    "'5.10+',\n",
    "'5.11+',\n",
    "'5.7',\n",
    "'5.10',\n",
    "'5.9',\n",
    "'5.10',\n",
    "'5.12-',\n",
    "'5.11-',\n",
    "'5.10',\n",
    "'5.10',\n",
    "'5.11+',\n",
    "'5.9',\n",
    "'5.10-',\n",
    "'5.11',\n",
    "'5.10',\n",
    "'5.9',\n",
    "'5.9+',\n",
    "'5.10']\n",
    "\n",
    "fig = px.histogram(list, title='Grade Distribution of Top 30 Routes by Number of Ticks', width=1200)\n",
    "fig.update_xaxes(type='category', categoryorder='array', categoryarray=['5.7', '5.8', '5.8+', '5.9', '5.9+', '5.10-', '5.10', '5.10+', '5.11-', '5.11', '5.11+'], title='Grade')\n",
    "fig.update_layout(title_x=0.5, showlegend=False)"
   ]
  },
  {
   "cell_type": "code",
   "execution_count": 16,
   "metadata": {},
   "outputs": [
    {
     "data": {
      "application/vnd.plotly.v1+json": {
       "config": {
        "plotlyServerURL": "https://plot.ly"
       },
       "data": [
        {
         "alignmentgroup": "True",
         "hovertemplate": "Location=%{x}<br>Num Ticks=%{y}<extra></extra>",
         "legendgroup": "",
         "marker": {
          "color": "#636efa",
          "pattern": {
           "shape": ""
          }
         },
         "name": "",
         "offsetgroup": "",
         "orientation": "v",
         "showlegend": false,
         "textposition": "auto",
         "texttemplate": "%{y}",
         "type": "bar",
         "x": [
          "Supercrack Buttress ",
          "Donnelly Canyon ",
          "Scarface ",
          "Battle of the Bulge Buttress ",
          "Way Rambo ",
          "Cat Wall ",
          "The Optimator ",
          "Pistol Whipped ",
          "Reservoir Wall ",
          "Sparks Wall ",
          "2nd Meat Wall ",
          "Selfish Wall ",
          "4X4 ",
          "Cliffs of Insanity ",
          "The Wall ",
          "Blue Gramma Cliff ",
          "Broken Tooth ",
          "Fin Wall ",
          "Sinbad Wall aka Nuclear Wall ",
          "Technicolor Wall ",
          "Habitado ",
          "Critic's Choice ",
          "South Sixshooter ",
          "Original Meat Wall ",
          "Power Wall ",
          "The Beach ",
          "Trick or Treat Wall ",
          "Petrified Hornet Wall ",
          "Public Service Wall ",
          "Sabbatical Wall "
         ],
         "xaxis": "x",
         "y": [
          16310,
          11861,
          10371,
          9440,
          8787,
          7179,
          6489,
          5497,
          5128,
          4187,
          4180,
          3611,
          2944,
          2718,
          2698,
          2562,
          2265,
          2182,
          2118,
          1637,
          1570,
          1554,
          1488,
          1476,
          1076,
          978,
          803,
          768,
          683,
          674
         ],
         "yaxis": "y"
        }
       ],
       "layout": {
        "barmode": "relative",
        "legend": {
         "tracegroupgap": 0
        },
        "template": {
         "data": {
          "bar": [
           {
            "error_x": {
             "color": "#2a3f5f"
            },
            "error_y": {
             "color": "#2a3f5f"
            },
            "marker": {
             "line": {
              "color": "#E5ECF6",
              "width": 0.5
             },
             "pattern": {
              "fillmode": "overlay",
              "size": 10,
              "solidity": 0.2
             }
            },
            "type": "bar"
           }
          ],
          "barpolar": [
           {
            "marker": {
             "line": {
              "color": "#E5ECF6",
              "width": 0.5
             },
             "pattern": {
              "fillmode": "overlay",
              "size": 10,
              "solidity": 0.2
             }
            },
            "type": "barpolar"
           }
          ],
          "carpet": [
           {
            "aaxis": {
             "endlinecolor": "#2a3f5f",
             "gridcolor": "white",
             "linecolor": "white",
             "minorgridcolor": "white",
             "startlinecolor": "#2a3f5f"
            },
            "baxis": {
             "endlinecolor": "#2a3f5f",
             "gridcolor": "white",
             "linecolor": "white",
             "minorgridcolor": "white",
             "startlinecolor": "#2a3f5f"
            },
            "type": "carpet"
           }
          ],
          "choropleth": [
           {
            "colorbar": {
             "outlinewidth": 0,
             "ticks": ""
            },
            "type": "choropleth"
           }
          ],
          "contour": [
           {
            "colorbar": {
             "outlinewidth": 0,
             "ticks": ""
            },
            "colorscale": [
             [
              0,
              "#0d0887"
             ],
             [
              0.1111111111111111,
              "#46039f"
             ],
             [
              0.2222222222222222,
              "#7201a8"
             ],
             [
              0.3333333333333333,
              "#9c179e"
             ],
             [
              0.4444444444444444,
              "#bd3786"
             ],
             [
              0.5555555555555556,
              "#d8576b"
             ],
             [
              0.6666666666666666,
              "#ed7953"
             ],
             [
              0.7777777777777778,
              "#fb9f3a"
             ],
             [
              0.8888888888888888,
              "#fdca26"
             ],
             [
              1,
              "#f0f921"
             ]
            ],
            "type": "contour"
           }
          ],
          "contourcarpet": [
           {
            "colorbar": {
             "outlinewidth": 0,
             "ticks": ""
            },
            "type": "contourcarpet"
           }
          ],
          "heatmap": [
           {
            "colorbar": {
             "outlinewidth": 0,
             "ticks": ""
            },
            "colorscale": [
             [
              0,
              "#0d0887"
             ],
             [
              0.1111111111111111,
              "#46039f"
             ],
             [
              0.2222222222222222,
              "#7201a8"
             ],
             [
              0.3333333333333333,
              "#9c179e"
             ],
             [
              0.4444444444444444,
              "#bd3786"
             ],
             [
              0.5555555555555556,
              "#d8576b"
             ],
             [
              0.6666666666666666,
              "#ed7953"
             ],
             [
              0.7777777777777778,
              "#fb9f3a"
             ],
             [
              0.8888888888888888,
              "#fdca26"
             ],
             [
              1,
              "#f0f921"
             ]
            ],
            "type": "heatmap"
           }
          ],
          "heatmapgl": [
           {
            "colorbar": {
             "outlinewidth": 0,
             "ticks": ""
            },
            "colorscale": [
             [
              0,
              "#0d0887"
             ],
             [
              0.1111111111111111,
              "#46039f"
             ],
             [
              0.2222222222222222,
              "#7201a8"
             ],
             [
              0.3333333333333333,
              "#9c179e"
             ],
             [
              0.4444444444444444,
              "#bd3786"
             ],
             [
              0.5555555555555556,
              "#d8576b"
             ],
             [
              0.6666666666666666,
              "#ed7953"
             ],
             [
              0.7777777777777778,
              "#fb9f3a"
             ],
             [
              0.8888888888888888,
              "#fdca26"
             ],
             [
              1,
              "#f0f921"
             ]
            ],
            "type": "heatmapgl"
           }
          ],
          "histogram": [
           {
            "marker": {
             "pattern": {
              "fillmode": "overlay",
              "size": 10,
              "solidity": 0.2
             }
            },
            "type": "histogram"
           }
          ],
          "histogram2d": [
           {
            "colorbar": {
             "outlinewidth": 0,
             "ticks": ""
            },
            "colorscale": [
             [
              0,
              "#0d0887"
             ],
             [
              0.1111111111111111,
              "#46039f"
             ],
             [
              0.2222222222222222,
              "#7201a8"
             ],
             [
              0.3333333333333333,
              "#9c179e"
             ],
             [
              0.4444444444444444,
              "#bd3786"
             ],
             [
              0.5555555555555556,
              "#d8576b"
             ],
             [
              0.6666666666666666,
              "#ed7953"
             ],
             [
              0.7777777777777778,
              "#fb9f3a"
             ],
             [
              0.8888888888888888,
              "#fdca26"
             ],
             [
              1,
              "#f0f921"
             ]
            ],
            "type": "histogram2d"
           }
          ],
          "histogram2dcontour": [
           {
            "colorbar": {
             "outlinewidth": 0,
             "ticks": ""
            },
            "colorscale": [
             [
              0,
              "#0d0887"
             ],
             [
              0.1111111111111111,
              "#46039f"
             ],
             [
              0.2222222222222222,
              "#7201a8"
             ],
             [
              0.3333333333333333,
              "#9c179e"
             ],
             [
              0.4444444444444444,
              "#bd3786"
             ],
             [
              0.5555555555555556,
              "#d8576b"
             ],
             [
              0.6666666666666666,
              "#ed7953"
             ],
             [
              0.7777777777777778,
              "#fb9f3a"
             ],
             [
              0.8888888888888888,
              "#fdca26"
             ],
             [
              1,
              "#f0f921"
             ]
            ],
            "type": "histogram2dcontour"
           }
          ],
          "mesh3d": [
           {
            "colorbar": {
             "outlinewidth": 0,
             "ticks": ""
            },
            "type": "mesh3d"
           }
          ],
          "parcoords": [
           {
            "line": {
             "colorbar": {
              "outlinewidth": 0,
              "ticks": ""
             }
            },
            "type": "parcoords"
           }
          ],
          "pie": [
           {
            "automargin": true,
            "type": "pie"
           }
          ],
          "scatter": [
           {
            "marker": {
             "colorbar": {
              "outlinewidth": 0,
              "ticks": ""
             }
            },
            "type": "scatter"
           }
          ],
          "scatter3d": [
           {
            "line": {
             "colorbar": {
              "outlinewidth": 0,
              "ticks": ""
             }
            },
            "marker": {
             "colorbar": {
              "outlinewidth": 0,
              "ticks": ""
             }
            },
            "type": "scatter3d"
           }
          ],
          "scattercarpet": [
           {
            "marker": {
             "colorbar": {
              "outlinewidth": 0,
              "ticks": ""
             }
            },
            "type": "scattercarpet"
           }
          ],
          "scattergeo": [
           {
            "marker": {
             "colorbar": {
              "outlinewidth": 0,
              "ticks": ""
             }
            },
            "type": "scattergeo"
           }
          ],
          "scattergl": [
           {
            "marker": {
             "colorbar": {
              "outlinewidth": 0,
              "ticks": ""
             }
            },
            "type": "scattergl"
           }
          ],
          "scattermapbox": [
           {
            "marker": {
             "colorbar": {
              "outlinewidth": 0,
              "ticks": ""
             }
            },
            "type": "scattermapbox"
           }
          ],
          "scatterpolar": [
           {
            "marker": {
             "colorbar": {
              "outlinewidth": 0,
              "ticks": ""
             }
            },
            "type": "scatterpolar"
           }
          ],
          "scatterpolargl": [
           {
            "marker": {
             "colorbar": {
              "outlinewidth": 0,
              "ticks": ""
             }
            },
            "type": "scatterpolargl"
           }
          ],
          "scatterternary": [
           {
            "marker": {
             "colorbar": {
              "outlinewidth": 0,
              "ticks": ""
             }
            },
            "type": "scatterternary"
           }
          ],
          "surface": [
           {
            "colorbar": {
             "outlinewidth": 0,
             "ticks": ""
            },
            "colorscale": [
             [
              0,
              "#0d0887"
             ],
             [
              0.1111111111111111,
              "#46039f"
             ],
             [
              0.2222222222222222,
              "#7201a8"
             ],
             [
              0.3333333333333333,
              "#9c179e"
             ],
             [
              0.4444444444444444,
              "#bd3786"
             ],
             [
              0.5555555555555556,
              "#d8576b"
             ],
             [
              0.6666666666666666,
              "#ed7953"
             ],
             [
              0.7777777777777778,
              "#fb9f3a"
             ],
             [
              0.8888888888888888,
              "#fdca26"
             ],
             [
              1,
              "#f0f921"
             ]
            ],
            "type": "surface"
           }
          ],
          "table": [
           {
            "cells": {
             "fill": {
              "color": "#EBF0F8"
             },
             "line": {
              "color": "white"
             }
            },
            "header": {
             "fill": {
              "color": "#C8D4E3"
             },
             "line": {
              "color": "white"
             }
            },
            "type": "table"
           }
          ]
         },
         "layout": {
          "annotationdefaults": {
           "arrowcolor": "#2a3f5f",
           "arrowhead": 0,
           "arrowwidth": 1
          },
          "autotypenumbers": "strict",
          "coloraxis": {
           "colorbar": {
            "outlinewidth": 0,
            "ticks": ""
           }
          },
          "colorscale": {
           "diverging": [
            [
             0,
             "#8e0152"
            ],
            [
             0.1,
             "#c51b7d"
            ],
            [
             0.2,
             "#de77ae"
            ],
            [
             0.3,
             "#f1b6da"
            ],
            [
             0.4,
             "#fde0ef"
            ],
            [
             0.5,
             "#f7f7f7"
            ],
            [
             0.6,
             "#e6f5d0"
            ],
            [
             0.7,
             "#b8e186"
            ],
            [
             0.8,
             "#7fbc41"
            ],
            [
             0.9,
             "#4d9221"
            ],
            [
             1,
             "#276419"
            ]
           ],
           "sequential": [
            [
             0,
             "#0d0887"
            ],
            [
             0.1111111111111111,
             "#46039f"
            ],
            [
             0.2222222222222222,
             "#7201a8"
            ],
            [
             0.3333333333333333,
             "#9c179e"
            ],
            [
             0.4444444444444444,
             "#bd3786"
            ],
            [
             0.5555555555555556,
             "#d8576b"
            ],
            [
             0.6666666666666666,
             "#ed7953"
            ],
            [
             0.7777777777777778,
             "#fb9f3a"
            ],
            [
             0.8888888888888888,
             "#fdca26"
            ],
            [
             1,
             "#f0f921"
            ]
           ],
           "sequentialminus": [
            [
             0,
             "#0d0887"
            ],
            [
             0.1111111111111111,
             "#46039f"
            ],
            [
             0.2222222222222222,
             "#7201a8"
            ],
            [
             0.3333333333333333,
             "#9c179e"
            ],
            [
             0.4444444444444444,
             "#bd3786"
            ],
            [
             0.5555555555555556,
             "#d8576b"
            ],
            [
             0.6666666666666666,
             "#ed7953"
            ],
            [
             0.7777777777777778,
             "#fb9f3a"
            ],
            [
             0.8888888888888888,
             "#fdca26"
            ],
            [
             1,
             "#f0f921"
            ]
           ]
          },
          "colorway": [
           "#636efa",
           "#EF553B",
           "#00cc96",
           "#ab63fa",
           "#FFA15A",
           "#19d3f3",
           "#FF6692",
           "#B6E880",
           "#FF97FF",
           "#FECB52"
          ],
          "font": {
           "color": "#2a3f5f"
          },
          "geo": {
           "bgcolor": "white",
           "lakecolor": "white",
           "landcolor": "#E5ECF6",
           "showlakes": true,
           "showland": true,
           "subunitcolor": "white"
          },
          "hoverlabel": {
           "align": "left"
          },
          "hovermode": "closest",
          "mapbox": {
           "style": "light"
          },
          "paper_bgcolor": "white",
          "plot_bgcolor": "#E5ECF6",
          "polar": {
           "angularaxis": {
            "gridcolor": "white",
            "linecolor": "white",
            "ticks": ""
           },
           "bgcolor": "#E5ECF6",
           "radialaxis": {
            "gridcolor": "white",
            "linecolor": "white",
            "ticks": ""
           }
          },
          "scene": {
           "xaxis": {
            "backgroundcolor": "#E5ECF6",
            "gridcolor": "white",
            "gridwidth": 2,
            "linecolor": "white",
            "showbackground": true,
            "ticks": "",
            "zerolinecolor": "white"
           },
           "yaxis": {
            "backgroundcolor": "#E5ECF6",
            "gridcolor": "white",
            "gridwidth": 2,
            "linecolor": "white",
            "showbackground": true,
            "ticks": "",
            "zerolinecolor": "white"
           },
           "zaxis": {
            "backgroundcolor": "#E5ECF6",
            "gridcolor": "white",
            "gridwidth": 2,
            "linecolor": "white",
            "showbackground": true,
            "ticks": "",
            "zerolinecolor": "white"
           }
          },
          "shapedefaults": {
           "line": {
            "color": "#2a3f5f"
           }
          },
          "ternary": {
           "aaxis": {
            "gridcolor": "white",
            "linecolor": "white",
            "ticks": ""
           },
           "baxis": {
            "gridcolor": "white",
            "linecolor": "white",
            "ticks": ""
           },
           "bgcolor": "#E5ECF6",
           "caxis": {
            "gridcolor": "white",
            "linecolor": "white",
            "ticks": ""
           }
          },
          "title": {
           "x": 0.05
          },
          "xaxis": {
           "automargin": true,
           "gridcolor": "white",
           "linecolor": "white",
           "ticks": "",
           "title": {
            "standoff": 15
           },
           "zerolinecolor": "white",
           "zerolinewidth": 2
          },
          "yaxis": {
           "automargin": true,
           "gridcolor": "white",
           "linecolor": "white",
           "ticks": "",
           "title": {
            "standoff": 15
           },
           "zerolinecolor": "white",
           "zerolinewidth": 2
          }
         }
        },
        "title": {
         "text": "Top 30 Crags Tick Sums",
         "x": 0.5
        },
        "width": 1200,
        "xaxis": {
         "anchor": "y",
         "domain": [
          0,
          1
         ],
         "title": {
          "text": "Crag Name"
         }
        },
        "yaxis": {
         "anchor": "x",
         "domain": [
          0,
          1
         ],
         "title": {
          "text": "Sum Number of Ticks"
         }
        }
       }
      }
     },
     "metadata": {},
     "output_type": "display_data"
    }
   ],
   "source": [
    "# Sum ticks by area\n",
    "df_loc_traf = df.groupby('Location')['Num Ticks'].sum().sort_values(ascending=False).to_frame().reset_index()\n",
    "df_loc_traf['Location'] = df_loc_traf['Location'].apply(lambda x: x.split('>')[0])\n",
    "fig = px.bar(df_loc_traf.iloc[0:30], x='Location', y='Num Ticks', title=\"Top 30 Crags Tick Sums\", text_auto=True, width=1200)\n",
    "fig.update_xaxes(title='Crag Name')\n",
    "fig.update_yaxes(title='Sum Number of Ticks')\n",
    "fig.update_layout(title_x=0.5)"
   ]
  },
  {
   "cell_type": "code",
   "execution_count": 7,
   "metadata": {},
   "outputs": [
    {
     "data": {
      "application/vnd.plotly.v1+json": {
       "config": {
        "plotlyServerURL": "https://plot.ly"
       },
       "data": [
        {
         "alignmentgroup": "True",
         "bingroup": "x",
         "hovertemplate": "variable=Lead Ratio<br>value=%{x}<br>count=%{y}<extra></extra>",
         "legendgroup": "Lead Ratio",
         "marker": {
          "color": "#636efa",
          "pattern": {
           "shape": ""
          }
         },
         "name": "Lead Ratio",
         "offsetgroup": "Lead Ratio",
         "orientation": "v",
         "showlegend": true,
         "type": "histogram",
         "x": [
          0.5657894736842105,
          0.6516464471403813,
          0.5154639175257731,
          0.6567901234567901,
          0.6270736562707365,
          0.6018518518518519,
          0.5588235294117647,
          0.6447761194029851,
          0.5335365853658537,
          0.40186915887850466,
          0.5238095238095238,
          0.6235294117647059,
          0.4803921568627451,
          0.5,
          0.6501901140684411,
          0.6474654377880185,
          0.6152671755725191,
          0.6379310344827587,
          0.5871886120996441,
          0.6321112515802781,
          0.7041420118343196,
          0.5681818181818182,
          0.6205882352941177,
          0.8011049723756906,
          0.875,
          0.7983193277310925,
          0.6822429906542056,
          0.6363636363636364,
          0.71,
          0.7342657342657343,
          0.6644295302013423,
          0.6335403726708074,
          0.6284153005464481,
          0.578125,
          0.6460674157303371,
          0.6261682242990654,
          0.4936708860759494,
          0.5343511450381679,
          0.5083333333333333,
          0.3561643835616438,
          0.4805194805194805,
          0.8264705882352941,
          0.7022653721682848,
          0.5654450261780105,
          0.5827586206896552,
          0.6693548387096774,
          0.5797101449275363,
          0.6450471698113207,
          0.3684210526315789,
          0.581081081081081,
          0.5907928388746803,
          0.6063829787234043,
          0.6031746031746031,
          0.4592274678111588,
          0.6,
          0.5934579439252337,
          0.48484848484848486,
          0.5230769230769231,
          0.6722488038277512,
          0.4553191489361702,
          0.6666666666666666,
          0.703672075149445,
          0.6653061224489796,
          0.6735294117647059,
          0.5353535353535354,
          0.6360444704505559,
          0.6526315789473685,
          0.5817610062893082,
          0.5938566552901023,
          0.5771812080536913,
          0.5647058823529412,
          0.6098654708520179,
          0.46944444444444444,
          0.5197368421052632,
          0.5679442508710801,
          0.6453488372093024,
          0.6133333333333333,
          0.5585585585585585,
          0.7055016181229773,
          0.5738396624472574,
          0.659217877094972,
          0.6521739130434783,
          0.5157894736842106,
          0.4722222222222222,
          0.5526315789473685,
          0.42962962962962964,
          0.47297297297297297,
          0.5397350993377483,
          0.5963855421686747,
          0.627906976744186,
          0.6626506024096386,
          0.625,
          0.6276595744680851,
          0.5,
          0.5764705882352941,
          0.5058823529411764,
          0.5303867403314917,
          0.5706521739130435,
          0.54,
          0.6015625,
          0.5833333333333334,
          0.4647887323943662,
          0.6267281105990783,
          0.7481481481481481,
          0.5868263473053892,
          0.5531914893617021,
          0.46017699115044247,
          0.6655844155844156,
          0.6549865229110512,
          0.6218181818181818,
          0.5309278350515464,
          0.5204081632653061,
          0.47580645161290325,
          0.5720524017467249,
          0.47752808988764045,
          0.6875,
          0.5894736842105263,
          0.6120689655172413,
          0.6203703703703703,
          0.6556291390728477,
          0.5879396984924623,
          0.2679738562091503,
          0.5691318327974276,
          0.6262626262626263,
          0.6272189349112426,
          0.6097560975609756,
          0.7066666666666667,
          0.45454545454545453,
          0.5566037735849056,
          0.5185185185185185,
          0.5522388059701493,
          0.5035460992907801,
          0.5853658536585366,
          0.5681818181818182,
          0.6127167630057804,
          0.4835164835164835,
          0.532258064516129,
          0.5764705882352941,
          0.5149253731343284,
          0.5128205128205128,
          0.5279503105590062,
          0.4117647058823529,
          0.5633802816901409,
          0.46296296296296297,
          0.6894977168949772,
          0.5901639344262295,
          0.5103448275862069,
          0.6406015037593985,
          0.5634743875278396,
          0.7053072625698324,
          0.5930232558139535,
          0.5266666666666666,
          0.5694444444444444,
          0.448,
          0.6587301587301587,
          0.6535947712418301,
          0.5625,
          0.4418604651162791,
          0.7214285714285714,
          0.6459627329192547,
          0.6139240506329114,
          0.673469387755102,
          0.6146788990825688,
          0.5538461538461539,
          0.6483516483516484,
          0.68,
          0.6368421052631579,
          0.584,
          0.5567010309278351,
          0.6,
          0.6007604562737643,
          0.5897435897435898,
          0.6795580110497238,
          0.4691358024691358,
          0.5195530726256983,
          0.6164772727272727,
          0.27058823529411763,
          0.4019607843137255,
          0.6371308016877637,
          0.7263681592039801,
          0.5869565217391305,
          0.5686274509803921,
          0.678082191780822,
          0.54,
          0.6233183856502242,
          0.5838926174496645,
          0.49333333333333335,
          0.64,
          0.7946428571428571,
          0.47435897435897434,
          0.35374149659863946,
          0.7171052631578947,
          0.5625,
          0.6066350710900474,
          0.4553191489361702,
          0.5753424657534246,
          0.47619047619047616,
          0.4117647058823529,
          0.5274725274725275,
          0.6055045871559633,
          0.5454545454545454,
          0.5454545454545454,
          0.6621160409556314,
          0.5688073394495413,
          0.5045045045045045,
          0.65625,
          0.5094339622641509,
          0.5581395348837209,
          0.5163398692810458,
          0.5311004784688995,
          0.5957446808510638,
          0.7,
          0.8105263157894737,
          0.7083333333333334,
          0.6346153846153846,
          0.6654804270462633,
          0.6575342465753424,
          0.3389830508474576,
          0.6542056074766355,
          0.5897435897435898,
          0.66875,
          0.06802721088435375,
          0.55,
          0.5213675213675214,
          0.5681818181818182,
          0.5138121546961326,
          0.5033112582781457,
          0.4397590361445783,
          0.2894736842105263,
          0.609271523178808,
          0.5306122448979592,
          0.4661016949152542,
          0.4939759036144578,
          0.8163265306122449,
          0.6451612903225806,
          0.575,
          0.4222222222222222,
          0.5514018691588785,
          0.582089552238806,
          0.527027027027027,
          0.42134831460674155,
          0.5076923076923077,
          0.6666666666666666,
          0.510548523206751,
          0.5813953488372093,
          0.39,
          0.06481481481481481,
          0.39086294416243655,
          0.4912959381044487,
          0.5781990521327014,
          0.5625,
          0.56640625,
          0.5394736842105263,
          0.5454545454545454,
          0.48736462093862815,
          0.524390243902439,
          0.5164835164835165,
          0.6424870466321243,
          0.582010582010582,
          0.5605381165919282,
          0.535,
          0.5121951219512195,
          0.5268817204301075,
          0.6079545454545454,
          0.5627802690582959,
          0.4583333333333333,
          0.6972477064220184,
          0.580110497237569,
          0.4461538461538462,
          0.704225352112676,
          0.17391304347826086,
          0.6357142857142857,
          0.6538461538461539,
          0.5460526315789473,
          0.631578947368421,
          0.40425531914893614,
          0.5642458100558659,
          0.5252854812398042,
          0.48743718592964824,
          0.4578313253012048,
          0.5422535211267606,
          0.5045454545454545,
          0.4791666666666667,
          0.6598984771573604,
          0.6354992076069731,
          0.6271186440677966,
          0.647887323943662,
          0.5568181818181818,
          0.6195652173913043,
          0.4819277108433735
         ],
         "xaxis": "x",
         "yaxis": "y"
        },
        {
         "alignmentgroup": "True",
         "hovertemplate": "variable=Lead Ratio<br>value=%{x}<extra></extra>",
         "legendgroup": "Lead Ratio",
         "marker": {
          "color": "#636efa"
         },
         "name": "Lead Ratio",
         "notched": true,
         "offsetgroup": "Lead Ratio",
         "showlegend": false,
         "type": "box",
         "x": [
          0.5657894736842105,
          0.6516464471403813,
          0.5154639175257731,
          0.6567901234567901,
          0.6270736562707365,
          0.6018518518518519,
          0.5588235294117647,
          0.6447761194029851,
          0.5335365853658537,
          0.40186915887850466,
          0.5238095238095238,
          0.6235294117647059,
          0.4803921568627451,
          0.5,
          0.6501901140684411,
          0.6474654377880185,
          0.6152671755725191,
          0.6379310344827587,
          0.5871886120996441,
          0.6321112515802781,
          0.7041420118343196,
          0.5681818181818182,
          0.6205882352941177,
          0.8011049723756906,
          0.875,
          0.7983193277310925,
          0.6822429906542056,
          0.6363636363636364,
          0.71,
          0.7342657342657343,
          0.6644295302013423,
          0.6335403726708074,
          0.6284153005464481,
          0.578125,
          0.6460674157303371,
          0.6261682242990654,
          0.4936708860759494,
          0.5343511450381679,
          0.5083333333333333,
          0.3561643835616438,
          0.4805194805194805,
          0.8264705882352941,
          0.7022653721682848,
          0.5654450261780105,
          0.5827586206896552,
          0.6693548387096774,
          0.5797101449275363,
          0.6450471698113207,
          0.3684210526315789,
          0.581081081081081,
          0.5907928388746803,
          0.6063829787234043,
          0.6031746031746031,
          0.4592274678111588,
          0.6,
          0.5934579439252337,
          0.48484848484848486,
          0.5230769230769231,
          0.6722488038277512,
          0.4553191489361702,
          0.6666666666666666,
          0.703672075149445,
          0.6653061224489796,
          0.6735294117647059,
          0.5353535353535354,
          0.6360444704505559,
          0.6526315789473685,
          0.5817610062893082,
          0.5938566552901023,
          0.5771812080536913,
          0.5647058823529412,
          0.6098654708520179,
          0.46944444444444444,
          0.5197368421052632,
          0.5679442508710801,
          0.6453488372093024,
          0.6133333333333333,
          0.5585585585585585,
          0.7055016181229773,
          0.5738396624472574,
          0.659217877094972,
          0.6521739130434783,
          0.5157894736842106,
          0.4722222222222222,
          0.5526315789473685,
          0.42962962962962964,
          0.47297297297297297,
          0.5397350993377483,
          0.5963855421686747,
          0.627906976744186,
          0.6626506024096386,
          0.625,
          0.6276595744680851,
          0.5,
          0.5764705882352941,
          0.5058823529411764,
          0.5303867403314917,
          0.5706521739130435,
          0.54,
          0.6015625,
          0.5833333333333334,
          0.4647887323943662,
          0.6267281105990783,
          0.7481481481481481,
          0.5868263473053892,
          0.5531914893617021,
          0.46017699115044247,
          0.6655844155844156,
          0.6549865229110512,
          0.6218181818181818,
          0.5309278350515464,
          0.5204081632653061,
          0.47580645161290325,
          0.5720524017467249,
          0.47752808988764045,
          0.6875,
          0.5894736842105263,
          0.6120689655172413,
          0.6203703703703703,
          0.6556291390728477,
          0.5879396984924623,
          0.2679738562091503,
          0.5691318327974276,
          0.6262626262626263,
          0.6272189349112426,
          0.6097560975609756,
          0.7066666666666667,
          0.45454545454545453,
          0.5566037735849056,
          0.5185185185185185,
          0.5522388059701493,
          0.5035460992907801,
          0.5853658536585366,
          0.5681818181818182,
          0.6127167630057804,
          0.4835164835164835,
          0.532258064516129,
          0.5764705882352941,
          0.5149253731343284,
          0.5128205128205128,
          0.5279503105590062,
          0.4117647058823529,
          0.5633802816901409,
          0.46296296296296297,
          0.6894977168949772,
          0.5901639344262295,
          0.5103448275862069,
          0.6406015037593985,
          0.5634743875278396,
          0.7053072625698324,
          0.5930232558139535,
          0.5266666666666666,
          0.5694444444444444,
          0.448,
          0.6587301587301587,
          0.6535947712418301,
          0.5625,
          0.4418604651162791,
          0.7214285714285714,
          0.6459627329192547,
          0.6139240506329114,
          0.673469387755102,
          0.6146788990825688,
          0.5538461538461539,
          0.6483516483516484,
          0.68,
          0.6368421052631579,
          0.584,
          0.5567010309278351,
          0.6,
          0.6007604562737643,
          0.5897435897435898,
          0.6795580110497238,
          0.4691358024691358,
          0.5195530726256983,
          0.6164772727272727,
          0.27058823529411763,
          0.4019607843137255,
          0.6371308016877637,
          0.7263681592039801,
          0.5869565217391305,
          0.5686274509803921,
          0.678082191780822,
          0.54,
          0.6233183856502242,
          0.5838926174496645,
          0.49333333333333335,
          0.64,
          0.7946428571428571,
          0.47435897435897434,
          0.35374149659863946,
          0.7171052631578947,
          0.5625,
          0.6066350710900474,
          0.4553191489361702,
          0.5753424657534246,
          0.47619047619047616,
          0.4117647058823529,
          0.5274725274725275,
          0.6055045871559633,
          0.5454545454545454,
          0.5454545454545454,
          0.6621160409556314,
          0.5688073394495413,
          0.5045045045045045,
          0.65625,
          0.5094339622641509,
          0.5581395348837209,
          0.5163398692810458,
          0.5311004784688995,
          0.5957446808510638,
          0.7,
          0.8105263157894737,
          0.7083333333333334,
          0.6346153846153846,
          0.6654804270462633,
          0.6575342465753424,
          0.3389830508474576,
          0.6542056074766355,
          0.5897435897435898,
          0.66875,
          0.06802721088435375,
          0.55,
          0.5213675213675214,
          0.5681818181818182,
          0.5138121546961326,
          0.5033112582781457,
          0.4397590361445783,
          0.2894736842105263,
          0.609271523178808,
          0.5306122448979592,
          0.4661016949152542,
          0.4939759036144578,
          0.8163265306122449,
          0.6451612903225806,
          0.575,
          0.4222222222222222,
          0.5514018691588785,
          0.582089552238806,
          0.527027027027027,
          0.42134831460674155,
          0.5076923076923077,
          0.6666666666666666,
          0.510548523206751,
          0.5813953488372093,
          0.39,
          0.06481481481481481,
          0.39086294416243655,
          0.4912959381044487,
          0.5781990521327014,
          0.5625,
          0.56640625,
          0.5394736842105263,
          0.5454545454545454,
          0.48736462093862815,
          0.524390243902439,
          0.5164835164835165,
          0.6424870466321243,
          0.582010582010582,
          0.5605381165919282,
          0.535,
          0.5121951219512195,
          0.5268817204301075,
          0.6079545454545454,
          0.5627802690582959,
          0.4583333333333333,
          0.6972477064220184,
          0.580110497237569,
          0.4461538461538462,
          0.704225352112676,
          0.17391304347826086,
          0.6357142857142857,
          0.6538461538461539,
          0.5460526315789473,
          0.631578947368421,
          0.40425531914893614,
          0.5642458100558659,
          0.5252854812398042,
          0.48743718592964824,
          0.4578313253012048,
          0.5422535211267606,
          0.5045454545454545,
          0.4791666666666667,
          0.6598984771573604,
          0.6354992076069731,
          0.6271186440677966,
          0.647887323943662,
          0.5568181818181818,
          0.6195652173913043,
          0.4819277108433735
         ],
         "xaxis": "x2",
         "yaxis": "y2"
        }
       ],
       "layout": {
        "barmode": "relative",
        "legend": {
         "title": {
          "text": "variable"
         },
         "tracegroupgap": 0
        },
        "showlegend": false,
        "template": {
         "data": {
          "bar": [
           {
            "error_x": {
             "color": "#2a3f5f"
            },
            "error_y": {
             "color": "#2a3f5f"
            },
            "marker": {
             "line": {
              "color": "#E5ECF6",
              "width": 0.5
             },
             "pattern": {
              "fillmode": "overlay",
              "size": 10,
              "solidity": 0.2
             }
            },
            "type": "bar"
           }
          ],
          "barpolar": [
           {
            "marker": {
             "line": {
              "color": "#E5ECF6",
              "width": 0.5
             },
             "pattern": {
              "fillmode": "overlay",
              "size": 10,
              "solidity": 0.2
             }
            },
            "type": "barpolar"
           }
          ],
          "carpet": [
           {
            "aaxis": {
             "endlinecolor": "#2a3f5f",
             "gridcolor": "white",
             "linecolor": "white",
             "minorgridcolor": "white",
             "startlinecolor": "#2a3f5f"
            },
            "baxis": {
             "endlinecolor": "#2a3f5f",
             "gridcolor": "white",
             "linecolor": "white",
             "minorgridcolor": "white",
             "startlinecolor": "#2a3f5f"
            },
            "type": "carpet"
           }
          ],
          "choropleth": [
           {
            "colorbar": {
             "outlinewidth": 0,
             "ticks": ""
            },
            "type": "choropleth"
           }
          ],
          "contour": [
           {
            "colorbar": {
             "outlinewidth": 0,
             "ticks": ""
            },
            "colorscale": [
             [
              0,
              "#0d0887"
             ],
             [
              0.1111111111111111,
              "#46039f"
             ],
             [
              0.2222222222222222,
              "#7201a8"
             ],
             [
              0.3333333333333333,
              "#9c179e"
             ],
             [
              0.4444444444444444,
              "#bd3786"
             ],
             [
              0.5555555555555556,
              "#d8576b"
             ],
             [
              0.6666666666666666,
              "#ed7953"
             ],
             [
              0.7777777777777778,
              "#fb9f3a"
             ],
             [
              0.8888888888888888,
              "#fdca26"
             ],
             [
              1,
              "#f0f921"
             ]
            ],
            "type": "contour"
           }
          ],
          "contourcarpet": [
           {
            "colorbar": {
             "outlinewidth": 0,
             "ticks": ""
            },
            "type": "contourcarpet"
           }
          ],
          "heatmap": [
           {
            "colorbar": {
             "outlinewidth": 0,
             "ticks": ""
            },
            "colorscale": [
             [
              0,
              "#0d0887"
             ],
             [
              0.1111111111111111,
              "#46039f"
             ],
             [
              0.2222222222222222,
              "#7201a8"
             ],
             [
              0.3333333333333333,
              "#9c179e"
             ],
             [
              0.4444444444444444,
              "#bd3786"
             ],
             [
              0.5555555555555556,
              "#d8576b"
             ],
             [
              0.6666666666666666,
              "#ed7953"
             ],
             [
              0.7777777777777778,
              "#fb9f3a"
             ],
             [
              0.8888888888888888,
              "#fdca26"
             ],
             [
              1,
              "#f0f921"
             ]
            ],
            "type": "heatmap"
           }
          ],
          "heatmapgl": [
           {
            "colorbar": {
             "outlinewidth": 0,
             "ticks": ""
            },
            "colorscale": [
             [
              0,
              "#0d0887"
             ],
             [
              0.1111111111111111,
              "#46039f"
             ],
             [
              0.2222222222222222,
              "#7201a8"
             ],
             [
              0.3333333333333333,
              "#9c179e"
             ],
             [
              0.4444444444444444,
              "#bd3786"
             ],
             [
              0.5555555555555556,
              "#d8576b"
             ],
             [
              0.6666666666666666,
              "#ed7953"
             ],
             [
              0.7777777777777778,
              "#fb9f3a"
             ],
             [
              0.8888888888888888,
              "#fdca26"
             ],
             [
              1,
              "#f0f921"
             ]
            ],
            "type": "heatmapgl"
           }
          ],
          "histogram": [
           {
            "marker": {
             "pattern": {
              "fillmode": "overlay",
              "size": 10,
              "solidity": 0.2
             }
            },
            "type": "histogram"
           }
          ],
          "histogram2d": [
           {
            "colorbar": {
             "outlinewidth": 0,
             "ticks": ""
            },
            "colorscale": [
             [
              0,
              "#0d0887"
             ],
             [
              0.1111111111111111,
              "#46039f"
             ],
             [
              0.2222222222222222,
              "#7201a8"
             ],
             [
              0.3333333333333333,
              "#9c179e"
             ],
             [
              0.4444444444444444,
              "#bd3786"
             ],
             [
              0.5555555555555556,
              "#d8576b"
             ],
             [
              0.6666666666666666,
              "#ed7953"
             ],
             [
              0.7777777777777778,
              "#fb9f3a"
             ],
             [
              0.8888888888888888,
              "#fdca26"
             ],
             [
              1,
              "#f0f921"
             ]
            ],
            "type": "histogram2d"
           }
          ],
          "histogram2dcontour": [
           {
            "colorbar": {
             "outlinewidth": 0,
             "ticks": ""
            },
            "colorscale": [
             [
              0,
              "#0d0887"
             ],
             [
              0.1111111111111111,
              "#46039f"
             ],
             [
              0.2222222222222222,
              "#7201a8"
             ],
             [
              0.3333333333333333,
              "#9c179e"
             ],
             [
              0.4444444444444444,
              "#bd3786"
             ],
             [
              0.5555555555555556,
              "#d8576b"
             ],
             [
              0.6666666666666666,
              "#ed7953"
             ],
             [
              0.7777777777777778,
              "#fb9f3a"
             ],
             [
              0.8888888888888888,
              "#fdca26"
             ],
             [
              1,
              "#f0f921"
             ]
            ],
            "type": "histogram2dcontour"
           }
          ],
          "mesh3d": [
           {
            "colorbar": {
             "outlinewidth": 0,
             "ticks": ""
            },
            "type": "mesh3d"
           }
          ],
          "parcoords": [
           {
            "line": {
             "colorbar": {
              "outlinewidth": 0,
              "ticks": ""
             }
            },
            "type": "parcoords"
           }
          ],
          "pie": [
           {
            "automargin": true,
            "type": "pie"
           }
          ],
          "scatter": [
           {
            "marker": {
             "colorbar": {
              "outlinewidth": 0,
              "ticks": ""
             }
            },
            "type": "scatter"
           }
          ],
          "scatter3d": [
           {
            "line": {
             "colorbar": {
              "outlinewidth": 0,
              "ticks": ""
             }
            },
            "marker": {
             "colorbar": {
              "outlinewidth": 0,
              "ticks": ""
             }
            },
            "type": "scatter3d"
           }
          ],
          "scattercarpet": [
           {
            "marker": {
             "colorbar": {
              "outlinewidth": 0,
              "ticks": ""
             }
            },
            "type": "scattercarpet"
           }
          ],
          "scattergeo": [
           {
            "marker": {
             "colorbar": {
              "outlinewidth": 0,
              "ticks": ""
             }
            },
            "type": "scattergeo"
           }
          ],
          "scattergl": [
           {
            "marker": {
             "colorbar": {
              "outlinewidth": 0,
              "ticks": ""
             }
            },
            "type": "scattergl"
           }
          ],
          "scattermapbox": [
           {
            "marker": {
             "colorbar": {
              "outlinewidth": 0,
              "ticks": ""
             }
            },
            "type": "scattermapbox"
           }
          ],
          "scatterpolar": [
           {
            "marker": {
             "colorbar": {
              "outlinewidth": 0,
              "ticks": ""
             }
            },
            "type": "scatterpolar"
           }
          ],
          "scatterpolargl": [
           {
            "marker": {
             "colorbar": {
              "outlinewidth": 0,
              "ticks": ""
             }
            },
            "type": "scatterpolargl"
           }
          ],
          "scatterternary": [
           {
            "marker": {
             "colorbar": {
              "outlinewidth": 0,
              "ticks": ""
             }
            },
            "type": "scatterternary"
           }
          ],
          "surface": [
           {
            "colorbar": {
             "outlinewidth": 0,
             "ticks": ""
            },
            "colorscale": [
             [
              0,
              "#0d0887"
             ],
             [
              0.1111111111111111,
              "#46039f"
             ],
             [
              0.2222222222222222,
              "#7201a8"
             ],
             [
              0.3333333333333333,
              "#9c179e"
             ],
             [
              0.4444444444444444,
              "#bd3786"
             ],
             [
              0.5555555555555556,
              "#d8576b"
             ],
             [
              0.6666666666666666,
              "#ed7953"
             ],
             [
              0.7777777777777778,
              "#fb9f3a"
             ],
             [
              0.8888888888888888,
              "#fdca26"
             ],
             [
              1,
              "#f0f921"
             ]
            ],
            "type": "surface"
           }
          ],
          "table": [
           {
            "cells": {
             "fill": {
              "color": "#EBF0F8"
             },
             "line": {
              "color": "white"
             }
            },
            "header": {
             "fill": {
              "color": "#C8D4E3"
             },
             "line": {
              "color": "white"
             }
            },
            "type": "table"
           }
          ]
         },
         "layout": {
          "annotationdefaults": {
           "arrowcolor": "#2a3f5f",
           "arrowhead": 0,
           "arrowwidth": 1
          },
          "autotypenumbers": "strict",
          "coloraxis": {
           "colorbar": {
            "outlinewidth": 0,
            "ticks": ""
           }
          },
          "colorscale": {
           "diverging": [
            [
             0,
             "#8e0152"
            ],
            [
             0.1,
             "#c51b7d"
            ],
            [
             0.2,
             "#de77ae"
            ],
            [
             0.3,
             "#f1b6da"
            ],
            [
             0.4,
             "#fde0ef"
            ],
            [
             0.5,
             "#f7f7f7"
            ],
            [
             0.6,
             "#e6f5d0"
            ],
            [
             0.7,
             "#b8e186"
            ],
            [
             0.8,
             "#7fbc41"
            ],
            [
             0.9,
             "#4d9221"
            ],
            [
             1,
             "#276419"
            ]
           ],
           "sequential": [
            [
             0,
             "#0d0887"
            ],
            [
             0.1111111111111111,
             "#46039f"
            ],
            [
             0.2222222222222222,
             "#7201a8"
            ],
            [
             0.3333333333333333,
             "#9c179e"
            ],
            [
             0.4444444444444444,
             "#bd3786"
            ],
            [
             0.5555555555555556,
             "#d8576b"
            ],
            [
             0.6666666666666666,
             "#ed7953"
            ],
            [
             0.7777777777777778,
             "#fb9f3a"
            ],
            [
             0.8888888888888888,
             "#fdca26"
            ],
            [
             1,
             "#f0f921"
            ]
           ],
           "sequentialminus": [
            [
             0,
             "#0d0887"
            ],
            [
             0.1111111111111111,
             "#46039f"
            ],
            [
             0.2222222222222222,
             "#7201a8"
            ],
            [
             0.3333333333333333,
             "#9c179e"
            ],
            [
             0.4444444444444444,
             "#bd3786"
            ],
            [
             0.5555555555555556,
             "#d8576b"
            ],
            [
             0.6666666666666666,
             "#ed7953"
            ],
            [
             0.7777777777777778,
             "#fb9f3a"
            ],
            [
             0.8888888888888888,
             "#fdca26"
            ],
            [
             1,
             "#f0f921"
            ]
           ]
          },
          "colorway": [
           "#636efa",
           "#EF553B",
           "#00cc96",
           "#ab63fa",
           "#FFA15A",
           "#19d3f3",
           "#FF6692",
           "#B6E880",
           "#FF97FF",
           "#FECB52"
          ],
          "font": {
           "color": "#2a3f5f"
          },
          "geo": {
           "bgcolor": "white",
           "lakecolor": "white",
           "landcolor": "#E5ECF6",
           "showlakes": true,
           "showland": true,
           "subunitcolor": "white"
          },
          "hoverlabel": {
           "align": "left"
          },
          "hovermode": "closest",
          "mapbox": {
           "style": "light"
          },
          "paper_bgcolor": "white",
          "plot_bgcolor": "#E5ECF6",
          "polar": {
           "angularaxis": {
            "gridcolor": "white",
            "linecolor": "white",
            "ticks": ""
           },
           "bgcolor": "#E5ECF6",
           "radialaxis": {
            "gridcolor": "white",
            "linecolor": "white",
            "ticks": ""
           }
          },
          "scene": {
           "xaxis": {
            "backgroundcolor": "#E5ECF6",
            "gridcolor": "white",
            "gridwidth": 2,
            "linecolor": "white",
            "showbackground": true,
            "ticks": "",
            "zerolinecolor": "white"
           },
           "yaxis": {
            "backgroundcolor": "#E5ECF6",
            "gridcolor": "white",
            "gridwidth": 2,
            "linecolor": "white",
            "showbackground": true,
            "ticks": "",
            "zerolinecolor": "white"
           },
           "zaxis": {
            "backgroundcolor": "#E5ECF6",
            "gridcolor": "white",
            "gridwidth": 2,
            "linecolor": "white",
            "showbackground": true,
            "ticks": "",
            "zerolinecolor": "white"
           }
          },
          "shapedefaults": {
           "line": {
            "color": "#2a3f5f"
           }
          },
          "ternary": {
           "aaxis": {
            "gridcolor": "white",
            "linecolor": "white",
            "ticks": ""
           },
           "baxis": {
            "gridcolor": "white",
            "linecolor": "white",
            "ticks": ""
           },
           "bgcolor": "#E5ECF6",
           "caxis": {
            "gridcolor": "white",
            "linecolor": "white",
            "ticks": ""
           }
          },
          "title": {
           "x": 0.05
          },
          "xaxis": {
           "automargin": true,
           "gridcolor": "white",
           "linecolor": "white",
           "ticks": "",
           "title": {
            "standoff": 15
           },
           "zerolinecolor": "white",
           "zerolinewidth": 2
          },
          "yaxis": {
           "automargin": true,
           "gridcolor": "white",
           "linecolor": "white",
           "ticks": "",
           "title": {
            "standoff": 15
           },
           "zerolinecolor": "white",
           "zerolinewidth": 2
          }
         }
        },
        "title": {
         "text": "Lead Ratio (Number of Ticks > 100)",
         "x": 0.5
        },
        "width": 800,
        "xaxis": {
         "anchor": "y",
         "domain": [
          0,
          1
         ],
         "range": [
          0,
          1
         ],
         "title": {
          "text": "Lead Ratio"
         }
        },
        "xaxis2": {
         "anchor": "y2",
         "domain": [
          0,
          1
         ],
         "matches": "x",
         "showgrid": true,
         "showticklabels": false
        },
        "yaxis": {
         "anchor": "x",
         "domain": [
          0,
          0.7326
         ],
         "title": {
          "text": "count"
         }
        },
        "yaxis2": {
         "anchor": "x2",
         "domain": [
          0.7426,
          1
         ],
         "matches": "y2",
         "showgrid": false,
         "showline": false,
         "showticklabels": false,
         "ticks": ""
        }
       }
      }
     },
     "metadata": {},
     "output_type": "display_data"
    }
   ],
   "source": [
    "df['Lead Ratio'].fillna(0, inplace=True)\n",
    "dfs = df[(df['Num Ticks']>=100)]\n",
    "\n",
    "col=dfs['Lead Ratio']\n",
    "\n",
    "fig1 = px.histogram(col, marginal='box', width=800, title=\"Lead Ratio (Number of Ticks > 100)\")\n",
    "fig1.update_layout(showlegend=False, title_x=0.5)\n",
    "fig1.update_xaxes(title=\"Lead Ratio\", row=1,col=1, range=[0,1])"
   ]
  },
  {
   "cell_type": "code",
   "execution_count": 8,
   "metadata": {},
   "outputs": [
    {
     "data": {
      "text/html": [
       "<style type=\"text/css\">\n",
       "#T_9c311_row0_col2, #T_9c311_row1_col2, #T_9c311_row2_col2, #T_9c311_row3_col2, #T_9c311_row4_col2, #T_9c311_row5_col2, #T_9c311_row6_col2, #T_9c311_row7_col2, #T_9c311_row8_col2, #T_9c311_row9_col2, #T_9c311_row10_col2, #T_9c311_row11_col2 {\n",
       "  width: 300px;\n",
       "}\n",
       "</style>\n",
       "<table id=\"T_9c311\">\n",
       "  <thead>\n",
       "    <tr>\n",
       "      <th class=\"blank level0\" >&nbsp;</th>\n",
       "      <th id=\"T_9c311_level0_col0\" class=\"col_heading level0 col0\" >Route</th>\n",
       "      <th id=\"T_9c311_level0_col1\" class=\"col_heading level0 col1\" >Location</th>\n",
       "      <th id=\"T_9c311_level0_col2\" class=\"col_heading level0 col2\" >URL</th>\n",
       "      <th id=\"T_9c311_level0_col3\" class=\"col_heading level0 col3\" >Rating</th>\n",
       "      <th id=\"T_9c311_level0_col4\" class=\"col_heading level0 col4\" >Num Ticks</th>\n",
       "      <th id=\"T_9c311_level0_col5\" class=\"col_heading level0 col5\" >Lead Ratio</th>\n",
       "    </tr>\n",
       "  </thead>\n",
       "  <tbody>\n",
       "    <tr>\n",
       "      <th id=\"T_9c311_level0_row0\" class=\"row_heading level0 row0\" >1028</th>\n",
       "      <td id=\"T_9c311_row0_col0\" class=\"data row0 col0\" >Pringles</td>\n",
       "      <td id=\"T_9c311_row0_col1\" class=\"data row0 col1\" >Supercrack Buttress > Indian Creek > Southeast Utah > Utah</td>\n",
       "      <td id=\"T_9c311_row0_col2\" class=\"data row0 col2\" >https://www.mountainproject.com/route/105717427/pringles</td>\n",
       "      <td id=\"T_9c311_row0_col3\" class=\"data row0 col3\" >5.11+</td>\n",
       "      <td id=\"T_9c311_row0_col4\" class=\"data row0 col4\" >143.000000</td>\n",
       "      <td id=\"T_9c311_row0_col5\" class=\"data row0 col5\" >0.064815</td>\n",
       "    </tr>\n",
       "    <tr>\n",
       "      <th id=\"T_9c311_level0_row1\" class=\"row_heading level0 row1\" >900</th>\n",
       "      <td id=\"T_9c311_row1_col0\" class=\"data row1 col0\" >Naked and the Dead Variation</td>\n",
       "      <td id=\"T_9c311_row1_col1\" class=\"data row1 col1\" >Donnelly Canyon > Indian Creek > Southeast Utah > Utah</td>\n",
       "      <td id=\"T_9c311_row1_col2\" class=\"data row1 col2\" >https://www.mountainproject.com/route/105943086/naked-and-the-dead-variation</td>\n",
       "      <td id=\"T_9c311_row1_col3\" class=\"data row1 col3\" >5.11</td>\n",
       "      <td id=\"T_9c311_row1_col4\" class=\"data row1 col4\" >221.000000</td>\n",
       "      <td id=\"T_9c311_row1_col5\" class=\"data row1 col5\" >0.068027</td>\n",
       "    </tr>\n",
       "    <tr>\n",
       "      <th id=\"T_9c311_level0_row2\" class=\"row_heading level0 row2\" >1203</th>\n",
       "      <td id=\"T_9c311_row2_col0\" class=\"data row2 col0\" >Inflictor</td>\n",
       "      <td id=\"T_9c311_row2_col1\" class=\"data row2 col1\" >Broken Tooth > Indian Creek > Southeast Utah > Utah</td>\n",
       "      <td id=\"T_9c311_row2_col2\" class=\"data row2 col2\" >https://www.mountainproject.com/route/106123505/inflictor</td>\n",
       "      <td id=\"T_9c311_row2_col3\" class=\"data row2 col3\" >5.12-</td>\n",
       "      <td id=\"T_9c311_row2_col4\" class=\"data row2 col4\" >112.000000</td>\n",
       "      <td id=\"T_9c311_row2_col5\" class=\"data row2 col5\" >0.173913</td>\n",
       "    </tr>\n",
       "    <tr>\n",
       "      <th id=\"T_9c311_level0_row3\" class=\"row_heading level0 row3\" >278</th>\n",
       "      <td id=\"T_9c311_row3_col0\" class=\"data row3 col0\" >Town</td>\n",
       "      <td id=\"T_9c311_row3_col1\" class=\"data row3 col1\" >4X4 > Indian Creek > Southeast Utah > Utah</td>\n",
       "      <td id=\"T_9c311_row3_col2\" class=\"data row3 col2\" >https://www.mountainproject.com/route/105718396/town</td>\n",
       "      <td id=\"T_9c311_row3_col3\" class=\"data row3 col3\" >5.10d</td>\n",
       "      <td id=\"T_9c311_row3_col4\" class=\"data row3 col4\" >225.000000</td>\n",
       "      <td id=\"T_9c311_row3_col5\" class=\"data row3 col5\" >0.267974</td>\n",
       "    </tr>\n",
       "    <tr>\n",
       "      <th id=\"T_9c311_level0_row4\" class=\"row_heading level0 row4\" >491</th>\n",
       "      <td id=\"T_9c311_row4_col0\" class=\"data row4 col0\" >Dirty Woman</td>\n",
       "      <td id=\"T_9c311_row4_col1\" class=\"data row4 col1\" >The Wall > Indian Creek > Southeast Utah > Utah</td>\n",
       "      <td id=\"T_9c311_row4_col2\" class=\"data row4 col2\" >https://www.mountainproject.com/route/107385681/dirty-woman</td>\n",
       "      <td id=\"T_9c311_row4_col3\" class=\"data row4 col3\" >5.10</td>\n",
       "      <td id=\"T_9c311_row4_col4\" class=\"data row4 col4\" >113.000000</td>\n",
       "      <td id=\"T_9c311_row4_col5\" class=\"data row4 col5\" >0.270588</td>\n",
       "    </tr>\n",
       "    <tr>\n",
       "      <th id=\"T_9c311_level0_row5\" class=\"row_heading level0 row5\" >922</th>\n",
       "      <td id=\"T_9c311_row5_col0\" class=\"data row5 col0\" >New World Order</td>\n",
       "      <td id=\"T_9c311_row5_col1\" class=\"data row5 col1\" >Battle of the Bulge Buttress > Indian Creek > Southeast Utah > Utah</td>\n",
       "      <td id=\"T_9c311_row5_col2\" class=\"data row5 col2\" >https://www.mountainproject.com/route/106155187/new-world-order</td>\n",
       "      <td id=\"T_9c311_row5_col3\" class=\"data row5 col3\" >5.11b/c</td>\n",
       "      <td id=\"T_9c311_row5_col4\" class=\"data row5 col4\" >112.000000</td>\n",
       "      <td id=\"T_9c311_row5_col5\" class=\"data row5 col5\" >0.289474</td>\n",
       "    </tr>\n",
       "    <tr>\n",
       "      <th id=\"T_9c311_level0_row6\" class=\"row_heading level0 row6\" >819</th>\n",
       "      <td id=\"T_9c311_row6_col0\" class=\"data row6 col0\" >Mariposa</td>\n",
       "      <td id=\"T_9c311_row6_col1\" class=\"data row6 col1\" >Habitado > Indian Creek > Southeast Utah > Utah</td>\n",
       "      <td id=\"T_9c311_row6_col2\" class=\"data row6 col2\" >https://www.mountainproject.com/route/116668339/mariposa</td>\n",
       "      <td id=\"T_9c311_row6_col3\" class=\"data row6 col3\" >5.10-</td>\n",
       "      <td id=\"T_9c311_row6_col4\" class=\"data row6 col4\" >212.000000</td>\n",
       "      <td id=\"T_9c311_row6_col5\" class=\"data row6 col5\" >0.338983</td>\n",
       "    </tr>\n",
       "    <tr>\n",
       "      <th id=\"T_9c311_level0_row7\" class=\"row_heading level0 row7\" >631</th>\n",
       "      <td id=\"T_9c311_row7_col0\" class=\"data row7 col0\" >(Unknown)</td>\n",
       "      <td id=\"T_9c311_row7_col1\" class=\"data row7 col1\" >Selfish Wall > Indian Creek > Southeast Utah > Utah</td>\n",
       "      <td id=\"T_9c311_row7_col2\" class=\"data row7 col2\" >https://www.mountainproject.com/route/109590225/unknown</td>\n",
       "      <td id=\"T_9c311_row7_col3\" class=\"data row7 col3\" >5.9</td>\n",
       "      <td id=\"T_9c311_row7_col4\" class=\"data row7 col4\" >180.000000</td>\n",
       "      <td id=\"T_9c311_row7_col5\" class=\"data row7 col5\" >0.353741</td>\n",
       "    </tr>\n",
       "    <tr>\n",
       "      <th id=\"T_9c311_level0_row8\" class=\"row_heading level0 row8\" >94</th>\n",
       "      <td id=\"T_9c311_row8_col0\" class=\"data row8 col0\" >Unnamed 5.10 Flake</td>\n",
       "      <td id=\"T_9c311_row8_col1\" class=\"data row8 col1\" >Blue Gramma Cliff > Indian Creek > Southeast Utah > Utah</td>\n",
       "      <td id=\"T_9c311_row8_col2\" class=\"data row8 col2\" >https://www.mountainproject.com/route/106141573/unnamed-510-flake</td>\n",
       "      <td id=\"T_9c311_row8_col3\" class=\"data row8 col3\" >5.10</td>\n",
       "      <td id=\"T_9c311_row8_col4\" class=\"data row8 col4\" >118.000000</td>\n",
       "      <td id=\"T_9c311_row8_col5\" class=\"data row8 col5\" >0.356164</td>\n",
       "    </tr>\n",
       "    <tr>\n",
       "      <th id=\"T_9c311_level0_row9\" class=\"row_heading level0 row9\" >115</th>\n",
       "      <td id=\"T_9c311_row9_col0\" class=\"data row9 col0\" >The Fat Farm</td>\n",
       "      <td id=\"T_9c311_row9_col1\" class=\"data row9 col1\" >Scarface > Indian Creek > Southeast Utah > Utah</td>\n",
       "      <td id=\"T_9c311_row9_col2\" class=\"data row9 col2\" >https://www.mountainproject.com/route/106069249/the-fat-farm</td>\n",
       "      <td id=\"T_9c311_row9_col3\" class=\"data row9 col3\" >5.10</td>\n",
       "      <td id=\"T_9c311_row9_col4\" class=\"data row9 col4\" >188.000000</td>\n",
       "      <td id=\"T_9c311_row9_col5\" class=\"data row9 col5\" >0.368421</td>\n",
       "    </tr>\n",
       "    <tr>\n",
       "      <th id=\"T_9c311_level0_row10\" class=\"row_heading level0 row10\" >1018</th>\n",
       "      <td id=\"T_9c311_row10_col0\" class=\"data row10 col0\" >Binge and Purge</td>\n",
       "      <td id=\"T_9c311_row10_col1\" class=\"data row10 col1\" >Supercrack Buttress > Indian Creek > Southeast Utah > Utah</td>\n",
       "      <td id=\"T_9c311_row10_col2\" class=\"data row10 col2\" >https://www.mountainproject.com/route/105717481/binge-and-purge</td>\n",
       "      <td id=\"T_9c311_row10_col3\" class=\"data row10 col3\" >5.11b</td>\n",
       "      <td id=\"T_9c311_row10_col4\" class=\"data row10 col4\" >133.000000</td>\n",
       "      <td id=\"T_9c311_row10_col5\" class=\"data row10 col5\" >0.390000</td>\n",
       "    </tr>\n",
       "    <tr>\n",
       "      <th id=\"T_9c311_level0_row11\" class=\"row_heading level0 row11\" >1029</th>\n",
       "      <td id=\"T_9c311_row11_col0\" class=\"data row11 col0\" >Fingers In A Lightsocket</td>\n",
       "      <td id=\"T_9c311_row11_col1\" class=\"data row11 col1\" >Supercrack Buttress > Indian Creek > Southeast Utah > Utah</td>\n",
       "      <td id=\"T_9c311_row11_col2\" class=\"data row11 col2\" >https://www.mountainproject.com/route/105717526/fingers-in-a-lightsocket</td>\n",
       "      <td id=\"T_9c311_row11_col3\" class=\"data row11 col3\" >5.11+</td>\n",
       "      <td id=\"T_9c311_row11_col4\" class=\"data row11 col4\" >375.000000</td>\n",
       "      <td id=\"T_9c311_row11_col5\" class=\"data row11 col5\" >0.390863</td>\n",
       "    </tr>\n",
       "  </tbody>\n",
       "</table>\n"
      ],
      "text/plain": [
       "<pandas.io.formats.style.Styler at 0x254050d2040>"
      ]
     },
     "execution_count": 8,
     "metadata": {},
     "output_type": "execute_result"
    }
   ],
   "source": [
    "dfs[dfs['Lead Ratio']<0.4].sort_values('Lead Ratio', ascending=True)[['Route', 'Location' ,'URL', 'Rating', 'Num Ticks', 'Lead Ratio']].style.set_properties(subset='URL', **{'width':'300px'})"
   ]
  },
  {
   "cell_type": "code",
   "execution_count": 9,
   "metadata": {},
   "outputs": [
    {
     "data": {
      "application/vnd.plotly.v1+json": {
       "config": {
        "plotlyServerURL": "https://plot.ly"
       },
       "data": [
        {
         "alignmentgroup": "True",
         "bingroup": "x",
         "hovertemplate": "variable=Repeat Sender Ratio<br>value=%{x}<br>count=%{y}<extra></extra>",
         "legendgroup": "Repeat Sender Ratio",
         "marker": {
          "color": "#636efa",
          "pattern": {
           "shape": ""
          }
         },
         "name": "Repeat Sender Ratio",
         "offsetgroup": "Repeat Sender Ratio",
         "orientation": "v",
         "showlegend": true,
         "type": "histogram",
         "x": [
          1.0140845070422535,
          1.0385356454720616,
          1.0434782608695652,
          1.0576576576576577,
          1.068014705882353,
          1.0136518771331058,
          1.054054054054054,
          1.0387596899224807,
          1.0327868852459017,
          1,
          1,
          1,
          1,
          1.0112359550561798,
          1.0087719298245614,
          1.078048780487805,
          1.0304347826086957,
          1.0491803278688525,
          1.0396039603960396,
          1.0506912442396312,
          1.0857142857142856,
          1.0298507462686568,
          1.0289855072463767,
          1.035294117647059,
          1,
          1.0227272727272727,
          1.0169491525423728,
          1.0429447852760736,
          1,
          1.031496062992126,
          1.0387596899224807,
          1,
          1.0185185185185186,
          1.0416666666666667,
          1.0833333333333333,
          1.0454545454545454,
          1,
          1,
          1,
          1,
          1.0625,
          1,
          1.0559006211180124,
          1.0142857142857142,
          1.0490196078431373,
          1.0406091370558375,
          1.04,
          1.0506329113924051,
          1,
          1,
          1.0516129032258064,
          1.0267857142857142,
          1.0222222222222221,
          1.0317460317460319,
          1,
          1.0465116279069768,
          1,
          1.0140845070422535,
          1.0503778337531486,
          1,
          1.032258064516129,
          1.0505902192242833,
          1.0535714285714286,
          1.0592105263157894,
          1,
          1.0686274509803921,
          1.0463258785942493,
          1.0348837209302326,
          1.0232558139534884,
          1.0196078431372548,
          1.0217391304347827,
          1.0318021201413428,
          1.0087719298245614,
          1,
          1,
          1,
          1.03125,
          1,
          1.06993006993007,
          1.021978021978022,
          1.0297029702970297,
          1.0169491525423728,
          1,
          1,
          1,
          1,
          1,
          1.041237113402062,
          1,
          1.0309278350515463,
          1.0328638497652582,
          1.032258064516129,
          1.025,
          1,
          1.032258064516129,
          1.0192307692307692,
          1.0555555555555556,
          1.0169491525423728,
          1,
          1.0425531914893618,
          1.0363636363636364,
          1,
          1.0434782608695652,
          1.038338658146965,
          1,
          1.011764705882353,
          1,
          1.0526315789473684,
          1.0393258426966292,
          1.0128205128205128,
          1.0289855072463767,
          1.0294117647058822,
          1,
          1.0333333333333334,
          1.0294117647058822,
          1.027027027027027,
          1,
          1.037037037037037,
          1.0119047619047619,
          1.0135135135135136,
          1.0491803278688525,
          1,
          1,
          1,
          1.0441176470588236,
          1,
          1.024390243902439,
          1.0454545454545454,
          1,
          1,
          1.0454545454545454,
          1,
          1.0294117647058822,
          1.048780487804878,
          1.027027027027027,
          1,
          1,
          1.020979020979021,
          1.0666666666666667,
          1,
          1,
          1.0416666666666667,
          1,
          1,
          1.0350877192982457,
          1,
          1,
          1.0378006872852235,
          1.0402298850574712,
          1.0704647676161918,
          1,
          1.020979020979021,
          1.0149253731343284,
          1,
          1.02,
          1.0294117647058822,
          1,
          1,
          1.0227272727272727,
          1.03125,
          1.0294117647058822,
          1.0126582278481013,
          1.02,
          1,
          1.0425531914893618,
          1.0612244897959184,
          1.0229885057471264,
          1.0091743119266054,
          1.0277777777777777,
          1.0133333333333334,
          1.0392156862745099,
          1,
          1.0481927710843373,
          1,
          1.0285714285714285,
          1.0232558139534884,
          1,
          1,
          1.0091743119266054,
          1.0384615384615385,
          1,
          1.0285714285714285,
          1.0158730158730158,
          1,
          1.00625,
          1.032258064516129,
          1,
          1.096774193548387,
          1.0333333333333334,
          1,
          1.0357142857142858,
          1.0915750915750915,
          1.0357142857142858,
          1.131578947368421,
          1.0923076923076922,
          1.1403508771929824,
          1,
          1,
          1,
          1.0512820512820513,
          1,
          1.0232558139534884,
          1.031496062992126,
          1.0277777777777777,
          1,
          1,
          1,
          1.0714285714285714,
          1,
          1,
          1.0333333333333334,
          1.0638297872340425,
          1.0535714285714286,
          1.0579710144927537,
          1.0408163265306123,
          1.045045045045045,
          1.0609756097560976,
          1.054054054054054,
          1,
          1,
          1.0357142857142858,
          1,
          1,
          1.0344827586206897,
          1,
          1,
          1.035294117647059,
          1,
          1,
          1.0217391304347827,
          1.0344827586206897,
          1.05,
          1.0357142857142858,
          1,
          1.028301886792453,
          1,
          1,
          1,
          1,
          1,
          1,
          1,
          1,
          1,
          1,
          1,
          1,
          1,
          1.0246913580246915,
          1.0451127819548873,
          1,
          1.0512820512820513,
          1.0476190476190477,
          1,
          1.0108695652173914,
          1.0476190476190477,
          1.05,
          1,
          1,
          1.0121951219512195,
          1,
          1,
          1,
          1,
          1.0769230769230769,
          1,
          1.0238095238095237,
          1.0380952380952382,
          1,
          1,
          1,
          1.0495049504950495,
          1,
          1,
          1,
          1,
          1,
          1.0263157894736843,
          1,
          1,
          1.0256410256410255,
          1.0535714285714286,
          1,
          1.0555555555555556,
          1.0251256281407035,
          1,
          1,
          1,
          1,
          1.0689655172413792
         ],
         "xaxis": "x",
         "yaxis": "y"
        },
        {
         "alignmentgroup": "True",
         "hovertemplate": "variable=Repeat Sender Ratio<br>value=%{x}<extra></extra>",
         "legendgroup": "Repeat Sender Ratio",
         "marker": {
          "color": "#636efa"
         },
         "name": "Repeat Sender Ratio",
         "notched": true,
         "offsetgroup": "Repeat Sender Ratio",
         "showlegend": false,
         "type": "box",
         "x": [
          1.0140845070422535,
          1.0385356454720616,
          1.0434782608695652,
          1.0576576576576577,
          1.068014705882353,
          1.0136518771331058,
          1.054054054054054,
          1.0387596899224807,
          1.0327868852459017,
          1,
          1,
          1,
          1,
          1.0112359550561798,
          1.0087719298245614,
          1.078048780487805,
          1.0304347826086957,
          1.0491803278688525,
          1.0396039603960396,
          1.0506912442396312,
          1.0857142857142856,
          1.0298507462686568,
          1.0289855072463767,
          1.035294117647059,
          1,
          1.0227272727272727,
          1.0169491525423728,
          1.0429447852760736,
          1,
          1.031496062992126,
          1.0387596899224807,
          1,
          1.0185185185185186,
          1.0416666666666667,
          1.0833333333333333,
          1.0454545454545454,
          1,
          1,
          1,
          1,
          1.0625,
          1,
          1.0559006211180124,
          1.0142857142857142,
          1.0490196078431373,
          1.0406091370558375,
          1.04,
          1.0506329113924051,
          1,
          1,
          1.0516129032258064,
          1.0267857142857142,
          1.0222222222222221,
          1.0317460317460319,
          1,
          1.0465116279069768,
          1,
          1.0140845070422535,
          1.0503778337531486,
          1,
          1.032258064516129,
          1.0505902192242833,
          1.0535714285714286,
          1.0592105263157894,
          1,
          1.0686274509803921,
          1.0463258785942493,
          1.0348837209302326,
          1.0232558139534884,
          1.0196078431372548,
          1.0217391304347827,
          1.0318021201413428,
          1.0087719298245614,
          1,
          1,
          1,
          1.03125,
          1,
          1.06993006993007,
          1.021978021978022,
          1.0297029702970297,
          1.0169491525423728,
          1,
          1,
          1,
          1,
          1,
          1.041237113402062,
          1,
          1.0309278350515463,
          1.0328638497652582,
          1.032258064516129,
          1.025,
          1,
          1.032258064516129,
          1.0192307692307692,
          1.0555555555555556,
          1.0169491525423728,
          1,
          1.0425531914893618,
          1.0363636363636364,
          1,
          1.0434782608695652,
          1.038338658146965,
          1,
          1.011764705882353,
          1,
          1.0526315789473684,
          1.0393258426966292,
          1.0128205128205128,
          1.0289855072463767,
          1.0294117647058822,
          1,
          1.0333333333333334,
          1.0294117647058822,
          1.027027027027027,
          1,
          1.037037037037037,
          1.0119047619047619,
          1.0135135135135136,
          1.0491803278688525,
          1,
          1,
          1,
          1.0441176470588236,
          1,
          1.024390243902439,
          1.0454545454545454,
          1,
          1,
          1.0454545454545454,
          1,
          1.0294117647058822,
          1.048780487804878,
          1.027027027027027,
          1,
          1,
          1.020979020979021,
          1.0666666666666667,
          1,
          1,
          1.0416666666666667,
          1,
          1,
          1.0350877192982457,
          1,
          1,
          1.0378006872852235,
          1.0402298850574712,
          1.0704647676161918,
          1,
          1.020979020979021,
          1.0149253731343284,
          1,
          1.02,
          1.0294117647058822,
          1,
          1,
          1.0227272727272727,
          1.03125,
          1.0294117647058822,
          1.0126582278481013,
          1.02,
          1,
          1.0425531914893618,
          1.0612244897959184,
          1.0229885057471264,
          1.0091743119266054,
          1.0277777777777777,
          1.0133333333333334,
          1.0392156862745099,
          1,
          1.0481927710843373,
          1,
          1.0285714285714285,
          1.0232558139534884,
          1,
          1,
          1.0091743119266054,
          1.0384615384615385,
          1,
          1.0285714285714285,
          1.0158730158730158,
          1,
          1.00625,
          1.032258064516129,
          1,
          1.096774193548387,
          1.0333333333333334,
          1,
          1.0357142857142858,
          1.0915750915750915,
          1.0357142857142858,
          1.131578947368421,
          1.0923076923076922,
          1.1403508771929824,
          1,
          1,
          1,
          1.0512820512820513,
          1,
          1.0232558139534884,
          1.031496062992126,
          1.0277777777777777,
          1,
          1,
          1,
          1.0714285714285714,
          1,
          1,
          1.0333333333333334,
          1.0638297872340425,
          1.0535714285714286,
          1.0579710144927537,
          1.0408163265306123,
          1.045045045045045,
          1.0609756097560976,
          1.054054054054054,
          1,
          1,
          1.0357142857142858,
          1,
          1,
          1.0344827586206897,
          1,
          1,
          1.035294117647059,
          1,
          1,
          1.0217391304347827,
          1.0344827586206897,
          1.05,
          1.0357142857142858,
          1,
          1.028301886792453,
          1,
          1,
          1,
          1,
          1,
          1,
          1,
          1,
          1,
          1,
          1,
          1,
          1,
          1.0246913580246915,
          1.0451127819548873,
          1,
          1.0512820512820513,
          1.0476190476190477,
          1,
          1.0108695652173914,
          1.0476190476190477,
          1.05,
          1,
          1,
          1.0121951219512195,
          1,
          1,
          1,
          1,
          1.0769230769230769,
          1,
          1.0238095238095237,
          1.0380952380952382,
          1,
          1,
          1,
          1.0495049504950495,
          1,
          1,
          1,
          1,
          1,
          1.0263157894736843,
          1,
          1,
          1.0256410256410255,
          1.0535714285714286,
          1,
          1.0555555555555556,
          1.0251256281407035,
          1,
          1,
          1,
          1,
          1.0689655172413792
         ],
         "xaxis": "x2",
         "yaxis": "y2"
        }
       ],
       "layout": {
        "barmode": "relative",
        "legend": {
         "title": {
          "text": "variable"
         },
         "tracegroupgap": 0
        },
        "showlegend": false,
        "template": {
         "data": {
          "bar": [
           {
            "error_x": {
             "color": "#2a3f5f"
            },
            "error_y": {
             "color": "#2a3f5f"
            },
            "marker": {
             "line": {
              "color": "#E5ECF6",
              "width": 0.5
             },
             "pattern": {
              "fillmode": "overlay",
              "size": 10,
              "solidity": 0.2
             }
            },
            "type": "bar"
           }
          ],
          "barpolar": [
           {
            "marker": {
             "line": {
              "color": "#E5ECF6",
              "width": 0.5
             },
             "pattern": {
              "fillmode": "overlay",
              "size": 10,
              "solidity": 0.2
             }
            },
            "type": "barpolar"
           }
          ],
          "carpet": [
           {
            "aaxis": {
             "endlinecolor": "#2a3f5f",
             "gridcolor": "white",
             "linecolor": "white",
             "minorgridcolor": "white",
             "startlinecolor": "#2a3f5f"
            },
            "baxis": {
             "endlinecolor": "#2a3f5f",
             "gridcolor": "white",
             "linecolor": "white",
             "minorgridcolor": "white",
             "startlinecolor": "#2a3f5f"
            },
            "type": "carpet"
           }
          ],
          "choropleth": [
           {
            "colorbar": {
             "outlinewidth": 0,
             "ticks": ""
            },
            "type": "choropleth"
           }
          ],
          "contour": [
           {
            "colorbar": {
             "outlinewidth": 0,
             "ticks": ""
            },
            "colorscale": [
             [
              0,
              "#0d0887"
             ],
             [
              0.1111111111111111,
              "#46039f"
             ],
             [
              0.2222222222222222,
              "#7201a8"
             ],
             [
              0.3333333333333333,
              "#9c179e"
             ],
             [
              0.4444444444444444,
              "#bd3786"
             ],
             [
              0.5555555555555556,
              "#d8576b"
             ],
             [
              0.6666666666666666,
              "#ed7953"
             ],
             [
              0.7777777777777778,
              "#fb9f3a"
             ],
             [
              0.8888888888888888,
              "#fdca26"
             ],
             [
              1,
              "#f0f921"
             ]
            ],
            "type": "contour"
           }
          ],
          "contourcarpet": [
           {
            "colorbar": {
             "outlinewidth": 0,
             "ticks": ""
            },
            "type": "contourcarpet"
           }
          ],
          "heatmap": [
           {
            "colorbar": {
             "outlinewidth": 0,
             "ticks": ""
            },
            "colorscale": [
             [
              0,
              "#0d0887"
             ],
             [
              0.1111111111111111,
              "#46039f"
             ],
             [
              0.2222222222222222,
              "#7201a8"
             ],
             [
              0.3333333333333333,
              "#9c179e"
             ],
             [
              0.4444444444444444,
              "#bd3786"
             ],
             [
              0.5555555555555556,
              "#d8576b"
             ],
             [
              0.6666666666666666,
              "#ed7953"
             ],
             [
              0.7777777777777778,
              "#fb9f3a"
             ],
             [
              0.8888888888888888,
              "#fdca26"
             ],
             [
              1,
              "#f0f921"
             ]
            ],
            "type": "heatmap"
           }
          ],
          "heatmapgl": [
           {
            "colorbar": {
             "outlinewidth": 0,
             "ticks": ""
            },
            "colorscale": [
             [
              0,
              "#0d0887"
             ],
             [
              0.1111111111111111,
              "#46039f"
             ],
             [
              0.2222222222222222,
              "#7201a8"
             ],
             [
              0.3333333333333333,
              "#9c179e"
             ],
             [
              0.4444444444444444,
              "#bd3786"
             ],
             [
              0.5555555555555556,
              "#d8576b"
             ],
             [
              0.6666666666666666,
              "#ed7953"
             ],
             [
              0.7777777777777778,
              "#fb9f3a"
             ],
             [
              0.8888888888888888,
              "#fdca26"
             ],
             [
              1,
              "#f0f921"
             ]
            ],
            "type": "heatmapgl"
           }
          ],
          "histogram": [
           {
            "marker": {
             "pattern": {
              "fillmode": "overlay",
              "size": 10,
              "solidity": 0.2
             }
            },
            "type": "histogram"
           }
          ],
          "histogram2d": [
           {
            "colorbar": {
             "outlinewidth": 0,
             "ticks": ""
            },
            "colorscale": [
             [
              0,
              "#0d0887"
             ],
             [
              0.1111111111111111,
              "#46039f"
             ],
             [
              0.2222222222222222,
              "#7201a8"
             ],
             [
              0.3333333333333333,
              "#9c179e"
             ],
             [
              0.4444444444444444,
              "#bd3786"
             ],
             [
              0.5555555555555556,
              "#d8576b"
             ],
             [
              0.6666666666666666,
              "#ed7953"
             ],
             [
              0.7777777777777778,
              "#fb9f3a"
             ],
             [
              0.8888888888888888,
              "#fdca26"
             ],
             [
              1,
              "#f0f921"
             ]
            ],
            "type": "histogram2d"
           }
          ],
          "histogram2dcontour": [
           {
            "colorbar": {
             "outlinewidth": 0,
             "ticks": ""
            },
            "colorscale": [
             [
              0,
              "#0d0887"
             ],
             [
              0.1111111111111111,
              "#46039f"
             ],
             [
              0.2222222222222222,
              "#7201a8"
             ],
             [
              0.3333333333333333,
              "#9c179e"
             ],
             [
              0.4444444444444444,
              "#bd3786"
             ],
             [
              0.5555555555555556,
              "#d8576b"
             ],
             [
              0.6666666666666666,
              "#ed7953"
             ],
             [
              0.7777777777777778,
              "#fb9f3a"
             ],
             [
              0.8888888888888888,
              "#fdca26"
             ],
             [
              1,
              "#f0f921"
             ]
            ],
            "type": "histogram2dcontour"
           }
          ],
          "mesh3d": [
           {
            "colorbar": {
             "outlinewidth": 0,
             "ticks": ""
            },
            "type": "mesh3d"
           }
          ],
          "parcoords": [
           {
            "line": {
             "colorbar": {
              "outlinewidth": 0,
              "ticks": ""
             }
            },
            "type": "parcoords"
           }
          ],
          "pie": [
           {
            "automargin": true,
            "type": "pie"
           }
          ],
          "scatter": [
           {
            "marker": {
             "colorbar": {
              "outlinewidth": 0,
              "ticks": ""
             }
            },
            "type": "scatter"
           }
          ],
          "scatter3d": [
           {
            "line": {
             "colorbar": {
              "outlinewidth": 0,
              "ticks": ""
             }
            },
            "marker": {
             "colorbar": {
              "outlinewidth": 0,
              "ticks": ""
             }
            },
            "type": "scatter3d"
           }
          ],
          "scattercarpet": [
           {
            "marker": {
             "colorbar": {
              "outlinewidth": 0,
              "ticks": ""
             }
            },
            "type": "scattercarpet"
           }
          ],
          "scattergeo": [
           {
            "marker": {
             "colorbar": {
              "outlinewidth": 0,
              "ticks": ""
             }
            },
            "type": "scattergeo"
           }
          ],
          "scattergl": [
           {
            "marker": {
             "colorbar": {
              "outlinewidth": 0,
              "ticks": ""
             }
            },
            "type": "scattergl"
           }
          ],
          "scattermapbox": [
           {
            "marker": {
             "colorbar": {
              "outlinewidth": 0,
              "ticks": ""
             }
            },
            "type": "scattermapbox"
           }
          ],
          "scatterpolar": [
           {
            "marker": {
             "colorbar": {
              "outlinewidth": 0,
              "ticks": ""
             }
            },
            "type": "scatterpolar"
           }
          ],
          "scatterpolargl": [
           {
            "marker": {
             "colorbar": {
              "outlinewidth": 0,
              "ticks": ""
             }
            },
            "type": "scatterpolargl"
           }
          ],
          "scatterternary": [
           {
            "marker": {
             "colorbar": {
              "outlinewidth": 0,
              "ticks": ""
             }
            },
            "type": "scatterternary"
           }
          ],
          "surface": [
           {
            "colorbar": {
             "outlinewidth": 0,
             "ticks": ""
            },
            "colorscale": [
             [
              0,
              "#0d0887"
             ],
             [
              0.1111111111111111,
              "#46039f"
             ],
             [
              0.2222222222222222,
              "#7201a8"
             ],
             [
              0.3333333333333333,
              "#9c179e"
             ],
             [
              0.4444444444444444,
              "#bd3786"
             ],
             [
              0.5555555555555556,
              "#d8576b"
             ],
             [
              0.6666666666666666,
              "#ed7953"
             ],
             [
              0.7777777777777778,
              "#fb9f3a"
             ],
             [
              0.8888888888888888,
              "#fdca26"
             ],
             [
              1,
              "#f0f921"
             ]
            ],
            "type": "surface"
           }
          ],
          "table": [
           {
            "cells": {
             "fill": {
              "color": "#EBF0F8"
             },
             "line": {
              "color": "white"
             }
            },
            "header": {
             "fill": {
              "color": "#C8D4E3"
             },
             "line": {
              "color": "white"
             }
            },
            "type": "table"
           }
          ]
         },
         "layout": {
          "annotationdefaults": {
           "arrowcolor": "#2a3f5f",
           "arrowhead": 0,
           "arrowwidth": 1
          },
          "autotypenumbers": "strict",
          "coloraxis": {
           "colorbar": {
            "outlinewidth": 0,
            "ticks": ""
           }
          },
          "colorscale": {
           "diverging": [
            [
             0,
             "#8e0152"
            ],
            [
             0.1,
             "#c51b7d"
            ],
            [
             0.2,
             "#de77ae"
            ],
            [
             0.3,
             "#f1b6da"
            ],
            [
             0.4,
             "#fde0ef"
            ],
            [
             0.5,
             "#f7f7f7"
            ],
            [
             0.6,
             "#e6f5d0"
            ],
            [
             0.7,
             "#b8e186"
            ],
            [
             0.8,
             "#7fbc41"
            ],
            [
             0.9,
             "#4d9221"
            ],
            [
             1,
             "#276419"
            ]
           ],
           "sequential": [
            [
             0,
             "#0d0887"
            ],
            [
             0.1111111111111111,
             "#46039f"
            ],
            [
             0.2222222222222222,
             "#7201a8"
            ],
            [
             0.3333333333333333,
             "#9c179e"
            ],
            [
             0.4444444444444444,
             "#bd3786"
            ],
            [
             0.5555555555555556,
             "#d8576b"
            ],
            [
             0.6666666666666666,
             "#ed7953"
            ],
            [
             0.7777777777777778,
             "#fb9f3a"
            ],
            [
             0.8888888888888888,
             "#fdca26"
            ],
            [
             1,
             "#f0f921"
            ]
           ],
           "sequentialminus": [
            [
             0,
             "#0d0887"
            ],
            [
             0.1111111111111111,
             "#46039f"
            ],
            [
             0.2222222222222222,
             "#7201a8"
            ],
            [
             0.3333333333333333,
             "#9c179e"
            ],
            [
             0.4444444444444444,
             "#bd3786"
            ],
            [
             0.5555555555555556,
             "#d8576b"
            ],
            [
             0.6666666666666666,
             "#ed7953"
            ],
            [
             0.7777777777777778,
             "#fb9f3a"
            ],
            [
             0.8888888888888888,
             "#fdca26"
            ],
            [
             1,
             "#f0f921"
            ]
           ]
          },
          "colorway": [
           "#636efa",
           "#EF553B",
           "#00cc96",
           "#ab63fa",
           "#FFA15A",
           "#19d3f3",
           "#FF6692",
           "#B6E880",
           "#FF97FF",
           "#FECB52"
          ],
          "font": {
           "color": "#2a3f5f"
          },
          "geo": {
           "bgcolor": "white",
           "lakecolor": "white",
           "landcolor": "#E5ECF6",
           "showlakes": true,
           "showland": true,
           "subunitcolor": "white"
          },
          "hoverlabel": {
           "align": "left"
          },
          "hovermode": "closest",
          "mapbox": {
           "style": "light"
          },
          "paper_bgcolor": "white",
          "plot_bgcolor": "#E5ECF6",
          "polar": {
           "angularaxis": {
            "gridcolor": "white",
            "linecolor": "white",
            "ticks": ""
           },
           "bgcolor": "#E5ECF6",
           "radialaxis": {
            "gridcolor": "white",
            "linecolor": "white",
            "ticks": ""
           }
          },
          "scene": {
           "xaxis": {
            "backgroundcolor": "#E5ECF6",
            "gridcolor": "white",
            "gridwidth": 2,
            "linecolor": "white",
            "showbackground": true,
            "ticks": "",
            "zerolinecolor": "white"
           },
           "yaxis": {
            "backgroundcolor": "#E5ECF6",
            "gridcolor": "white",
            "gridwidth": 2,
            "linecolor": "white",
            "showbackground": true,
            "ticks": "",
            "zerolinecolor": "white"
           },
           "zaxis": {
            "backgroundcolor": "#E5ECF6",
            "gridcolor": "white",
            "gridwidth": 2,
            "linecolor": "white",
            "showbackground": true,
            "ticks": "",
            "zerolinecolor": "white"
           }
          },
          "shapedefaults": {
           "line": {
            "color": "#2a3f5f"
           }
          },
          "ternary": {
           "aaxis": {
            "gridcolor": "white",
            "linecolor": "white",
            "ticks": ""
           },
           "baxis": {
            "gridcolor": "white",
            "linecolor": "white",
            "ticks": ""
           },
           "bgcolor": "#E5ECF6",
           "caxis": {
            "gridcolor": "white",
            "linecolor": "white",
            "ticks": ""
           }
          },
          "title": {
           "x": 0.05
          },
          "xaxis": {
           "automargin": true,
           "gridcolor": "white",
           "linecolor": "white",
           "ticks": "",
           "title": {
            "standoff": 15
           },
           "zerolinecolor": "white",
           "zerolinewidth": 2
          },
          "yaxis": {
           "automargin": true,
           "gridcolor": "white",
           "linecolor": "white",
           "ticks": "",
           "title": {
            "standoff": 15
           },
           "zerolinecolor": "white",
           "zerolinewidth": 2
          }
         }
        },
        "title": {
         "text": "Repeat Sender Ratio (Number of Ticks > 100)",
         "x": 0.5
        },
        "width": 800,
        "xaxis": {
         "anchor": "y",
         "domain": [
          0,
          1
         ],
         "title": {
          "text": "Lead Ratio"
         }
        },
        "xaxis2": {
         "anchor": "y2",
         "domain": [
          0,
          1
         ],
         "matches": "x",
         "showgrid": true,
         "showticklabels": false
        },
        "yaxis": {
         "anchor": "x",
         "domain": [
          0,
          0.7326
         ],
         "title": {
          "text": "count"
         }
        },
        "yaxis2": {
         "anchor": "x2",
         "domain": [
          0.7426,
          1
         ],
         "matches": "y2",
         "showgrid": false,
         "showline": false,
         "showticklabels": false,
         "ticks": ""
        }
       }
      }
     },
     "metadata": {},
     "output_type": "display_data"
    }
   ],
   "source": [
    "col=dfs['Repeat Sender Ratio']\n",
    "\n",
    "fig1 = px.histogram(col, marginal='box', width=800, title=\"Repeat Sender Ratio (Number of Ticks > 100)\")\n",
    "fig1.update_layout(showlegend=False, title_x=0.5)\n",
    "fig1.update_xaxes(title=\"Lead Ratio\", row=1,col=1, range=_)"
   ]
  },
  {
   "cell_type": "code",
   "execution_count": 329,
   "metadata": {},
   "outputs": [],
   "source": [
    "# Create repeat sender sum value not given by original analysis\n",
    "df['Repeat Sender Sum'] = df['Route Ticks'].apply(lambda x: \n",
    "            x[x[\"Lead Style\"].isin([\"Onsight\", \"Flash\", \"Redpoint\", \"Pinkpoint\", \"Send\"])]\n",
    "            .groupby(\"Username\")[\"Lead Style\"]\n",
    "            .count()\n",
    "            .sum()\n",
    "        )"
   ]
  },
  {
   "cell_type": "code",
   "execution_count": 330,
   "metadata": {},
   "outputs": [
    {
     "data": {
      "application/vnd.plotly.v1+json": {
       "config": {
        "plotlyServerURL": "https://plot.ly"
       },
       "data": [
        {
         "alignmentgroup": "True",
         "bingroup": "x",
         "hovertemplate": "variable=Repeat Sender Sum<br>value=%{x}<br>count=%{y}<extra></extra>",
         "legendgroup": "Repeat Sender Sum",
         "marker": {
          "color": "#636efa",
          "pattern": {
           "shape": ""
          }
         },
         "name": "Repeat Sender Sum",
         "offsetgroup": "Repeat Sender Sum",
         "orientation": "v",
         "showlegend": true,
         "type": "histogram",
         "x": [
          72,
          539,
          24,
          587,
          581,
          297,
          39,
          134,
          126,
          27,
          13,
          23,
          31,
          90,
          115,
          221,
          237,
          128,
          105,
          228,
          76,
          69,
          142,
          88,
          46,
          45,
          60,
          170,
          65,
          131,
          134,
          70,
          165,
          25,
          143,
          92,
          22,
          27,
          15,
          9,
          17,
          79,
          170,
          71,
          107,
          205,
          26,
          332,
          24,
          28,
          163,
          115,
          46,
          65,
          26,
          45,
          59,
          72,
          417,
          27,
          96,
          623,
          118,
          161,
          25,
          654,
          655,
          89,
          88,
          156,
          94,
          292,
          115,
          31,
          53,
          45,
          33,
          39,
          153,
          93,
          208,
          60,
          43,
          12,
          89,
          30,
          12,
          101,
          66,
          100,
          220,
          96,
          82,
          54,
          32,
          53,
          57,
          60,
          24,
          49,
          57,
          20,
          96,
          325,
          41,
          86,
          39,
          140,
          185,
          237,
          71,
          35,
          42,
          62,
          70,
          190,
          32,
          84,
          85,
          75,
          64,
          21,
          73,
          46,
          71,
          26,
          42,
          23,
          32,
          17,
          23,
          17,
          70,
          86,
          76,
          27,
          23,
          146,
          32,
          27,
          40,
          25,
          24,
          30,
          118,
          44,
          57,
          302,
          181,
          714,
          55,
          146,
          68,
          33,
          51,
          105,
          16,
          33,
          45,
          66,
          70,
          80,
          51,
          57,
          49,
          52,
          89,
          110,
          37,
          76,
          106,
          26,
          87,
          24,
          72,
          132,
          19,
          32,
          110,
          324,
          23,
          36,
          64,
          33,
          161,
          64,
          31,
          34,
          62,
          30,
          29,
          298,
          29,
          86,
          71,
          65,
          42,
          15,
          25,
          41,
          29,
          44,
          131,
          37,
          34,
          36,
          47,
          30,
          49,
          56,
          31,
          50,
          59,
          73,
          51,
          116,
          174,
          39,
          39,
          31,
          58,
          6,
          44,
          30,
          59,
          54,
          88,
          23,
          3,
          47,
          60,
          21,
          29,
          22,
          109,
          26,
          16,
          36,
          23,
          23,
          27,
          16,
          22,
          42,
          25,
          19,
          4,
          24,
          83,
          139,
          15,
          82,
          22,
          41,
          93,
          22,
          21,
          68,
          33,
          83,
          46,
          18,
          18,
          50,
          224,
          14,
          43,
          109,
          21,
          25,
          5,
          106,
          28,
          38,
          42,
          6,
          37,
          78,
          22,
          21,
          40,
          59,
          30,
          190,
          204,
          42,
          17,
          26,
          42,
          31
         ],
         "xaxis": "x",
         "yaxis": "y"
        },
        {
         "alignmentgroup": "True",
         "hovertemplate": "variable=Repeat Sender Sum<br>value=%{x}<extra></extra>",
         "legendgroup": "Repeat Sender Sum",
         "marker": {
          "color": "#636efa"
         },
         "name": "Repeat Sender Sum",
         "notched": true,
         "offsetgroup": "Repeat Sender Sum",
         "showlegend": false,
         "type": "box",
         "x": [
          72,
          539,
          24,
          587,
          581,
          297,
          39,
          134,
          126,
          27,
          13,
          23,
          31,
          90,
          115,
          221,
          237,
          128,
          105,
          228,
          76,
          69,
          142,
          88,
          46,
          45,
          60,
          170,
          65,
          131,
          134,
          70,
          165,
          25,
          143,
          92,
          22,
          27,
          15,
          9,
          17,
          79,
          170,
          71,
          107,
          205,
          26,
          332,
          24,
          28,
          163,
          115,
          46,
          65,
          26,
          45,
          59,
          72,
          417,
          27,
          96,
          623,
          118,
          161,
          25,
          654,
          655,
          89,
          88,
          156,
          94,
          292,
          115,
          31,
          53,
          45,
          33,
          39,
          153,
          93,
          208,
          60,
          43,
          12,
          89,
          30,
          12,
          101,
          66,
          100,
          220,
          96,
          82,
          54,
          32,
          53,
          57,
          60,
          24,
          49,
          57,
          20,
          96,
          325,
          41,
          86,
          39,
          140,
          185,
          237,
          71,
          35,
          42,
          62,
          70,
          190,
          32,
          84,
          85,
          75,
          64,
          21,
          73,
          46,
          71,
          26,
          42,
          23,
          32,
          17,
          23,
          17,
          70,
          86,
          76,
          27,
          23,
          146,
          32,
          27,
          40,
          25,
          24,
          30,
          118,
          44,
          57,
          302,
          181,
          714,
          55,
          146,
          68,
          33,
          51,
          105,
          16,
          33,
          45,
          66,
          70,
          80,
          51,
          57,
          49,
          52,
          89,
          110,
          37,
          76,
          106,
          26,
          87,
          24,
          72,
          132,
          19,
          32,
          110,
          324,
          23,
          36,
          64,
          33,
          161,
          64,
          31,
          34,
          62,
          30,
          29,
          298,
          29,
          86,
          71,
          65,
          42,
          15,
          25,
          41,
          29,
          44,
          131,
          37,
          34,
          36,
          47,
          30,
          49,
          56,
          31,
          50,
          59,
          73,
          51,
          116,
          174,
          39,
          39,
          31,
          58,
          6,
          44,
          30,
          59,
          54,
          88,
          23,
          3,
          47,
          60,
          21,
          29,
          22,
          109,
          26,
          16,
          36,
          23,
          23,
          27,
          16,
          22,
          42,
          25,
          19,
          4,
          24,
          83,
          139,
          15,
          82,
          22,
          41,
          93,
          22,
          21,
          68,
          33,
          83,
          46,
          18,
          18,
          50,
          224,
          14,
          43,
          109,
          21,
          25,
          5,
          106,
          28,
          38,
          42,
          6,
          37,
          78,
          22,
          21,
          40,
          59,
          30,
          190,
          204,
          42,
          17,
          26,
          42,
          31
         ],
         "xaxis": "x2",
         "yaxis": "y2"
        }
       ],
       "layout": {
        "barmode": "relative",
        "legend": {
         "title": {
          "text": "variable"
         },
         "tracegroupgap": 0
        },
        "showlegend": false,
        "template": {
         "data": {
          "bar": [
           {
            "error_x": {
             "color": "#2a3f5f"
            },
            "error_y": {
             "color": "#2a3f5f"
            },
            "marker": {
             "line": {
              "color": "#E5ECF6",
              "width": 0.5
             },
             "pattern": {
              "fillmode": "overlay",
              "size": 10,
              "solidity": 0.2
             }
            },
            "type": "bar"
           }
          ],
          "barpolar": [
           {
            "marker": {
             "line": {
              "color": "#E5ECF6",
              "width": 0.5
             },
             "pattern": {
              "fillmode": "overlay",
              "size": 10,
              "solidity": 0.2
             }
            },
            "type": "barpolar"
           }
          ],
          "carpet": [
           {
            "aaxis": {
             "endlinecolor": "#2a3f5f",
             "gridcolor": "white",
             "linecolor": "white",
             "minorgridcolor": "white",
             "startlinecolor": "#2a3f5f"
            },
            "baxis": {
             "endlinecolor": "#2a3f5f",
             "gridcolor": "white",
             "linecolor": "white",
             "minorgridcolor": "white",
             "startlinecolor": "#2a3f5f"
            },
            "type": "carpet"
           }
          ],
          "choropleth": [
           {
            "colorbar": {
             "outlinewidth": 0,
             "ticks": ""
            },
            "type": "choropleth"
           }
          ],
          "contour": [
           {
            "colorbar": {
             "outlinewidth": 0,
             "ticks": ""
            },
            "colorscale": [
             [
              0,
              "#0d0887"
             ],
             [
              0.1111111111111111,
              "#46039f"
             ],
             [
              0.2222222222222222,
              "#7201a8"
             ],
             [
              0.3333333333333333,
              "#9c179e"
             ],
             [
              0.4444444444444444,
              "#bd3786"
             ],
             [
              0.5555555555555556,
              "#d8576b"
             ],
             [
              0.6666666666666666,
              "#ed7953"
             ],
             [
              0.7777777777777778,
              "#fb9f3a"
             ],
             [
              0.8888888888888888,
              "#fdca26"
             ],
             [
              1,
              "#f0f921"
             ]
            ],
            "type": "contour"
           }
          ],
          "contourcarpet": [
           {
            "colorbar": {
             "outlinewidth": 0,
             "ticks": ""
            },
            "type": "contourcarpet"
           }
          ],
          "heatmap": [
           {
            "colorbar": {
             "outlinewidth": 0,
             "ticks": ""
            },
            "colorscale": [
             [
              0,
              "#0d0887"
             ],
             [
              0.1111111111111111,
              "#46039f"
             ],
             [
              0.2222222222222222,
              "#7201a8"
             ],
             [
              0.3333333333333333,
              "#9c179e"
             ],
             [
              0.4444444444444444,
              "#bd3786"
             ],
             [
              0.5555555555555556,
              "#d8576b"
             ],
             [
              0.6666666666666666,
              "#ed7953"
             ],
             [
              0.7777777777777778,
              "#fb9f3a"
             ],
             [
              0.8888888888888888,
              "#fdca26"
             ],
             [
              1,
              "#f0f921"
             ]
            ],
            "type": "heatmap"
           }
          ],
          "heatmapgl": [
           {
            "colorbar": {
             "outlinewidth": 0,
             "ticks": ""
            },
            "colorscale": [
             [
              0,
              "#0d0887"
             ],
             [
              0.1111111111111111,
              "#46039f"
             ],
             [
              0.2222222222222222,
              "#7201a8"
             ],
             [
              0.3333333333333333,
              "#9c179e"
             ],
             [
              0.4444444444444444,
              "#bd3786"
             ],
             [
              0.5555555555555556,
              "#d8576b"
             ],
             [
              0.6666666666666666,
              "#ed7953"
             ],
             [
              0.7777777777777778,
              "#fb9f3a"
             ],
             [
              0.8888888888888888,
              "#fdca26"
             ],
             [
              1,
              "#f0f921"
             ]
            ],
            "type": "heatmapgl"
           }
          ],
          "histogram": [
           {
            "marker": {
             "pattern": {
              "fillmode": "overlay",
              "size": 10,
              "solidity": 0.2
             }
            },
            "type": "histogram"
           }
          ],
          "histogram2d": [
           {
            "colorbar": {
             "outlinewidth": 0,
             "ticks": ""
            },
            "colorscale": [
             [
              0,
              "#0d0887"
             ],
             [
              0.1111111111111111,
              "#46039f"
             ],
             [
              0.2222222222222222,
              "#7201a8"
             ],
             [
              0.3333333333333333,
              "#9c179e"
             ],
             [
              0.4444444444444444,
              "#bd3786"
             ],
             [
              0.5555555555555556,
              "#d8576b"
             ],
             [
              0.6666666666666666,
              "#ed7953"
             ],
             [
              0.7777777777777778,
              "#fb9f3a"
             ],
             [
              0.8888888888888888,
              "#fdca26"
             ],
             [
              1,
              "#f0f921"
             ]
            ],
            "type": "histogram2d"
           }
          ],
          "histogram2dcontour": [
           {
            "colorbar": {
             "outlinewidth": 0,
             "ticks": ""
            },
            "colorscale": [
             [
              0,
              "#0d0887"
             ],
             [
              0.1111111111111111,
              "#46039f"
             ],
             [
              0.2222222222222222,
              "#7201a8"
             ],
             [
              0.3333333333333333,
              "#9c179e"
             ],
             [
              0.4444444444444444,
              "#bd3786"
             ],
             [
              0.5555555555555556,
              "#d8576b"
             ],
             [
              0.6666666666666666,
              "#ed7953"
             ],
             [
              0.7777777777777778,
              "#fb9f3a"
             ],
             [
              0.8888888888888888,
              "#fdca26"
             ],
             [
              1,
              "#f0f921"
             ]
            ],
            "type": "histogram2dcontour"
           }
          ],
          "mesh3d": [
           {
            "colorbar": {
             "outlinewidth": 0,
             "ticks": ""
            },
            "type": "mesh3d"
           }
          ],
          "parcoords": [
           {
            "line": {
             "colorbar": {
              "outlinewidth": 0,
              "ticks": ""
             }
            },
            "type": "parcoords"
           }
          ],
          "pie": [
           {
            "automargin": true,
            "type": "pie"
           }
          ],
          "scatter": [
           {
            "marker": {
             "colorbar": {
              "outlinewidth": 0,
              "ticks": ""
             }
            },
            "type": "scatter"
           }
          ],
          "scatter3d": [
           {
            "line": {
             "colorbar": {
              "outlinewidth": 0,
              "ticks": ""
             }
            },
            "marker": {
             "colorbar": {
              "outlinewidth": 0,
              "ticks": ""
             }
            },
            "type": "scatter3d"
           }
          ],
          "scattercarpet": [
           {
            "marker": {
             "colorbar": {
              "outlinewidth": 0,
              "ticks": ""
             }
            },
            "type": "scattercarpet"
           }
          ],
          "scattergeo": [
           {
            "marker": {
             "colorbar": {
              "outlinewidth": 0,
              "ticks": ""
             }
            },
            "type": "scattergeo"
           }
          ],
          "scattergl": [
           {
            "marker": {
             "colorbar": {
              "outlinewidth": 0,
              "ticks": ""
             }
            },
            "type": "scattergl"
           }
          ],
          "scattermapbox": [
           {
            "marker": {
             "colorbar": {
              "outlinewidth": 0,
              "ticks": ""
             }
            },
            "type": "scattermapbox"
           }
          ],
          "scatterpolar": [
           {
            "marker": {
             "colorbar": {
              "outlinewidth": 0,
              "ticks": ""
             }
            },
            "type": "scatterpolar"
           }
          ],
          "scatterpolargl": [
           {
            "marker": {
             "colorbar": {
              "outlinewidth": 0,
              "ticks": ""
             }
            },
            "type": "scatterpolargl"
           }
          ],
          "scatterternary": [
           {
            "marker": {
             "colorbar": {
              "outlinewidth": 0,
              "ticks": ""
             }
            },
            "type": "scatterternary"
           }
          ],
          "surface": [
           {
            "colorbar": {
             "outlinewidth": 0,
             "ticks": ""
            },
            "colorscale": [
             [
              0,
              "#0d0887"
             ],
             [
              0.1111111111111111,
              "#46039f"
             ],
             [
              0.2222222222222222,
              "#7201a8"
             ],
             [
              0.3333333333333333,
              "#9c179e"
             ],
             [
              0.4444444444444444,
              "#bd3786"
             ],
             [
              0.5555555555555556,
              "#d8576b"
             ],
             [
              0.6666666666666666,
              "#ed7953"
             ],
             [
              0.7777777777777778,
              "#fb9f3a"
             ],
             [
              0.8888888888888888,
              "#fdca26"
             ],
             [
              1,
              "#f0f921"
             ]
            ],
            "type": "surface"
           }
          ],
          "table": [
           {
            "cells": {
             "fill": {
              "color": "#EBF0F8"
             },
             "line": {
              "color": "white"
             }
            },
            "header": {
             "fill": {
              "color": "#C8D4E3"
             },
             "line": {
              "color": "white"
             }
            },
            "type": "table"
           }
          ]
         },
         "layout": {
          "annotationdefaults": {
           "arrowcolor": "#2a3f5f",
           "arrowhead": 0,
           "arrowwidth": 1
          },
          "autotypenumbers": "strict",
          "coloraxis": {
           "colorbar": {
            "outlinewidth": 0,
            "ticks": ""
           }
          },
          "colorscale": {
           "diverging": [
            [
             0,
             "#8e0152"
            ],
            [
             0.1,
             "#c51b7d"
            ],
            [
             0.2,
             "#de77ae"
            ],
            [
             0.3,
             "#f1b6da"
            ],
            [
             0.4,
             "#fde0ef"
            ],
            [
             0.5,
             "#f7f7f7"
            ],
            [
             0.6,
             "#e6f5d0"
            ],
            [
             0.7,
             "#b8e186"
            ],
            [
             0.8,
             "#7fbc41"
            ],
            [
             0.9,
             "#4d9221"
            ],
            [
             1,
             "#276419"
            ]
           ],
           "sequential": [
            [
             0,
             "#0d0887"
            ],
            [
             0.1111111111111111,
             "#46039f"
            ],
            [
             0.2222222222222222,
             "#7201a8"
            ],
            [
             0.3333333333333333,
             "#9c179e"
            ],
            [
             0.4444444444444444,
             "#bd3786"
            ],
            [
             0.5555555555555556,
             "#d8576b"
            ],
            [
             0.6666666666666666,
             "#ed7953"
            ],
            [
             0.7777777777777778,
             "#fb9f3a"
            ],
            [
             0.8888888888888888,
             "#fdca26"
            ],
            [
             1,
             "#f0f921"
            ]
           ],
           "sequentialminus": [
            [
             0,
             "#0d0887"
            ],
            [
             0.1111111111111111,
             "#46039f"
            ],
            [
             0.2222222222222222,
             "#7201a8"
            ],
            [
             0.3333333333333333,
             "#9c179e"
            ],
            [
             0.4444444444444444,
             "#bd3786"
            ],
            [
             0.5555555555555556,
             "#d8576b"
            ],
            [
             0.6666666666666666,
             "#ed7953"
            ],
            [
             0.7777777777777778,
             "#fb9f3a"
            ],
            [
             0.8888888888888888,
             "#fdca26"
            ],
            [
             1,
             "#f0f921"
            ]
           ]
          },
          "colorway": [
           "#636efa",
           "#EF553B",
           "#00cc96",
           "#ab63fa",
           "#FFA15A",
           "#19d3f3",
           "#FF6692",
           "#B6E880",
           "#FF97FF",
           "#FECB52"
          ],
          "font": {
           "color": "#2a3f5f"
          },
          "geo": {
           "bgcolor": "white",
           "lakecolor": "white",
           "landcolor": "#E5ECF6",
           "showlakes": true,
           "showland": true,
           "subunitcolor": "white"
          },
          "hoverlabel": {
           "align": "left"
          },
          "hovermode": "closest",
          "mapbox": {
           "style": "light"
          },
          "paper_bgcolor": "white",
          "plot_bgcolor": "#E5ECF6",
          "polar": {
           "angularaxis": {
            "gridcolor": "white",
            "linecolor": "white",
            "ticks": ""
           },
           "bgcolor": "#E5ECF6",
           "radialaxis": {
            "gridcolor": "white",
            "linecolor": "white",
            "ticks": ""
           }
          },
          "scene": {
           "xaxis": {
            "backgroundcolor": "#E5ECF6",
            "gridcolor": "white",
            "gridwidth": 2,
            "linecolor": "white",
            "showbackground": true,
            "ticks": "",
            "zerolinecolor": "white"
           },
           "yaxis": {
            "backgroundcolor": "#E5ECF6",
            "gridcolor": "white",
            "gridwidth": 2,
            "linecolor": "white",
            "showbackground": true,
            "ticks": "",
            "zerolinecolor": "white"
           },
           "zaxis": {
            "backgroundcolor": "#E5ECF6",
            "gridcolor": "white",
            "gridwidth": 2,
            "linecolor": "white",
            "showbackground": true,
            "ticks": "",
            "zerolinecolor": "white"
           }
          },
          "shapedefaults": {
           "line": {
            "color": "#2a3f5f"
           }
          },
          "ternary": {
           "aaxis": {
            "gridcolor": "white",
            "linecolor": "white",
            "ticks": ""
           },
           "baxis": {
            "gridcolor": "white",
            "linecolor": "white",
            "ticks": ""
           },
           "bgcolor": "#E5ECF6",
           "caxis": {
            "gridcolor": "white",
            "linecolor": "white",
            "ticks": ""
           }
          },
          "title": {
           "x": 0.05
          },
          "xaxis": {
           "automargin": true,
           "gridcolor": "white",
           "linecolor": "white",
           "ticks": "",
           "title": {
            "standoff": 15
           },
           "zerolinecolor": "white",
           "zerolinewidth": 2
          },
          "yaxis": {
           "automargin": true,
           "gridcolor": "white",
           "linecolor": "white",
           "ticks": "",
           "title": {
            "standoff": 15
           },
           "zerolinecolor": "white",
           "zerolinewidth": 2
          }
         }
        },
        "title": {
         "text": "Repeat Sender Sum (Number of Ticks > 100)",
         "x": 0.5
        },
        "width": 800,
        "xaxis": {
         "anchor": "y",
         "domain": [
          0,
          1
         ],
         "title": {
          "text": "Lead Ratio"
         }
        },
        "xaxis2": {
         "anchor": "y2",
         "domain": [
          0,
          1
         ],
         "matches": "x",
         "showgrid": true,
         "showticklabels": false
        },
        "yaxis": {
         "anchor": "x",
         "domain": [
          0,
          0.7326
         ],
         "title": {
          "text": "count"
         }
        },
        "yaxis2": {
         "anchor": "x2",
         "domain": [
          0.7426,
          1
         ],
         "matches": "y2",
         "showgrid": false,
         "showline": false,
         "showticklabels": false,
         "ticks": ""
        }
       }
      }
     },
     "metadata": {},
     "output_type": "display_data"
    }
   ],
   "source": [
    "col=df['Repeat Sender Sum']\n",
    "\n",
    "fig1 = px.histogram(col, marginal='box', width=800, title=\"Repeat Sender Sum (Number of Ticks > 100)\")\n",
    "fig1.update_layout(showlegend=False, title_x=0.5)\n",
    "fig1.update_xaxes(title=\"Lead Ratio\", row=1,col=1, range=_)"
   ]
  },
  {
   "cell_type": "code",
   "execution_count": 331,
   "metadata": {},
   "outputs": [
    {
     "data": {
      "text/html": [
       "<div>\n",
       "<style scoped>\n",
       "    .dataframe tbody tr th:only-of-type {\n",
       "        vertical-align: middle;\n",
       "    }\n",
       "\n",
       "    .dataframe tbody tr th {\n",
       "        vertical-align: top;\n",
       "    }\n",
       "\n",
       "    .dataframe thead th {\n",
       "        text-align: right;\n",
       "    }\n",
       "</style>\n",
       "<table border=\"1\" class=\"dataframe\">\n",
       "  <thead>\n",
       "    <tr style=\"text-align: right;\">\n",
       "      <th></th>\n",
       "      <th>Route</th>\n",
       "      <th>Repeat Sender Sum</th>\n",
       "    </tr>\n",
       "  </thead>\n",
       "  <tbody>\n",
       "    <tr>\n",
       "      <th>354</th>\n",
       "      <td>Blue Sun</td>\n",
       "      <td>714</td>\n",
       "    </tr>\n",
       "    <tr>\n",
       "      <th>149</th>\n",
       "      <td>Incredible Hand Crack</td>\n",
       "      <td>655</td>\n",
       "    </tr>\n",
       "    <tr>\n",
       "      <th>148</th>\n",
       "      <td>Supercrack of the Desert</td>\n",
       "      <td>654</td>\n",
       "    </tr>\n",
       "    <tr>\n",
       "      <th>141</th>\n",
       "      <td>Twin Cracks</td>\n",
       "      <td>623</td>\n",
       "    </tr>\n",
       "    <tr>\n",
       "      <th>3</th>\n",
       "      <td>Chocolate Corner</td>\n",
       "      <td>587</td>\n",
       "    </tr>\n",
       "    <tr>\n",
       "      <th>4</th>\n",
       "      <td>Generic Crack</td>\n",
       "      <td>581</td>\n",
       "    </tr>\n",
       "    <tr>\n",
       "      <th>1</th>\n",
       "      <td>Binou's Crack</td>\n",
       "      <td>539</td>\n",
       "    </tr>\n",
       "    <tr>\n",
       "      <th>135</th>\n",
       "      <td>Scarface</td>\n",
       "      <td>417</td>\n",
       "    </tr>\n",
       "    <tr>\n",
       "      <th>114</th>\n",
       "      <td>Wavy Gravy</td>\n",
       "      <td>332</td>\n",
       "    </tr>\n",
       "    <tr>\n",
       "      <th>236</th>\n",
       "      <td>South Face</td>\n",
       "      <td>325</td>\n",
       "    </tr>\n",
       "    <tr>\n",
       "      <th>510</th>\n",
       "      <td>Sparkling Zygote</td>\n",
       "      <td>324</td>\n",
       "    </tr>\n",
       "    <tr>\n",
       "      <th>352</th>\n",
       "      <td>Rochambeau</td>\n",
       "      <td>302</td>\n",
       "    </tr>\n",
       "    <tr>\n",
       "      <th>632</th>\n",
       "      <td>Hand Solo</td>\n",
       "      <td>298</td>\n",
       "    </tr>\n",
       "    <tr>\n",
       "      <th>5</th>\n",
       "      <td>Elephant Man</td>\n",
       "      <td>297</td>\n",
       "    </tr>\n",
       "    <tr>\n",
       "      <th>154</th>\n",
       "      <td>3AM Crack</td>\n",
       "      <td>292</td>\n",
       "    </tr>\n",
       "    <tr>\n",
       "      <th>248</th>\n",
       "      <td>Neat</td>\n",
       "      <td>237</td>\n",
       "    </tr>\n",
       "    <tr>\n",
       "      <th>24</th>\n",
       "      <td>Railroad Tracks</td>\n",
       "      <td>237</td>\n",
       "    </tr>\n",
       "    <tr>\n",
       "      <th>34</th>\n",
       "      <td>Cave Route</td>\n",
       "      <td>228</td>\n",
       "    </tr>\n",
       "    <tr>\n",
       "      <th>1144</th>\n",
       "      <td>Annunaki</td>\n",
       "      <td>224</td>\n",
       "    </tr>\n",
       "    <tr>\n",
       "      <th>21</th>\n",
       "      <td>Unnamed 5.10 LF flake in deep corner</td>\n",
       "      <td>221</td>\n",
       "    </tr>\n",
       "    <tr>\n",
       "      <th>201</th>\n",
       "      <td>Tom Cat</td>\n",
       "      <td>220</td>\n",
       "    </tr>\n",
       "    <tr>\n",
       "      <th>171</th>\n",
       "      <td>Jolly Rancher</td>\n",
       "      <td>208</td>\n",
       "    </tr>\n",
       "    <tr>\n",
       "      <th>111</th>\n",
       "      <td>Italian Combo</td>\n",
       "      <td>205</td>\n",
       "    </tr>\n",
       "    <tr>\n",
       "      <th>1353</th>\n",
       "      <td>Go Sparky Go</td>\n",
       "      <td>204</td>\n",
       "    </tr>\n",
       "    <tr>\n",
       "      <th>1351</th>\n",
       "      <td>Jupiter Crack</td>\n",
       "      <td>190</td>\n",
       "    </tr>\n",
       "    <tr>\n",
       "      <th>264</th>\n",
       "      <td>Soul Fire</td>\n",
       "      <td>190</td>\n",
       "    </tr>\n",
       "    <tr>\n",
       "      <th>245</th>\n",
       "      <td>Lady Pillar</td>\n",
       "      <td>185</td>\n",
       "    </tr>\n",
       "    <tr>\n",
       "      <th>353</th>\n",
       "      <td>Way Putter</td>\n",
       "      <td>181</td>\n",
       "    </tr>\n",
       "    <tr>\n",
       "      <th>816</th>\n",
       "      <td>Lightning Bolt Crack</td>\n",
       "      <td>174</td>\n",
       "    </tr>\n",
       "    <tr>\n",
       "      <th>107</th>\n",
       "      <td>Spam</td>\n",
       "      <td>170</td>\n",
       "    </tr>\n",
       "  </tbody>\n",
       "</table>\n",
       "</div>"
      ],
      "text/plain": [
       "                                     Route  Repeat Sender Sum\n",
       "354                               Blue Sun                714\n",
       "149                  Incredible Hand Crack                655\n",
       "148               Supercrack of the Desert                654\n",
       "141                            Twin Cracks                623\n",
       "3                         Chocolate Corner                587\n",
       "4                            Generic Crack                581\n",
       "1                            Binou's Crack                539\n",
       "135                               Scarface                417\n",
       "114                             Wavy Gravy                332\n",
       "236                             South Face                325\n",
       "510                       Sparkling Zygote                324\n",
       "352                             Rochambeau                302\n",
       "632                              Hand Solo                298\n",
       "5                             Elephant Man                297\n",
       "154                              3AM Crack                292\n",
       "248                                   Neat                237\n",
       "24                         Railroad Tracks                237\n",
       "34                              Cave Route                228\n",
       "1144                              Annunaki                224\n",
       "21    Unnamed 5.10 LF flake in deep corner                221\n",
       "201                                Tom Cat                220\n",
       "171                          Jolly Rancher                208\n",
       "111                          Italian Combo                205\n",
       "1353                          Go Sparky Go                204\n",
       "1351                         Jupiter Crack                190\n",
       "264                              Soul Fire                190\n",
       "245                            Lady Pillar                185\n",
       "353                             Way Putter                181\n",
       "816                   Lightning Bolt Crack                174\n",
       "107                                   Spam                170"
      ]
     },
     "execution_count": 331,
     "metadata": {},
     "output_type": "execute_result"
    }
   ],
   "source": [
    "df.sort_values('Repeat Sender Sum', ascending=False)[0:30][['Route', 'Repeat Sender Sum']]\n",
    "# Most of these are repeats of top ticked climbs, with notable exceptions of\n",
    "# Dr. Carl\n",
    "# Jupiter Crack\n",
    "# Lady Pillar\n",
    "# Lightning Bolt Crack\n",
    "# Unnamed 5.10 LF flake in deep corner"
   ]
  },
  {
   "cell_type": "code",
   "execution_count": 332,
   "metadata": {},
   "outputs": [
    {
     "data": {
      "application/vnd.plotly.v1+json": {
       "config": {
        "plotlyServerURL": "https://plot.ly"
       },
       "data": [
        {
         "alignmentgroup": "True",
         "bingroup": "x",
         "hovertemplate": "variable=Normalized Repeat Sender Sum<br>value=%{x}<br>count=%{y}<extra></extra>",
         "legendgroup": "Normalized Repeat Sender Sum",
         "marker": {
          "color": "#636efa",
          "pattern": {
           "shape": ""
          }
         },
         "name": "Normalized Repeat Sender Sum",
         "offsetgroup": "Normalized Repeat Sender Sum",
         "orientation": "v",
         "showlegend": true,
         "type": "histogram",
         "x": [
          0.5175438596491229,
          0.46616541353383456,
          0.4513888888888889,
          0.44785276073619634,
          0.44651162790697674,
          0.42242503259452413,
          0.4195804195804196,
          0.3984375,
          0.3968253968253968,
          0.3923076923076923,
          0.392,
          0.39094650205761317,
          0.38235294117647056,
          0.3786531130876747,
          0.37777777777777777,
          0.3699421965317919,
          0.3671875,
          0.3630769230769231,
          0.353099730458221,
          0.35294117647058826,
          0.3514376996805112,
          0.35,
          0.3445544554455445,
          0.34421364985163205,
          0.3423076923076923,
          0.34183673469387754,
          0.3389830508474576,
          0.3372093023255814,
          0.33675675675675676,
          0.33663366336633666,
          0.3333333333333333,
          0.329608938547486,
          0.32722273143904673,
          0.32673267326732675,
          0.31843575418994413,
          0.31436699857752487,
          0.3135593220338983,
          0.3125,
          0.3107344632768362,
          0.3103448275862069,
          0.30492424242424243,
          0.3046875,
          0.3036649214659686,
          0.3017241379310345,
          0.3,
          0.3,
          0.2992125984251969,
          0.2980769230769231,
          0.29535864978902954,
          0.2935153583617747,
          0.29245283018867924,
          0.2920353982300885,
          0.291044776119403,
          0.2909090909090909,
          0.290437890974084,
          0.289272030651341,
          0.2891566265060241,
          0.28699551569506726,
          0.2857142857142857,
          0.28314917127071826,
          0.28125,
          0.28104575163398693,
          0.2808219178082192,
          0.2803738317757009,
          0.2802547770700637,
          0.2794759825327511,
          0.27941176470588236,
          0.27872340425531916,
          0.2784090909090909,
          0.2781954887218045,
          0.27461139896373055,
          0.2743362831858407,
          0.2716049382716049,
          0.2701612903225806,
          0.26948480845442535,
          0.2685624012638231,
          0.26719278466741825,
          0.2670157068062827,
          0.266304347826087,
          0.26455026455026454,
          0.26296296296296295,
          0.26282051282051283,
          0.2625,
          0.26199261992619927,
          0.26181818181818184,
          0.2613981762917933,
          0.2608695652173913,
          0.2595936794582393,
          0.25842696629213485,
          0.25842696629213485,
          0.25742574257425743,
          0.2573099415204678,
          0.25688073394495414,
          0.2561576354679803,
          0.2549019607843137,
          0.2536231884057971,
          0.25301204819277107,
          0.25217391304347825,
          0.25215889464594127,
          0.2519561815336463,
          0.2514792899408284,
          0.2496551724137931,
          0.2485207100591716,
          0.24772036474164133,
          0.24719101123595505,
          0.24675324675324675,
          0.24665676077265974,
          0.24603174603174602,
          0.24571428571428572,
          0.2440944881889764,
          0.242914979757085,
          0.24281150159744408,
          0.24273504273504273,
          0.24188176519567028,
          0.2412280701754386,
          0.23825503355704697,
          0.23809523809523808,
          0.23567567567567568,
          0.23464912280701755,
          0.2345132743362832,
          0.23423423423423423,
          0.23399014778325122,
          0.23333333333333334,
          0.23229461756373937,
          0.2318840579710145,
          0.22935779816513763,
          0.22895622895622897,
          0.22760759984490112,
          0.22758620689655173,
          0.22608695652173913,
          0.22580645161290322,
          0.22580645161290322,
          0.22560975609756098,
          0.22549019607843138,
          0.225130890052356,
          0.2246376811594203,
          0.2237871674491393,
          0.2236842105263158,
          0.22364217252396165,
          0.2236024844720497,
          0.2235494880546075,
          0.22330097087378642,
          0.2222222222222222,
          0.221875,
          0.22183098591549297,
          0.22075172048703018,
          0.2202852614896989,
          0.2196969696969697,
          0.21902654867256638,
          0.2184873949579832,
          0.21787709497206703,
          0.2178477690288714,
          0.21768707482993196,
          0.21768707482993196,
          0.21739130434782608,
          0.21714285714285714,
          0.2169811320754717,
          0.21669980119284293,
          0.21649484536082475,
          0.21636615811373092,
          0.21634615384615385,
          0.21624087591240876,
          0.21568627450980393,
          0.21481481481481482,
          0.21428571428571427,
          0.21428571428571427,
          0.21008403361344538,
          0.2074074074074074,
          0.2072072072072072,
          0.20657276995305165,
          0.20588235294117646,
          0.20454545454545456,
          0.20444444444444446,
          0.20430107526881722,
          0.20207253886010362,
          0.20042643923240938,
          0.2,
          0.1994535519125683,
          0.19838056680161945,
          0.19747899159663865,
          0.19718309859154928,
          0.1951219512195122,
          0.19469026548672566,
          0.19440745672436752,
          0.1940700808625337,
          0.19393939393939394,
          0.1935483870967742,
          0.1935483870967742,
          0.19327731092436976,
          0.19298245614035087,
          0.1925133689839572,
          0.19238095238095237,
          0.19181034482758622,
          0.19158878504672897,
          0.1901840490797546,
          0.18861209964412812,
          0.18575851393188855,
          0.18571428571428572,
          0.18565400843881857,
          0.18518518518518517,
          0.18505942275042445,
          0.18450184501845018,
          0.18396226415094338,
          0.183206106870229,
          0.18313253012048192,
          0.18181818181818182,
          0.18153846153846154,
          0.18151815181518152,
          0.1813765182186235,
          0.1796875,
          0.17857142857142858,
          0.17763157894736842,
          0.17692307692307693,
          0.17679558011049723,
          0.17333333333333334,
          0.17248062015503876,
          0.17142857142857143,
          0.17042606516290726,
          0.17012448132780084,
          0.168141592920354,
          0.16802168021680217,
          0.1678832116788321,
          0.16751269035532995,
          0.1656441717791411,
          0.16546762589928057,
          0.16346153846153846,
          0.16111111111111112,
          0.16071428571428573,
          0.16058394160583941,
          0.15702479338842976,
          0.1568627450980392,
          0.15625,
          0.1540084388185654,
          0.1504424778761062,
          0.1497005988023952,
          0.14953271028037382,
          0.1490280777537797,
          0.14457831325301204,
          0.14285714285714285,
          0.1409090909090909,
          0.14084507042253522,
          0.13953488372093023,
          0.13897280966767372,
          0.13817330210772832,
          0.13705583756345177,
          0.136986301369863,
          0.13357400722021662,
          0.1323529411764706,
          0.13114754098360656,
          0.13043478260869565,
          0.13043478260869565,
          0.12941176470588237,
          0.1276595744680851,
          0.1264,
          0.125,
          0.12447257383966245,
          0.12043795620437957,
          0.11979166666666667,
          0.11904761904761904,
          0.11594202898550725,
          0.11587982832618025,
          0.112,
          0.11170212765957446,
          0.10995850622406639,
          0.10963455149501661,
          0.10676156583629894,
          0.10479797979797979,
          0.10457516339869281,
          0.10303030303030303,
          0.1,
          0.09859154929577464,
          0.09333333333333334,
          0.0931174089068826,
          0.09080325960419092,
          0.09,
          0.08333333333333333,
          0.08108108108108109,
          0.07746478873239436,
          0.07627118644067797,
          0.0752212389380531,
          0.075,
          0.064,
          0.057777777777777775,
          0.044642857142857144,
          0.03870967741935484,
          0.027972027972027972,
          0.027149321266968326,
          0.026785714285714284
         ],
         "xaxis": "x",
         "yaxis": "y"
        },
        {
         "alignmentgroup": "True",
         "hovertemplate": "variable=Normalized Repeat Sender Sum<br>value=%{x}<extra></extra>",
         "legendgroup": "Normalized Repeat Sender Sum",
         "marker": {
          "color": "#636efa"
         },
         "name": "Normalized Repeat Sender Sum",
         "notched": true,
         "offsetgroup": "Normalized Repeat Sender Sum",
         "showlegend": false,
         "type": "box",
         "x": [
          0.5175438596491229,
          0.46616541353383456,
          0.4513888888888889,
          0.44785276073619634,
          0.44651162790697674,
          0.42242503259452413,
          0.4195804195804196,
          0.3984375,
          0.3968253968253968,
          0.3923076923076923,
          0.392,
          0.39094650205761317,
          0.38235294117647056,
          0.3786531130876747,
          0.37777777777777777,
          0.3699421965317919,
          0.3671875,
          0.3630769230769231,
          0.353099730458221,
          0.35294117647058826,
          0.3514376996805112,
          0.35,
          0.3445544554455445,
          0.34421364985163205,
          0.3423076923076923,
          0.34183673469387754,
          0.3389830508474576,
          0.3372093023255814,
          0.33675675675675676,
          0.33663366336633666,
          0.3333333333333333,
          0.329608938547486,
          0.32722273143904673,
          0.32673267326732675,
          0.31843575418994413,
          0.31436699857752487,
          0.3135593220338983,
          0.3125,
          0.3107344632768362,
          0.3103448275862069,
          0.30492424242424243,
          0.3046875,
          0.3036649214659686,
          0.3017241379310345,
          0.3,
          0.3,
          0.2992125984251969,
          0.2980769230769231,
          0.29535864978902954,
          0.2935153583617747,
          0.29245283018867924,
          0.2920353982300885,
          0.291044776119403,
          0.2909090909090909,
          0.290437890974084,
          0.289272030651341,
          0.2891566265060241,
          0.28699551569506726,
          0.2857142857142857,
          0.28314917127071826,
          0.28125,
          0.28104575163398693,
          0.2808219178082192,
          0.2803738317757009,
          0.2802547770700637,
          0.2794759825327511,
          0.27941176470588236,
          0.27872340425531916,
          0.2784090909090909,
          0.2781954887218045,
          0.27461139896373055,
          0.2743362831858407,
          0.2716049382716049,
          0.2701612903225806,
          0.26948480845442535,
          0.2685624012638231,
          0.26719278466741825,
          0.2670157068062827,
          0.266304347826087,
          0.26455026455026454,
          0.26296296296296295,
          0.26282051282051283,
          0.2625,
          0.26199261992619927,
          0.26181818181818184,
          0.2613981762917933,
          0.2608695652173913,
          0.2595936794582393,
          0.25842696629213485,
          0.25842696629213485,
          0.25742574257425743,
          0.2573099415204678,
          0.25688073394495414,
          0.2561576354679803,
          0.2549019607843137,
          0.2536231884057971,
          0.25301204819277107,
          0.25217391304347825,
          0.25215889464594127,
          0.2519561815336463,
          0.2514792899408284,
          0.2496551724137931,
          0.2485207100591716,
          0.24772036474164133,
          0.24719101123595505,
          0.24675324675324675,
          0.24665676077265974,
          0.24603174603174602,
          0.24571428571428572,
          0.2440944881889764,
          0.242914979757085,
          0.24281150159744408,
          0.24273504273504273,
          0.24188176519567028,
          0.2412280701754386,
          0.23825503355704697,
          0.23809523809523808,
          0.23567567567567568,
          0.23464912280701755,
          0.2345132743362832,
          0.23423423423423423,
          0.23399014778325122,
          0.23333333333333334,
          0.23229461756373937,
          0.2318840579710145,
          0.22935779816513763,
          0.22895622895622897,
          0.22760759984490112,
          0.22758620689655173,
          0.22608695652173913,
          0.22580645161290322,
          0.22580645161290322,
          0.22560975609756098,
          0.22549019607843138,
          0.225130890052356,
          0.2246376811594203,
          0.2237871674491393,
          0.2236842105263158,
          0.22364217252396165,
          0.2236024844720497,
          0.2235494880546075,
          0.22330097087378642,
          0.2222222222222222,
          0.221875,
          0.22183098591549297,
          0.22075172048703018,
          0.2202852614896989,
          0.2196969696969697,
          0.21902654867256638,
          0.2184873949579832,
          0.21787709497206703,
          0.2178477690288714,
          0.21768707482993196,
          0.21768707482993196,
          0.21739130434782608,
          0.21714285714285714,
          0.2169811320754717,
          0.21669980119284293,
          0.21649484536082475,
          0.21636615811373092,
          0.21634615384615385,
          0.21624087591240876,
          0.21568627450980393,
          0.21481481481481482,
          0.21428571428571427,
          0.21428571428571427,
          0.21008403361344538,
          0.2074074074074074,
          0.2072072072072072,
          0.20657276995305165,
          0.20588235294117646,
          0.20454545454545456,
          0.20444444444444446,
          0.20430107526881722,
          0.20207253886010362,
          0.20042643923240938,
          0.2,
          0.1994535519125683,
          0.19838056680161945,
          0.19747899159663865,
          0.19718309859154928,
          0.1951219512195122,
          0.19469026548672566,
          0.19440745672436752,
          0.1940700808625337,
          0.19393939393939394,
          0.1935483870967742,
          0.1935483870967742,
          0.19327731092436976,
          0.19298245614035087,
          0.1925133689839572,
          0.19238095238095237,
          0.19181034482758622,
          0.19158878504672897,
          0.1901840490797546,
          0.18861209964412812,
          0.18575851393188855,
          0.18571428571428572,
          0.18565400843881857,
          0.18518518518518517,
          0.18505942275042445,
          0.18450184501845018,
          0.18396226415094338,
          0.183206106870229,
          0.18313253012048192,
          0.18181818181818182,
          0.18153846153846154,
          0.18151815181518152,
          0.1813765182186235,
          0.1796875,
          0.17857142857142858,
          0.17763157894736842,
          0.17692307692307693,
          0.17679558011049723,
          0.17333333333333334,
          0.17248062015503876,
          0.17142857142857143,
          0.17042606516290726,
          0.17012448132780084,
          0.168141592920354,
          0.16802168021680217,
          0.1678832116788321,
          0.16751269035532995,
          0.1656441717791411,
          0.16546762589928057,
          0.16346153846153846,
          0.16111111111111112,
          0.16071428571428573,
          0.16058394160583941,
          0.15702479338842976,
          0.1568627450980392,
          0.15625,
          0.1540084388185654,
          0.1504424778761062,
          0.1497005988023952,
          0.14953271028037382,
          0.1490280777537797,
          0.14457831325301204,
          0.14285714285714285,
          0.1409090909090909,
          0.14084507042253522,
          0.13953488372093023,
          0.13897280966767372,
          0.13817330210772832,
          0.13705583756345177,
          0.136986301369863,
          0.13357400722021662,
          0.1323529411764706,
          0.13114754098360656,
          0.13043478260869565,
          0.13043478260869565,
          0.12941176470588237,
          0.1276595744680851,
          0.1264,
          0.125,
          0.12447257383966245,
          0.12043795620437957,
          0.11979166666666667,
          0.11904761904761904,
          0.11594202898550725,
          0.11587982832618025,
          0.112,
          0.11170212765957446,
          0.10995850622406639,
          0.10963455149501661,
          0.10676156583629894,
          0.10479797979797979,
          0.10457516339869281,
          0.10303030303030303,
          0.1,
          0.09859154929577464,
          0.09333333333333334,
          0.0931174089068826,
          0.09080325960419092,
          0.09,
          0.08333333333333333,
          0.08108108108108109,
          0.07746478873239436,
          0.07627118644067797,
          0.0752212389380531,
          0.075,
          0.064,
          0.057777777777777775,
          0.044642857142857144,
          0.03870967741935484,
          0.027972027972027972,
          0.027149321266968326,
          0.026785714285714284
         ],
         "xaxis": "x2",
         "yaxis": "y2"
        }
       ],
       "layout": {
        "barmode": "relative",
        "legend": {
         "title": {
          "text": "variable"
         },
         "tracegroupgap": 0
        },
        "showlegend": false,
        "template": {
         "data": {
          "bar": [
           {
            "error_x": {
             "color": "#2a3f5f"
            },
            "error_y": {
             "color": "#2a3f5f"
            },
            "marker": {
             "line": {
              "color": "#E5ECF6",
              "width": 0.5
             },
             "pattern": {
              "fillmode": "overlay",
              "size": 10,
              "solidity": 0.2
             }
            },
            "type": "bar"
           }
          ],
          "barpolar": [
           {
            "marker": {
             "line": {
              "color": "#E5ECF6",
              "width": 0.5
             },
             "pattern": {
              "fillmode": "overlay",
              "size": 10,
              "solidity": 0.2
             }
            },
            "type": "barpolar"
           }
          ],
          "carpet": [
           {
            "aaxis": {
             "endlinecolor": "#2a3f5f",
             "gridcolor": "white",
             "linecolor": "white",
             "minorgridcolor": "white",
             "startlinecolor": "#2a3f5f"
            },
            "baxis": {
             "endlinecolor": "#2a3f5f",
             "gridcolor": "white",
             "linecolor": "white",
             "minorgridcolor": "white",
             "startlinecolor": "#2a3f5f"
            },
            "type": "carpet"
           }
          ],
          "choropleth": [
           {
            "colorbar": {
             "outlinewidth": 0,
             "ticks": ""
            },
            "type": "choropleth"
           }
          ],
          "contour": [
           {
            "colorbar": {
             "outlinewidth": 0,
             "ticks": ""
            },
            "colorscale": [
             [
              0,
              "#0d0887"
             ],
             [
              0.1111111111111111,
              "#46039f"
             ],
             [
              0.2222222222222222,
              "#7201a8"
             ],
             [
              0.3333333333333333,
              "#9c179e"
             ],
             [
              0.4444444444444444,
              "#bd3786"
             ],
             [
              0.5555555555555556,
              "#d8576b"
             ],
             [
              0.6666666666666666,
              "#ed7953"
             ],
             [
              0.7777777777777778,
              "#fb9f3a"
             ],
             [
              0.8888888888888888,
              "#fdca26"
             ],
             [
              1,
              "#f0f921"
             ]
            ],
            "type": "contour"
           }
          ],
          "contourcarpet": [
           {
            "colorbar": {
             "outlinewidth": 0,
             "ticks": ""
            },
            "type": "contourcarpet"
           }
          ],
          "heatmap": [
           {
            "colorbar": {
             "outlinewidth": 0,
             "ticks": ""
            },
            "colorscale": [
             [
              0,
              "#0d0887"
             ],
             [
              0.1111111111111111,
              "#46039f"
             ],
             [
              0.2222222222222222,
              "#7201a8"
             ],
             [
              0.3333333333333333,
              "#9c179e"
             ],
             [
              0.4444444444444444,
              "#bd3786"
             ],
             [
              0.5555555555555556,
              "#d8576b"
             ],
             [
              0.6666666666666666,
              "#ed7953"
             ],
             [
              0.7777777777777778,
              "#fb9f3a"
             ],
             [
              0.8888888888888888,
              "#fdca26"
             ],
             [
              1,
              "#f0f921"
             ]
            ],
            "type": "heatmap"
           }
          ],
          "heatmapgl": [
           {
            "colorbar": {
             "outlinewidth": 0,
             "ticks": ""
            },
            "colorscale": [
             [
              0,
              "#0d0887"
             ],
             [
              0.1111111111111111,
              "#46039f"
             ],
             [
              0.2222222222222222,
              "#7201a8"
             ],
             [
              0.3333333333333333,
              "#9c179e"
             ],
             [
              0.4444444444444444,
              "#bd3786"
             ],
             [
              0.5555555555555556,
              "#d8576b"
             ],
             [
              0.6666666666666666,
              "#ed7953"
             ],
             [
              0.7777777777777778,
              "#fb9f3a"
             ],
             [
              0.8888888888888888,
              "#fdca26"
             ],
             [
              1,
              "#f0f921"
             ]
            ],
            "type": "heatmapgl"
           }
          ],
          "histogram": [
           {
            "marker": {
             "pattern": {
              "fillmode": "overlay",
              "size": 10,
              "solidity": 0.2
             }
            },
            "type": "histogram"
           }
          ],
          "histogram2d": [
           {
            "colorbar": {
             "outlinewidth": 0,
             "ticks": ""
            },
            "colorscale": [
             [
              0,
              "#0d0887"
             ],
             [
              0.1111111111111111,
              "#46039f"
             ],
             [
              0.2222222222222222,
              "#7201a8"
             ],
             [
              0.3333333333333333,
              "#9c179e"
             ],
             [
              0.4444444444444444,
              "#bd3786"
             ],
             [
              0.5555555555555556,
              "#d8576b"
             ],
             [
              0.6666666666666666,
              "#ed7953"
             ],
             [
              0.7777777777777778,
              "#fb9f3a"
             ],
             [
              0.8888888888888888,
              "#fdca26"
             ],
             [
              1,
              "#f0f921"
             ]
            ],
            "type": "histogram2d"
           }
          ],
          "histogram2dcontour": [
           {
            "colorbar": {
             "outlinewidth": 0,
             "ticks": ""
            },
            "colorscale": [
             [
              0,
              "#0d0887"
             ],
             [
              0.1111111111111111,
              "#46039f"
             ],
             [
              0.2222222222222222,
              "#7201a8"
             ],
             [
              0.3333333333333333,
              "#9c179e"
             ],
             [
              0.4444444444444444,
              "#bd3786"
             ],
             [
              0.5555555555555556,
              "#d8576b"
             ],
             [
              0.6666666666666666,
              "#ed7953"
             ],
             [
              0.7777777777777778,
              "#fb9f3a"
             ],
             [
              0.8888888888888888,
              "#fdca26"
             ],
             [
              1,
              "#f0f921"
             ]
            ],
            "type": "histogram2dcontour"
           }
          ],
          "mesh3d": [
           {
            "colorbar": {
             "outlinewidth": 0,
             "ticks": ""
            },
            "type": "mesh3d"
           }
          ],
          "parcoords": [
           {
            "line": {
             "colorbar": {
              "outlinewidth": 0,
              "ticks": ""
             }
            },
            "type": "parcoords"
           }
          ],
          "pie": [
           {
            "automargin": true,
            "type": "pie"
           }
          ],
          "scatter": [
           {
            "marker": {
             "colorbar": {
              "outlinewidth": 0,
              "ticks": ""
             }
            },
            "type": "scatter"
           }
          ],
          "scatter3d": [
           {
            "line": {
             "colorbar": {
              "outlinewidth": 0,
              "ticks": ""
             }
            },
            "marker": {
             "colorbar": {
              "outlinewidth": 0,
              "ticks": ""
             }
            },
            "type": "scatter3d"
           }
          ],
          "scattercarpet": [
           {
            "marker": {
             "colorbar": {
              "outlinewidth": 0,
              "ticks": ""
             }
            },
            "type": "scattercarpet"
           }
          ],
          "scattergeo": [
           {
            "marker": {
             "colorbar": {
              "outlinewidth": 0,
              "ticks": ""
             }
            },
            "type": "scattergeo"
           }
          ],
          "scattergl": [
           {
            "marker": {
             "colorbar": {
              "outlinewidth": 0,
              "ticks": ""
             }
            },
            "type": "scattergl"
           }
          ],
          "scattermapbox": [
           {
            "marker": {
             "colorbar": {
              "outlinewidth": 0,
              "ticks": ""
             }
            },
            "type": "scattermapbox"
           }
          ],
          "scatterpolar": [
           {
            "marker": {
             "colorbar": {
              "outlinewidth": 0,
              "ticks": ""
             }
            },
            "type": "scatterpolar"
           }
          ],
          "scatterpolargl": [
           {
            "marker": {
             "colorbar": {
              "outlinewidth": 0,
              "ticks": ""
             }
            },
            "type": "scatterpolargl"
           }
          ],
          "scatterternary": [
           {
            "marker": {
             "colorbar": {
              "outlinewidth": 0,
              "ticks": ""
             }
            },
            "type": "scatterternary"
           }
          ],
          "surface": [
           {
            "colorbar": {
             "outlinewidth": 0,
             "ticks": ""
            },
            "colorscale": [
             [
              0,
              "#0d0887"
             ],
             [
              0.1111111111111111,
              "#46039f"
             ],
             [
              0.2222222222222222,
              "#7201a8"
             ],
             [
              0.3333333333333333,
              "#9c179e"
             ],
             [
              0.4444444444444444,
              "#bd3786"
             ],
             [
              0.5555555555555556,
              "#d8576b"
             ],
             [
              0.6666666666666666,
              "#ed7953"
             ],
             [
              0.7777777777777778,
              "#fb9f3a"
             ],
             [
              0.8888888888888888,
              "#fdca26"
             ],
             [
              1,
              "#f0f921"
             ]
            ],
            "type": "surface"
           }
          ],
          "table": [
           {
            "cells": {
             "fill": {
              "color": "#EBF0F8"
             },
             "line": {
              "color": "white"
             }
            },
            "header": {
             "fill": {
              "color": "#C8D4E3"
             },
             "line": {
              "color": "white"
             }
            },
            "type": "table"
           }
          ]
         },
         "layout": {
          "annotationdefaults": {
           "arrowcolor": "#2a3f5f",
           "arrowhead": 0,
           "arrowwidth": 1
          },
          "autotypenumbers": "strict",
          "coloraxis": {
           "colorbar": {
            "outlinewidth": 0,
            "ticks": ""
           }
          },
          "colorscale": {
           "diverging": [
            [
             0,
             "#8e0152"
            ],
            [
             0.1,
             "#c51b7d"
            ],
            [
             0.2,
             "#de77ae"
            ],
            [
             0.3,
             "#f1b6da"
            ],
            [
             0.4,
             "#fde0ef"
            ],
            [
             0.5,
             "#f7f7f7"
            ],
            [
             0.6,
             "#e6f5d0"
            ],
            [
             0.7,
             "#b8e186"
            ],
            [
             0.8,
             "#7fbc41"
            ],
            [
             0.9,
             "#4d9221"
            ],
            [
             1,
             "#276419"
            ]
           ],
           "sequential": [
            [
             0,
             "#0d0887"
            ],
            [
             0.1111111111111111,
             "#46039f"
            ],
            [
             0.2222222222222222,
             "#7201a8"
            ],
            [
             0.3333333333333333,
             "#9c179e"
            ],
            [
             0.4444444444444444,
             "#bd3786"
            ],
            [
             0.5555555555555556,
             "#d8576b"
            ],
            [
             0.6666666666666666,
             "#ed7953"
            ],
            [
             0.7777777777777778,
             "#fb9f3a"
            ],
            [
             0.8888888888888888,
             "#fdca26"
            ],
            [
             1,
             "#f0f921"
            ]
           ],
           "sequentialminus": [
            [
             0,
             "#0d0887"
            ],
            [
             0.1111111111111111,
             "#46039f"
            ],
            [
             0.2222222222222222,
             "#7201a8"
            ],
            [
             0.3333333333333333,
             "#9c179e"
            ],
            [
             0.4444444444444444,
             "#bd3786"
            ],
            [
             0.5555555555555556,
             "#d8576b"
            ],
            [
             0.6666666666666666,
             "#ed7953"
            ],
            [
             0.7777777777777778,
             "#fb9f3a"
            ],
            [
             0.8888888888888888,
             "#fdca26"
            ],
            [
             1,
             "#f0f921"
            ]
           ]
          },
          "colorway": [
           "#636efa",
           "#EF553B",
           "#00cc96",
           "#ab63fa",
           "#FFA15A",
           "#19d3f3",
           "#FF6692",
           "#B6E880",
           "#FF97FF",
           "#FECB52"
          ],
          "font": {
           "color": "#2a3f5f"
          },
          "geo": {
           "bgcolor": "white",
           "lakecolor": "white",
           "landcolor": "#E5ECF6",
           "showlakes": true,
           "showland": true,
           "subunitcolor": "white"
          },
          "hoverlabel": {
           "align": "left"
          },
          "hovermode": "closest",
          "mapbox": {
           "style": "light"
          },
          "paper_bgcolor": "white",
          "plot_bgcolor": "#E5ECF6",
          "polar": {
           "angularaxis": {
            "gridcolor": "white",
            "linecolor": "white",
            "ticks": ""
           },
           "bgcolor": "#E5ECF6",
           "radialaxis": {
            "gridcolor": "white",
            "linecolor": "white",
            "ticks": ""
           }
          },
          "scene": {
           "xaxis": {
            "backgroundcolor": "#E5ECF6",
            "gridcolor": "white",
            "gridwidth": 2,
            "linecolor": "white",
            "showbackground": true,
            "ticks": "",
            "zerolinecolor": "white"
           },
           "yaxis": {
            "backgroundcolor": "#E5ECF6",
            "gridcolor": "white",
            "gridwidth": 2,
            "linecolor": "white",
            "showbackground": true,
            "ticks": "",
            "zerolinecolor": "white"
           },
           "zaxis": {
            "backgroundcolor": "#E5ECF6",
            "gridcolor": "white",
            "gridwidth": 2,
            "linecolor": "white",
            "showbackground": true,
            "ticks": "",
            "zerolinecolor": "white"
           }
          },
          "shapedefaults": {
           "line": {
            "color": "#2a3f5f"
           }
          },
          "ternary": {
           "aaxis": {
            "gridcolor": "white",
            "linecolor": "white",
            "ticks": ""
           },
           "baxis": {
            "gridcolor": "white",
            "linecolor": "white",
            "ticks": ""
           },
           "bgcolor": "#E5ECF6",
           "caxis": {
            "gridcolor": "white",
            "linecolor": "white",
            "ticks": ""
           }
          },
          "title": {
           "x": 0.05
          },
          "xaxis": {
           "automargin": true,
           "gridcolor": "white",
           "linecolor": "white",
           "ticks": "",
           "title": {
            "standoff": 15
           },
           "zerolinecolor": "white",
           "zerolinewidth": 2
          },
          "yaxis": {
           "automargin": true,
           "gridcolor": "white",
           "linecolor": "white",
           "ticks": "",
           "title": {
            "standoff": 15
           },
           "zerolinecolor": "white",
           "zerolinewidth": 2
          }
         }
        },
        "title": {
         "text": "Normalized Repeat Sender Sum (Number of Ticks > 100)",
         "x": 0.5
        },
        "width": 1200,
        "xaxis": {
         "anchor": "y",
         "domain": [
          0,
          1
         ],
         "title": {
          "text": "Normalized Repeat Sender Sum"
         }
        },
        "xaxis2": {
         "anchor": "y2",
         "domain": [
          0,
          1
         ],
         "matches": "x",
         "showgrid": true,
         "showticklabels": false
        },
        "yaxis": {
         "anchor": "x",
         "domain": [
          0,
          0.7326
         ],
         "title": {
          "text": "count"
         }
        },
        "yaxis2": {
         "anchor": "x2",
         "domain": [
          0.7426,
          1
         ],
         "matches": "y2",
         "showgrid": false,
         "showline": false,
         "showticklabels": false,
         "ticks": ""
        }
       }
      }
     },
     "metadata": {},
     "output_type": "display_data"
    }
   ],
   "source": [
    "df['Normalized Repeat Sender Sum'] = df['Repeat Sender Sum'] / df['Num Ticks']\n",
    "fig = px.histogram(df[df['Num Ticks'] > 100].sort_values('Normalized Repeat Sender Sum', ascending=False)['Normalized Repeat Sender Sum'], marginal='box', title='Normalized Repeat Sender Sum (Number of Ticks > 100)', width=1200)\n",
    "fig.update_layout(showlegend=False, title_x=0.5)\n",
    "fig.update_xaxes(title=\"Normalized Repeat Sender Sum\", row=1,col=1, range=_)"
   ]
  },
  {
   "cell_type": "code",
   "execution_count": 74,
   "metadata": {},
   "outputs": [
    {
     "data": {
      "text/plain": [
       "count    288.000000\n",
       "mean       0.224352\n",
       "std        0.084066\n",
       "min        0.026786\n",
       "25%        0.172218\n",
       "50%        0.221853\n",
       "75%        0.272288\n",
       "max        0.517544\n",
       "Name: Normalized Repeat Sender Sum, dtype: float64"
      ]
     },
     "execution_count": 74,
     "metadata": {},
     "output_type": "execute_result"
    }
   ],
   "source": [
    "df[df['Num Ticks'] > 100].sort_values('Normalized Repeat Sender Sum', ascending=False)['Normalized Repeat Sender Sum'].describe()"
   ]
  },
  {
   "cell_type": "code",
   "execution_count": 48,
   "metadata": {},
   "outputs": [
    {
     "data": {
      "application/vnd.plotly.v1+json": {
       "config": {
        "plotlyServerURL": "https://plot.ly"
       },
       "data": [
        {
         "alignmentgroup": "True",
         "bingroup": "x",
         "hovertemplate": "variable=Rating<br>value=%{x}<br>count=%{y}<extra></extra>",
         "legendgroup": "Rating",
         "marker": {
          "color": "#636efa",
          "pattern": {
           "shape": ""
          }
         },
         "name": "Rating",
         "offsetgroup": "Rating",
         "orientation": "v",
         "showlegend": true,
         "type": "histogram",
         "x": [
          "5.9",
          "5.10-",
          "5.10-",
          "5.9+",
          "5.8",
          "5.10-",
          "5.9",
          "5.10-",
          "5.10",
          "5.9",
          "5.10-",
          "5.11",
          "5.9",
          "5.9",
          "5.10+",
          "5.10",
          "5.8",
          "5.9",
          "5.11",
          "5.9",
          "5.10+",
          "5.9",
          "5.8+",
          "5.10+",
          "5.10",
          "5.9",
          "5.9",
          "5.8+",
          "5.10+",
          "5.10-"
         ],
         "xaxis": "x",
         "yaxis": "y"
        }
       ],
       "layout": {
        "barmode": "relative",
        "legend": {
         "title": {
          "text": "variable"
         },
         "tracegroupgap": 0
        },
        "showlegend": false,
        "template": {
         "data": {
          "bar": [
           {
            "error_x": {
             "color": "#2a3f5f"
            },
            "error_y": {
             "color": "#2a3f5f"
            },
            "marker": {
             "line": {
              "color": "#E5ECF6",
              "width": 0.5
             },
             "pattern": {
              "fillmode": "overlay",
              "size": 10,
              "solidity": 0.2
             }
            },
            "type": "bar"
           }
          ],
          "barpolar": [
           {
            "marker": {
             "line": {
              "color": "#E5ECF6",
              "width": 0.5
             },
             "pattern": {
              "fillmode": "overlay",
              "size": 10,
              "solidity": 0.2
             }
            },
            "type": "barpolar"
           }
          ],
          "carpet": [
           {
            "aaxis": {
             "endlinecolor": "#2a3f5f",
             "gridcolor": "white",
             "linecolor": "white",
             "minorgridcolor": "white",
             "startlinecolor": "#2a3f5f"
            },
            "baxis": {
             "endlinecolor": "#2a3f5f",
             "gridcolor": "white",
             "linecolor": "white",
             "minorgridcolor": "white",
             "startlinecolor": "#2a3f5f"
            },
            "type": "carpet"
           }
          ],
          "choropleth": [
           {
            "colorbar": {
             "outlinewidth": 0,
             "ticks": ""
            },
            "type": "choropleth"
           }
          ],
          "contour": [
           {
            "colorbar": {
             "outlinewidth": 0,
             "ticks": ""
            },
            "colorscale": [
             [
              0,
              "#0d0887"
             ],
             [
              0.1111111111111111,
              "#46039f"
             ],
             [
              0.2222222222222222,
              "#7201a8"
             ],
             [
              0.3333333333333333,
              "#9c179e"
             ],
             [
              0.4444444444444444,
              "#bd3786"
             ],
             [
              0.5555555555555556,
              "#d8576b"
             ],
             [
              0.6666666666666666,
              "#ed7953"
             ],
             [
              0.7777777777777778,
              "#fb9f3a"
             ],
             [
              0.8888888888888888,
              "#fdca26"
             ],
             [
              1,
              "#f0f921"
             ]
            ],
            "type": "contour"
           }
          ],
          "contourcarpet": [
           {
            "colorbar": {
             "outlinewidth": 0,
             "ticks": ""
            },
            "type": "contourcarpet"
           }
          ],
          "heatmap": [
           {
            "colorbar": {
             "outlinewidth": 0,
             "ticks": ""
            },
            "colorscale": [
             [
              0,
              "#0d0887"
             ],
             [
              0.1111111111111111,
              "#46039f"
             ],
             [
              0.2222222222222222,
              "#7201a8"
             ],
             [
              0.3333333333333333,
              "#9c179e"
             ],
             [
              0.4444444444444444,
              "#bd3786"
             ],
             [
              0.5555555555555556,
              "#d8576b"
             ],
             [
              0.6666666666666666,
              "#ed7953"
             ],
             [
              0.7777777777777778,
              "#fb9f3a"
             ],
             [
              0.8888888888888888,
              "#fdca26"
             ],
             [
              1,
              "#f0f921"
             ]
            ],
            "type": "heatmap"
           }
          ],
          "heatmapgl": [
           {
            "colorbar": {
             "outlinewidth": 0,
             "ticks": ""
            },
            "colorscale": [
             [
              0,
              "#0d0887"
             ],
             [
              0.1111111111111111,
              "#46039f"
             ],
             [
              0.2222222222222222,
              "#7201a8"
             ],
             [
              0.3333333333333333,
              "#9c179e"
             ],
             [
              0.4444444444444444,
              "#bd3786"
             ],
             [
              0.5555555555555556,
              "#d8576b"
             ],
             [
              0.6666666666666666,
              "#ed7953"
             ],
             [
              0.7777777777777778,
              "#fb9f3a"
             ],
             [
              0.8888888888888888,
              "#fdca26"
             ],
             [
              1,
              "#f0f921"
             ]
            ],
            "type": "heatmapgl"
           }
          ],
          "histogram": [
           {
            "marker": {
             "pattern": {
              "fillmode": "overlay",
              "size": 10,
              "solidity": 0.2
             }
            },
            "type": "histogram"
           }
          ],
          "histogram2d": [
           {
            "colorbar": {
             "outlinewidth": 0,
             "ticks": ""
            },
            "colorscale": [
             [
              0,
              "#0d0887"
             ],
             [
              0.1111111111111111,
              "#46039f"
             ],
             [
              0.2222222222222222,
              "#7201a8"
             ],
             [
              0.3333333333333333,
              "#9c179e"
             ],
             [
              0.4444444444444444,
              "#bd3786"
             ],
             [
              0.5555555555555556,
              "#d8576b"
             ],
             [
              0.6666666666666666,
              "#ed7953"
             ],
             [
              0.7777777777777778,
              "#fb9f3a"
             ],
             [
              0.8888888888888888,
              "#fdca26"
             ],
             [
              1,
              "#f0f921"
             ]
            ],
            "type": "histogram2d"
           }
          ],
          "histogram2dcontour": [
           {
            "colorbar": {
             "outlinewidth": 0,
             "ticks": ""
            },
            "colorscale": [
             [
              0,
              "#0d0887"
             ],
             [
              0.1111111111111111,
              "#46039f"
             ],
             [
              0.2222222222222222,
              "#7201a8"
             ],
             [
              0.3333333333333333,
              "#9c179e"
             ],
             [
              0.4444444444444444,
              "#bd3786"
             ],
             [
              0.5555555555555556,
              "#d8576b"
             ],
             [
              0.6666666666666666,
              "#ed7953"
             ],
             [
              0.7777777777777778,
              "#fb9f3a"
             ],
             [
              0.8888888888888888,
              "#fdca26"
             ],
             [
              1,
              "#f0f921"
             ]
            ],
            "type": "histogram2dcontour"
           }
          ],
          "mesh3d": [
           {
            "colorbar": {
             "outlinewidth": 0,
             "ticks": ""
            },
            "type": "mesh3d"
           }
          ],
          "parcoords": [
           {
            "line": {
             "colorbar": {
              "outlinewidth": 0,
              "ticks": ""
             }
            },
            "type": "parcoords"
           }
          ],
          "pie": [
           {
            "automargin": true,
            "type": "pie"
           }
          ],
          "scatter": [
           {
            "marker": {
             "colorbar": {
              "outlinewidth": 0,
              "ticks": ""
             }
            },
            "type": "scatter"
           }
          ],
          "scatter3d": [
           {
            "line": {
             "colorbar": {
              "outlinewidth": 0,
              "ticks": ""
             }
            },
            "marker": {
             "colorbar": {
              "outlinewidth": 0,
              "ticks": ""
             }
            },
            "type": "scatter3d"
           }
          ],
          "scattercarpet": [
           {
            "marker": {
             "colorbar": {
              "outlinewidth": 0,
              "ticks": ""
             }
            },
            "type": "scattercarpet"
           }
          ],
          "scattergeo": [
           {
            "marker": {
             "colorbar": {
              "outlinewidth": 0,
              "ticks": ""
             }
            },
            "type": "scattergeo"
           }
          ],
          "scattergl": [
           {
            "marker": {
             "colorbar": {
              "outlinewidth": 0,
              "ticks": ""
             }
            },
            "type": "scattergl"
           }
          ],
          "scattermapbox": [
           {
            "marker": {
             "colorbar": {
              "outlinewidth": 0,
              "ticks": ""
             }
            },
            "type": "scattermapbox"
           }
          ],
          "scatterpolar": [
           {
            "marker": {
             "colorbar": {
              "outlinewidth": 0,
              "ticks": ""
             }
            },
            "type": "scatterpolar"
           }
          ],
          "scatterpolargl": [
           {
            "marker": {
             "colorbar": {
              "outlinewidth": 0,
              "ticks": ""
             }
            },
            "type": "scatterpolargl"
           }
          ],
          "scatterternary": [
           {
            "marker": {
             "colorbar": {
              "outlinewidth": 0,
              "ticks": ""
             }
            },
            "type": "scatterternary"
           }
          ],
          "surface": [
           {
            "colorbar": {
             "outlinewidth": 0,
             "ticks": ""
            },
            "colorscale": [
             [
              0,
              "#0d0887"
             ],
             [
              0.1111111111111111,
              "#46039f"
             ],
             [
              0.2222222222222222,
              "#7201a8"
             ],
             [
              0.3333333333333333,
              "#9c179e"
             ],
             [
              0.4444444444444444,
              "#bd3786"
             ],
             [
              0.5555555555555556,
              "#d8576b"
             ],
             [
              0.6666666666666666,
              "#ed7953"
             ],
             [
              0.7777777777777778,
              "#fb9f3a"
             ],
             [
              0.8888888888888888,
              "#fdca26"
             ],
             [
              1,
              "#f0f921"
             ]
            ],
            "type": "surface"
           }
          ],
          "table": [
           {
            "cells": {
             "fill": {
              "color": "#EBF0F8"
             },
             "line": {
              "color": "white"
             }
            },
            "header": {
             "fill": {
              "color": "#C8D4E3"
             },
             "line": {
              "color": "white"
             }
            },
            "type": "table"
           }
          ]
         },
         "layout": {
          "annotationdefaults": {
           "arrowcolor": "#2a3f5f",
           "arrowhead": 0,
           "arrowwidth": 1
          },
          "autotypenumbers": "strict",
          "coloraxis": {
           "colorbar": {
            "outlinewidth": 0,
            "ticks": ""
           }
          },
          "colorscale": {
           "diverging": [
            [
             0,
             "#8e0152"
            ],
            [
             0.1,
             "#c51b7d"
            ],
            [
             0.2,
             "#de77ae"
            ],
            [
             0.3,
             "#f1b6da"
            ],
            [
             0.4,
             "#fde0ef"
            ],
            [
             0.5,
             "#f7f7f7"
            ],
            [
             0.6,
             "#e6f5d0"
            ],
            [
             0.7,
             "#b8e186"
            ],
            [
             0.8,
             "#7fbc41"
            ],
            [
             0.9,
             "#4d9221"
            ],
            [
             1,
             "#276419"
            ]
           ],
           "sequential": [
            [
             0,
             "#0d0887"
            ],
            [
             0.1111111111111111,
             "#46039f"
            ],
            [
             0.2222222222222222,
             "#7201a8"
            ],
            [
             0.3333333333333333,
             "#9c179e"
            ],
            [
             0.4444444444444444,
             "#bd3786"
            ],
            [
             0.5555555555555556,
             "#d8576b"
            ],
            [
             0.6666666666666666,
             "#ed7953"
            ],
            [
             0.7777777777777778,
             "#fb9f3a"
            ],
            [
             0.8888888888888888,
             "#fdca26"
            ],
            [
             1,
             "#f0f921"
            ]
           ],
           "sequentialminus": [
            [
             0,
             "#0d0887"
            ],
            [
             0.1111111111111111,
             "#46039f"
            ],
            [
             0.2222222222222222,
             "#7201a8"
            ],
            [
             0.3333333333333333,
             "#9c179e"
            ],
            [
             0.4444444444444444,
             "#bd3786"
            ],
            [
             0.5555555555555556,
             "#d8576b"
            ],
            [
             0.6666666666666666,
             "#ed7953"
            ],
            [
             0.7777777777777778,
             "#fb9f3a"
            ],
            [
             0.8888888888888888,
             "#fdca26"
            ],
            [
             1,
             "#f0f921"
            ]
           ]
          },
          "colorway": [
           "#636efa",
           "#EF553B",
           "#00cc96",
           "#ab63fa",
           "#FFA15A",
           "#19d3f3",
           "#FF6692",
           "#B6E880",
           "#FF97FF",
           "#FECB52"
          ],
          "font": {
           "color": "#2a3f5f"
          },
          "geo": {
           "bgcolor": "white",
           "lakecolor": "white",
           "landcolor": "#E5ECF6",
           "showlakes": true,
           "showland": true,
           "subunitcolor": "white"
          },
          "hoverlabel": {
           "align": "left"
          },
          "hovermode": "closest",
          "mapbox": {
           "style": "light"
          },
          "paper_bgcolor": "white",
          "plot_bgcolor": "#E5ECF6",
          "polar": {
           "angularaxis": {
            "gridcolor": "white",
            "linecolor": "white",
            "ticks": ""
           },
           "bgcolor": "#E5ECF6",
           "radialaxis": {
            "gridcolor": "white",
            "linecolor": "white",
            "ticks": ""
           }
          },
          "scene": {
           "xaxis": {
            "backgroundcolor": "#E5ECF6",
            "gridcolor": "white",
            "gridwidth": 2,
            "linecolor": "white",
            "showbackground": true,
            "ticks": "",
            "zerolinecolor": "white"
           },
           "yaxis": {
            "backgroundcolor": "#E5ECF6",
            "gridcolor": "white",
            "gridwidth": 2,
            "linecolor": "white",
            "showbackground": true,
            "ticks": "",
            "zerolinecolor": "white"
           },
           "zaxis": {
            "backgroundcolor": "#E5ECF6",
            "gridcolor": "white",
            "gridwidth": 2,
            "linecolor": "white",
            "showbackground": true,
            "ticks": "",
            "zerolinecolor": "white"
           }
          },
          "shapedefaults": {
           "line": {
            "color": "#2a3f5f"
           }
          },
          "ternary": {
           "aaxis": {
            "gridcolor": "white",
            "linecolor": "white",
            "ticks": ""
           },
           "baxis": {
            "gridcolor": "white",
            "linecolor": "white",
            "ticks": ""
           },
           "bgcolor": "#E5ECF6",
           "caxis": {
            "gridcolor": "white",
            "linecolor": "white",
            "ticks": ""
           }
          },
          "title": {
           "x": 0.05
          },
          "xaxis": {
           "automargin": true,
           "gridcolor": "white",
           "linecolor": "white",
           "ticks": "",
           "title": {
            "standoff": 15
           },
           "zerolinecolor": "white",
           "zerolinewidth": 2
          },
          "yaxis": {
           "automargin": true,
           "gridcolor": "white",
           "linecolor": "white",
           "ticks": "",
           "title": {
            "standoff": 15
           },
           "zerolinecolor": "white",
           "zerolinewidth": 2
          }
         }
        },
        "title": {
         "text": "Top 30 Normalized Repeat Sender Sum Grades (Number of Ticks > 100)",
         "x": 0.5
        },
        "width": 1200,
        "xaxis": {
         "anchor": "y",
         "categoryarray": [
          "5.8",
          "5.8+",
          "5.9",
          "5.9+",
          "5.10-",
          "5.10",
          "5.10+",
          "5.11"
         ],
         "categoryorder": "array",
         "domain": [
          0,
          1
         ],
         "title": {
          "text": "Grade"
         },
         "type": "category"
        },
        "yaxis": {
         "anchor": "x",
         "domain": [
          0,
          1
         ],
         "title": {
          "text": "count"
         }
        }
       }
      }
     },
     "metadata": {},
     "output_type": "display_data"
    }
   ],
   "source": [
    "fig = px.histogram(df[(df['Num Ticks'] > 100) & ~(df['Rating']=='5.10c')].sort_values('Normalized Repeat Sender Sum', ascending=False)[0:30]['Rating'], title='Top 30 Normalized Repeat Sender Sum Grades (Number of Ticks > 100)', width=1200)\n",
    "fig.update_layout(showlegend=False, title_x=0.5)\n",
    "fig.update_xaxes(title=\"Grade\", row=1,col=1, range=_, type='category', categoryorder='array', categoryarray=['5.8', '5.8+', '5.9', '5.9+', '5.10-', '5.10', '5.10+', '5.11'])"
   ]
  },
  {
   "cell_type": "code",
   "execution_count": null,
   "metadata": {},
   "outputs": [],
   "source": [
    "df[(df['Num Ticks'] > 100) & (df['Normalized Repeat Sender Sum']>=0.3)].sort_values('Normalized Repeat Sender Sum', ascending=False)"
   ]
  },
  {
   "cell_type": "code",
   "execution_count": null,
   "metadata": {},
   "outputs": [],
   "source": [
    "dfs.sort_values('Repeat Sender Ratio', ascending=False)[0:30][['Route', 'Repeat Sender Ratio']]\n",
    "# Climbs that are normalized slightly, these can be thought of as underground favorite\n",
    "# 1 to 4 crack\n",
    "# 24 Unknown\n",
    "# Act or React\n",
    "# Breakfast Social\n",
    "# Cactus Flower\n",
    "# Crack Slabbath\n",
    "# Horse Crack\n",
    "# Kelley Route 1\n",
    "# Low Cholesterol\n",
    "# Mariposa\n",
    "# More Than One Way\n",
    "# Pigs On The Wing\n",
    "# Short and Stupid\n",
    "# Spam\n",
    "# Tag Team\n",
    "# The Ooze\n",
    "# The Thing\n",
    "# Think Pink\n",
    "# Unnamed\n",
    "# Unnamed 10+ (steep thin hands dihedral to pod)\n",
    "# Unnamed 9+ (big hands dihedral)"
   ]
  },
  {
   "cell_type": "code",
   "execution_count": 266,
   "metadata": {},
   "outputs": [],
   "source": [
    "df, _, _ = pickle.load(open('C:/Users/Brayden/Desktop/LocScrapes/Indian Creek (Full).pkl', 'rb'))\n",
    "df.drop_duplicates(subset='URL', inplace=True)\n",
    "\n",
    "df.sort_values('Num Ticks', ascending=False, inplace=True)\n",
    "df_agg=pd.DataFrame(index=range(2005,2023))\n",
    "for i in range(0,len(df[df['Num Ticks']>100].index)):\n",
    "    subdf = df.iloc[i]['Route Ticks']\n",
    "    tick_sum_yearly = subdf.groupby(subdf.Date.dt.year)['Pitches Ticked'].sum()\n",
    "    tick_sum_yearly = tick_sum_yearly[~(tick_sum_yearly.index<2005) & ~(tick_sum_yearly.index>=datetime.date.today().year)] # MP was founded in 2005, so we ignore historical ticks before that time, and we ignore the current year as it is still in progress\n",
    "    if tick_sum_yearly.empty:\n",
    "        tick_velo_mean = 0\n",
    "    else:\n",
    "        tick_sum_yearly = tick_sum_yearly.reindex(np.arange(tick_sum_yearly.index.min(), tick_sum_yearly.index.max()+1)).fillna(0) # Fill missing years with 0\n",
    "        tick_sum_yearly = tick_sum_yearly.astype(int) # Previous step cast values to float, we recast to int\n",
    "    tick_sum_yearly.rename(df.iloc[i]['Route'], inplace=True)\n",
    "    df_agg = df_agg.merge(tick_sum_yearly, how='left', left_index=True, right_index=True)\n",
    "df_agg.fillna(0, inplace=True)\n"
   ]
  },
  {
   "cell_type": "code",
   "execution_count": 268,
   "metadata": {},
   "outputs": [
    {
     "data": {
      "application/vnd.plotly.v1+json": {
       "config": {
        "plotlyServerURL": "https://plot.ly"
       },
       "data": [
        {
         "hovertemplate": "variable=Supercrack of the Desert<br>index=%{x}<br>value=%{y}<extra></extra>",
         "legendgroup": "Supercrack of the Desert",
         "line": {
          "color": "#636efa",
          "dash": "solid"
         },
         "marker": {
          "symbol": "circle"
         },
         "mode": "lines",
         "name": "Supercrack of the Desert",
         "orientation": "v",
         "showlegend": true,
         "type": "scatter",
         "x": [
          2005,
          2006,
          2007,
          2008,
          2009,
          2010,
          2011,
          2012,
          2013,
          2014,
          2015,
          2016,
          2017,
          2018,
          2019,
          2020,
          2021,
          2022
         ],
         "xaxis": "x",
         "y": [
          15,
          29,
          33,
          46,
          57,
          63,
          79,
          125,
          112,
          124,
          135,
          177,
          193,
          243,
          311,
          246,
          403,
          358
         ],
         "yaxis": "y"
        },
        {
         "hovertemplate": "variable=Cave Route<br>index=%{x}<br>value=%{y}<extra></extra>",
         "legendgroup": "Cave Route",
         "line": {
          "color": "#EF553B",
          "dash": "solid"
         },
         "marker": {
          "symbol": "circle"
         },
         "mode": "lines",
         "name": "Cave Route",
         "orientation": "v",
         "showlegend": true,
         "type": "scatter",
         "x": [
          2005,
          2006,
          2007,
          2008,
          2009,
          2010,
          2011,
          2012,
          2013,
          2014,
          2015,
          2016,
          2017,
          2018,
          2019,
          2020,
          2021,
          2022
         ],
         "xaxis": "x",
         "y": [
          2,
          10,
          11,
          14,
          19,
          10,
          33,
          30,
          34,
          53,
          71,
          75,
          118,
          115,
          127,
          123,
          207,
          179
         ],
         "yaxis": "y"
        },
        {
         "hovertemplate": "variable=Coyne Crack<br>index=%{x}<br>value=%{y}<extra></extra>",
         "legendgroup": "Coyne Crack",
         "line": {
          "color": "#00cc96",
          "dash": "solid"
         },
         "marker": {
          "symbol": "circle"
         },
         "mode": "lines",
         "name": "Coyne Crack",
         "orientation": "v",
         "showlegend": true,
         "type": "scatter",
         "x": [
          2005,
          2006,
          2007,
          2008,
          2009,
          2010,
          2011,
          2012,
          2013,
          2014,
          2015,
          2016,
          2017,
          2018,
          2019,
          2020,
          2021,
          2022
         ],
         "xaxis": "x",
         "y": [
          2,
          5,
          5,
          16,
          17,
          9,
          16,
          21,
          29,
          33,
          40,
          44,
          62,
          97,
          96,
          64,
          119,
          103
         ],
         "yaxis": "y"
        },
        {
         "hovertemplate": "variable=Where's Carruthers?<br>index=%{x}<br>value=%{y}<extra></extra>",
         "legendgroup": "Where's Carruthers?",
         "line": {
          "color": "#ab63fa",
          "dash": "solid"
         },
         "marker": {
          "symbol": "circle"
         },
         "mode": "lines",
         "name": "Where's Carruthers?",
         "orientation": "v",
         "showlegend": true,
         "type": "scatter",
         "x": [
          2005,
          2006,
          2007,
          2008,
          2009,
          2010,
          2011,
          2012,
          2013,
          2014,
          2015,
          2016,
          2017,
          2018,
          2019,
          2020,
          2021,
          2022
         ],
         "xaxis": "x",
         "y": [
          1,
          2,
          1,
          8,
          10,
          9,
          20,
          43,
          28,
          27,
          36,
          38,
          55,
          77,
          73,
          42,
          86,
          99
         ],
         "yaxis": "y"
        },
        {
         "hovertemplate": "variable=The Naked and Dead<br>index=%{x}<br>value=%{y}<extra></extra>",
         "legendgroup": "The Naked and Dead",
         "line": {
          "color": "#FFA15A",
          "dash": "solid"
         },
         "marker": {
          "symbol": "circle"
         },
         "mode": "lines",
         "name": "The Naked and Dead",
         "orientation": "v",
         "showlegend": true,
         "type": "scatter",
         "x": [
          2005,
          2006,
          2007,
          2008,
          2009,
          2010,
          2011,
          2012,
          2013,
          2014,
          2015,
          2016,
          2017,
          2018,
          2019,
          2020,
          2021,
          2022
         ],
         "xaxis": "x",
         "y": [
          4,
          6,
          8,
          6,
          10,
          13,
          14,
          24,
          24,
          24,
          23,
          39,
          47,
          63,
          58,
          34,
          66,
          92
         ],
         "yaxis": "y"
        },
        {
         "hovertemplate": "variable=Warm-Up Handcrack<br>index=%{x}<br>value=%{y}<extra></extra>",
         "legendgroup": "Warm-Up Handcrack",
         "line": {
          "color": "#19d3f3",
          "dash": "solid"
         },
         "marker": {
          "symbol": "circle"
         },
         "mode": "lines",
         "name": "Warm-Up Handcrack",
         "orientation": "v",
         "showlegend": true,
         "type": "scatter",
         "x": [
          2005,
          2006,
          2007,
          2008,
          2009,
          2010,
          2011,
          2012,
          2013,
          2014,
          2015,
          2016,
          2017,
          2018,
          2019,
          2020,
          2021,
          2022
         ],
         "xaxis": "x",
         "y": [
          2,
          5,
          5,
          6,
          6,
          11,
          12,
          26,
          9,
          33,
          31,
          40,
          66,
          34,
          52,
          51,
          54,
          51
         ],
         "yaxis": "y"
        },
        {
         "hovertemplate": "variable=Our Piece of Real Estate<br>index=%{x}<br>value=%{y}<extra></extra>",
         "legendgroup": "Our Piece of Real Estate",
         "line": {
          "color": "#FF6692",
          "dash": "solid"
         },
         "marker": {
          "symbol": "circle"
         },
         "mode": "lines",
         "name": "Our Piece of Real Estate",
         "orientation": "v",
         "showlegend": true,
         "type": "scatter",
         "x": [
          2005,
          2006,
          2007,
          2008,
          2009,
          2010,
          2011,
          2012,
          2013,
          2014,
          2015,
          2016,
          2017,
          2018,
          2019,
          2020,
          2021,
          2022
         ],
         "xaxis": "x",
         "y": [
          2,
          4,
          6,
          7,
          16,
          8,
          15,
          15,
          19,
          24,
          29,
          36,
          32,
          46,
          33,
          30,
          58,
          76
         ],
         "yaxis": "y"
        },
        {
         "hovertemplate": "variable=Mr. Peanut<br>index=%{x}<br>value=%{y}<extra></extra>",
         "legendgroup": "Mr. Peanut",
         "line": {
          "color": "#B6E880",
          "dash": "solid"
         },
         "marker": {
          "symbol": "circle"
         },
         "mode": "lines",
         "name": "Mr. Peanut",
         "orientation": "v",
         "showlegend": true,
         "type": "scatter",
         "x": [
          2005,
          2006,
          2007,
          2008,
          2009,
          2010,
          2011,
          2012,
          2013,
          2014,
          2015,
          2016,
          2017,
          2018,
          2019,
          2020,
          2021,
          2022
         ],
         "xaxis": "x",
         "y": [
          0,
          2,
          1,
          1,
          12,
          9,
          9,
          13,
          12,
          28,
          17,
          26,
          34,
          40,
          39,
          32,
          87,
          58
         ],
         "yaxis": "y"
        },
        {
         "hovertemplate": "variable=Cat man do<br>index=%{x}<br>value=%{y}<extra></extra>",
         "legendgroup": "Cat man do",
         "line": {
          "color": "#FF97FF",
          "dash": "solid"
         },
         "marker": {
          "symbol": "circle"
         },
         "mode": "lines",
         "name": "Cat man do",
         "orientation": "v",
         "showlegend": true,
         "type": "scatter",
         "x": [
          2005,
          2006,
          2007,
          2008,
          2009,
          2010,
          2011,
          2012,
          2013,
          2014,
          2015,
          2016,
          2017,
          2018,
          2019,
          2020,
          2021,
          2022
         ],
         "xaxis": "x",
         "y": [
          1,
          5,
          4,
          6,
          11,
          4,
          10,
          19,
          14,
          29,
          24,
          16,
          21,
          28,
          35,
          35,
          65,
          47
         ],
         "yaxis": "y"
        },
        {
         "hovertemplate": "variable=Thunderbolts<br>index=%{x}<br>value=%{y}<extra></extra>",
         "legendgroup": "Thunderbolts",
         "line": {
          "color": "#FECB52",
          "dash": "solid"
         },
         "marker": {
          "symbol": "circle"
         },
         "mode": "lines",
         "name": "Thunderbolts",
         "orientation": "v",
         "showlegend": true,
         "type": "scatter",
         "x": [
          2005,
          2006,
          2007,
          2008,
          2009,
          2010,
          2011,
          2012,
          2013,
          2014,
          2015,
          2016,
          2017,
          2018,
          2019,
          2020,
          2021,
          2022
         ],
         "xaxis": "x",
         "y": [
          2,
          7,
          3,
          6,
          11,
          12,
          13,
          21,
          11,
          25,
          16,
          21,
          38,
          25,
          31,
          28,
          48,
          27
         ],
         "yaxis": "y"
        }
       ],
       "layout": {
        "height": 600,
        "hovermode": "x",
        "legend": {
         "title": {
          "text": "variable"
         },
         "tracegroupgap": 0
        },
        "template": {
         "data": {
          "bar": [
           {
            "error_x": {
             "color": "#2a3f5f"
            },
            "error_y": {
             "color": "#2a3f5f"
            },
            "marker": {
             "line": {
              "color": "#E5ECF6",
              "width": 0.5
             },
             "pattern": {
              "fillmode": "overlay",
              "size": 10,
              "solidity": 0.2
             }
            },
            "type": "bar"
           }
          ],
          "barpolar": [
           {
            "marker": {
             "line": {
              "color": "#E5ECF6",
              "width": 0.5
             },
             "pattern": {
              "fillmode": "overlay",
              "size": 10,
              "solidity": 0.2
             }
            },
            "type": "barpolar"
           }
          ],
          "carpet": [
           {
            "aaxis": {
             "endlinecolor": "#2a3f5f",
             "gridcolor": "white",
             "linecolor": "white",
             "minorgridcolor": "white",
             "startlinecolor": "#2a3f5f"
            },
            "baxis": {
             "endlinecolor": "#2a3f5f",
             "gridcolor": "white",
             "linecolor": "white",
             "minorgridcolor": "white",
             "startlinecolor": "#2a3f5f"
            },
            "type": "carpet"
           }
          ],
          "choropleth": [
           {
            "colorbar": {
             "outlinewidth": 0,
             "ticks": ""
            },
            "type": "choropleth"
           }
          ],
          "contour": [
           {
            "colorbar": {
             "outlinewidth": 0,
             "ticks": ""
            },
            "colorscale": [
             [
              0,
              "#0d0887"
             ],
             [
              0.1111111111111111,
              "#46039f"
             ],
             [
              0.2222222222222222,
              "#7201a8"
             ],
             [
              0.3333333333333333,
              "#9c179e"
             ],
             [
              0.4444444444444444,
              "#bd3786"
             ],
             [
              0.5555555555555556,
              "#d8576b"
             ],
             [
              0.6666666666666666,
              "#ed7953"
             ],
             [
              0.7777777777777778,
              "#fb9f3a"
             ],
             [
              0.8888888888888888,
              "#fdca26"
             ],
             [
              1,
              "#f0f921"
             ]
            ],
            "type": "contour"
           }
          ],
          "contourcarpet": [
           {
            "colorbar": {
             "outlinewidth": 0,
             "ticks": ""
            },
            "type": "contourcarpet"
           }
          ],
          "heatmap": [
           {
            "colorbar": {
             "outlinewidth": 0,
             "ticks": ""
            },
            "colorscale": [
             [
              0,
              "#0d0887"
             ],
             [
              0.1111111111111111,
              "#46039f"
             ],
             [
              0.2222222222222222,
              "#7201a8"
             ],
             [
              0.3333333333333333,
              "#9c179e"
             ],
             [
              0.4444444444444444,
              "#bd3786"
             ],
             [
              0.5555555555555556,
              "#d8576b"
             ],
             [
              0.6666666666666666,
              "#ed7953"
             ],
             [
              0.7777777777777778,
              "#fb9f3a"
             ],
             [
              0.8888888888888888,
              "#fdca26"
             ],
             [
              1,
              "#f0f921"
             ]
            ],
            "type": "heatmap"
           }
          ],
          "heatmapgl": [
           {
            "colorbar": {
             "outlinewidth": 0,
             "ticks": ""
            },
            "colorscale": [
             [
              0,
              "#0d0887"
             ],
             [
              0.1111111111111111,
              "#46039f"
             ],
             [
              0.2222222222222222,
              "#7201a8"
             ],
             [
              0.3333333333333333,
              "#9c179e"
             ],
             [
              0.4444444444444444,
              "#bd3786"
             ],
             [
              0.5555555555555556,
              "#d8576b"
             ],
             [
              0.6666666666666666,
              "#ed7953"
             ],
             [
              0.7777777777777778,
              "#fb9f3a"
             ],
             [
              0.8888888888888888,
              "#fdca26"
             ],
             [
              1,
              "#f0f921"
             ]
            ],
            "type": "heatmapgl"
           }
          ],
          "histogram": [
           {
            "marker": {
             "pattern": {
              "fillmode": "overlay",
              "size": 10,
              "solidity": 0.2
             }
            },
            "type": "histogram"
           }
          ],
          "histogram2d": [
           {
            "colorbar": {
             "outlinewidth": 0,
             "ticks": ""
            },
            "colorscale": [
             [
              0,
              "#0d0887"
             ],
             [
              0.1111111111111111,
              "#46039f"
             ],
             [
              0.2222222222222222,
              "#7201a8"
             ],
             [
              0.3333333333333333,
              "#9c179e"
             ],
             [
              0.4444444444444444,
              "#bd3786"
             ],
             [
              0.5555555555555556,
              "#d8576b"
             ],
             [
              0.6666666666666666,
              "#ed7953"
             ],
             [
              0.7777777777777778,
              "#fb9f3a"
             ],
             [
              0.8888888888888888,
              "#fdca26"
             ],
             [
              1,
              "#f0f921"
             ]
            ],
            "type": "histogram2d"
           }
          ],
          "histogram2dcontour": [
           {
            "colorbar": {
             "outlinewidth": 0,
             "ticks": ""
            },
            "colorscale": [
             [
              0,
              "#0d0887"
             ],
             [
              0.1111111111111111,
              "#46039f"
             ],
             [
              0.2222222222222222,
              "#7201a8"
             ],
             [
              0.3333333333333333,
              "#9c179e"
             ],
             [
              0.4444444444444444,
              "#bd3786"
             ],
             [
              0.5555555555555556,
              "#d8576b"
             ],
             [
              0.6666666666666666,
              "#ed7953"
             ],
             [
              0.7777777777777778,
              "#fb9f3a"
             ],
             [
              0.8888888888888888,
              "#fdca26"
             ],
             [
              1,
              "#f0f921"
             ]
            ],
            "type": "histogram2dcontour"
           }
          ],
          "mesh3d": [
           {
            "colorbar": {
             "outlinewidth": 0,
             "ticks": ""
            },
            "type": "mesh3d"
           }
          ],
          "parcoords": [
           {
            "line": {
             "colorbar": {
              "outlinewidth": 0,
              "ticks": ""
             }
            },
            "type": "parcoords"
           }
          ],
          "pie": [
           {
            "automargin": true,
            "type": "pie"
           }
          ],
          "scatter": [
           {
            "marker": {
             "colorbar": {
              "outlinewidth": 0,
              "ticks": ""
             }
            },
            "type": "scatter"
           }
          ],
          "scatter3d": [
           {
            "line": {
             "colorbar": {
              "outlinewidth": 0,
              "ticks": ""
             }
            },
            "marker": {
             "colorbar": {
              "outlinewidth": 0,
              "ticks": ""
             }
            },
            "type": "scatter3d"
           }
          ],
          "scattercarpet": [
           {
            "marker": {
             "colorbar": {
              "outlinewidth": 0,
              "ticks": ""
             }
            },
            "type": "scattercarpet"
           }
          ],
          "scattergeo": [
           {
            "marker": {
             "colorbar": {
              "outlinewidth": 0,
              "ticks": ""
             }
            },
            "type": "scattergeo"
           }
          ],
          "scattergl": [
           {
            "marker": {
             "colorbar": {
              "outlinewidth": 0,
              "ticks": ""
             }
            },
            "type": "scattergl"
           }
          ],
          "scattermapbox": [
           {
            "marker": {
             "colorbar": {
              "outlinewidth": 0,
              "ticks": ""
             }
            },
            "type": "scattermapbox"
           }
          ],
          "scatterpolar": [
           {
            "marker": {
             "colorbar": {
              "outlinewidth": 0,
              "ticks": ""
             }
            },
            "type": "scatterpolar"
           }
          ],
          "scatterpolargl": [
           {
            "marker": {
             "colorbar": {
              "outlinewidth": 0,
              "ticks": ""
             }
            },
            "type": "scatterpolargl"
           }
          ],
          "scatterternary": [
           {
            "marker": {
             "colorbar": {
              "outlinewidth": 0,
              "ticks": ""
             }
            },
            "type": "scatterternary"
           }
          ],
          "surface": [
           {
            "colorbar": {
             "outlinewidth": 0,
             "ticks": ""
            },
            "colorscale": [
             [
              0,
              "#0d0887"
             ],
             [
              0.1111111111111111,
              "#46039f"
             ],
             [
              0.2222222222222222,
              "#7201a8"
             ],
             [
              0.3333333333333333,
              "#9c179e"
             ],
             [
              0.4444444444444444,
              "#bd3786"
             ],
             [
              0.5555555555555556,
              "#d8576b"
             ],
             [
              0.6666666666666666,
              "#ed7953"
             ],
             [
              0.7777777777777778,
              "#fb9f3a"
             ],
             [
              0.8888888888888888,
              "#fdca26"
             ],
             [
              1,
              "#f0f921"
             ]
            ],
            "type": "surface"
           }
          ],
          "table": [
           {
            "cells": {
             "fill": {
              "color": "#EBF0F8"
             },
             "line": {
              "color": "white"
             }
            },
            "header": {
             "fill": {
              "color": "#C8D4E3"
             },
             "line": {
              "color": "white"
             }
            },
            "type": "table"
           }
          ]
         },
         "layout": {
          "annotationdefaults": {
           "arrowcolor": "#2a3f5f",
           "arrowhead": 0,
           "arrowwidth": 1
          },
          "autotypenumbers": "strict",
          "coloraxis": {
           "colorbar": {
            "outlinewidth": 0,
            "ticks": ""
           }
          },
          "colorscale": {
           "diverging": [
            [
             0,
             "#8e0152"
            ],
            [
             0.1,
             "#c51b7d"
            ],
            [
             0.2,
             "#de77ae"
            ],
            [
             0.3,
             "#f1b6da"
            ],
            [
             0.4,
             "#fde0ef"
            ],
            [
             0.5,
             "#f7f7f7"
            ],
            [
             0.6,
             "#e6f5d0"
            ],
            [
             0.7,
             "#b8e186"
            ],
            [
             0.8,
             "#7fbc41"
            ],
            [
             0.9,
             "#4d9221"
            ],
            [
             1,
             "#276419"
            ]
           ],
           "sequential": [
            [
             0,
             "#0d0887"
            ],
            [
             0.1111111111111111,
             "#46039f"
            ],
            [
             0.2222222222222222,
             "#7201a8"
            ],
            [
             0.3333333333333333,
             "#9c179e"
            ],
            [
             0.4444444444444444,
             "#bd3786"
            ],
            [
             0.5555555555555556,
             "#d8576b"
            ],
            [
             0.6666666666666666,
             "#ed7953"
            ],
            [
             0.7777777777777778,
             "#fb9f3a"
            ],
            [
             0.8888888888888888,
             "#fdca26"
            ],
            [
             1,
             "#f0f921"
            ]
           ],
           "sequentialminus": [
            [
             0,
             "#0d0887"
            ],
            [
             0.1111111111111111,
             "#46039f"
            ],
            [
             0.2222222222222222,
             "#7201a8"
            ],
            [
             0.3333333333333333,
             "#9c179e"
            ],
            [
             0.4444444444444444,
             "#bd3786"
            ],
            [
             0.5555555555555556,
             "#d8576b"
            ],
            [
             0.6666666666666666,
             "#ed7953"
            ],
            [
             0.7777777777777778,
             "#fb9f3a"
            ],
            [
             0.8888888888888888,
             "#fdca26"
            ],
            [
             1,
             "#f0f921"
            ]
           ]
          },
          "colorway": [
           "#636efa",
           "#EF553B",
           "#00cc96",
           "#ab63fa",
           "#FFA15A",
           "#19d3f3",
           "#FF6692",
           "#B6E880",
           "#FF97FF",
           "#FECB52"
          ],
          "font": {
           "color": "#2a3f5f"
          },
          "geo": {
           "bgcolor": "white",
           "lakecolor": "white",
           "landcolor": "#E5ECF6",
           "showlakes": true,
           "showland": true,
           "subunitcolor": "white"
          },
          "hoverlabel": {
           "align": "left"
          },
          "hovermode": "closest",
          "mapbox": {
           "style": "light"
          },
          "paper_bgcolor": "white",
          "plot_bgcolor": "#E5ECF6",
          "polar": {
           "angularaxis": {
            "gridcolor": "white",
            "linecolor": "white",
            "ticks": ""
           },
           "bgcolor": "#E5ECF6",
           "radialaxis": {
            "gridcolor": "white",
            "linecolor": "white",
            "ticks": ""
           }
          },
          "scene": {
           "xaxis": {
            "backgroundcolor": "#E5ECF6",
            "gridcolor": "white",
            "gridwidth": 2,
            "linecolor": "white",
            "showbackground": true,
            "ticks": "",
            "zerolinecolor": "white"
           },
           "yaxis": {
            "backgroundcolor": "#E5ECF6",
            "gridcolor": "white",
            "gridwidth": 2,
            "linecolor": "white",
            "showbackground": true,
            "ticks": "",
            "zerolinecolor": "white"
           },
           "zaxis": {
            "backgroundcolor": "#E5ECF6",
            "gridcolor": "white",
            "gridwidth": 2,
            "linecolor": "white",
            "showbackground": true,
            "ticks": "",
            "zerolinecolor": "white"
           }
          },
          "shapedefaults": {
           "line": {
            "color": "#2a3f5f"
           }
          },
          "ternary": {
           "aaxis": {
            "gridcolor": "white",
            "linecolor": "white",
            "ticks": ""
           },
           "baxis": {
            "gridcolor": "white",
            "linecolor": "white",
            "ticks": ""
           },
           "bgcolor": "#E5ECF6",
           "caxis": {
            "gridcolor": "white",
            "linecolor": "white",
            "ticks": ""
           }
          },
          "title": {
           "x": 0.05
          },
          "xaxis": {
           "automargin": true,
           "gridcolor": "white",
           "linecolor": "white",
           "ticks": "",
           "title": {
            "standoff": 15
           },
           "zerolinecolor": "white",
           "zerolinewidth": 2
          },
          "yaxis": {
           "automargin": true,
           "gridcolor": "white",
           "linecolor": "white",
           "ticks": "",
           "title": {
            "standoff": 15
           },
           "zerolinecolor": "white",
           "zerolinewidth": 2
          }
         }
        },
        "title": {
         "text": "YoY Difference in Sum Ticks For Select Routes",
         "x": 0.5
        },
        "xaxis": {
         "anchor": "y",
         "domain": [
          0,
          1
         ],
         "title": {
          "text": "Year"
         }
        },
        "yaxis": {
         "anchor": "x",
         "domain": [
          0,
          1
         ],
         "title": {
          "text": "YoY Diff in Sum Ticks"
         }
        }
       }
      }
     },
     "metadata": {},
     "output_type": "display_data"
    }
   ],
   "source": [
    "fig = px.line(df_agg.iloc[:,range(1,100,10)], title='YoY Difference in Sum Ticks For Select Routes', height=600)\n",
    "fig.update_layout(title_x=0.5, hovermode='x')\n",
    "fig.update_xaxes(title='Year')\n",
    "fig.update_yaxes(title='YoY Diff in Sum Ticks')\n",
    "fig.write_html(\"YoY_Sum_Ticks.html\")\n",
    "fig"
   ]
  },
  {
   "cell_type": "code",
   "execution_count": 269,
   "metadata": {},
   "outputs": [
    {
     "data": {
      "application/vnd.plotly.v1+json": {
       "config": {
        "plotlyServerURL": "https://plot.ly"
       },
       "data": [
        {
         "alignmentgroup": "True",
         "hovertemplate": "variable=%{x}<br>value=%{y}<extra></extra>",
         "legendgroup": "",
         "marker": {
          "color": "#636efa"
         },
         "name": "",
         "notched": false,
         "offsetgroup": "",
         "orientation": "v",
         "showlegend": false,
         "type": "box",
         "x": [
          2005,
          2005,
          2005,
          2005,
          2005,
          2005,
          2005,
          2005,
          2005,
          2005,
          2005,
          2005,
          2005,
          2005,
          2005,
          2005,
          2005,
          2005,
          2005,
          2005,
          2005,
          2005,
          2005,
          2005,
          2005,
          2005,
          2005,
          2005,
          2005,
          2005,
          2005,
          2005,
          2005,
          2005,
          2005,
          2005,
          2005,
          2005,
          2005,
          2005,
          2005,
          2005,
          2005,
          2005,
          2005,
          2005,
          2005,
          2005,
          2005,
          2005,
          2005,
          2005,
          2005,
          2005,
          2005,
          2005,
          2005,
          2005,
          2005,
          2005,
          2005,
          2005,
          2005,
          2005,
          2005,
          2005,
          2005,
          2005,
          2005,
          2005,
          2005,
          2005,
          2005,
          2005,
          2005,
          2005,
          2005,
          2005,
          2005,
          2005,
          2005,
          2005,
          2005,
          2005,
          2005,
          2005,
          2005,
          2005,
          2005,
          2005,
          2005,
          2005,
          2005,
          2005,
          2005,
          2005,
          2005,
          2005,
          2005,
          2005,
          2005,
          2005,
          2005,
          2005,
          2005,
          2005,
          2005,
          2005,
          2005,
          2005,
          2005,
          2005,
          2005,
          2005,
          2005,
          2005,
          2005,
          2005,
          2005,
          2005,
          2005,
          2005,
          2005,
          2005,
          2005,
          2005,
          2005,
          2005,
          2005,
          2005,
          2005,
          2005,
          2005,
          2005,
          2005,
          2005,
          2005,
          2005,
          2005,
          2005,
          2005,
          2005,
          2005,
          2005,
          2005,
          2005,
          2005,
          2005,
          2005,
          2005,
          2005,
          2005,
          2005,
          2005,
          2005,
          2005,
          2005,
          2005,
          2005,
          2005,
          2005,
          2005,
          2005,
          2005,
          2005,
          2005,
          2005,
          2005,
          2005,
          2005,
          2005,
          2005,
          2005,
          2005,
          2005,
          2005,
          2005,
          2005,
          2005,
          2005,
          2005,
          2005,
          2005,
          2005,
          2005,
          2005,
          2005,
          2005,
          2005,
          2005,
          2005,
          2005,
          2005,
          2005,
          2005,
          2005,
          2005,
          2005,
          2005,
          2005,
          2005,
          2005,
          2005,
          2005,
          2005,
          2005,
          2005,
          2005,
          2005,
          2005,
          2005,
          2005,
          2005,
          2005,
          2005,
          2005,
          2005,
          2005,
          2005,
          2005,
          2005,
          2005,
          2005,
          2005,
          2005,
          2005,
          2005,
          2005,
          2005,
          2005,
          2005,
          2005,
          2005,
          2005,
          2005,
          2005,
          2005,
          2005,
          2005,
          2005,
          2005,
          2005,
          2005,
          2005,
          2005,
          2005,
          2005,
          2005,
          2005,
          2005,
          2005,
          2005,
          2005,
          2005,
          2005,
          2005,
          2005,
          2005,
          2005,
          2005,
          2005,
          2005,
          2005,
          2005,
          2005,
          2005,
          2005,
          2005,
          2005,
          2005,
          2005,
          2005,
          2005,
          2005,
          2005,
          2005,
          2005,
          2005,
          2005,
          2005,
          2005,
          2005,
          2005,
          2005,
          2005,
          2005,
          2005,
          2005,
          2006,
          2006,
          2006,
          2006,
          2006,
          2006,
          2006,
          2006,
          2006,
          2006,
          2006,
          2006,
          2006,
          2006,
          2006,
          2006,
          2006,
          2006,
          2006,
          2006,
          2006,
          2006,
          2006,
          2006,
          2006,
          2006,
          2006,
          2006,
          2006,
          2006,
          2006,
          2006,
          2006,
          2006,
          2006,
          2006,
          2006,
          2006,
          2006,
          2006,
          2006,
          2006,
          2006,
          2006,
          2006,
          2006,
          2006,
          2006,
          2006,
          2006,
          2006,
          2006,
          2006,
          2006,
          2006,
          2006,
          2006,
          2006,
          2006,
          2006,
          2006,
          2006,
          2006,
          2006,
          2006,
          2006,
          2006,
          2006,
          2006,
          2006,
          2006,
          2006,
          2006,
          2006,
          2006,
          2006,
          2006,
          2006,
          2006,
          2006,
          2006,
          2006,
          2006,
          2006,
          2006,
          2006,
          2006,
          2006,
          2006,
          2006,
          2006,
          2006,
          2006,
          2006,
          2006,
          2006,
          2006,
          2006,
          2006,
          2006,
          2006,
          2006,
          2006,
          2006,
          2006,
          2006,
          2006,
          2006,
          2006,
          2006,
          2006,
          2006,
          2006,
          2006,
          2006,
          2006,
          2006,
          2006,
          2006,
          2006,
          2006,
          2006,
          2006,
          2006,
          2006,
          2006,
          2006,
          2006,
          2006,
          2006,
          2006,
          2006,
          2006,
          2006,
          2006,
          2006,
          2006,
          2006,
          2006,
          2006,
          2006,
          2006,
          2006,
          2006,
          2006,
          2006,
          2006,
          2006,
          2006,
          2006,
          2006,
          2006,
          2006,
          2006,
          2006,
          2006,
          2006,
          2006,
          2006,
          2006,
          2006,
          2006,
          2006,
          2006,
          2006,
          2006,
          2006,
          2006,
          2006,
          2006,
          2006,
          2006,
          2006,
          2006,
          2006,
          2006,
          2006,
          2006,
          2006,
          2006,
          2006,
          2006,
          2006,
          2006,
          2006,
          2006,
          2006,
          2006,
          2006,
          2006,
          2006,
          2006,
          2006,
          2006,
          2006,
          2006,
          2006,
          2006,
          2006,
          2006,
          2006,
          2006,
          2006,
          2006,
          2006,
          2006,
          2006,
          2006,
          2006,
          2006,
          2006,
          2006,
          2006,
          2006,
          2006,
          2006,
          2006,
          2006,
          2006,
          2006,
          2006,
          2006,
          2006,
          2006,
          2006,
          2006,
          2006,
          2006,
          2006,
          2006,
          2006,
          2006,
          2006,
          2006,
          2006,
          2006,
          2006,
          2006,
          2006,
          2006,
          2006,
          2006,
          2006,
          2006,
          2006,
          2006,
          2006,
          2006,
          2006,
          2006,
          2006,
          2006,
          2006,
          2006,
          2006,
          2006,
          2006,
          2006,
          2006,
          2006,
          2006,
          2006,
          2006,
          2006,
          2006,
          2006,
          2006,
          2006,
          2006,
          2006,
          2006,
          2006,
          2006,
          2006,
          2006,
          2006,
          2006,
          2006,
          2006,
          2006,
          2006,
          2006,
          2006,
          2006,
          2006,
          2006,
          2006,
          2006,
          2007,
          2007,
          2007,
          2007,
          2007,
          2007,
          2007,
          2007,
          2007,
          2007,
          2007,
          2007,
          2007,
          2007,
          2007,
          2007,
          2007,
          2007,
          2007,
          2007,
          2007,
          2007,
          2007,
          2007,
          2007,
          2007,
          2007,
          2007,
          2007,
          2007,
          2007,
          2007,
          2007,
          2007,
          2007,
          2007,
          2007,
          2007,
          2007,
          2007,
          2007,
          2007,
          2007,
          2007,
          2007,
          2007,
          2007,
          2007,
          2007,
          2007,
          2007,
          2007,
          2007,
          2007,
          2007,
          2007,
          2007,
          2007,
          2007,
          2007,
          2007,
          2007,
          2007,
          2007,
          2007,
          2007,
          2007,
          2007,
          2007,
          2007,
          2007,
          2007,
          2007,
          2007,
          2007,
          2007,
          2007,
          2007,
          2007,
          2007,
          2007,
          2007,
          2007,
          2007,
          2007,
          2007,
          2007,
          2007,
          2007,
          2007,
          2007,
          2007,
          2007,
          2007,
          2007,
          2007,
          2007,
          2007,
          2007,
          2007,
          2007,
          2007,
          2007,
          2007,
          2007,
          2007,
          2007,
          2007,
          2007,
          2007,
          2007,
          2007,
          2007,
          2007,
          2007,
          2007,
          2007,
          2007,
          2007,
          2007,
          2007,
          2007,
          2007,
          2007,
          2007,
          2007,
          2007,
          2007,
          2007,
          2007,
          2007,
          2007,
          2007,
          2007,
          2007,
          2007,
          2007,
          2007,
          2007,
          2007,
          2007,
          2007,
          2007,
          2007,
          2007,
          2007,
          2007,
          2007,
          2007,
          2007,
          2007,
          2007,
          2007,
          2007,
          2007,
          2007,
          2007,
          2007,
          2007,
          2007,
          2007,
          2007,
          2007,
          2007,
          2007,
          2007,
          2007,
          2007,
          2007,
          2007,
          2007,
          2007,
          2007,
          2007,
          2007,
          2007,
          2007,
          2007,
          2007,
          2007,
          2007,
          2007,
          2007,
          2007,
          2007,
          2007,
          2007,
          2007,
          2007,
          2007,
          2007,
          2007,
          2007,
          2007,
          2007,
          2007,
          2007,
          2007,
          2007,
          2007,
          2007,
          2007,
          2007,
          2007,
          2007,
          2007,
          2007,
          2007,
          2007,
          2007,
          2007,
          2007,
          2007,
          2007,
          2007,
          2007,
          2007,
          2007,
          2007,
          2007,
          2007,
          2007,
          2007,
          2007,
          2007,
          2007,
          2007,
          2007,
          2007,
          2007,
          2007,
          2007,
          2007,
          2007,
          2007,
          2007,
          2007,
          2007,
          2007,
          2007,
          2007,
          2007,
          2007,
          2007,
          2007,
          2007,
          2007,
          2007,
          2007,
          2007,
          2007,
          2007,
          2007,
          2007,
          2007,
          2007,
          2007,
          2007,
          2007,
          2007,
          2007,
          2007,
          2007,
          2007,
          2007,
          2007,
          2007,
          2007,
          2007,
          2007,
          2007,
          2007,
          2007,
          2007,
          2007,
          2007,
          2007,
          2007,
          2007,
          2007,
          2007,
          2007,
          2007,
          2007,
          2007,
          2007,
          2007,
          2007,
          2008,
          2008,
          2008,
          2008,
          2008,
          2008,
          2008,
          2008,
          2008,
          2008,
          2008,
          2008,
          2008,
          2008,
          2008,
          2008,
          2008,
          2008,
          2008,
          2008,
          2008,
          2008,
          2008,
          2008,
          2008,
          2008,
          2008,
          2008,
          2008,
          2008,
          2008,
          2008,
          2008,
          2008,
          2008,
          2008,
          2008,
          2008,
          2008,
          2008,
          2008,
          2008,
          2008,
          2008,
          2008,
          2008,
          2008,
          2008,
          2008,
          2008,
          2008,
          2008,
          2008,
          2008,
          2008,
          2008,
          2008,
          2008,
          2008,
          2008,
          2008,
          2008,
          2008,
          2008,
          2008,
          2008,
          2008,
          2008,
          2008,
          2008,
          2008,
          2008,
          2008,
          2008,
          2008,
          2008,
          2008,
          2008,
          2008,
          2008,
          2008,
          2008,
          2008,
          2008,
          2008,
          2008,
          2008,
          2008,
          2008,
          2008,
          2008,
          2008,
          2008,
          2008,
          2008,
          2008,
          2008,
          2008,
          2008,
          2008,
          2008,
          2008,
          2008,
          2008,
          2008,
          2008,
          2008,
          2008,
          2008,
          2008,
          2008,
          2008,
          2008,
          2008,
          2008,
          2008,
          2008,
          2008,
          2008,
          2008,
          2008,
          2008,
          2008,
          2008,
          2008,
          2008,
          2008,
          2008,
          2008,
          2008,
          2008,
          2008,
          2008,
          2008,
          2008,
          2008,
          2008,
          2008,
          2008,
          2008,
          2008,
          2008,
          2008,
          2008,
          2008,
          2008,
          2008,
          2008,
          2008,
          2008,
          2008,
          2008,
          2008,
          2008,
          2008,
          2008,
          2008,
          2008,
          2008,
          2008,
          2008,
          2008,
          2008,
          2008,
          2008,
          2008,
          2008,
          2008,
          2008,
          2008,
          2008,
          2008,
          2008,
          2008,
          2008,
          2008,
          2008,
          2008,
          2008,
          2008,
          2008,
          2008,
          2008,
          2008,
          2008,
          2008,
          2008,
          2008,
          2008,
          2008,
          2008,
          2008,
          2008,
          2008,
          2008,
          2008,
          2008,
          2008,
          2008,
          2008,
          2008,
          2008,
          2008,
          2008,
          2008,
          2008,
          2008,
          2008,
          2008,
          2008,
          2008,
          2008,
          2008,
          2008,
          2008,
          2008,
          2008,
          2008,
          2008,
          2008,
          2008,
          2008,
          2008,
          2008,
          2008,
          2008,
          2008,
          2008,
          2008,
          2008,
          2008,
          2008,
          2008,
          2008,
          2008,
          2008,
          2008,
          2008,
          2008,
          2008,
          2008,
          2008,
          2008,
          2008,
          2008,
          2008,
          2008,
          2008,
          2008,
          2008,
          2008,
          2008,
          2008,
          2008,
          2008,
          2008,
          2008,
          2008,
          2008,
          2008,
          2008,
          2008,
          2008,
          2008,
          2008,
          2008,
          2008,
          2008,
          2008,
          2008,
          2008,
          2008,
          2008,
          2008,
          2008,
          2008,
          2008,
          2008,
          2008,
          2008,
          2008,
          2008,
          2008,
          2008,
          2008,
          2008,
          2008,
          2008,
          2009,
          2009,
          2009,
          2009,
          2009,
          2009,
          2009,
          2009,
          2009,
          2009,
          2009,
          2009,
          2009,
          2009,
          2009,
          2009,
          2009,
          2009,
          2009,
          2009,
          2009,
          2009,
          2009,
          2009,
          2009,
          2009,
          2009,
          2009,
          2009,
          2009,
          2009,
          2009,
          2009,
          2009,
          2009,
          2009,
          2009,
          2009,
          2009,
          2009,
          2009,
          2009,
          2009,
          2009,
          2009,
          2009,
          2009,
          2009,
          2009,
          2009,
          2009,
          2009,
          2009,
          2009,
          2009,
          2009,
          2009,
          2009,
          2009,
          2009,
          2009,
          2009,
          2009,
          2009,
          2009,
          2009,
          2009,
          2009,
          2009,
          2009,
          2009,
          2009,
          2009,
          2009,
          2009,
          2009,
          2009,
          2009,
          2009,
          2009,
          2009,
          2009,
          2009,
          2009,
          2009,
          2009,
          2009,
          2009,
          2009,
          2009,
          2009,
          2009,
          2009,
          2009,
          2009,
          2009,
          2009,
          2009,
          2009,
          2009,
          2009,
          2009,
          2009,
          2009,
          2009,
          2009,
          2009,
          2009,
          2009,
          2009,
          2009,
          2009,
          2009,
          2009,
          2009,
          2009,
          2009,
          2009,
          2009,
          2009,
          2009,
          2009,
          2009,
          2009,
          2009,
          2009,
          2009,
          2009,
          2009,
          2009,
          2009,
          2009,
          2009,
          2009,
          2009,
          2009,
          2009,
          2009,
          2009,
          2009,
          2009,
          2009,
          2009,
          2009,
          2009,
          2009,
          2009,
          2009,
          2009,
          2009,
          2009,
          2009,
          2009,
          2009,
          2009,
          2009,
          2009,
          2009,
          2009,
          2009,
          2009,
          2009,
          2009,
          2009,
          2009,
          2009,
          2009,
          2009,
          2009,
          2009,
          2009,
          2009,
          2009,
          2009,
          2009,
          2009,
          2009,
          2009,
          2009,
          2009,
          2009,
          2009,
          2009,
          2009,
          2009,
          2009,
          2009,
          2009,
          2009,
          2009,
          2009,
          2009,
          2009,
          2009,
          2009,
          2009,
          2009,
          2009,
          2009,
          2009,
          2009,
          2009,
          2009,
          2009,
          2009,
          2009,
          2009,
          2009,
          2009,
          2009,
          2009,
          2009,
          2009,
          2009,
          2009,
          2009,
          2009,
          2009,
          2009,
          2009,
          2009,
          2009,
          2009,
          2009,
          2009,
          2009,
          2009,
          2009,
          2009,
          2009,
          2009,
          2009,
          2009,
          2009,
          2009,
          2009,
          2009,
          2009,
          2009,
          2009,
          2009,
          2009,
          2009,
          2009,
          2009,
          2009,
          2009,
          2009,
          2009,
          2009,
          2009,
          2009,
          2009,
          2009,
          2009,
          2009,
          2009,
          2009,
          2009,
          2009,
          2009,
          2009,
          2009,
          2009,
          2009,
          2009,
          2009,
          2009,
          2009,
          2009,
          2009,
          2009,
          2009,
          2009,
          2009,
          2009,
          2009,
          2009,
          2009,
          2009,
          2009,
          2009,
          2009,
          2009,
          2009,
          2009,
          2009,
          2009,
          2010,
          2010,
          2010,
          2010,
          2010,
          2010,
          2010,
          2010,
          2010,
          2010,
          2010,
          2010,
          2010,
          2010,
          2010,
          2010,
          2010,
          2010,
          2010,
          2010,
          2010,
          2010,
          2010,
          2010,
          2010,
          2010,
          2010,
          2010,
          2010,
          2010,
          2010,
          2010,
          2010,
          2010,
          2010,
          2010,
          2010,
          2010,
          2010,
          2010,
          2010,
          2010,
          2010,
          2010,
          2010,
          2010,
          2010,
          2010,
          2010,
          2010,
          2010,
          2010,
          2010,
          2010,
          2010,
          2010,
          2010,
          2010,
          2010,
          2010,
          2010,
          2010,
          2010,
          2010,
          2010,
          2010,
          2010,
          2010,
          2010,
          2010,
          2010,
          2010,
          2010,
          2010,
          2010,
          2010,
          2010,
          2010,
          2010,
          2010,
          2010,
          2010,
          2010,
          2010,
          2010,
          2010,
          2010,
          2010,
          2010,
          2010,
          2010,
          2010,
          2010,
          2010,
          2010,
          2010,
          2010,
          2010,
          2010,
          2010,
          2010,
          2010,
          2010,
          2010,
          2010,
          2010,
          2010,
          2010,
          2010,
          2010,
          2010,
          2010,
          2010,
          2010,
          2010,
          2010,
          2010,
          2010,
          2010,
          2010,
          2010,
          2010,
          2010,
          2010,
          2010,
          2010,
          2010,
          2010,
          2010,
          2010,
          2010,
          2010,
          2010,
          2010,
          2010,
          2010,
          2010,
          2010,
          2010,
          2010,
          2010,
          2010,
          2010,
          2010,
          2010,
          2010,
          2010,
          2010,
          2010,
          2010,
          2010,
          2010,
          2010,
          2010,
          2010,
          2010,
          2010,
          2010,
          2010,
          2010,
          2010,
          2010,
          2010,
          2010,
          2010,
          2010,
          2010,
          2010,
          2010,
          2010,
          2010,
          2010,
          2010,
          2010,
          2010,
          2010,
          2010,
          2010,
          2010,
          2010,
          2010,
          2010,
          2010,
          2010,
          2010,
          2010,
          2010,
          2010,
          2010,
          2010,
          2010,
          2010,
          2010,
          2010,
          2010,
          2010,
          2010,
          2010,
          2010,
          2010,
          2010,
          2010,
          2010,
          2010,
          2010,
          2010,
          2010,
          2010,
          2010,
          2010,
          2010,
          2010,
          2010,
          2010,
          2010,
          2010,
          2010,
          2010,
          2010,
          2010,
          2010,
          2010,
          2010,
          2010,
          2010,
          2010,
          2010,
          2010,
          2010,
          2010,
          2010,
          2010,
          2010,
          2010,
          2010,
          2010,
          2010,
          2010,
          2010,
          2010,
          2010,
          2010,
          2010,
          2010,
          2010,
          2010,
          2010,
          2010,
          2010,
          2010,
          2010,
          2010,
          2010,
          2010,
          2010,
          2010,
          2010,
          2010,
          2010,
          2010,
          2010,
          2010,
          2010,
          2010,
          2010,
          2010,
          2010,
          2010,
          2010,
          2010,
          2010,
          2010,
          2010,
          2010,
          2010,
          2010,
          2010,
          2010,
          2010,
          2010,
          2010,
          2010,
          2010,
          2010,
          2010,
          2010,
          2010,
          2010,
          2011,
          2011,
          2011,
          2011,
          2011,
          2011,
          2011,
          2011,
          2011,
          2011,
          2011,
          2011,
          2011,
          2011,
          2011,
          2011,
          2011,
          2011,
          2011,
          2011,
          2011,
          2011,
          2011,
          2011,
          2011,
          2011,
          2011,
          2011,
          2011,
          2011,
          2011,
          2011,
          2011,
          2011,
          2011,
          2011,
          2011,
          2011,
          2011,
          2011,
          2011,
          2011,
          2011,
          2011,
          2011,
          2011,
          2011,
          2011,
          2011,
          2011,
          2011,
          2011,
          2011,
          2011,
          2011,
          2011,
          2011,
          2011,
          2011,
          2011,
          2011,
          2011,
          2011,
          2011,
          2011,
          2011,
          2011,
          2011,
          2011,
          2011,
          2011,
          2011,
          2011,
          2011,
          2011,
          2011,
          2011,
          2011,
          2011,
          2011,
          2011,
          2011,
          2011,
          2011,
          2011,
          2011,
          2011,
          2011,
          2011,
          2011,
          2011,
          2011,
          2011,
          2011,
          2011,
          2011,
          2011,
          2011,
          2011,
          2011,
          2011,
          2011,
          2011,
          2011,
          2011,
          2011,
          2011,
          2011,
          2011,
          2011,
          2011,
          2011,
          2011,
          2011,
          2011,
          2011,
          2011,
          2011,
          2011,
          2011,
          2011,
          2011,
          2011,
          2011,
          2011,
          2011,
          2011,
          2011,
          2011,
          2011,
          2011,
          2011,
          2011,
          2011,
          2011,
          2011,
          2011,
          2011,
          2011,
          2011,
          2011,
          2011,
          2011,
          2011,
          2011,
          2011,
          2011,
          2011,
          2011,
          2011,
          2011,
          2011,
          2011,
          2011,
          2011,
          2011,
          2011,
          2011,
          2011,
          2011,
          2011,
          2011,
          2011,
          2011,
          2011,
          2011,
          2011,
          2011,
          2011,
          2011,
          2011,
          2011,
          2011,
          2011,
          2011,
          2011,
          2011,
          2011,
          2011,
          2011,
          2011,
          2011,
          2011,
          2011,
          2011,
          2011,
          2011,
          2011,
          2011,
          2011,
          2011,
          2011,
          2011,
          2011,
          2011,
          2011,
          2011,
          2011,
          2011,
          2011,
          2011,
          2011,
          2011,
          2011,
          2011,
          2011,
          2011,
          2011,
          2011,
          2011,
          2011,
          2011,
          2011,
          2011,
          2011,
          2011,
          2011,
          2011,
          2011,
          2011,
          2011,
          2011,
          2011,
          2011,
          2011,
          2011,
          2011,
          2011,
          2011,
          2011,
          2011,
          2011,
          2011,
          2011,
          2011,
          2011,
          2011,
          2011,
          2011,
          2011,
          2011,
          2011,
          2011,
          2011,
          2011,
          2011,
          2011,
          2011,
          2011,
          2011,
          2011,
          2011,
          2011,
          2011,
          2011,
          2011,
          2011,
          2011,
          2011,
          2011,
          2011,
          2011,
          2011,
          2011,
          2011,
          2011,
          2011,
          2011,
          2011,
          2011,
          2011,
          2011,
          2011,
          2011,
          2011,
          2011,
          2011,
          2011,
          2011,
          2011,
          2011,
          2011,
          2011,
          2011,
          2011,
          2011,
          2011,
          2011,
          2012,
          2012,
          2012,
          2012,
          2012,
          2012,
          2012,
          2012,
          2012,
          2012,
          2012,
          2012,
          2012,
          2012,
          2012,
          2012,
          2012,
          2012,
          2012,
          2012,
          2012,
          2012,
          2012,
          2012,
          2012,
          2012,
          2012,
          2012,
          2012,
          2012,
          2012,
          2012,
          2012,
          2012,
          2012,
          2012,
          2012,
          2012,
          2012,
          2012,
          2012,
          2012,
          2012,
          2012,
          2012,
          2012,
          2012,
          2012,
          2012,
          2012,
          2012,
          2012,
          2012,
          2012,
          2012,
          2012,
          2012,
          2012,
          2012,
          2012,
          2012,
          2012,
          2012,
          2012,
          2012,
          2012,
          2012,
          2012,
          2012,
          2012,
          2012,
          2012,
          2012,
          2012,
          2012,
          2012,
          2012,
          2012,
          2012,
          2012,
          2012,
          2012,
          2012,
          2012,
          2012,
          2012,
          2012,
          2012,
          2012,
          2012,
          2012,
          2012,
          2012,
          2012,
          2012,
          2012,
          2012,
          2012,
          2012,
          2012,
          2012,
          2012,
          2012,
          2012,
          2012,
          2012,
          2012,
          2012,
          2012,
          2012,
          2012,
          2012,
          2012,
          2012,
          2012,
          2012,
          2012,
          2012,
          2012,
          2012,
          2012,
          2012,
          2012,
          2012,
          2012,
          2012,
          2012,
          2012,
          2012,
          2012,
          2012,
          2012,
          2012,
          2012,
          2012,
          2012,
          2012,
          2012,
          2012,
          2012,
          2012,
          2012,
          2012,
          2012,
          2012,
          2012,
          2012,
          2012,
          2012,
          2012,
          2012,
          2012,
          2012,
          2012,
          2012,
          2012,
          2012,
          2012,
          2012,
          2012,
          2012,
          2012,
          2012,
          2012,
          2012,
          2012,
          2012,
          2012,
          2012,
          2012,
          2012,
          2012,
          2012,
          2012,
          2012,
          2012,
          2012,
          2012,
          2012,
          2012,
          2012,
          2012,
          2012,
          2012,
          2012,
          2012,
          2012,
          2012,
          2012,
          2012,
          2012,
          2012,
          2012,
          2012,
          2012,
          2012,
          2012,
          2012,
          2012,
          2012,
          2012,
          2012,
          2012,
          2012,
          2012,
          2012,
          2012,
          2012,
          2012,
          2012,
          2012,
          2012,
          2012,
          2012,
          2012,
          2012,
          2012,
          2012,
          2012,
          2012,
          2012,
          2012,
          2012,
          2012,
          2012,
          2012,
          2012,
          2012,
          2012,
          2012,
          2012,
          2012,
          2012,
          2012,
          2012,
          2012,
          2012,
          2012,
          2012,
          2012,
          2012,
          2012,
          2012,
          2012,
          2012,
          2012,
          2012,
          2012,
          2012,
          2012,
          2012,
          2012,
          2012,
          2012,
          2012,
          2012,
          2012,
          2012,
          2012,
          2012,
          2012,
          2012,
          2012,
          2012,
          2012,
          2012,
          2012,
          2012,
          2012,
          2012,
          2012,
          2012,
          2012,
          2012,
          2012,
          2012,
          2012,
          2012,
          2012,
          2012,
          2012,
          2012,
          2012,
          2012,
          2012,
          2012,
          2012,
          2012,
          2013,
          2013,
          2013,
          2013,
          2013,
          2013,
          2013,
          2013,
          2013,
          2013,
          2013,
          2013,
          2013,
          2013,
          2013,
          2013,
          2013,
          2013,
          2013,
          2013,
          2013,
          2013,
          2013,
          2013,
          2013,
          2013,
          2013,
          2013,
          2013,
          2013,
          2013,
          2013,
          2013,
          2013,
          2013,
          2013,
          2013,
          2013,
          2013,
          2013,
          2013,
          2013,
          2013,
          2013,
          2013,
          2013,
          2013,
          2013,
          2013,
          2013,
          2013,
          2013,
          2013,
          2013,
          2013,
          2013,
          2013,
          2013,
          2013,
          2013,
          2013,
          2013,
          2013,
          2013,
          2013,
          2013,
          2013,
          2013,
          2013,
          2013,
          2013,
          2013,
          2013,
          2013,
          2013,
          2013,
          2013,
          2013,
          2013,
          2013,
          2013,
          2013,
          2013,
          2013,
          2013,
          2013,
          2013,
          2013,
          2013,
          2013,
          2013,
          2013,
          2013,
          2013,
          2013,
          2013,
          2013,
          2013,
          2013,
          2013,
          2013,
          2013,
          2013,
          2013,
          2013,
          2013,
          2013,
          2013,
          2013,
          2013,
          2013,
          2013,
          2013,
          2013,
          2013,
          2013,
          2013,
          2013,
          2013,
          2013,
          2013,
          2013,
          2013,
          2013,
          2013,
          2013,
          2013,
          2013,
          2013,
          2013,
          2013,
          2013,
          2013,
          2013,
          2013,
          2013,
          2013,
          2013,
          2013,
          2013,
          2013,
          2013,
          2013,
          2013,
          2013,
          2013,
          2013,
          2013,
          2013,
          2013,
          2013,
          2013,
          2013,
          2013,
          2013,
          2013,
          2013,
          2013,
          2013,
          2013,
          2013,
          2013,
          2013,
          2013,
          2013,
          2013,
          2013,
          2013,
          2013,
          2013,
          2013,
          2013,
          2013,
          2013,
          2013,
          2013,
          2013,
          2013,
          2013,
          2013,
          2013,
          2013,
          2013,
          2013,
          2013,
          2013,
          2013,
          2013,
          2013,
          2013,
          2013,
          2013,
          2013,
          2013,
          2013,
          2013,
          2013,
          2013,
          2013,
          2013,
          2013,
          2013,
          2013,
          2013,
          2013,
          2013,
          2013,
          2013,
          2013,
          2013,
          2013,
          2013,
          2013,
          2013,
          2013,
          2013,
          2013,
          2013,
          2013,
          2013,
          2013,
          2013,
          2013,
          2013,
          2013,
          2013,
          2013,
          2013,
          2013,
          2013,
          2013,
          2013,
          2013,
          2013,
          2013,
          2013,
          2013,
          2013,
          2013,
          2013,
          2013,
          2013,
          2013,
          2013,
          2013,
          2013,
          2013,
          2013,
          2013,
          2013,
          2013,
          2013,
          2013,
          2013,
          2013,
          2013,
          2013,
          2013,
          2013,
          2013,
          2013,
          2013,
          2013,
          2013,
          2013,
          2013,
          2013,
          2013,
          2013,
          2013,
          2013,
          2013,
          2013,
          2013,
          2013,
          2013,
          2013,
          2013,
          2013,
          2013,
          2013,
          2013,
          2013,
          2013,
          2013,
          2013,
          2013,
          2013,
          2014,
          2014,
          2014,
          2014,
          2014,
          2014,
          2014,
          2014,
          2014,
          2014,
          2014,
          2014,
          2014,
          2014,
          2014,
          2014,
          2014,
          2014,
          2014,
          2014,
          2014,
          2014,
          2014,
          2014,
          2014,
          2014,
          2014,
          2014,
          2014,
          2014,
          2014,
          2014,
          2014,
          2014,
          2014,
          2014,
          2014,
          2014,
          2014,
          2014,
          2014,
          2014,
          2014,
          2014,
          2014,
          2014,
          2014,
          2014,
          2014,
          2014,
          2014,
          2014,
          2014,
          2014,
          2014,
          2014,
          2014,
          2014,
          2014,
          2014,
          2014,
          2014,
          2014,
          2014,
          2014,
          2014,
          2014,
          2014,
          2014,
          2014,
          2014,
          2014,
          2014,
          2014,
          2014,
          2014,
          2014,
          2014,
          2014,
          2014,
          2014,
          2014,
          2014,
          2014,
          2014,
          2014,
          2014,
          2014,
          2014,
          2014,
          2014,
          2014,
          2014,
          2014,
          2014,
          2014,
          2014,
          2014,
          2014,
          2014,
          2014,
          2014,
          2014,
          2014,
          2014,
          2014,
          2014,
          2014,
          2014,
          2014,
          2014,
          2014,
          2014,
          2014,
          2014,
          2014,
          2014,
          2014,
          2014,
          2014,
          2014,
          2014,
          2014,
          2014,
          2014,
          2014,
          2014,
          2014,
          2014,
          2014,
          2014,
          2014,
          2014,
          2014,
          2014,
          2014,
          2014,
          2014,
          2014,
          2014,
          2014,
          2014,
          2014,
          2014,
          2014,
          2014,
          2014,
          2014,
          2014,
          2014,
          2014,
          2014,
          2014,
          2014,
          2014,
          2014,
          2014,
          2014,
          2014,
          2014,
          2014,
          2014,
          2014,
          2014,
          2014,
          2014,
          2014,
          2014,
          2014,
          2014,
          2014,
          2014,
          2014,
          2014,
          2014,
          2014,
          2014,
          2014,
          2014,
          2014,
          2014,
          2014,
          2014,
          2014,
          2014,
          2014,
          2014,
          2014,
          2014,
          2014,
          2014,
          2014,
          2014,
          2014,
          2014,
          2014,
          2014,
          2014,
          2014,
          2014,
          2014,
          2014,
          2014,
          2014,
          2014,
          2014,
          2014,
          2014,
          2014,
          2014,
          2014,
          2014,
          2014,
          2014,
          2014,
          2014,
          2014,
          2014,
          2014,
          2014,
          2014,
          2014,
          2014,
          2014,
          2014,
          2014,
          2014,
          2014,
          2014,
          2014,
          2014,
          2014,
          2014,
          2014,
          2014,
          2014,
          2014,
          2014,
          2014,
          2014,
          2014,
          2014,
          2014,
          2014,
          2014,
          2014,
          2014,
          2014,
          2014,
          2014,
          2014,
          2014,
          2014,
          2014,
          2014,
          2014,
          2014,
          2014,
          2014,
          2014,
          2014,
          2014,
          2014,
          2014,
          2014,
          2014,
          2014,
          2014,
          2014,
          2014,
          2014,
          2014,
          2014,
          2014,
          2014,
          2014,
          2014,
          2014,
          2014,
          2014,
          2014,
          2014,
          2014,
          2014,
          2014,
          2014,
          2014,
          2014,
          2015,
          2015,
          2015,
          2015,
          2015,
          2015,
          2015,
          2015,
          2015,
          2015,
          2015,
          2015,
          2015,
          2015,
          2015,
          2015,
          2015,
          2015,
          2015,
          2015,
          2015,
          2015,
          2015,
          2015,
          2015,
          2015,
          2015,
          2015,
          2015,
          2015,
          2015,
          2015,
          2015,
          2015,
          2015,
          2015,
          2015,
          2015,
          2015,
          2015,
          2015,
          2015,
          2015,
          2015,
          2015,
          2015,
          2015,
          2015,
          2015,
          2015,
          2015,
          2015,
          2015,
          2015,
          2015,
          2015,
          2015,
          2015,
          2015,
          2015,
          2015,
          2015,
          2015,
          2015,
          2015,
          2015,
          2015,
          2015,
          2015,
          2015,
          2015,
          2015,
          2015,
          2015,
          2015,
          2015,
          2015,
          2015,
          2015,
          2015,
          2015,
          2015,
          2015,
          2015,
          2015,
          2015,
          2015,
          2015,
          2015,
          2015,
          2015,
          2015,
          2015,
          2015,
          2015,
          2015,
          2015,
          2015,
          2015,
          2015,
          2015,
          2015,
          2015,
          2015,
          2015,
          2015,
          2015,
          2015,
          2015,
          2015,
          2015,
          2015,
          2015,
          2015,
          2015,
          2015,
          2015,
          2015,
          2015,
          2015,
          2015,
          2015,
          2015,
          2015,
          2015,
          2015,
          2015,
          2015,
          2015,
          2015,
          2015,
          2015,
          2015,
          2015,
          2015,
          2015,
          2015,
          2015,
          2015,
          2015,
          2015,
          2015,
          2015,
          2015,
          2015,
          2015,
          2015,
          2015,
          2015,
          2015,
          2015,
          2015,
          2015,
          2015,
          2015,
          2015,
          2015,
          2015,
          2015,
          2015,
          2015,
          2015,
          2015,
          2015,
          2015,
          2015,
          2015,
          2015,
          2015,
          2015,
          2015,
          2015,
          2015,
          2015,
          2015,
          2015,
          2015,
          2015,
          2015,
          2015,
          2015,
          2015,
          2015,
          2015,
          2015,
          2015,
          2015,
          2015,
          2015,
          2015,
          2015,
          2015,
          2015,
          2015,
          2015,
          2015,
          2015,
          2015,
          2015,
          2015,
          2015,
          2015,
          2015,
          2015,
          2015,
          2015,
          2015,
          2015,
          2015,
          2015,
          2015,
          2015,
          2015,
          2015,
          2015,
          2015,
          2015,
          2015,
          2015,
          2015,
          2015,
          2015,
          2015,
          2015,
          2015,
          2015,
          2015,
          2015,
          2015,
          2015,
          2015,
          2015,
          2015,
          2015,
          2015,
          2015,
          2015,
          2015,
          2015,
          2015,
          2015,
          2015,
          2015,
          2015,
          2015,
          2015,
          2015,
          2015,
          2015,
          2015,
          2015,
          2015,
          2015,
          2015,
          2015,
          2015,
          2015,
          2015,
          2015,
          2015,
          2015,
          2015,
          2015,
          2015,
          2015,
          2015,
          2015,
          2015,
          2015,
          2015,
          2015,
          2015,
          2015,
          2015,
          2015,
          2015,
          2015,
          2015,
          2015,
          2015,
          2015,
          2015,
          2015,
          2015,
          2015,
          2015,
          2015,
          2015,
          2016,
          2016,
          2016,
          2016,
          2016,
          2016,
          2016,
          2016,
          2016,
          2016,
          2016,
          2016,
          2016,
          2016,
          2016,
          2016,
          2016,
          2016,
          2016,
          2016,
          2016,
          2016,
          2016,
          2016,
          2016,
          2016,
          2016,
          2016,
          2016,
          2016,
          2016,
          2016,
          2016,
          2016,
          2016,
          2016,
          2016,
          2016,
          2016,
          2016,
          2016,
          2016,
          2016,
          2016,
          2016,
          2016,
          2016,
          2016,
          2016,
          2016,
          2016,
          2016,
          2016,
          2016,
          2016,
          2016,
          2016,
          2016,
          2016,
          2016,
          2016,
          2016,
          2016,
          2016,
          2016,
          2016,
          2016,
          2016,
          2016,
          2016,
          2016,
          2016,
          2016,
          2016,
          2016,
          2016,
          2016,
          2016,
          2016,
          2016,
          2016,
          2016,
          2016,
          2016,
          2016,
          2016,
          2016,
          2016,
          2016,
          2016,
          2016,
          2016,
          2016,
          2016,
          2016,
          2016,
          2016,
          2016,
          2016,
          2016,
          2016,
          2016,
          2016,
          2016,
          2016,
          2016,
          2016,
          2016,
          2016,
          2016,
          2016,
          2016,
          2016,
          2016,
          2016,
          2016,
          2016,
          2016,
          2016,
          2016,
          2016,
          2016,
          2016,
          2016,
          2016,
          2016,
          2016,
          2016,
          2016,
          2016,
          2016,
          2016,
          2016,
          2016,
          2016,
          2016,
          2016,
          2016,
          2016,
          2016,
          2016,
          2016,
          2016,
          2016,
          2016,
          2016,
          2016,
          2016,
          2016,
          2016,
          2016,
          2016,
          2016,
          2016,
          2016,
          2016,
          2016,
          2016,
          2016,
          2016,
          2016,
          2016,
          2016,
          2016,
          2016,
          2016,
          2016,
          2016,
          2016,
          2016,
          2016,
          2016,
          2016,
          2016,
          2016,
          2016,
          2016,
          2016,
          2016,
          2016,
          2016,
          2016,
          2016,
          2016,
          2016,
          2016,
          2016,
          2016,
          2016,
          2016,
          2016,
          2016,
          2016,
          2016,
          2016,
          2016,
          2016,
          2016,
          2016,
          2016,
          2016,
          2016,
          2016,
          2016,
          2016,
          2016,
          2016,
          2016,
          2016,
          2016,
          2016,
          2016,
          2016,
          2016,
          2016,
          2016,
          2016,
          2016,
          2016,
          2016,
          2016,
          2016,
          2016,
          2016,
          2016,
          2016,
          2016,
          2016,
          2016,
          2016,
          2016,
          2016,
          2016,
          2016,
          2016,
          2016,
          2016,
          2016,
          2016,
          2016,
          2016,
          2016,
          2016,
          2016,
          2016,
          2016,
          2016,
          2016,
          2016,
          2016,
          2016,
          2016,
          2016,
          2016,
          2016,
          2016,
          2016,
          2016,
          2016,
          2016,
          2016,
          2016,
          2016,
          2016,
          2016,
          2016,
          2016,
          2016,
          2016,
          2016,
          2016,
          2016,
          2016,
          2016,
          2016,
          2016,
          2016,
          2016,
          2016,
          2016,
          2016,
          2016,
          2016,
          2016,
          2016,
          2016,
          2016,
          2016,
          2017,
          2017,
          2017,
          2017,
          2017,
          2017,
          2017,
          2017,
          2017,
          2017,
          2017,
          2017,
          2017,
          2017,
          2017,
          2017,
          2017,
          2017,
          2017,
          2017,
          2017,
          2017,
          2017,
          2017,
          2017,
          2017,
          2017,
          2017,
          2017,
          2017,
          2017,
          2017,
          2017,
          2017,
          2017,
          2017,
          2017,
          2017,
          2017,
          2017,
          2017,
          2017,
          2017,
          2017,
          2017,
          2017,
          2017,
          2017,
          2017,
          2017,
          2017,
          2017,
          2017,
          2017,
          2017,
          2017,
          2017,
          2017,
          2017,
          2017,
          2017,
          2017,
          2017,
          2017,
          2017,
          2017,
          2017,
          2017,
          2017,
          2017,
          2017,
          2017,
          2017,
          2017,
          2017,
          2017,
          2017,
          2017,
          2017,
          2017,
          2017,
          2017,
          2017,
          2017,
          2017,
          2017,
          2017,
          2017,
          2017,
          2017,
          2017,
          2017,
          2017,
          2017,
          2017,
          2017,
          2017,
          2017,
          2017,
          2017,
          2017,
          2017,
          2017,
          2017,
          2017,
          2017,
          2017,
          2017,
          2017,
          2017,
          2017,
          2017,
          2017,
          2017,
          2017,
          2017,
          2017,
          2017,
          2017,
          2017,
          2017,
          2017,
          2017,
          2017,
          2017,
          2017,
          2017,
          2017,
          2017,
          2017,
          2017,
          2017,
          2017,
          2017,
          2017,
          2017,
          2017,
          2017,
          2017,
          2017,
          2017,
          2017,
          2017,
          2017,
          2017,
          2017,
          2017,
          2017,
          2017,
          2017,
          2017,
          2017,
          2017,
          2017,
          2017,
          2017,
          2017,
          2017,
          2017,
          2017,
          2017,
          2017,
          2017,
          2017,
          2017,
          2017,
          2017,
          2017,
          2017,
          2017,
          2017,
          2017,
          2017,
          2017,
          2017,
          2017,
          2017,
          2017,
          2017,
          2017,
          2017,
          2017,
          2017,
          2017,
          2017,
          2017,
          2017,
          2017,
          2017,
          2017,
          2017,
          2017,
          2017,
          2017,
          2017,
          2017,
          2017,
          2017,
          2017,
          2017,
          2017,
          2017,
          2017,
          2017,
          2017,
          2017,
          2017,
          2017,
          2017,
          2017,
          2017,
          2017,
          2017,
          2017,
          2017,
          2017,
          2017,
          2017,
          2017,
          2017,
          2017,
          2017,
          2017,
          2017,
          2017,
          2017,
          2017,
          2017,
          2017,
          2017,
          2017,
          2017,
          2017,
          2017,
          2017,
          2017,
          2017,
          2017,
          2017,
          2017,
          2017,
          2017,
          2017,
          2017,
          2017,
          2017,
          2017,
          2017,
          2017,
          2017,
          2017,
          2017,
          2017,
          2017,
          2017,
          2017,
          2017,
          2017,
          2017,
          2017,
          2017,
          2017,
          2017,
          2017,
          2017,
          2017,
          2017,
          2017,
          2017,
          2017,
          2017,
          2017,
          2017,
          2017,
          2017,
          2017,
          2017,
          2017,
          2017,
          2017,
          2017,
          2017,
          2017,
          2017,
          2017,
          2017,
          2017,
          2017,
          2018,
          2018,
          2018,
          2018,
          2018,
          2018,
          2018,
          2018,
          2018,
          2018,
          2018,
          2018,
          2018,
          2018,
          2018,
          2018,
          2018,
          2018,
          2018,
          2018,
          2018,
          2018,
          2018,
          2018,
          2018,
          2018,
          2018,
          2018,
          2018,
          2018,
          2018,
          2018,
          2018,
          2018,
          2018,
          2018,
          2018,
          2018,
          2018,
          2018,
          2018,
          2018,
          2018,
          2018,
          2018,
          2018,
          2018,
          2018,
          2018,
          2018,
          2018,
          2018,
          2018,
          2018,
          2018,
          2018,
          2018,
          2018,
          2018,
          2018,
          2018,
          2018,
          2018,
          2018,
          2018,
          2018,
          2018,
          2018,
          2018,
          2018,
          2018,
          2018,
          2018,
          2018,
          2018,
          2018,
          2018,
          2018,
          2018,
          2018,
          2018,
          2018,
          2018,
          2018,
          2018,
          2018,
          2018,
          2018,
          2018,
          2018,
          2018,
          2018,
          2018,
          2018,
          2018,
          2018,
          2018,
          2018,
          2018,
          2018,
          2018,
          2018,
          2018,
          2018,
          2018,
          2018,
          2018,
          2018,
          2018,
          2018,
          2018,
          2018,
          2018,
          2018,
          2018,
          2018,
          2018,
          2018,
          2018,
          2018,
          2018,
          2018,
          2018,
          2018,
          2018,
          2018,
          2018,
          2018,
          2018,
          2018,
          2018,
          2018,
          2018,
          2018,
          2018,
          2018,
          2018,
          2018,
          2018,
          2018,
          2018,
          2018,
          2018,
          2018,
          2018,
          2018,
          2018,
          2018,
          2018,
          2018,
          2018,
          2018,
          2018,
          2018,
          2018,
          2018,
          2018,
          2018,
          2018,
          2018,
          2018,
          2018,
          2018,
          2018,
          2018,
          2018,
          2018,
          2018,
          2018,
          2018,
          2018,
          2018,
          2018,
          2018,
          2018,
          2018,
          2018,
          2018,
          2018,
          2018,
          2018,
          2018,
          2018,
          2018,
          2018,
          2018,
          2018,
          2018,
          2018,
          2018,
          2018,
          2018,
          2018,
          2018,
          2018,
          2018,
          2018,
          2018,
          2018,
          2018,
          2018,
          2018,
          2018,
          2018,
          2018,
          2018,
          2018,
          2018,
          2018,
          2018,
          2018,
          2018,
          2018,
          2018,
          2018,
          2018,
          2018,
          2018,
          2018,
          2018,
          2018,
          2018,
          2018,
          2018,
          2018,
          2018,
          2018,
          2018,
          2018,
          2018,
          2018,
          2018,
          2018,
          2018,
          2018,
          2018,
          2018,
          2018,
          2018,
          2018,
          2018,
          2018,
          2018,
          2018,
          2018,
          2018,
          2018,
          2018,
          2018,
          2018,
          2018,
          2018,
          2018,
          2018,
          2018,
          2018,
          2018,
          2018,
          2018,
          2018,
          2018,
          2018,
          2018,
          2018,
          2018,
          2018,
          2018,
          2018,
          2018,
          2018,
          2018,
          2018,
          2018,
          2018,
          2018,
          2018,
          2018,
          2018,
          2018,
          2018,
          2018,
          2018,
          2018,
          2018,
          2018,
          2018,
          2018,
          2018,
          2019,
          2019,
          2019,
          2019,
          2019,
          2019,
          2019,
          2019,
          2019,
          2019,
          2019,
          2019,
          2019,
          2019,
          2019,
          2019,
          2019,
          2019,
          2019,
          2019,
          2019,
          2019,
          2019,
          2019,
          2019,
          2019,
          2019,
          2019,
          2019,
          2019,
          2019,
          2019,
          2019,
          2019,
          2019,
          2019,
          2019,
          2019,
          2019,
          2019,
          2019,
          2019,
          2019,
          2019,
          2019,
          2019,
          2019,
          2019,
          2019,
          2019,
          2019,
          2019,
          2019,
          2019,
          2019,
          2019,
          2019,
          2019,
          2019,
          2019,
          2019,
          2019,
          2019,
          2019,
          2019,
          2019,
          2019,
          2019,
          2019,
          2019,
          2019,
          2019,
          2019,
          2019,
          2019,
          2019,
          2019,
          2019,
          2019,
          2019,
          2019,
          2019,
          2019,
          2019,
          2019,
          2019,
          2019,
          2019,
          2019,
          2019,
          2019,
          2019,
          2019,
          2019,
          2019,
          2019,
          2019,
          2019,
          2019,
          2019,
          2019,
          2019,
          2019,
          2019,
          2019,
          2019,
          2019,
          2019,
          2019,
          2019,
          2019,
          2019,
          2019,
          2019,
          2019,
          2019,
          2019,
          2019,
          2019,
          2019,
          2019,
          2019,
          2019,
          2019,
          2019,
          2019,
          2019,
          2019,
          2019,
          2019,
          2019,
          2019,
          2019,
          2019,
          2019,
          2019,
          2019,
          2019,
          2019,
          2019,
          2019,
          2019,
          2019,
          2019,
          2019,
          2019,
          2019,
          2019,
          2019,
          2019,
          2019,
          2019,
          2019,
          2019,
          2019,
          2019,
          2019,
          2019,
          2019,
          2019,
          2019,
          2019,
          2019,
          2019,
          2019,
          2019,
          2019,
          2019,
          2019,
          2019,
          2019,
          2019,
          2019,
          2019,
          2019,
          2019,
          2019,
          2019,
          2019,
          2019,
          2019,
          2019,
          2019,
          2019,
          2019,
          2019,
          2019,
          2019,
          2019,
          2019,
          2019,
          2019,
          2019,
          2019,
          2019,
          2019,
          2019,
          2019,
          2019,
          2019,
          2019,
          2019,
          2019,
          2019,
          2019,
          2019,
          2019,
          2019,
          2019,
          2019,
          2019,
          2019,
          2019,
          2019,
          2019,
          2019,
          2019,
          2019,
          2019,
          2019,
          2019,
          2019,
          2019,
          2019,
          2019,
          2019,
          2019,
          2019,
          2019,
          2019,
          2019,
          2019,
          2019,
          2019,
          2019,
          2019,
          2019,
          2019,
          2019,
          2019,
          2019,
          2019,
          2019,
          2019,
          2019,
          2019,
          2019,
          2019,
          2019,
          2019,
          2019,
          2019,
          2019,
          2019,
          2019,
          2019,
          2019,
          2019,
          2019,
          2019,
          2019,
          2019,
          2019,
          2019,
          2019,
          2019,
          2019,
          2019,
          2019,
          2019,
          2019,
          2019,
          2019,
          2019,
          2019,
          2019,
          2019,
          2019,
          2019,
          2019,
          2019,
          2019,
          2019,
          2019,
          2019,
          2019,
          2019,
          2019,
          2020,
          2020,
          2020,
          2020,
          2020,
          2020,
          2020,
          2020,
          2020,
          2020,
          2020,
          2020,
          2020,
          2020,
          2020,
          2020,
          2020,
          2020,
          2020,
          2020,
          2020,
          2020,
          2020,
          2020,
          2020,
          2020,
          2020,
          2020,
          2020,
          2020,
          2020,
          2020,
          2020,
          2020,
          2020,
          2020,
          2020,
          2020,
          2020,
          2020,
          2020,
          2020,
          2020,
          2020,
          2020,
          2020,
          2020,
          2020,
          2020,
          2020,
          2020,
          2020,
          2020,
          2020,
          2020,
          2020,
          2020,
          2020,
          2020,
          2020,
          2020,
          2020,
          2020,
          2020,
          2020,
          2020,
          2020,
          2020,
          2020,
          2020,
          2020,
          2020,
          2020,
          2020,
          2020,
          2020,
          2020,
          2020,
          2020,
          2020,
          2020,
          2020,
          2020,
          2020,
          2020,
          2020,
          2020,
          2020,
          2020,
          2020,
          2020,
          2020,
          2020,
          2020,
          2020,
          2020,
          2020,
          2020,
          2020,
          2020,
          2020,
          2020,
          2020,
          2020,
          2020,
          2020,
          2020,
          2020,
          2020,
          2020,
          2020,
          2020,
          2020,
          2020,
          2020,
          2020,
          2020,
          2020,
          2020,
          2020,
          2020,
          2020,
          2020,
          2020,
          2020,
          2020,
          2020,
          2020,
          2020,
          2020,
          2020,
          2020,
          2020,
          2020,
          2020,
          2020,
          2020,
          2020,
          2020,
          2020,
          2020,
          2020,
          2020,
          2020,
          2020,
          2020,
          2020,
          2020,
          2020,
          2020,
          2020,
          2020,
          2020,
          2020,
          2020,
          2020,
          2020,
          2020,
          2020,
          2020,
          2020,
          2020,
          2020,
          2020,
          2020,
          2020,
          2020,
          2020,
          2020,
          2020,
          2020,
          2020,
          2020,
          2020,
          2020,
          2020,
          2020,
          2020,
          2020,
          2020,
          2020,
          2020,
          2020,
          2020,
          2020,
          2020,
          2020,
          2020,
          2020,
          2020,
          2020,
          2020,
          2020,
          2020,
          2020,
          2020,
          2020,
          2020,
          2020,
          2020,
          2020,
          2020,
          2020,
          2020,
          2020,
          2020,
          2020,
          2020,
          2020,
          2020,
          2020,
          2020,
          2020,
          2020,
          2020,
          2020,
          2020,
          2020,
          2020,
          2020,
          2020,
          2020,
          2020,
          2020,
          2020,
          2020,
          2020,
          2020,
          2020,
          2020,
          2020,
          2020,
          2020,
          2020,
          2020,
          2020,
          2020,
          2020,
          2020,
          2020,
          2020,
          2020,
          2020,
          2020,
          2020,
          2020,
          2020,
          2020,
          2020,
          2020,
          2020,
          2020,
          2020,
          2020,
          2020,
          2020,
          2020,
          2020,
          2020,
          2020,
          2020,
          2020,
          2020,
          2020,
          2020,
          2020,
          2020,
          2020,
          2020,
          2020,
          2020,
          2020,
          2020,
          2020,
          2020,
          2020,
          2020,
          2020,
          2020,
          2020,
          2020,
          2020,
          2020,
          2020,
          2020,
          2020,
          2020,
          2020,
          2021,
          2021,
          2021,
          2021,
          2021,
          2021,
          2021,
          2021,
          2021,
          2021,
          2021,
          2021,
          2021,
          2021,
          2021,
          2021,
          2021,
          2021,
          2021,
          2021,
          2021,
          2021,
          2021,
          2021,
          2021,
          2021,
          2021,
          2021,
          2021,
          2021,
          2021,
          2021,
          2021,
          2021,
          2021,
          2021,
          2021,
          2021,
          2021,
          2021,
          2021,
          2021,
          2021,
          2021,
          2021,
          2021,
          2021,
          2021,
          2021,
          2021,
          2021,
          2021,
          2021,
          2021,
          2021,
          2021,
          2021,
          2021,
          2021,
          2021,
          2021,
          2021,
          2021,
          2021,
          2021,
          2021,
          2021,
          2021,
          2021,
          2021,
          2021,
          2021,
          2021,
          2021,
          2021,
          2021,
          2021,
          2021,
          2021,
          2021,
          2021,
          2021,
          2021,
          2021,
          2021,
          2021,
          2021,
          2021,
          2021,
          2021,
          2021,
          2021,
          2021,
          2021,
          2021,
          2021,
          2021,
          2021,
          2021,
          2021,
          2021,
          2021,
          2021,
          2021,
          2021,
          2021,
          2021,
          2021,
          2021,
          2021,
          2021,
          2021,
          2021,
          2021,
          2021,
          2021,
          2021,
          2021,
          2021,
          2021,
          2021,
          2021,
          2021,
          2021,
          2021,
          2021,
          2021,
          2021,
          2021,
          2021,
          2021,
          2021,
          2021,
          2021,
          2021,
          2021,
          2021,
          2021,
          2021,
          2021,
          2021,
          2021,
          2021,
          2021,
          2021,
          2021,
          2021,
          2021,
          2021,
          2021,
          2021,
          2021,
          2021,
          2021,
          2021,
          2021,
          2021,
          2021,
          2021,
          2021,
          2021,
          2021,
          2021,
          2021,
          2021,
          2021,
          2021,
          2021,
          2021,
          2021,
          2021,
          2021,
          2021,
          2021,
          2021,
          2021,
          2021,
          2021,
          2021,
          2021,
          2021,
          2021,
          2021,
          2021,
          2021,
          2021,
          2021,
          2021,
          2021,
          2021,
          2021,
          2021,
          2021,
          2021,
          2021,
          2021,
          2021,
          2021,
          2021,
          2021,
          2021,
          2021,
          2021,
          2021,
          2021,
          2021,
          2021,
          2021,
          2021,
          2021,
          2021,
          2021,
          2021,
          2021,
          2021,
          2021,
          2021,
          2021,
          2021,
          2021,
          2021,
          2021,
          2021,
          2021,
          2021,
          2021,
          2021,
          2021,
          2021,
          2021,
          2021,
          2021,
          2021,
          2021,
          2021,
          2021,
          2021,
          2021,
          2021,
          2021,
          2021,
          2021,
          2021,
          2021,
          2021,
          2021,
          2021,
          2021,
          2021,
          2021,
          2021,
          2021,
          2021,
          2021,
          2021,
          2021,
          2021,
          2021,
          2021,
          2021,
          2021,
          2021,
          2021,
          2021,
          2021,
          2021,
          2021,
          2021,
          2021,
          2021,
          2021,
          2021,
          2021,
          2021,
          2021,
          2021,
          2021,
          2021,
          2021,
          2021,
          2021,
          2021,
          2021,
          2021,
          2021,
          2021,
          2021,
          2021,
          2022,
          2022,
          2022,
          2022,
          2022,
          2022,
          2022,
          2022,
          2022,
          2022,
          2022,
          2022,
          2022,
          2022,
          2022,
          2022,
          2022,
          2022,
          2022,
          2022,
          2022,
          2022,
          2022,
          2022,
          2022,
          2022,
          2022,
          2022,
          2022,
          2022,
          2022,
          2022,
          2022,
          2022,
          2022,
          2022,
          2022,
          2022,
          2022,
          2022,
          2022,
          2022,
          2022,
          2022,
          2022,
          2022,
          2022,
          2022,
          2022,
          2022,
          2022,
          2022,
          2022,
          2022,
          2022,
          2022,
          2022,
          2022,
          2022,
          2022,
          2022,
          2022,
          2022,
          2022,
          2022,
          2022,
          2022,
          2022,
          2022,
          2022,
          2022,
          2022,
          2022,
          2022,
          2022,
          2022,
          2022,
          2022,
          2022,
          2022,
          2022,
          2022,
          2022,
          2022,
          2022,
          2022,
          2022,
          2022,
          2022,
          2022,
          2022,
          2022,
          2022,
          2022,
          2022,
          2022,
          2022,
          2022,
          2022,
          2022,
          2022,
          2022,
          2022,
          2022,
          2022,
          2022,
          2022,
          2022,
          2022,
          2022,
          2022,
          2022,
          2022,
          2022,
          2022,
          2022,
          2022,
          2022,
          2022,
          2022,
          2022,
          2022,
          2022,
          2022,
          2022,
          2022,
          2022,
          2022,
          2022,
          2022,
          2022,
          2022,
          2022,
          2022,
          2022,
          2022,
          2022,
          2022,
          2022,
          2022,
          2022,
          2022,
          2022,
          2022,
          2022,
          2022,
          2022,
          2022,
          2022,
          2022,
          2022,
          2022,
          2022,
          2022,
          2022,
          2022,
          2022,
          2022,
          2022,
          2022,
          2022,
          2022,
          2022,
          2022,
          2022,
          2022,
          2022,
          2022,
          2022,
          2022,
          2022,
          2022,
          2022,
          2022,
          2022,
          2022,
          2022,
          2022,
          2022,
          2022,
          2022,
          2022,
          2022,
          2022,
          2022,
          2022,
          2022,
          2022,
          2022,
          2022,
          2022,
          2022,
          2022,
          2022,
          2022,
          2022,
          2022,
          2022,
          2022,
          2022,
          2022,
          2022,
          2022,
          2022,
          2022,
          2022,
          2022,
          2022,
          2022,
          2022,
          2022,
          2022,
          2022,
          2022,
          2022,
          2022,
          2022,
          2022,
          2022,
          2022,
          2022,
          2022,
          2022,
          2022,
          2022,
          2022,
          2022,
          2022,
          2022,
          2022,
          2022,
          2022,
          2022,
          2022,
          2022,
          2022,
          2022,
          2022,
          2022,
          2022,
          2022,
          2022,
          2022,
          2022,
          2022,
          2022,
          2022,
          2022,
          2022,
          2022,
          2022,
          2022,
          2022,
          2022,
          2022,
          2022,
          2022,
          2022,
          2022,
          2022,
          2022,
          2022,
          2022,
          2022,
          2022,
          2022,
          2022,
          2022,
          2022,
          2022,
          2022,
          2022,
          2022,
          2022,
          2022,
          2022,
          2022,
          2022,
          2022,
          2022,
          2022,
          2022,
          2022,
          2022,
          2022,
          2022,
          2022,
          2022
         ],
         "x0": " ",
         "xaxis": "x",
         "y": [
          null,
          null,
          null,
          null,
          null,
          null,
          null,
          null,
          null,
          null,
          null,
          null,
          null,
          null,
          null,
          null,
          null,
          null,
          null,
          null,
          null,
          null,
          null,
          null,
          null,
          null,
          null,
          null,
          null,
          null,
          null,
          null,
          null,
          null,
          null,
          null,
          null,
          null,
          null,
          null,
          null,
          null,
          null,
          null,
          null,
          null,
          null,
          null,
          null,
          null,
          null,
          null,
          null,
          null,
          null,
          null,
          null,
          null,
          null,
          null,
          null,
          null,
          null,
          null,
          null,
          null,
          null,
          null,
          null,
          null,
          null,
          null,
          null,
          null,
          null,
          null,
          null,
          null,
          null,
          null,
          null,
          null,
          null,
          null,
          null,
          null,
          null,
          null,
          null,
          null,
          null,
          null,
          null,
          null,
          null,
          null,
          null,
          null,
          null,
          null,
          null,
          null,
          null,
          null,
          null,
          null,
          null,
          null,
          null,
          null,
          null,
          null,
          null,
          null,
          null,
          null,
          null,
          null,
          null,
          null,
          null,
          null,
          null,
          null,
          null,
          null,
          null,
          null,
          null,
          null,
          null,
          null,
          null,
          null,
          null,
          null,
          null,
          null,
          null,
          null,
          null,
          null,
          null,
          null,
          null,
          null,
          null,
          null,
          null,
          null,
          null,
          null,
          null,
          null,
          null,
          null,
          null,
          null,
          null,
          null,
          null,
          null,
          null,
          null,
          null,
          null,
          null,
          null,
          null,
          null,
          null,
          null,
          null,
          null,
          null,
          null,
          null,
          null,
          null,
          null,
          null,
          null,
          null,
          null,
          null,
          null,
          null,
          null,
          null,
          null,
          null,
          null,
          null,
          null,
          null,
          null,
          null,
          null,
          null,
          null,
          null,
          null,
          null,
          null,
          null,
          null,
          null,
          null,
          null,
          null,
          null,
          null,
          null,
          null,
          null,
          null,
          null,
          null,
          null,
          null,
          null,
          null,
          null,
          null,
          null,
          null,
          null,
          null,
          null,
          null,
          null,
          null,
          null,
          null,
          null,
          null,
          null,
          null,
          null,
          null,
          null,
          null,
          null,
          null,
          null,
          null,
          null,
          null,
          null,
          null,
          null,
          null,
          null,
          null,
          null,
          null,
          null,
          null,
          null,
          null,
          null,
          null,
          null,
          null,
          null,
          null,
          null,
          null,
          null,
          null,
          null,
          null,
          null,
          null,
          null,
          null,
          null,
          null,
          null,
          null,
          null,
          null,
          null,
          null,
          null,
          null,
          null,
          null,
          21,
          14,
          14,
          13,
          9,
          10,
          8,
          7,
          14,
          9,
          8,
          8,
          2,
          1,
          6,
          4,
          2,
          5,
          4,
          2,
          5,
          3,
          0,
          0,
          1,
          4,
          5,
          8,
          8,
          5,
          2,
          1,
          0,
          14,
          0,
          2,
          -2,
          2,
          5,
          7,
          4,
          2,
          0,
          0,
          2,
          3,
          -1,
          3,
          4,
          0,
          0,
          3,
          0,
          1,
          2,
          0,
          5,
          5,
          7,
          1,
          3,
          2,
          0,
          2,
          3,
          -1,
          6,
          6,
          1,
          0,
          0,
          2,
          2,
          2,
          8,
          2,
          1,
          0,
          0,
          1,
          2,
          4,
          2,
          4,
          2,
          0,
          -1,
          2,
          0,
          1,
          4,
          5,
          4,
          0,
          0,
          1,
          1,
          0,
          0,
          2,
          2,
          2,
          2,
          0,
          -1,
          6,
          0,
          3,
          7,
          0,
          2,
          0,
          5,
          0,
          4,
          3,
          3,
          2,
          0,
          0,
          6,
          0,
          -1,
          5,
          1,
          5,
          -1,
          2,
          1,
          3,
          0,
          0,
          0,
          0,
          0,
          2,
          0,
          5,
          1,
          3,
          1,
          -1,
          0,
          3,
          3,
          -1,
          2,
          3,
          1,
          1,
          -1,
          1,
          0,
          1,
          -1,
          -1,
          0,
          1,
          0,
          1,
          2,
          2,
          0,
          0,
          2,
          1,
          1,
          0,
          -1,
          3,
          0,
          0,
          0,
          1,
          3,
          0,
          1,
          0,
          1,
          0,
          1,
          0,
          0,
          1,
          0,
          3,
          0,
          0,
          2,
          1,
          2,
          0,
          0,
          0,
          6,
          0,
          1,
          0,
          1,
          0,
          0,
          -1,
          -1,
          0,
          1,
          -1,
          0,
          0,
          0,
          -1,
          1,
          0,
          2,
          0,
          0,
          0,
          0,
          -1,
          0,
          0,
          0,
          0,
          1,
          1,
          1,
          0,
          0,
          -1,
          1,
          0,
          0,
          0,
          0,
          0,
          0,
          2,
          0,
          1,
          0,
          0,
          1,
          -1,
          0,
          1,
          0,
          0,
          0,
          0,
          0,
          0,
          2,
          0,
          1,
          0,
          0,
          1,
          0,
          0,
          0,
          1,
          1,
          0,
          0,
          1,
          0,
          0,
          0,
          2,
          0,
          2,
          0,
          0,
          0,
          1,
          -1,
          -2,
          0,
          0,
          1,
          0,
          0,
          0,
          1,
          0,
          3,
          0,
          0,
          0,
          1,
          4,
          3,
          3,
          6,
          -1,
          6,
          9,
          -1,
          3,
          -3,
          1,
          2,
          1,
          -1,
          7,
          5,
          -2,
          2,
          -1,
          -3,
          0,
          0,
          0,
          -1,
          -2,
          5,
          -5,
          -3,
          -2,
          6,
          -1,
          0,
          -8,
          4,
          4,
          5,
          0,
          -1,
          -7,
          2,
          2,
          1,
          4,
          9,
          0,
          0,
          -2,
          4,
          1,
          -1,
          0,
          0,
          6,
          4,
          -1,
          -1,
          -3,
          2,
          3,
          4,
          2,
          3,
          8,
          -5,
          0,
          -2,
          -2,
          0,
          8,
          4,
          -1,
          -2,
          -2,
          -5,
          5,
          -1,
          3,
          2,
          2,
          3,
          -1,
          1,
          -2,
          0,
          0,
          2,
          1,
          0,
          0,
          -4,
          -4,
          -1,
          0,
          0,
          5,
          2,
          2,
          0,
          0,
          3,
          1,
          1,
          1,
          1,
          0,
          0,
          0,
          1,
          0,
          3,
          3,
          -3,
          4,
          0,
          1,
          -1,
          -3,
          0,
          0,
          -4,
          -1,
          0,
          -4,
          -1,
          1,
          0,
          4,
          0,
          -2,
          0,
          2,
          0,
          0,
          0,
          0,
          0,
          -4,
          0,
          4,
          -1,
          3,
          3,
          -3,
          -1,
          0,
          2,
          -3,
          1,
          2,
          4,
          0,
          0,
          -1,
          0,
          5,
          0,
          3,
          0,
          -1,
          4,
          -2,
          1,
          1,
          -2,
          2,
          -3,
          0,
          5,
          -3,
          0,
          0,
          0,
          2,
          -1,
          0,
          1,
          -1,
          1,
          2,
          -1,
          1,
          3,
          1,
          0,
          0,
          0,
          0,
          -4,
          -1,
          1,
          0,
          0,
          0,
          -6,
          0,
          1,
          1,
          0,
          4,
          0,
          0,
          -1,
          -2,
          2,
          0,
          0,
          0,
          0,
          0,
          -1,
          2,
          7,
          0,
          0,
          0,
          0,
          0,
          1,
          -1,
          2,
          1,
          -2,
          2,
          -2,
          0,
          0,
          0,
          -1,
          0,
          0,
          0,
          1,
          0,
          0,
          -1,
          4,
          -1,
          0,
          0,
          0,
          7,
          0,
          -1,
          0,
          0,
          0,
          0,
          0,
          0,
          3,
          0,
          2,
          0,
          0,
          2,
          0,
          3,
          0,
          -1,
          0,
          0,
          0,
          -1,
          0,
          0,
          0,
          1,
          1,
          0,
          1,
          0,
          2,
          -1,
          0,
          1,
          0,
          0,
          1,
          0,
          0,
          0,
          -1,
          0,
          1,
          0,
          0,
          0,
          25,
          13,
          6,
          4,
          5,
          16,
          -1,
          6,
          15,
          1,
          7,
          3,
          2,
          -2,
          5,
          -5,
          0,
          7,
          -4,
          2,
          3,
          11,
          0,
          2,
          0,
          2,
          -1,
          5,
          7,
          -1,
          7,
          7,
          9,
          14,
          3,
          -2,
          0,
          0,
          3,
          2,
          -1,
          -2,
          2,
          -1,
          -2,
          12,
          1,
          8,
          4,
          -1,
          9,
          1,
          0,
          -5,
          -4,
          3,
          1,
          2,
          -1,
          -3,
          0,
          1,
          2,
          -2,
          3,
          0,
          1,
          0,
          4,
          -1,
          1,
          0,
          1,
          2,
          3,
          -3,
          0,
          -1,
          0,
          2,
          -2,
          2,
          0,
          6,
          8,
          0,
          3,
          -3,
          4,
          3,
          7,
          3,
          1,
          0,
          6,
          1,
          1,
          -3,
          0,
          0,
          2,
          2,
          -2,
          0,
          1,
          0,
          0,
          0,
          -4,
          2,
          -4,
          1,
          2,
          2,
          3,
          3,
          4,
          2,
          2,
          0,
          11,
          2,
          0,
          -1,
          0,
          -5,
          1,
          -2,
          -1,
          8,
          2,
          0,
          0,
          0,
          0,
          2,
          0,
          8,
          -1,
          4,
          1,
          1,
          -1,
          2,
          -1,
          2,
          -3,
          4,
          -1,
          -1,
          5,
          2,
          4,
          5,
          3,
          -1,
          0,
          -1,
          2,
          0,
          -3,
          3,
          -1,
          -1,
          3,
          -2,
          3,
          0,
          -1,
          4,
          0,
          0,
          0,
          1,
          -1,
          0,
          -3,
          1,
          2,
          -2,
          0,
          -1,
          0,
          2,
          0,
          2,
          0,
          0,
          6,
          -1,
          -1,
          4,
          0,
          0,
          1,
          1,
          0,
          0,
          -1,
          -2,
          0,
          0,
          0,
          1,
          -3,
          3,
          0,
          0,
          0,
          0,
          -1,
          2,
          -8,
          0,
          2,
          0,
          0,
          0,
          -1,
          1,
          2,
          1,
          1,
          -1,
          1,
          2,
          0,
          0,
          3,
          0,
          0,
          0,
          1,
          0,
          0,
          1,
          -3,
          2,
          0,
          2,
          1,
          -6,
          1,
          1,
          0,
          0,
          0,
          0,
          0,
          0,
          -4,
          1,
          -2,
          0,
          1,
          2,
          0,
          -2,
          0,
          2,
          -1,
          0,
          0,
          1,
          0,
          0,
          0,
          -2,
          3,
          1,
          1,
          1,
          -3,
          0,
          0,
          1,
          0,
          0,
          -2,
          0,
          2,
          0,
          0,
          0,
          -3,
          0,
          0,
          0,
          -5,
          11,
          18,
          20,
          -1,
          18,
          20,
          -3,
          3,
          16,
          10,
          5,
          11,
          11,
          7,
          1,
          4,
          -2,
          14,
          8,
          12,
          1,
          0,
          -1,
          0,
          -1,
          2,
          4,
          -3,
          6,
          -3,
          2,
          -3,
          -3,
          -1,
          6,
          7,
          7,
          7,
          10,
          6,
          4,
          5,
          3,
          5,
          -4,
          7,
          -3,
          2,
          0,
          -6,
          0,
          0,
          3,
          12,
          0,
          5,
          0,
          3,
          -1,
          3,
          9,
          7,
          2,
          6,
          0,
          -1,
          3,
          4,
          -3,
          2,
          11,
          10,
          0,
          9,
          -2,
          0,
          6,
          5,
          0,
          2,
          5,
          1,
          3,
          -2,
          0,
          -1,
          4,
          -2,
          -3,
          -5,
          5,
          3,
          4,
          -1,
          -2,
          7,
          4,
          0,
          3,
          3,
          1,
          4,
          8,
          1,
          0,
          0,
          4,
          2,
          -1,
          1,
          4,
          4,
          -6,
          -1,
          4,
          -3,
          0,
          0,
          0,
          -13,
          7,
          0,
          3,
          3,
          4,
          7,
          -1,
          1,
          -5,
          4,
          2,
          2,
          0,
          0,
          3,
          0,
          -3,
          4,
          -4,
          10,
          3,
          8,
          2,
          5,
          -1,
          1,
          -5,
          3,
          2,
          -7,
          1,
          -3,
          1,
          -1,
          -3,
          4,
          -1,
          0,
          1,
          5,
          -3,
          7,
          2,
          1,
          4,
          0,
          0,
          -1,
          0,
          0,
          0,
          0,
          -1,
          2,
          0,
          4,
          0,
          -1,
          1,
          0,
          2,
          -1,
          0,
          0,
          -4,
          0,
          1,
          2,
          2,
          2,
          -1,
          0,
          0,
          4,
          2,
          1,
          1,
          3,
          1,
          0,
          6,
          4,
          -1,
          4,
          -1,
          0,
          0,
          0,
          3,
          1,
          -3,
          6,
          0,
          -1,
          0,
          0,
          0,
          0,
          0,
          0,
          1,
          4,
          2,
          2,
          2,
          2,
          3,
          1,
          0,
          0,
          0,
          2,
          0,
          0,
          1,
          3,
          2,
          0,
          0,
          5,
          1,
          -1,
          1,
          0,
          0,
          0,
          0,
          0,
          0,
          4,
          0,
          0,
          1,
          2,
          2,
          0,
          0,
          0,
          1,
          1,
          0,
          0,
          3,
          0,
          0,
          0,
          2,
          -2,
          3,
          0,
          1,
          3,
          3,
          1,
          -1,
          0,
          0,
          0,
          0,
          0,
          0,
          2,
          0,
          -1,
          0,
          2,
          0,
          1,
          6,
          4,
          13,
          5,
          -11,
          -12,
          14,
          -9,
          -2,
          -2,
          -9,
          -1,
          -2,
          6,
          2,
          3,
          2,
          -9,
          -6,
          -8,
          -8,
          0,
          1,
          1,
          5,
          -7,
          -3,
          -2,
          1,
          -8,
          -1,
          0,
          -1,
          -1,
          -5,
          -3,
          -2,
          -4,
          -4,
          5,
          3,
          -6,
          -3,
          -8,
          0,
          0,
          2,
          -9,
          0,
          3,
          5,
          0,
          7,
          -10,
          1,
          -5,
          -3,
          -2,
          7,
          -6,
          -8,
          -7,
          -7,
          -6,
          8,
          3,
          4,
          -5,
          -1,
          -4,
          -3,
          -8,
          3,
          -4,
          -1,
          0,
          -5,
          5,
          2,
          -4,
          -7,
          2,
          -5,
          -2,
          0,
          -3,
          -2,
          1,
          0,
          3,
          1,
          -3,
          -3,
          -3,
          -3,
          -6,
          -1,
          0,
          -2,
          -7,
          1,
          0,
          -5,
          1,
          3,
          0,
          -3,
          1,
          -1,
          4,
          1,
          -3,
          4,
          -3,
          0,
          2,
          1,
          -1,
          0,
          8,
          -4,
          4,
          0,
          2,
          1,
          -5,
          3,
          -1,
          -1,
          0,
          -4,
          0,
          0,
          0,
          -1,
          0,
          1,
          -1,
          -5,
          -6,
          -1,
          -9,
          1,
          -1,
          1,
          4,
          9,
          3,
          -2,
          2,
          -3,
          1,
          -6,
          1,
          2,
          1,
          1,
          0,
          1,
          -6,
          0,
          -5,
          0,
          2,
          -4,
          2,
          0,
          0,
          3,
          2,
          1,
          1,
          1,
          2,
          0,
          0,
          1,
          1,
          1,
          1,
          -2,
          -2,
          3,
          0,
          3,
          0,
          0,
          -6,
          3,
          1,
          0,
          0,
          0,
          -4,
          -2,
          3,
          1,
          -1,
          2,
          0,
          -2,
          -2,
          3,
          -1,
          1,
          0,
          0,
          0,
          -2,
          1,
          1,
          -4,
          0,
          1,
          0,
          0,
          3,
          0,
          0,
          -2,
          -1,
          -5,
          -1,
          -2,
          -2,
          -2,
          -2,
          2,
          0,
          0,
          0,
          -2,
          0,
          0,
          -2,
          -1,
          -3,
          0,
          0,
          -2,
          -1,
          0,
          -2,
          0,
          0,
          0,
          0,
          0,
          0,
          -5,
          0,
          5,
          -1,
          1,
          -5,
          0,
          1,
          0,
          -1,
          -1,
          0,
          0,
          -2,
          0,
          0,
          0,
          -1,
          0,
          -2,
          3,
          2,
          1,
          0,
          1,
          1,
          0,
          0,
          1,
          0,
          -2,
          0,
          0,
          0,
          0,
          1,
          -2,
          0,
          29,
          16,
          19,
          11,
          24,
          14,
          19,
          7,
          13,
          4,
          9,
          23,
          -4,
          11,
          6,
          18,
          9,
          4,
          7,
          2,
          13,
          7,
          5,
          0,
          4,
          12,
          8,
          7,
          2,
          8,
          18,
          11,
          5,
          -7,
          12,
          7,
          2,
          8,
          6,
          9,
          13,
          1,
          11,
          9,
          4,
          10,
          -2,
          0,
          3,
          0,
          -3,
          1,
          0,
          0,
          5,
          13,
          5,
          12,
          6,
          5,
          6,
          7,
          6,
          9,
          9,
          3,
          5,
          1,
          8,
          3,
          4,
          0,
          6,
          2,
          0,
          8,
          0,
          -3,
          6,
          3,
          4,
          6,
          0,
          11,
          2,
          1,
          4,
          2,
          2,
          6,
          -3,
          1,
          6,
          3,
          3,
          1,
          7,
          4,
          0,
          8,
          11,
          2,
          -1,
          -1,
          5,
          -2,
          4,
          9,
          -1,
          1,
          2,
          1,
          -3,
          4,
          3,
          -9,
          -1,
          12,
          1,
          4,
          -4,
          3,
          1,
          3,
          6,
          3,
          1,
          -2,
          3,
          7,
          -4,
          4,
          1,
          0,
          5,
          -2,
          0,
          6,
          1,
          6,
          2,
          3,
          2,
          0,
          5,
          1,
          -3,
          -5,
          -2,
          3,
          3,
          5,
          0,
          2,
          5,
          3,
          -4,
          1,
          3,
          3,
          3,
          -1,
          1,
          1,
          -4,
          3,
          4,
          0,
          3,
          -2,
          2,
          1,
          1,
          2,
          1,
          0,
          2,
          2,
          1,
          1,
          -1,
          3,
          6,
          -5,
          0,
          0,
          0,
          1,
          5,
          -3,
          -1,
          -1,
          0,
          0,
          0,
          4,
          -4,
          -1,
          3,
          -4,
          0,
          1,
          2,
          2,
          3,
          1,
          0,
          4,
          1,
          0,
          3,
          -2,
          -1,
          1,
          1,
          0,
          0,
          0,
          0,
          2,
          1,
          2,
          6,
          0,
          6,
          5,
          2,
          1,
          -4,
          4,
          3,
          0,
          0,
          0,
          0,
          5,
          5,
          1,
          0,
          -1,
          0,
          4,
          0,
          0,
          0,
          0,
          0,
          0,
          0,
          0,
          1,
          -1,
          -5,
          2,
          -3,
          2,
          0,
          0,
          2,
          -1,
          0,
          2,
          0,
          2,
          0,
          0,
          3,
          0,
          -1,
          3,
          -2,
          0,
          -1,
          -1,
          1,
          0,
          0,
          0,
          4,
          0,
          3,
          0,
          0,
          1,
          0,
          0,
          1,
          0,
          48,
          46,
          16,
          10,
          39,
          29,
          28,
          14,
          17,
          18,
          13,
          -3,
          19,
          8,
          13,
          14,
          3,
          6,
          9,
          15,
          7,
          5,
          5,
          0,
          -2,
          10,
          29,
          0,
          15,
          6,
          12,
          23,
          2,
          18,
          16,
          6,
          13,
          2,
          5,
          13,
          2,
          10,
          -3,
          13,
          9,
          5,
          4,
          9,
          10,
          0,
          13,
          14,
          0,
          1,
          5,
          -3,
          -1,
          8,
          6,
          -4,
          9,
          0,
          2,
          9,
          -7,
          11,
          4,
          1,
          4,
          7,
          13,
          4,
          -1,
          7,
          2,
          11,
          0,
          12,
          -1,
          -1,
          8,
          9,
          8,
          16,
          6,
          0,
          3,
          3,
          2,
          -4,
          1,
          8,
          4,
          3,
          3,
          8,
          3,
          2,
          0,
          2,
          -4,
          1,
          9,
          9,
          -1,
          10,
          -3,
          -5,
          5,
          2,
          0,
          11,
          15,
          7,
          0,
          4,
          8,
          -11,
          3,
          4,
          8,
          2,
          6,
          3,
          -3,
          0,
          5,
          3,
          4,
          1,
          2,
          -3,
          2,
          2,
          -1,
          -1,
          0,
          -3,
          -2,
          0,
          2,
          -2,
          4,
          1,
          -1,
          6,
          3,
          9,
          4,
          4,
          0,
          -1,
          2,
          11,
          0,
          5,
          6,
          5,
          1,
          -3,
          0,
          2,
          8,
          0,
          5,
          0,
          -1,
          0,
          -1,
          5,
          2,
          2,
          1,
          0,
          7,
          1,
          -1,
          1,
          9,
          4,
          0,
          2,
          -2,
          7,
          0,
          5,
          0,
          -1,
          1,
          9,
          4,
          4,
          0,
          0,
          2,
          2,
          3,
          0,
          0,
          4,
          0,
          -1,
          4,
          0,
          -1,
          -4,
          0,
          -2,
          -1,
          5,
          0,
          6,
          6,
          -1,
          -1,
          0,
          0,
          -1,
          2,
          2,
          8,
          5,
          0,
          7,
          -2,
          -3,
          1,
          3,
          3,
          -2,
          -3,
          0,
          1,
          2,
          0,
          -5,
          -4,
          3,
          0,
          2,
          1,
          -5,
          0,
          1,
          0,
          0,
          0,
          0,
          2,
          0,
          3,
          4,
          4,
          -2,
          4,
          -1,
          1,
          2,
          -1,
          9,
          4,
          3,
          1,
          1,
          0,
          0,
          3,
          4,
          1,
          0,
          1,
          0,
          0,
          0,
          1,
          3,
          1,
          0,
          2,
          0,
          -2,
          1,
          3,
          0,
          -1,
          -1,
          1,
          0,
          -24,
          -13,
          13,
          25,
          -9,
          -3,
          -7,
          -1,
          -17,
          -3,
          6,
          4,
          11,
          -6,
          -3,
          -7,
          5,
          3,
          8,
          -3,
          0,
          8,
          9,
          4,
          1,
          -1,
          -14,
          -5,
          -6,
          5,
          -13,
          -15,
          -1,
          -2,
          -14,
          -2,
          -7,
          4,
          -2,
          -7,
          -8,
          0,
          0,
          -6,
          2,
          -17,
          0,
          -2,
          -5,
          0,
          -11,
          -17,
          0,
          0,
          6,
          -1,
          2,
          -7,
          1,
          2,
          6,
          4,
          9,
          -9,
          8,
          -4,
          -11,
          5,
          -1,
          -5,
          0,
          -1,
          5,
          -6,
          2,
          -4,
          0,
          -2,
          -3,
          2,
          -3,
          -5,
          -5,
          -21,
          0,
          5,
          7,
          4,
          6,
          9,
          2,
          -10,
          -6,
          2,
          3,
          -4,
          -7,
          2,
          0,
          -3,
          2,
          -1,
          2,
          -8,
          5,
          1,
          5,
          3,
          -5,
          -1,
          -2,
          -9,
          0,
          -9,
          3,
          2,
          0,
          7,
          -1,
          3,
          -5,
          -4,
          -6,
          0,
          -2,
          4,
          -3,
          -1,
          -2,
          -9,
          -1,
          -1,
          3,
          0,
          5,
          5,
          0,
          -3,
          11,
          1,
          -8,
          2,
          1,
          -1,
          1,
          -4,
          3,
          -3,
          -6,
          -6,
          -1,
          1,
          1,
          4,
          -4,
          0,
          -3,
          1,
          1,
          0,
          2,
          -2,
          -8,
          1,
          1,
          8,
          4,
          0,
          3,
          -2,
          1,
          -3,
          -2,
          1,
          -7,
          6,
          0,
          5,
          -6,
          0,
          0,
          3,
          3,
          -5,
          0,
          -4,
          0,
          1,
          -4,
          -4,
          -4,
          -3,
          0,
          1,
          6,
          0,
          -2,
          0,
          2,
          0,
          0,
          6,
          -3,
          1,
          -2,
          1,
          3,
          -1,
          1,
          -4,
          -1,
          -1,
          0,
          3,
          0,
          0,
          1,
          -1,
          -2,
          -2,
          -1,
          2,
          -3,
          -3,
          -2,
          -1,
          -1,
          -2,
          -5,
          1,
          1,
          0,
          0,
          -1,
          0,
          2,
          2,
          2,
          0,
          -1,
          -5,
          5,
          0,
          2,
          0,
          0,
          0,
          0,
          0,
          1,
          0,
          -1,
          -1,
          3,
          -3,
          2,
          -1,
          -3,
          2,
          -8,
          -2,
          -3,
          3,
          -2,
          0,
          1,
          -6,
          0,
          -2,
          -2,
          -3,
          2,
          5,
          3,
          0,
          -3,
          1,
          0,
          -2,
          0,
          0,
          -1,
          -3,
          1,
          0,
          3,
          -1,
          0,
          16,
          12,
          30,
          -13,
          14,
          4,
          19,
          39,
          34,
          14,
          18,
          19,
          -2,
          23,
          19,
          6,
          0,
          9,
          16,
          8,
          14,
          4,
          -2,
          9,
          -1,
          5,
          19,
          24,
          12,
          5,
          21,
          -1,
          13,
          2,
          18,
          12,
          6,
          4,
          10,
          -1,
          2,
          0,
          12,
          10,
          5,
          17,
          6,
          2,
          10,
          0,
          23,
          24,
          3,
          10,
          -3,
          -1,
          5,
          15,
          -7,
          4,
          2,
          5,
          0,
          11,
          2,
          5,
          8,
          -7,
          3,
          14,
          -5,
          16,
          4,
          8,
          5,
          11,
          3,
          -4,
          3,
          14,
          5,
          15,
          9,
          0,
          5,
          -2,
          0,
          1,
          -4,
          0,
          12,
          14,
          14,
          0,
          2,
          1,
          7,
          4,
          0,
          1,
          14,
          2,
          -2,
          6,
          1,
          5,
          0,
          8,
          4,
          7,
          16,
          7,
          6,
          12,
          2,
          14,
          -1,
          0,
          5,
          -1,
          5,
          4,
          4,
          -4,
          6,
          -4,
          12,
          5,
          5,
          3,
          6,
          5,
          -1,
          9,
          -2,
          0,
          0,
          0,
          0,
          4,
          9,
          3,
          2,
          0,
          4,
          8,
          -3,
          -1,
          8,
          5,
          12,
          2,
          4,
          -10,
          10,
          1,
          4,
          -1,
          4,
          3,
          1,
          0,
          7,
          5,
          5,
          -5,
          3,
          0,
          -2,
          3,
          -1,
          1,
          1,
          3,
          6,
          -2,
          2,
          1,
          -1,
          -1,
          1,
          -2,
          0,
          4,
          0,
          9,
          1,
          2,
          1,
          -3,
          6,
          6,
          0,
          2,
          -6,
          3,
          6,
          8,
          2,
          -4,
          0,
          -4,
          3,
          -1,
          10,
          6,
          -3,
          1,
          0,
          3,
          10,
          7,
          0,
          -2,
          1,
          5,
          4,
          4,
          9,
          1,
          -6,
          -3,
          2,
          6,
          10,
          4,
          3,
          4,
          5,
          6,
          0,
          0,
          0,
          -1,
          0,
          1,
          2,
          -1,
          0,
          9,
          3,
          -3,
          1,
          0,
          0,
          0,
          0,
          0,
          3,
          1,
          3,
          3,
          -1,
          2,
          -1,
          -4,
          0,
          3,
          2,
          1,
          2,
          1,
          -2,
          5,
          0,
          1,
          5,
          -1,
          3,
          3,
          2,
          0,
          -3,
          3,
          0,
          4,
          2,
          0,
          -2,
          0,
          7,
          0,
          3,
          -2,
          4,
          -1,
          0,
          0,
          4,
          11,
          -11,
          13,
          -18,
          22,
          -5,
          -8,
          4,
          -8,
          -10,
          18,
          6,
          -3,
          6,
          -13,
          20,
          -6,
          -21,
          0,
          1,
          7,
          -2,
          -7,
          5,
          -18,
          -20,
          3,
          1,
          12,
          -2,
          9,
          -15,
          -5,
          -1,
          -11,
          -3,
          -2,
          3,
          11,
          6,
          -1,
          -8,
          0,
          -12,
          5,
          7,
          7,
          -13,
          0,
          -2,
          -2,
          4,
          -2,
          4,
          3,
          1,
          -2,
          3,
          8,
          -15,
          5,
          -4,
          -4,
          2,
          -9,
          6,
          17,
          3,
          -10,
          -2,
          -11,
          0,
          -5,
          -13,
          -8,
          0,
          9,
          7,
          -8,
          -9,
          -5,
          -2,
          9,
          5,
          4,
          -3,
          6,
          11,
          3,
          -4,
          -9,
          5,
          11,
          -4,
          8,
          4,
          0,
          0,
          10,
          -4,
          -8,
          11,
          -3,
          -6,
          -7,
          4,
          -1,
          -3,
          0,
          -3,
          1,
          -3,
          -13,
          5,
          -14,
          2,
          -2,
          10,
          -4,
          -5,
          6,
          -3,
          6,
          4,
          4,
          -10,
          -6,
          -2,
          10,
          6,
          1,
          1,
          -3,
          7,
          -1,
          0,
          -4,
          4,
          -4,
          2,
          -1,
          1,
          11,
          -9,
          0,
          4,
          -1,
          -8,
          -1,
          -14,
          3,
          7,
          7,
          -3,
          0,
          0,
          -1,
          -2,
          8,
          -1,
          1,
          2,
          0,
          -2,
          3,
          -7,
          0,
          8,
          -3,
          6,
          -1,
          -1,
          -4,
          4,
          -2,
          3,
          -2,
          5,
          7,
          0,
          2,
          9,
          -5,
          0,
          -2,
          2,
          2,
          10,
          4,
          0,
          0,
          0,
          -1,
          8,
          0,
          2,
          -1,
          -7,
          7,
          0,
          2,
          0,
          0,
          0,
          3,
          4,
          -1,
          -1,
          -4,
          -8,
          -10,
          1,
          3,
          3,
          -2,
          1,
          6,
          -1,
          1,
          2,
          6,
          2,
          -5,
          -7,
          4,
          1,
          -1,
          2,
          -9,
          1,
          1,
          3,
          2,
          0,
          -3,
          0,
          -2,
          0,
          -2,
          -2,
          0,
          1,
          -1,
          2,
          0,
          0,
          1,
          8,
          0,
          1,
          1,
          8,
          2,
          8,
          4,
          0,
          1,
          -3,
          0,
          1,
          -1,
          -2,
          -3,
          0,
          5,
          -1,
          3,
          -2,
          -3,
          1,
          -1,
          0,
          -2,
          -1,
          6,
          1,
          0,
          5,
          0,
          -3,
          0,
          -1,
          3,
          -1,
          0,
          2,
          0,
          15,
          42,
          50,
          23,
          18,
          34,
          27,
          9,
          3,
          45,
          29,
          4,
          15,
          18,
          -6,
          14,
          4,
          9,
          15,
          -1,
          4,
          4,
          28,
          21,
          6,
          21,
          14,
          7,
          1,
          -4,
          10,
          2,
          13,
          15,
          13,
          11,
          14,
          13,
          12,
          -2,
          26,
          16,
          16,
          9,
          8,
          9,
          9,
          -3,
          15,
          1,
          10,
          9,
          5,
          0,
          6,
          4,
          10,
          9,
          9,
          4,
          18,
          7,
          29,
          6,
          -1,
          2,
          -4,
          11,
          -1,
          5,
          10,
          9,
          10,
          2,
          12,
          5,
          -1,
          -4,
          8,
          2,
          9,
          -8,
          6,
          -1,
          -2,
          -4,
          11,
          10,
          2,
          9,
          6,
          5,
          -8,
          -3,
          3,
          -4,
          3,
          3,
          1,
          -2,
          11,
          6,
          -11,
          15,
          13,
          2,
          14,
          3,
          5,
          2,
          -10,
          11,
          -5,
          4,
          -5,
          15,
          6,
          6,
          4,
          15,
          13,
          3,
          1,
          2,
          10,
          -1,
          8,
          9,
          3,
          9,
          -4,
          8,
          -1,
          15,
          9,
          -2,
          0,
          7,
          -2,
          0,
          2,
          11,
          1,
          -4,
          5,
          -2,
          3,
          10,
          7,
          -1,
          7,
          8,
          -5,
          6,
          9,
          -5,
          7,
          0,
          2,
          2,
          3,
          0,
          3,
          5,
          2,
          2,
          9,
          0,
          -4,
          17,
          5,
          2,
          5,
          3,
          1,
          4,
          3,
          -1,
          -2,
          0,
          -1,
          10,
          2,
          6,
          0,
          -8,
          13,
          -4,
          -2,
          2,
          8,
          13,
          3,
          6,
          -1,
          7,
          2,
          -3,
          7,
          -1,
          0,
          4,
          1,
          5,
          -7,
          -1,
          -2,
          7,
          4,
          4,
          10,
          7,
          -2,
          -3,
          7,
          4,
          0,
          -1,
          -5,
          0,
          3,
          -5,
          7,
          2,
          4,
          -4,
          -3,
          3,
          6,
          3,
          6,
          16,
          -1,
          6,
          0,
          3,
          3,
          5,
          0,
          4,
          5,
          3,
          1,
          8,
          -1,
          0,
          0,
          -1,
          3,
          5,
          0,
          2,
          -5,
          -4,
          -2,
          -1,
          0,
          15,
          2,
          5,
          2,
          3,
          3,
          6,
          0,
          4,
          6,
          -1,
          3,
          4,
          -1,
          2,
          8,
          -2,
          2,
          -5,
          -4,
          0,
          1,
          2,
          -5,
          0,
          1,
          1,
          2,
          4,
          0,
          0,
          90,
          16,
          51,
          56,
          117,
          27,
          33,
          38,
          31,
          24,
          49,
          43,
          35,
          25,
          19,
          64,
          15,
          24,
          26,
          33,
          15,
          18,
          -1,
          16,
          20,
          36,
          30,
          14,
          19,
          25,
          44,
          17,
          11,
          12,
          32,
          14,
          16,
          17,
          6,
          12,
          11,
          8,
          2,
          -4,
          25,
          -2,
          33,
          8,
          23,
          -1,
          30,
          26,
          26,
          25,
          24,
          18,
          10,
          39,
          20,
          12,
          9,
          -4,
          -1,
          33,
          15,
          22,
          4,
          -1,
          11,
          28,
          8,
          8,
          6,
          3,
          9,
          10,
          15,
          7,
          23,
          24,
          13,
          5,
          0,
          0,
          5,
          9,
          -4,
          -6,
          10,
          11,
          -3,
          17,
          23,
          16,
          7,
          14,
          -6,
          10,
          -1,
          9,
          -14,
          17,
          11,
          16,
          12,
          1,
          -12,
          9,
          1,
          9,
          19,
          2,
          6,
          17,
          11,
          -2,
          10,
          12,
          12,
          -9,
          -6,
          5,
          -5,
          5,
          -7,
          7,
          19,
          13,
          9,
          0,
          8,
          15,
          12,
          18,
          20,
          6,
          0,
          15,
          2,
          13,
          8,
          6,
          11,
          3,
          6,
          10,
          9,
          -2,
          4,
          10,
          4,
          10,
          8,
          -5,
          -1,
          9,
          17,
          10,
          10,
          3,
          12,
          6,
          8,
          4,
          18,
          3,
          6,
          0,
          -2,
          -12,
          8,
          1,
          0,
          9,
          1,
          1,
          8,
          7,
          6,
          9,
          6,
          1,
          0,
          3,
          0,
          7,
          -9,
          13,
          1,
          16,
          3,
          -8,
          6,
          0,
          -3,
          1,
          5,
          13,
          0,
          6,
          0,
          4,
          6,
          8,
          9,
          0,
          6,
          2,
          -3,
          15,
          4,
          1,
          7,
          6,
          0,
          5,
          -4,
          1,
          13,
          6,
          0,
          11,
          4,
          7,
          4,
          6,
          8,
          0,
          8,
          11,
          2,
          -3,
          1,
          -5,
          0,
          7,
          5,
          5,
          2,
          1,
          4,
          2,
          0,
          -3,
          2,
          0,
          0,
          3,
          -3,
          4,
          -4,
          3,
          8,
          8,
          11,
          11,
          0,
          -15,
          6,
          -4,
          3,
          1,
          2,
          -4,
          0,
          4,
          -1,
          7,
          7,
          1,
          2,
          7,
          -5,
          9,
          5,
          5,
          3,
          0,
          8,
          2,
          3,
          0,
          6,
          3,
          3,
          4,
          0,
          0,
          51,
          50,
          37,
          53,
          5,
          16,
          83,
          50,
          31,
          11,
          24,
          -3,
          37,
          65,
          20,
          7,
          3,
          29,
          25,
          31,
          13,
          35,
          60,
          30,
          30,
          3,
          24,
          7,
          7,
          3,
          -42,
          22,
          44,
          10,
          -44,
          35,
          20,
          1,
          10,
          15,
          -7,
          16,
          28,
          16,
          17,
          19,
          -10,
          30,
          10,
          1,
          -45,
          -32,
          7,
          18,
          -5,
          10,
          7,
          -40,
          -3,
          12,
          6,
          14,
          1,
          -5,
          14,
          1,
          29,
          5,
          16,
          1,
          17,
          6,
          6,
          25,
          11,
          3,
          23,
          19,
          -7,
          -7,
          8,
          7,
          14,
          6,
          10,
          19,
          23,
          17,
          -5,
          7,
          23,
          -13,
          -3,
          -5,
          21,
          5,
          7,
          1,
          0,
          0,
          2,
          17,
          14,
          -2,
          -4,
          1,
          36,
          -6,
          6,
          11,
          -1,
          -2,
          9,
          0,
          3,
          10,
          15,
          -5,
          -3,
          28,
          5,
          -1,
          19,
          -2,
          -2,
          15,
          -13,
          5,
          14,
          7,
          6,
          1,
          5,
          -19,
          -10,
          11,
          3,
          -3,
          8,
          4,
          8,
          -3,
          -3,
          10,
          -2,
          -11,
          2,
          8,
          2,
          22,
          20,
          -11,
          -1,
          6,
          1,
          9,
          -8,
          -3,
          -7,
          7,
          2,
          -6,
          -4,
          6,
          -17,
          11,
          -6,
          0,
          13,
          6,
          -10,
          17,
          10,
          -6,
          13,
          27,
          4,
          1,
          13,
          -8,
          1,
          11,
          -8,
          0,
          2,
          21,
          22,
          -3,
          0,
          6,
          -12,
          8,
          7,
          13,
          8,
          -4,
          -13,
          -5,
          4,
          0,
          1,
          8,
          -2,
          -5,
          -1,
          6,
          2,
          6,
          10,
          1,
          -1,
          8,
          1,
          9,
          -1,
          5,
          4,
          -7,
          -6,
          5,
          0,
          -17,
          -1,
          -2,
          -1,
          -5,
          5,
          10,
          -6,
          10,
          0,
          6,
          9,
          19,
          2,
          -3,
          -8,
          7,
          7,
          -5,
          8,
          0,
          5,
          3,
          5,
          1,
          1,
          4,
          11,
          1,
          20,
          -2,
          -4,
          -3,
          -6,
          -4,
          1,
          13,
          4,
          9,
          -7,
          8,
          5,
          12,
          0,
          -9,
          1,
          -3,
          2,
          -3,
          9,
          -3,
          0,
          4,
          0,
          -6,
          8,
          0,
          -5,
          1,
          10,
          0,
          -1,
          1,
          11,
          1,
          -2,
          19,
          31,
          68,
          -2,
          12,
          16,
          -15,
          5,
          12,
          7,
          23,
          -49,
          12,
          -8,
          1,
          16,
          -1,
          12,
          29,
          -17,
          -27,
          -15,
          -1,
          26,
          9,
          33,
          -5,
          -8,
          10,
          23,
          8,
          -16,
          -4,
          -2,
          2,
          6,
          -21,
          7,
          5,
          -19,
          2,
          -11,
          -5,
          17,
          20,
          -20,
          6,
          8,
          6,
          -16,
          58,
          23,
          18,
          26,
          -19,
          -6,
          13,
          -8,
          -8,
          -2,
          -5,
          -6,
          -13,
          -1,
          -18,
          9,
          22,
          -3,
          -17,
          11,
          8,
          -3,
          -1,
          -16,
          18,
          -2,
          4,
          33,
          -4,
          -12,
          -6,
          -7,
          7,
          5,
          22,
          -2,
          42,
          10,
          -6,
          -3,
          3,
          18,
          6,
          -7,
          23,
          -2,
          6,
          2,
          6,
          26,
          -1,
          1,
          4,
          -7,
          -6,
          -4,
          5,
          22,
          -8,
          9,
          4,
          -6,
          0,
          1,
          -10,
          -1,
          -6,
          -25,
          16,
          -16,
          13,
          14,
          -3,
          22,
          14,
          8,
          -12,
          0,
          -9,
          -6,
          9,
          5,
          -4,
          18,
          2,
          -9,
          11,
          39,
          1,
          -3,
          -9,
          -7,
          -6,
          -3,
          0,
          7,
          18,
          6,
          -3,
          47,
          -2,
          -8,
          4,
          -7,
          -4,
          20,
          -3,
          3,
          7,
          12,
          -9,
          2,
          0,
          7,
          9,
          3,
          -20,
          3,
          20,
          20,
          -11,
          5,
          4,
          8,
          -4,
          -15,
          7,
          -8,
          19,
          -10,
          4,
          21,
          0,
          -2,
          4,
          25,
          -24,
          12,
          23,
          8,
          -21,
          14,
          -4,
          5,
          8,
          9,
          -3,
          2,
          11,
          -1,
          0,
          22,
          1,
          8,
          6,
          -3,
          -3,
          30,
          2,
          21,
          -11,
          -7,
          -1,
          1,
          14,
          -3,
          8,
          15,
          5,
          3,
          1,
          7,
          11,
          -9,
          -7,
          2,
          3,
          7,
          -8,
          3,
          -2,
          4,
          -6,
          -3,
          0,
          21,
          3,
          7,
          -7,
          11,
          2,
          1,
          8,
          12,
          9,
          12,
          22,
          5,
          9,
          -8,
          4,
          -12,
          -5,
          2,
          6,
          -1,
          -2,
          16,
          -2,
          3,
          -3,
          14,
          8,
          20,
          -14,
          11,
          4,
          -3,
          -4,
          2,
          -1,
          -7,
          -7,
          -1,
          -4,
          5,
          2,
          5,
          8,
          -4,
          6,
          0,
          5,
          2,
          1,
          -4,
          8,
          15,
          -4,
          -51,
          -65,
          -43,
          -61,
          -3,
          -19,
          -67,
          -15,
          -11,
          -62,
          -21,
          -4,
          94,
          -29,
          -32,
          -31,
          11,
          -43,
          11,
          16,
          12,
          -32,
          -4,
          33,
          55,
          -22,
          -26,
          -6,
          -19,
          -21,
          65,
          -31,
          -10,
          -23,
          52,
          29,
          -27,
          -6,
          10,
          -22,
          17,
          -24,
          -22,
          -18,
          -2,
          -24,
          -22,
          -20,
          -7,
          -2,
          52,
          -1,
          29,
          -13,
          18,
          -33,
          1,
          50,
          -19,
          7,
          5,
          -3,
          -18,
          31,
          -19,
          -23,
          1,
          14,
          -13,
          -1,
          -10,
          -7,
          16,
          -13,
          -16,
          -6,
          -26,
          3,
          0,
          12,
          1,
          0,
          -15,
          -20,
          5,
          -27,
          -19,
          2,
          22,
          -13,
          -23,
          -3,
          2,
          16,
          3,
          -19,
          10,
          12,
          6,
          12,
          6,
          -6,
          -7,
          3,
          11,
          2,
          -35,
          28,
          -9,
          -4,
          10,
          -3,
          -6,
          -1,
          6,
          -15,
          8,
          7,
          23,
          -26,
          -22,
          3,
          -18,
          -11,
          -2,
          3,
          7,
          -3,
          7,
          -5,
          -8,
          5,
          14,
          7,
          6,
          3,
          -4,
          -4,
          1,
          6,
          19,
          9,
          22,
          -10,
          -6,
          26,
          -6,
          -8,
          -29,
          -18,
          -13,
          -3,
          21,
          -8,
          -26,
          -14,
          -16,
          -7,
          -4,
          3,
          -7,
          26,
          7,
          -8,
          10,
          7,
          0,
          -5,
          -18,
          -1,
          -7,
          6,
          22,
          2,
          -4,
          -24,
          10,
          -24,
          0,
          -1,
          16,
          -20,
          34,
          4,
          3,
          13,
          -22,
          9,
          -10,
          6,
          4,
          6,
          18,
          1,
          -15,
          2,
          9,
          -16,
          -6,
          -9,
          2,
          -18,
          -17,
          -1,
          8,
          8,
          -15,
          5,
          -11,
          1,
          -9,
          -4,
          -6,
          -13,
          5,
          -12,
          3,
          23,
          25,
          2,
          -3,
          -1,
          2,
          -4,
          2,
          0,
          3,
          -3,
          -3,
          -12,
          0,
          2,
          6,
          -6,
          4,
          9,
          -4,
          -5,
          16,
          3,
          -12,
          19,
          -6,
          -4,
          -8,
          -3,
          6,
          4,
          -4,
          34,
          -6,
          17,
          -2,
          9,
          0,
          -1,
          3,
          -3,
          2,
          -2,
          13,
          -5,
          -16,
          6,
          23,
          13,
          14,
          7,
          2,
          6,
          5,
          7,
          3,
          -5,
          -5,
          17,
          -4,
          9,
          1,
          9,
          -3,
          7,
          -1,
          10,
          -7,
          5,
          -3,
          1,
          101,
          157,
          160,
          173,
          113,
          103,
          141,
          90,
          72,
          118,
          109,
          84,
          -4,
          83,
          93,
          88,
          68,
          81,
          72,
          96,
          46,
          55,
          79,
          73,
          35,
          66,
          63,
          54,
          38,
          58,
          -47,
          44,
          76,
          62,
          -35,
          40,
          14,
          43,
          63,
          44,
          -5,
          32,
          57,
          12,
          39,
          13,
          70,
          45,
          51,
          99,
          -33,
          3,
          20,
          30,
          17,
          37,
          42,
          -22,
          26,
          28,
          15,
          28,
          40,
          -5,
          45,
          16,
          45,
          23,
          23,
          13,
          46,
          55,
          43,
          24,
          36,
          8,
          40,
          70,
          9,
          31,
          42,
          30,
          49,
          0,
          15,
          39,
          35,
          40,
          21,
          26,
          14,
          20,
          27,
          -13,
          38,
          80,
          13,
          6,
          52,
          12,
          17,
          13,
          32,
          44,
          21,
          19,
          32,
          11,
          28,
          46,
          31,
          7,
          16,
          21,
          17,
          37,
          5,
          2,
          21,
          48,
          35,
          23,
          33,
          24,
          24,
          2,
          29,
          34,
          19,
          -3,
          23,
          25,
          -15,
          37,
          3,
          11,
          43,
          7,
          14,
          29,
          0,
          -6,
          -10,
          18,
          20,
          -24,
          10,
          24,
          1,
          17,
          19,
          25,
          4,
          1,
          19,
          28,
          40,
          30,
          9,
          19,
          10,
          49,
          0,
          16,
          9,
          18,
          3,
          48,
          16,
          13,
          33,
          34,
          10,
          22,
          1,
          30,
          4,
          19,
          -2,
          11,
          12,
          9,
          -26,
          16,
          26,
          5,
          24,
          -10,
          10,
          -7,
          -5,
          0,
          10,
          14,
          0,
          9,
          1,
          31,
          15,
          27,
          42,
          11,
          22,
          -2,
          -2,
          22,
          3,
          8,
          39,
          24,
          21,
          19,
          0,
          21,
          18,
          25,
          0,
          -10,
          -19,
          0,
          10,
          3,
          7,
          21,
          -4,
          7,
          -1,
          18,
          -2,
          26,
          19,
          8,
          -6,
          15,
          15,
          5,
          2,
          5,
          2,
          -1,
          3,
          -13,
          30,
          12,
          16,
          28,
          44,
          24,
          8,
          -42,
          11,
          -2,
          6,
          6,
          16,
          15,
          25,
          2,
          13,
          18,
          -17,
          8,
          13,
          1,
          13,
          8,
          4,
          1,
          7,
          5,
          16,
          8,
          2,
          7,
          12,
          -18,
          23,
          19,
          3,
          8,
          7,
          26,
          1,
          -4,
          6,
          -13,
          19,
          15,
          -12,
          -45,
          3,
          -29,
          -41,
          26,
          -20,
          -29,
          -31,
          6,
          -15,
          -28,
          -22,
          -20,
          -14,
          -39,
          -33,
          -15,
          -37,
          -13,
          9,
          -16,
          -104,
          9,
          7,
          -10,
          -117,
          14,
          -4,
          -12,
          -5,
          13,
          -27,
          -32,
          3,
          -31,
          -5,
          1,
          -48,
          10,
          -27,
          26,
          -4,
          21,
          -13,
          13,
          -48,
          5,
          -11,
          86,
          -20,
          -3,
          -30,
          -5,
          -3,
          17,
          -6,
          -15,
          6,
          19,
          0,
          18,
          -6,
          -28,
          1,
          51,
          -19,
          -19,
          -15,
          9,
          -10,
          -29,
          -18,
          26,
          0,
          2,
          37,
          -35,
          -27,
          -29,
          -11,
          -18,
          -4,
          -11,
          -4,
          12,
          2,
          -16,
          16,
          -10,
          16,
          -21,
          -41,
          -3,
          -12,
          -32,
          4,
          7,
          110,
          6,
          7,
          -29,
          -17,
          -38,
          4,
          0,
          -27,
          -20,
          -9,
          8,
          -25,
          -27,
          -5,
          18,
          -20,
          -8,
          -11,
          -7,
          -11,
          -49,
          -19,
          11,
          27,
          24,
          12,
          18,
          -23,
          -5,
          -1,
          -14,
          29,
          -7,
          -5,
          -42,
          -5,
          -2,
          10,
          -12,
          12,
          -32,
          -28,
          4,
          15,
          22,
          -19,
          6,
          -13,
          -2,
          2,
          -17,
          3,
          -16,
          21,
          10,
          -8,
          1,
          -27,
          -16,
          20,
          16,
          7,
          10,
          -17,
          1,
          -8,
          6,
          2,
          50,
          -15,
          -3,
          -12,
          -21,
          -20,
          25,
          -9,
          -27,
          -18,
          4,
          6,
          10,
          -13,
          9,
          -8,
          -2,
          14,
          -9,
          -20,
          -12,
          0,
          1,
          -20,
          -14,
          -12,
          -21,
          25,
          5,
          -8,
          -19,
          15,
          1,
          -20,
          -3,
          6,
          17,
          10,
          -18,
          13,
          12,
          -35,
          -17,
          -6,
          -12,
          15,
          -4,
          3,
          -13,
          25,
          8,
          5,
          8,
          -8,
          -2,
          1,
          -20,
          -2,
          11,
          -11,
          -2,
          -9,
          -29,
          6,
          4,
          25,
          -3,
          3,
          2,
          -1,
          3,
          -12,
          18,
          4,
          -10,
          -10,
          1,
          25,
          -12,
          -2,
          -8,
          -17,
          8,
          2,
          3,
          2,
          -9,
          -15,
          -8,
          -9,
          -7,
          -22,
          -5,
          4,
          -14,
          -8,
          3,
          -24,
          -24,
          -12,
          -10,
          -11,
          -12,
          -10,
          -7,
          5,
          -4,
          -5,
          2,
          -23,
          9,
          -5,
          6,
          8,
          12,
          5,
          18,
          -3,
          2,
          -4,
          -11
         ],
         "y0": " ",
         "yaxis": "y"
        }
       ],
       "layout": {
        "boxmode": "group",
        "legend": {
         "tracegroupgap": 0
        },
        "template": {
         "data": {
          "bar": [
           {
            "error_x": {
             "color": "#2a3f5f"
            },
            "error_y": {
             "color": "#2a3f5f"
            },
            "marker": {
             "line": {
              "color": "#E5ECF6",
              "width": 0.5
             },
             "pattern": {
              "fillmode": "overlay",
              "size": 10,
              "solidity": 0.2
             }
            },
            "type": "bar"
           }
          ],
          "barpolar": [
           {
            "marker": {
             "line": {
              "color": "#E5ECF6",
              "width": 0.5
             },
             "pattern": {
              "fillmode": "overlay",
              "size": 10,
              "solidity": 0.2
             }
            },
            "type": "barpolar"
           }
          ],
          "carpet": [
           {
            "aaxis": {
             "endlinecolor": "#2a3f5f",
             "gridcolor": "white",
             "linecolor": "white",
             "minorgridcolor": "white",
             "startlinecolor": "#2a3f5f"
            },
            "baxis": {
             "endlinecolor": "#2a3f5f",
             "gridcolor": "white",
             "linecolor": "white",
             "minorgridcolor": "white",
             "startlinecolor": "#2a3f5f"
            },
            "type": "carpet"
           }
          ],
          "choropleth": [
           {
            "colorbar": {
             "outlinewidth": 0,
             "ticks": ""
            },
            "type": "choropleth"
           }
          ],
          "contour": [
           {
            "colorbar": {
             "outlinewidth": 0,
             "ticks": ""
            },
            "colorscale": [
             [
              0,
              "#0d0887"
             ],
             [
              0.1111111111111111,
              "#46039f"
             ],
             [
              0.2222222222222222,
              "#7201a8"
             ],
             [
              0.3333333333333333,
              "#9c179e"
             ],
             [
              0.4444444444444444,
              "#bd3786"
             ],
             [
              0.5555555555555556,
              "#d8576b"
             ],
             [
              0.6666666666666666,
              "#ed7953"
             ],
             [
              0.7777777777777778,
              "#fb9f3a"
             ],
             [
              0.8888888888888888,
              "#fdca26"
             ],
             [
              1,
              "#f0f921"
             ]
            ],
            "type": "contour"
           }
          ],
          "contourcarpet": [
           {
            "colorbar": {
             "outlinewidth": 0,
             "ticks": ""
            },
            "type": "contourcarpet"
           }
          ],
          "heatmap": [
           {
            "colorbar": {
             "outlinewidth": 0,
             "ticks": ""
            },
            "colorscale": [
             [
              0,
              "#0d0887"
             ],
             [
              0.1111111111111111,
              "#46039f"
             ],
             [
              0.2222222222222222,
              "#7201a8"
             ],
             [
              0.3333333333333333,
              "#9c179e"
             ],
             [
              0.4444444444444444,
              "#bd3786"
             ],
             [
              0.5555555555555556,
              "#d8576b"
             ],
             [
              0.6666666666666666,
              "#ed7953"
             ],
             [
              0.7777777777777778,
              "#fb9f3a"
             ],
             [
              0.8888888888888888,
              "#fdca26"
             ],
             [
              1,
              "#f0f921"
             ]
            ],
            "type": "heatmap"
           }
          ],
          "heatmapgl": [
           {
            "colorbar": {
             "outlinewidth": 0,
             "ticks": ""
            },
            "colorscale": [
             [
              0,
              "#0d0887"
             ],
             [
              0.1111111111111111,
              "#46039f"
             ],
             [
              0.2222222222222222,
              "#7201a8"
             ],
             [
              0.3333333333333333,
              "#9c179e"
             ],
             [
              0.4444444444444444,
              "#bd3786"
             ],
             [
              0.5555555555555556,
              "#d8576b"
             ],
             [
              0.6666666666666666,
              "#ed7953"
             ],
             [
              0.7777777777777778,
              "#fb9f3a"
             ],
             [
              0.8888888888888888,
              "#fdca26"
             ],
             [
              1,
              "#f0f921"
             ]
            ],
            "type": "heatmapgl"
           }
          ],
          "histogram": [
           {
            "marker": {
             "pattern": {
              "fillmode": "overlay",
              "size": 10,
              "solidity": 0.2
             }
            },
            "type": "histogram"
           }
          ],
          "histogram2d": [
           {
            "colorbar": {
             "outlinewidth": 0,
             "ticks": ""
            },
            "colorscale": [
             [
              0,
              "#0d0887"
             ],
             [
              0.1111111111111111,
              "#46039f"
             ],
             [
              0.2222222222222222,
              "#7201a8"
             ],
             [
              0.3333333333333333,
              "#9c179e"
             ],
             [
              0.4444444444444444,
              "#bd3786"
             ],
             [
              0.5555555555555556,
              "#d8576b"
             ],
             [
              0.6666666666666666,
              "#ed7953"
             ],
             [
              0.7777777777777778,
              "#fb9f3a"
             ],
             [
              0.8888888888888888,
              "#fdca26"
             ],
             [
              1,
              "#f0f921"
             ]
            ],
            "type": "histogram2d"
           }
          ],
          "histogram2dcontour": [
           {
            "colorbar": {
             "outlinewidth": 0,
             "ticks": ""
            },
            "colorscale": [
             [
              0,
              "#0d0887"
             ],
             [
              0.1111111111111111,
              "#46039f"
             ],
             [
              0.2222222222222222,
              "#7201a8"
             ],
             [
              0.3333333333333333,
              "#9c179e"
             ],
             [
              0.4444444444444444,
              "#bd3786"
             ],
             [
              0.5555555555555556,
              "#d8576b"
             ],
             [
              0.6666666666666666,
              "#ed7953"
             ],
             [
              0.7777777777777778,
              "#fb9f3a"
             ],
             [
              0.8888888888888888,
              "#fdca26"
             ],
             [
              1,
              "#f0f921"
             ]
            ],
            "type": "histogram2dcontour"
           }
          ],
          "mesh3d": [
           {
            "colorbar": {
             "outlinewidth": 0,
             "ticks": ""
            },
            "type": "mesh3d"
           }
          ],
          "parcoords": [
           {
            "line": {
             "colorbar": {
              "outlinewidth": 0,
              "ticks": ""
             }
            },
            "type": "parcoords"
           }
          ],
          "pie": [
           {
            "automargin": true,
            "type": "pie"
           }
          ],
          "scatter": [
           {
            "marker": {
             "colorbar": {
              "outlinewidth": 0,
              "ticks": ""
             }
            },
            "type": "scatter"
           }
          ],
          "scatter3d": [
           {
            "line": {
             "colorbar": {
              "outlinewidth": 0,
              "ticks": ""
             }
            },
            "marker": {
             "colorbar": {
              "outlinewidth": 0,
              "ticks": ""
             }
            },
            "type": "scatter3d"
           }
          ],
          "scattercarpet": [
           {
            "marker": {
             "colorbar": {
              "outlinewidth": 0,
              "ticks": ""
             }
            },
            "type": "scattercarpet"
           }
          ],
          "scattergeo": [
           {
            "marker": {
             "colorbar": {
              "outlinewidth": 0,
              "ticks": ""
             }
            },
            "type": "scattergeo"
           }
          ],
          "scattergl": [
           {
            "marker": {
             "colorbar": {
              "outlinewidth": 0,
              "ticks": ""
             }
            },
            "type": "scattergl"
           }
          ],
          "scattermapbox": [
           {
            "marker": {
             "colorbar": {
              "outlinewidth": 0,
              "ticks": ""
             }
            },
            "type": "scattermapbox"
           }
          ],
          "scatterpolar": [
           {
            "marker": {
             "colorbar": {
              "outlinewidth": 0,
              "ticks": ""
             }
            },
            "type": "scatterpolar"
           }
          ],
          "scatterpolargl": [
           {
            "marker": {
             "colorbar": {
              "outlinewidth": 0,
              "ticks": ""
             }
            },
            "type": "scatterpolargl"
           }
          ],
          "scatterternary": [
           {
            "marker": {
             "colorbar": {
              "outlinewidth": 0,
              "ticks": ""
             }
            },
            "type": "scatterternary"
           }
          ],
          "surface": [
           {
            "colorbar": {
             "outlinewidth": 0,
             "ticks": ""
            },
            "colorscale": [
             [
              0,
              "#0d0887"
             ],
             [
              0.1111111111111111,
              "#46039f"
             ],
             [
              0.2222222222222222,
              "#7201a8"
             ],
             [
              0.3333333333333333,
              "#9c179e"
             ],
             [
              0.4444444444444444,
              "#bd3786"
             ],
             [
              0.5555555555555556,
              "#d8576b"
             ],
             [
              0.6666666666666666,
              "#ed7953"
             ],
             [
              0.7777777777777778,
              "#fb9f3a"
             ],
             [
              0.8888888888888888,
              "#fdca26"
             ],
             [
              1,
              "#f0f921"
             ]
            ],
            "type": "surface"
           }
          ],
          "table": [
           {
            "cells": {
             "fill": {
              "color": "#EBF0F8"
             },
             "line": {
              "color": "white"
             }
            },
            "header": {
             "fill": {
              "color": "#C8D4E3"
             },
             "line": {
              "color": "white"
             }
            },
            "type": "table"
           }
          ]
         },
         "layout": {
          "annotationdefaults": {
           "arrowcolor": "#2a3f5f",
           "arrowhead": 0,
           "arrowwidth": 1
          },
          "autotypenumbers": "strict",
          "coloraxis": {
           "colorbar": {
            "outlinewidth": 0,
            "ticks": ""
           }
          },
          "colorscale": {
           "diverging": [
            [
             0,
             "#8e0152"
            ],
            [
             0.1,
             "#c51b7d"
            ],
            [
             0.2,
             "#de77ae"
            ],
            [
             0.3,
             "#f1b6da"
            ],
            [
             0.4,
             "#fde0ef"
            ],
            [
             0.5,
             "#f7f7f7"
            ],
            [
             0.6,
             "#e6f5d0"
            ],
            [
             0.7,
             "#b8e186"
            ],
            [
             0.8,
             "#7fbc41"
            ],
            [
             0.9,
             "#4d9221"
            ],
            [
             1,
             "#276419"
            ]
           ],
           "sequential": [
            [
             0,
             "#0d0887"
            ],
            [
             0.1111111111111111,
             "#46039f"
            ],
            [
             0.2222222222222222,
             "#7201a8"
            ],
            [
             0.3333333333333333,
             "#9c179e"
            ],
            [
             0.4444444444444444,
             "#bd3786"
            ],
            [
             0.5555555555555556,
             "#d8576b"
            ],
            [
             0.6666666666666666,
             "#ed7953"
            ],
            [
             0.7777777777777778,
             "#fb9f3a"
            ],
            [
             0.8888888888888888,
             "#fdca26"
            ],
            [
             1,
             "#f0f921"
            ]
           ],
           "sequentialminus": [
            [
             0,
             "#0d0887"
            ],
            [
             0.1111111111111111,
             "#46039f"
            ],
            [
             0.2222222222222222,
             "#7201a8"
            ],
            [
             0.3333333333333333,
             "#9c179e"
            ],
            [
             0.4444444444444444,
             "#bd3786"
            ],
            [
             0.5555555555555556,
             "#d8576b"
            ],
            [
             0.6666666666666666,
             "#ed7953"
            ],
            [
             0.7777777777777778,
             "#fb9f3a"
            ],
            [
             0.8888888888888888,
             "#fdca26"
            ],
            [
             1,
             "#f0f921"
            ]
           ]
          },
          "colorway": [
           "#636efa",
           "#EF553B",
           "#00cc96",
           "#ab63fa",
           "#FFA15A",
           "#19d3f3",
           "#FF6692",
           "#B6E880",
           "#FF97FF",
           "#FECB52"
          ],
          "font": {
           "color": "#2a3f5f"
          },
          "geo": {
           "bgcolor": "white",
           "lakecolor": "white",
           "landcolor": "#E5ECF6",
           "showlakes": true,
           "showland": true,
           "subunitcolor": "white"
          },
          "hoverlabel": {
           "align": "left"
          },
          "hovermode": "closest",
          "mapbox": {
           "style": "light"
          },
          "paper_bgcolor": "white",
          "plot_bgcolor": "#E5ECF6",
          "polar": {
           "angularaxis": {
            "gridcolor": "white",
            "linecolor": "white",
            "ticks": ""
           },
           "bgcolor": "#E5ECF6",
           "radialaxis": {
            "gridcolor": "white",
            "linecolor": "white",
            "ticks": ""
           }
          },
          "scene": {
           "xaxis": {
            "backgroundcolor": "#E5ECF6",
            "gridcolor": "white",
            "gridwidth": 2,
            "linecolor": "white",
            "showbackground": true,
            "ticks": "",
            "zerolinecolor": "white"
           },
           "yaxis": {
            "backgroundcolor": "#E5ECF6",
            "gridcolor": "white",
            "gridwidth": 2,
            "linecolor": "white",
            "showbackground": true,
            "ticks": "",
            "zerolinecolor": "white"
           },
           "zaxis": {
            "backgroundcolor": "#E5ECF6",
            "gridcolor": "white",
            "gridwidth": 2,
            "linecolor": "white",
            "showbackground": true,
            "ticks": "",
            "zerolinecolor": "white"
           }
          },
          "shapedefaults": {
           "line": {
            "color": "#2a3f5f"
           }
          },
          "ternary": {
           "aaxis": {
            "gridcolor": "white",
            "linecolor": "white",
            "ticks": ""
           },
           "baxis": {
            "gridcolor": "white",
            "linecolor": "white",
            "ticks": ""
           },
           "bgcolor": "#E5ECF6",
           "caxis": {
            "gridcolor": "white",
            "linecolor": "white",
            "ticks": ""
           }
          },
          "title": {
           "x": 0.05
          },
          "xaxis": {
           "automargin": true,
           "gridcolor": "white",
           "linecolor": "white",
           "ticks": "",
           "title": {
            "standoff": 15
           },
           "zerolinecolor": "white",
           "zerolinewidth": 2
          },
          "yaxis": {
           "automargin": true,
           "gridcolor": "white",
           "linecolor": "white",
           "ticks": "",
           "title": {
            "standoff": 15
           },
           "zerolinecolor": "white",
           "zerolinewidth": 2
          }
         }
        },
        "title": {
         "text": "YoY Difference in Sum Ticks For All Routes w/ >100 Ticks",
         "x": 0.5
        },
        "xaxis": {
         "anchor": "y",
         "domain": [
          0,
          1
         ],
         "tickmode": "linear",
         "title": {
          "text": "Year"
         }
        },
        "yaxis": {
         "anchor": "x",
         "domain": [
          0,
          1
         ],
         "title": {
          "text": "YoY Diff in Sum Ticks"
         }
        }
       }
      }
     },
     "metadata": {},
     "output_type": "display_data"
    }
   ],
   "source": [
    "df_agg_m = pd.melt(df_agg.diff().T)\n",
    "fig = px.box(df_agg_m, x='variable', y='value', title='YoY Difference in Sum Ticks For All Routes w/ >100 Ticks')\n",
    "fig.update_layout(title_x=0.5)\n",
    "fig.update_xaxes(title='Year', tickmode='linear')\n",
    "fig.update_yaxes(title='YoY Diff in Sum Ticks')\n",
    "fig.write_html(\"YoY_Sum_Ticks_Box.html\")\n",
    "fig"
   ]
  },
  {
   "cell_type": "code",
   "execution_count": 280,
   "metadata": {},
   "outputs": [
    {
     "data": {
      "application/vnd.plotly.v1+json": {
       "config": {
        "plotlyServerURL": "https://plot.ly"
       },
       "data": [
        {
         "alignmentgroup": "True",
         "hovertemplate": "variable=0<br>index=%{x}<br>value=%{y}<extra></extra>",
         "legendgroup": "0",
         "marker": {
          "color": "#636efa",
          "pattern": {
           "shape": ""
          }
         },
         "name": "0",
         "offsetgroup": "0",
         "orientation": "v",
         "showlegend": true,
         "textposition": "auto",
         "type": "bar",
         "x": [
          2005,
          2006,
          2007,
          2008,
          2009,
          2010,
          2011,
          2012,
          2013,
          2014,
          2015,
          2016,
          2017,
          2018,
          2019,
          2020,
          2021,
          2022
         ],
         "xaxis": "x",
         "y": [
          0.9548611111111112,
          2.6354166666666665,
          3.1458333333333335,
          4.291666666666667,
          6.104166666666667,
          5.454861111111111,
          8.305555555555555,
          12.20138888888889,
          11.375,
          15.565972222222221,
          15.649305555555555,
          20.618055555555557,
          30.024305555555557,
          36.34027777777778,
          39.72222222222222,
          37.947916666666664,
          62.204861111111114,
          56.951388888888886
         ],
         "yaxis": "y"
        }
       ],
       "layout": {
        "barmode": "relative",
        "legend": {
         "title": {
          "text": "variable"
         },
         "tracegroupgap": 0
        },
        "showlegend": false,
        "template": {
         "data": {
          "bar": [
           {
            "error_x": {
             "color": "#2a3f5f"
            },
            "error_y": {
             "color": "#2a3f5f"
            },
            "marker": {
             "line": {
              "color": "#E5ECF6",
              "width": 0.5
             },
             "pattern": {
              "fillmode": "overlay",
              "size": 10,
              "solidity": 0.2
             }
            },
            "type": "bar"
           }
          ],
          "barpolar": [
           {
            "marker": {
             "line": {
              "color": "#E5ECF6",
              "width": 0.5
             },
             "pattern": {
              "fillmode": "overlay",
              "size": 10,
              "solidity": 0.2
             }
            },
            "type": "barpolar"
           }
          ],
          "carpet": [
           {
            "aaxis": {
             "endlinecolor": "#2a3f5f",
             "gridcolor": "white",
             "linecolor": "white",
             "minorgridcolor": "white",
             "startlinecolor": "#2a3f5f"
            },
            "baxis": {
             "endlinecolor": "#2a3f5f",
             "gridcolor": "white",
             "linecolor": "white",
             "minorgridcolor": "white",
             "startlinecolor": "#2a3f5f"
            },
            "type": "carpet"
           }
          ],
          "choropleth": [
           {
            "colorbar": {
             "outlinewidth": 0,
             "ticks": ""
            },
            "type": "choropleth"
           }
          ],
          "contour": [
           {
            "colorbar": {
             "outlinewidth": 0,
             "ticks": ""
            },
            "colorscale": [
             [
              0,
              "#0d0887"
             ],
             [
              0.1111111111111111,
              "#46039f"
             ],
             [
              0.2222222222222222,
              "#7201a8"
             ],
             [
              0.3333333333333333,
              "#9c179e"
             ],
             [
              0.4444444444444444,
              "#bd3786"
             ],
             [
              0.5555555555555556,
              "#d8576b"
             ],
             [
              0.6666666666666666,
              "#ed7953"
             ],
             [
              0.7777777777777778,
              "#fb9f3a"
             ],
             [
              0.8888888888888888,
              "#fdca26"
             ],
             [
              1,
              "#f0f921"
             ]
            ],
            "type": "contour"
           }
          ],
          "contourcarpet": [
           {
            "colorbar": {
             "outlinewidth": 0,
             "ticks": ""
            },
            "type": "contourcarpet"
           }
          ],
          "heatmap": [
           {
            "colorbar": {
             "outlinewidth": 0,
             "ticks": ""
            },
            "colorscale": [
             [
              0,
              "#0d0887"
             ],
             [
              0.1111111111111111,
              "#46039f"
             ],
             [
              0.2222222222222222,
              "#7201a8"
             ],
             [
              0.3333333333333333,
              "#9c179e"
             ],
             [
              0.4444444444444444,
              "#bd3786"
             ],
             [
              0.5555555555555556,
              "#d8576b"
             ],
             [
              0.6666666666666666,
              "#ed7953"
             ],
             [
              0.7777777777777778,
              "#fb9f3a"
             ],
             [
              0.8888888888888888,
              "#fdca26"
             ],
             [
              1,
              "#f0f921"
             ]
            ],
            "type": "heatmap"
           }
          ],
          "heatmapgl": [
           {
            "colorbar": {
             "outlinewidth": 0,
             "ticks": ""
            },
            "colorscale": [
             [
              0,
              "#0d0887"
             ],
             [
              0.1111111111111111,
              "#46039f"
             ],
             [
              0.2222222222222222,
              "#7201a8"
             ],
             [
              0.3333333333333333,
              "#9c179e"
             ],
             [
              0.4444444444444444,
              "#bd3786"
             ],
             [
              0.5555555555555556,
              "#d8576b"
             ],
             [
              0.6666666666666666,
              "#ed7953"
             ],
             [
              0.7777777777777778,
              "#fb9f3a"
             ],
             [
              0.8888888888888888,
              "#fdca26"
             ],
             [
              1,
              "#f0f921"
             ]
            ],
            "type": "heatmapgl"
           }
          ],
          "histogram": [
           {
            "marker": {
             "pattern": {
              "fillmode": "overlay",
              "size": 10,
              "solidity": 0.2
             }
            },
            "type": "histogram"
           }
          ],
          "histogram2d": [
           {
            "colorbar": {
             "outlinewidth": 0,
             "ticks": ""
            },
            "colorscale": [
             [
              0,
              "#0d0887"
             ],
             [
              0.1111111111111111,
              "#46039f"
             ],
             [
              0.2222222222222222,
              "#7201a8"
             ],
             [
              0.3333333333333333,
              "#9c179e"
             ],
             [
              0.4444444444444444,
              "#bd3786"
             ],
             [
              0.5555555555555556,
              "#d8576b"
             ],
             [
              0.6666666666666666,
              "#ed7953"
             ],
             [
              0.7777777777777778,
              "#fb9f3a"
             ],
             [
              0.8888888888888888,
              "#fdca26"
             ],
             [
              1,
              "#f0f921"
             ]
            ],
            "type": "histogram2d"
           }
          ],
          "histogram2dcontour": [
           {
            "colorbar": {
             "outlinewidth": 0,
             "ticks": ""
            },
            "colorscale": [
             [
              0,
              "#0d0887"
             ],
             [
              0.1111111111111111,
              "#46039f"
             ],
             [
              0.2222222222222222,
              "#7201a8"
             ],
             [
              0.3333333333333333,
              "#9c179e"
             ],
             [
              0.4444444444444444,
              "#bd3786"
             ],
             [
              0.5555555555555556,
              "#d8576b"
             ],
             [
              0.6666666666666666,
              "#ed7953"
             ],
             [
              0.7777777777777778,
              "#fb9f3a"
             ],
             [
              0.8888888888888888,
              "#fdca26"
             ],
             [
              1,
              "#f0f921"
             ]
            ],
            "type": "histogram2dcontour"
           }
          ],
          "mesh3d": [
           {
            "colorbar": {
             "outlinewidth": 0,
             "ticks": ""
            },
            "type": "mesh3d"
           }
          ],
          "parcoords": [
           {
            "line": {
             "colorbar": {
              "outlinewidth": 0,
              "ticks": ""
             }
            },
            "type": "parcoords"
           }
          ],
          "pie": [
           {
            "automargin": true,
            "type": "pie"
           }
          ],
          "scatter": [
           {
            "marker": {
             "colorbar": {
              "outlinewidth": 0,
              "ticks": ""
             }
            },
            "type": "scatter"
           }
          ],
          "scatter3d": [
           {
            "line": {
             "colorbar": {
              "outlinewidth": 0,
              "ticks": ""
             }
            },
            "marker": {
             "colorbar": {
              "outlinewidth": 0,
              "ticks": ""
             }
            },
            "type": "scatter3d"
           }
          ],
          "scattercarpet": [
           {
            "marker": {
             "colorbar": {
              "outlinewidth": 0,
              "ticks": ""
             }
            },
            "type": "scattercarpet"
           }
          ],
          "scattergeo": [
           {
            "marker": {
             "colorbar": {
              "outlinewidth": 0,
              "ticks": ""
             }
            },
            "type": "scattergeo"
           }
          ],
          "scattergl": [
           {
            "marker": {
             "colorbar": {
              "outlinewidth": 0,
              "ticks": ""
             }
            },
            "type": "scattergl"
           }
          ],
          "scattermapbox": [
           {
            "marker": {
             "colorbar": {
              "outlinewidth": 0,
              "ticks": ""
             }
            },
            "type": "scattermapbox"
           }
          ],
          "scatterpolar": [
           {
            "marker": {
             "colorbar": {
              "outlinewidth": 0,
              "ticks": ""
             }
            },
            "type": "scatterpolar"
           }
          ],
          "scatterpolargl": [
           {
            "marker": {
             "colorbar": {
              "outlinewidth": 0,
              "ticks": ""
             }
            },
            "type": "scatterpolargl"
           }
          ],
          "scatterternary": [
           {
            "marker": {
             "colorbar": {
              "outlinewidth": 0,
              "ticks": ""
             }
            },
            "type": "scatterternary"
           }
          ],
          "surface": [
           {
            "colorbar": {
             "outlinewidth": 0,
             "ticks": ""
            },
            "colorscale": [
             [
              0,
              "#0d0887"
             ],
             [
              0.1111111111111111,
              "#46039f"
             ],
             [
              0.2222222222222222,
              "#7201a8"
             ],
             [
              0.3333333333333333,
              "#9c179e"
             ],
             [
              0.4444444444444444,
              "#bd3786"
             ],
             [
              0.5555555555555556,
              "#d8576b"
             ],
             [
              0.6666666666666666,
              "#ed7953"
             ],
             [
              0.7777777777777778,
              "#fb9f3a"
             ],
             [
              0.8888888888888888,
              "#fdca26"
             ],
             [
              1,
              "#f0f921"
             ]
            ],
            "type": "surface"
           }
          ],
          "table": [
           {
            "cells": {
             "fill": {
              "color": "#EBF0F8"
             },
             "line": {
              "color": "white"
             }
            },
            "header": {
             "fill": {
              "color": "#C8D4E3"
             },
             "line": {
              "color": "white"
             }
            },
            "type": "table"
           }
          ]
         },
         "layout": {
          "annotationdefaults": {
           "arrowcolor": "#2a3f5f",
           "arrowhead": 0,
           "arrowwidth": 1
          },
          "autotypenumbers": "strict",
          "coloraxis": {
           "colorbar": {
            "outlinewidth": 0,
            "ticks": ""
           }
          },
          "colorscale": {
           "diverging": [
            [
             0,
             "#8e0152"
            ],
            [
             0.1,
             "#c51b7d"
            ],
            [
             0.2,
             "#de77ae"
            ],
            [
             0.3,
             "#f1b6da"
            ],
            [
             0.4,
             "#fde0ef"
            ],
            [
             0.5,
             "#f7f7f7"
            ],
            [
             0.6,
             "#e6f5d0"
            ],
            [
             0.7,
             "#b8e186"
            ],
            [
             0.8,
             "#7fbc41"
            ],
            [
             0.9,
             "#4d9221"
            ],
            [
             1,
             "#276419"
            ]
           ],
           "sequential": [
            [
             0,
             "#0d0887"
            ],
            [
             0.1111111111111111,
             "#46039f"
            ],
            [
             0.2222222222222222,
             "#7201a8"
            ],
            [
             0.3333333333333333,
             "#9c179e"
            ],
            [
             0.4444444444444444,
             "#bd3786"
            ],
            [
             0.5555555555555556,
             "#d8576b"
            ],
            [
             0.6666666666666666,
             "#ed7953"
            ],
            [
             0.7777777777777778,
             "#fb9f3a"
            ],
            [
             0.8888888888888888,
             "#fdca26"
            ],
            [
             1,
             "#f0f921"
            ]
           ],
           "sequentialminus": [
            [
             0,
             "#0d0887"
            ],
            [
             0.1111111111111111,
             "#46039f"
            ],
            [
             0.2222222222222222,
             "#7201a8"
            ],
            [
             0.3333333333333333,
             "#9c179e"
            ],
            [
             0.4444444444444444,
             "#bd3786"
            ],
            [
             0.5555555555555556,
             "#d8576b"
            ],
            [
             0.6666666666666666,
             "#ed7953"
            ],
            [
             0.7777777777777778,
             "#fb9f3a"
            ],
            [
             0.8888888888888888,
             "#fdca26"
            ],
            [
             1,
             "#f0f921"
            ]
           ]
          },
          "colorway": [
           "#636efa",
           "#EF553B",
           "#00cc96",
           "#ab63fa",
           "#FFA15A",
           "#19d3f3",
           "#FF6692",
           "#B6E880",
           "#FF97FF",
           "#FECB52"
          ],
          "font": {
           "color": "#2a3f5f"
          },
          "geo": {
           "bgcolor": "white",
           "lakecolor": "white",
           "landcolor": "#E5ECF6",
           "showlakes": true,
           "showland": true,
           "subunitcolor": "white"
          },
          "hoverlabel": {
           "align": "left"
          },
          "hovermode": "closest",
          "mapbox": {
           "style": "light"
          },
          "paper_bgcolor": "white",
          "plot_bgcolor": "#E5ECF6",
          "polar": {
           "angularaxis": {
            "gridcolor": "white",
            "linecolor": "white",
            "ticks": ""
           },
           "bgcolor": "#E5ECF6",
           "radialaxis": {
            "gridcolor": "white",
            "linecolor": "white",
            "ticks": ""
           }
          },
          "scene": {
           "xaxis": {
            "backgroundcolor": "#E5ECF6",
            "gridcolor": "white",
            "gridwidth": 2,
            "linecolor": "white",
            "showbackground": true,
            "ticks": "",
            "zerolinecolor": "white"
           },
           "yaxis": {
            "backgroundcolor": "#E5ECF6",
            "gridcolor": "white",
            "gridwidth": 2,
            "linecolor": "white",
            "showbackground": true,
            "ticks": "",
            "zerolinecolor": "white"
           },
           "zaxis": {
            "backgroundcolor": "#E5ECF6",
            "gridcolor": "white",
            "gridwidth": 2,
            "linecolor": "white",
            "showbackground": true,
            "ticks": "",
            "zerolinecolor": "white"
           }
          },
          "shapedefaults": {
           "line": {
            "color": "#2a3f5f"
           }
          },
          "ternary": {
           "aaxis": {
            "gridcolor": "white",
            "linecolor": "white",
            "ticks": ""
           },
           "baxis": {
            "gridcolor": "white",
            "linecolor": "white",
            "ticks": ""
           },
           "bgcolor": "#E5ECF6",
           "caxis": {
            "gridcolor": "white",
            "linecolor": "white",
            "ticks": ""
           }
          },
          "title": {
           "x": 0.05
          },
          "xaxis": {
           "automargin": true,
           "gridcolor": "white",
           "linecolor": "white",
           "ticks": "",
           "title": {
            "standoff": 15
           },
           "zerolinecolor": "white",
           "zerolinewidth": 2
          },
          "yaxis": {
           "automargin": true,
           "gridcolor": "white",
           "linecolor": "white",
           "ticks": "",
           "title": {
            "standoff": 15
           },
           "zerolinecolor": "white",
           "zerolinewidth": 2
          }
         }
        },
        "title": {
         "text": "Mean YoY Difference in Sum Ticks For All Routes w/ >100 Ticks",
         "x": 0.5
        },
        "xaxis": {
         "anchor": "y",
         "domain": [
          0,
          1
         ],
         "tickmode": "linear",
         "title": {
          "text": "Year"
         }
        },
        "yaxis": {
         "anchor": "x",
         "domain": [
          0,
          1
         ],
         "title": {
          "text": "Mean YoY Diff in Sum Ticks"
         }
        }
       }
      }
     },
     "metadata": {},
     "output_type": "display_data"
    }
   ],
   "source": [
    "fig = px.bar(df_agg.mean(axis=1), title='Mean YoY Difference in Sum Ticks For All Routes w/ >100 Ticks')\n",
    "fig.update_layout(title_x=0.5, showlegend=False)\n",
    "fig.update_xaxes(title='Year', tickmode='linear')\n",
    "fig.update_yaxes(title='Mean YoY Diff in Sum Ticks')\n",
    "fig.write_html(\"Mean_YoY_Sum_Ticks_Box.html\")\n",
    "fig"
   ]
  },
  {
   "cell_type": "code",
   "execution_count": 282,
   "metadata": {},
   "outputs": [],
   "source": [
    "def tick_avg_velo(subdf):\n",
    "    tick_sum_yearly = subdf.groupby(subdf.Date.dt.year)['Pitches Ticked'].sum()\n",
    "    # tick_sum_yearly = tick_sum_yearly[~(tick_sum_yearly.index<2005) & ~(tick_sum_yearly.index>=datetime.date.today().year)] # MP was founded in 2005, so we ignore historical ticks before that time, and we ignore the current year as it is still in progress\n",
    "    tick_sum_yearly = tick_sum_yearly[~(tick_sum_yearly.index>=datetime.date.today().year) & (tick_sum_yearly.index>=datetime.date.today().year-6)]\n",
    "    if tick_sum_yearly.empty:\n",
    "        tick_velo_mean = 0\n",
    "    else:\n",
    "        tick_sum_yearly = tick_sum_yearly.reindex(np.arange(tick_sum_yearly.index.min(), tick_sum_yearly.index.max()+1)).fillna(0) # Fill missing years with 0\n",
    "        tick_sum_yearly = tick_sum_yearly.astype(int) # Previous step cast values to float, we recast to int\n",
    "        tick_velo_mean = tick_sum_yearly.diff().mean()\n",
    "    return tick_velo_mean\n",
    "\n",
    "df, _, _ = pickle.load(open('C:/Users/Brayden/Desktop/LocScrapes/Indian Creek (Full).pkl', 'rb'))\n",
    "df.drop_duplicates(subset='URL', inplace=True)\n",
    "df['Avg Tick Velo'] = df.apply(lambda x: tick_avg_velo(x['Route Ticks']), axis=1)"
   ]
  },
  {
   "cell_type": "code",
   "execution_count": 356,
   "metadata": {},
   "outputs": [
    {
     "data": {
      "application/vnd.plotly.v1+json": {
       "config": {
        "plotlyServerURL": "https://plot.ly"
       },
       "data": [
        {
         "alignmentgroup": "True",
         "bingroup": "x",
         "hovertemplate": "variable=Norm Avg Tick Velo<br>value=%{x}<br>count=%{y}<extra></extra>",
         "legendgroup": "Norm Avg Tick Velo",
         "marker": {
          "color": "#636efa",
          "pattern": {
           "shape": ""
          }
         },
         "name": "Norm Avg Tick Velo",
         "offsetgroup": "Norm Avg Tick Velo",
         "orientation": "v",
         "showlegend": true,
         "type": "histogram",
         "x": [
          0.01982758620689655,
          0.01146694214876033,
          0.0038647342995169085,
          0.01202016285381931,
          0.012323064113238968,
          0.01415929203539823,
          0.019689119170984454,
          0.05459183673469387,
          0.01584507042253521,
          0.020858895705521473,
          0.0044444444444444444,
          0.004615384615384615,
          -0.001226993865030675,
          0.011428571428571429,
          0.002696629213483146,
          0.010241820768136558,
          0.015145985401459856,
          0.02376681614349776,
          0.03864734299516908,
          0.009799196787148594,
          0.01597444089456869,
          0.01900647948164147,
          0.016752136752136753,
          -0.006179775280898877,
          0,
          0.015384615384615385,
          0.011188811188811189,
          -0.005687203791469194,
          0.02638888888888889,
          -0.014893617021276596,
          -0.006048387096774193,
          0.012658227848101266,
          -0.013157894736842105,
          -0.005504587155963302,
          0.00594679186228482,
          0.01407766990291262,
          0.009154929577464789,
          0.01630901287553648,
          0.023783783783783787,
          0.0288135593220339,
          0.03272727272727273,
          0.00288,
          0.029777777777777778,
          0.040740740740740744,
          0.007017543859649123,
          0.021823204419889504,
          0.0058823529411764705,
          0.00713224368499257,
          0.009574468085106383,
          0.012844036697247705,
          0.013373860182370821,
          0.009932279909706547,
          0.005333333333333333,
          0.012799999999999999,
          -0.0036036036036036037,
          0.05928571428571429,
          0.01873536299765808,
          0.027493261455525605,
          0.015034409740603494,
          0.007222222222222223,
          0.07348837209302327,
          0.011675675675675677,
          0.026815642458100558,
          0.019318181818181818,
          0.032335329341317366,
          0.011891891891891892,
          0.008191126279863481,
          0.010465116279069767,
          0.01518987341772152,
          0.012482662968099861,
          0.0034115138592750536,
          0.009054593874833554,
          0.02588235294117647,
          0.02727272727272727,
          0.004564315352697096,
          0.026984126984126982,
          0.007079646017699116,
          0.00893854748603352,
          0.010588235294117648,
          0.01746031746031746,
          0.013300492610837438,
          -0.001619433198380567,
          0.013071895424836602,
          0.03,
          0.008620689655172414,
          0.01278538812785388,
          0,
          0.008,
          0.03272727272727273,
          0.013756613756613757,
          0.016049382716049384,
          0.017469879518072287,
          0.0057692307692307696,
          0.009868421052631578,
          0,
          0.023487544483985764,
          0.02867383512544803,
          0.01671826625386997,
          0.010843373493975903,
          -0.008906882591093119,
          0.0017316017316017316,
          0.00625,
          -0.0006060606060606061,
          0.017873100983020553,
          0.022429906542056073,
          0.00911854103343465,
          0.0208955223880597,
          0.02629310344827586,
          0.014915254237288136,
          0.01375422773393461,
          0.024354243542435424,
          -0.0025806451612903226,
          -0.008247422680412371,
          0.02005420054200542,
          0.003194888178913738,
          0.02536945812807882,
          0.02993197278911565,
          0.028333333333333332,
          0.01893491124260355,
          0.0175,
          0.009523809523809523,
          0.033777777777777775,
          0.008860759493670886,
          -0.016853932584269662,
          -0.005369127516778524,
          0.0024752475247524753,
          -0.010843373493975903,
          0.007291666666666666,
          0.0066298342541436465,
          -0.01592920353982301,
          -0.01751824817518248,
          -0.0008849557522123895,
          -0.0123943661971831,
          -0.0193717277486911,
          -0.011811023622047244,
          -0.014213197969543146,
          -0.018867924528301886,
          -0.011398963730569948,
          -0.006542056074766355,
          -0.015873015873015872,
          -0.01639344262295082,
          0.0050420168067226885,
          -0.0061068702290076335,
          -0.021714285714285714,
          0.01723076923076923,
          0.0018779342723004697,
          0.008823529411764706,
          0.004597701149425287,
          -0.017655172413793104,
          0.008249312557286892,
          0.018481848184818482,
          0.008743169398907104,
          0.005513784461152882,
          0.03959390862944162,
          0.016753926701570682,
          0.013605442176870748,
          0.014379084967320262,
          0.016058394160583942,
          0.01,
          0.039603960396039604,
          0.03,
          -0.0008474576271186442,
          0.03692307692307692,
          0.007821229050279328,
          0.0144,
          0.004411764705882353,
          0.013076923076923076,
          0.01016949152542373,
          0.023170731707317073,
          0.022857142857142857,
          0.027461139896373055,
          0.008571428571428572,
          -0.011627906976744186,
          -0.00967741935483871,
          0,
          -0.0007797270955165693,
          -0.014159292035398232,
          0.0024242424242424242,
          0.04153354632587859,
          0.04015645371577575,
          0.0328125,
          0.0484375,
          0.03236994219653179,
          0.06482758620689655,
          0.025352112676056335,
          0.018340611353711792,
          0.003539823008849558,
          0.04950495049504951,
          0.03759398496240601,
          0.016822429906542057,
          0.017777777777777778,
          0.014485387547649302,
          0.008695652173913044,
          0.00955631399317406,
          0.017499999999999998,
          0.013333333333333334,
          0.01775147928994083,
          0.013999999999999999,
          0.02434782608695652,
          0.01780821917808219,
          -0.01037037037037037,
          0.030573248407643312,
          0.04582210242587601,
          0.08082706766917293,
          0.035526315789473684,
          0.040993788819875775,
          0.078125,
          0.05714285714285714,
          0.09239130434782608,
          0.08870967741935484,
          0.05196850393700787,
          0.007936507936507936,
          0.03508771929824561,
          0.0705521472392638,
          0.068359375,
          0.1661721068249258,
          0.1193069306930693,
          0.14622641509433962,
          0.103515625,
          0.14423076923076922,
          0.0387434554973822,
          0.01900452488687783,
          0.021176470588235293,
          0.020657276995305167,
          0.01856540084388186,
          0.03512544802867384,
          0.022172949002217297,
          0.02591093117408907,
          0.023214285714285715,
          0.03361344537815126,
          0.027046263345195727,
          0.018633540372670808,
          0.024242424242424242,
          -0.008849557522123894,
          -0.009145129224652087,
          0.01217391304347826,
          0.00625,
          -0.0106951871657754,
          0.016216216216216217,
          -0.008633093525179856,
          0.012,
          0.011764705882352941,
          0.014035087719298246,
          0.026063829787234045,
          0.022222222222222223,
          0.04661654135338346,
          0.022377622377622378,
          -0.0015999999999999999,
          0.010353535353535353,
          0.01648177496038035,
          0.023809523809523808,
          0.027195467422096317,
          0.050980392156862744,
          -0.0016597510373443985,
          0.01497584541062802,
          -0.00437956204379562,
          0.014906832298136646,
          0.008754208754208754,
          0.0033222591362126247,
          0.0005249343832020997,
          0.019939577039274924,
          0.023529411764705882,
          0.02635658914728682,
          -0.004428044280442804,
          0.0157085020242915,
          0.0176,
          -0.004571428571428572,
          0.005432937181663837,
          -0.002816901408450704,
          0.0064,
          -0.0035714285714285718,
          -0.011061946902654867,
          -0.025185185185185185,
          -0.006611570247933885,
          0.018633540372670808,
          -0.0025806451612903226,
          0.018772563176895306,
          0.018859138533178114,
          0.015151515151515152,
          0.0058823529411764705,
          -0.007272727272727273,
          0.0006153846153846154,
          0.04296296296296296,
          0.02139917695473251,
          0.04227212681638045,
          0.041249999999999995,
          0.04230769230769231,
          0,
          0.07352941176470588,
          0.11635220125786164
         ],
         "xaxis": "x",
         "yaxis": "y"
        },
        {
         "alignmentgroup": "True",
         "hovertemplate": "variable=Norm Avg Tick Velo<br>value=%{x}<extra></extra>",
         "legendgroup": "Norm Avg Tick Velo",
         "marker": {
          "color": "#636efa"
         },
         "name": "Norm Avg Tick Velo",
         "notched": true,
         "offsetgroup": "Norm Avg Tick Velo",
         "showlegend": false,
         "type": "box",
         "x": [
          0.01982758620689655,
          0.01146694214876033,
          0.0038647342995169085,
          0.01202016285381931,
          0.012323064113238968,
          0.01415929203539823,
          0.019689119170984454,
          0.05459183673469387,
          0.01584507042253521,
          0.020858895705521473,
          0.0044444444444444444,
          0.004615384615384615,
          -0.001226993865030675,
          0.011428571428571429,
          0.002696629213483146,
          0.010241820768136558,
          0.015145985401459856,
          0.02376681614349776,
          0.03864734299516908,
          0.009799196787148594,
          0.01597444089456869,
          0.01900647948164147,
          0.016752136752136753,
          -0.006179775280898877,
          0,
          0.015384615384615385,
          0.011188811188811189,
          -0.005687203791469194,
          0.02638888888888889,
          -0.014893617021276596,
          -0.006048387096774193,
          0.012658227848101266,
          -0.013157894736842105,
          -0.005504587155963302,
          0.00594679186228482,
          0.01407766990291262,
          0.009154929577464789,
          0.01630901287553648,
          0.023783783783783787,
          0.0288135593220339,
          0.03272727272727273,
          0.00288,
          0.029777777777777778,
          0.040740740740740744,
          0.007017543859649123,
          0.021823204419889504,
          0.0058823529411764705,
          0.00713224368499257,
          0.009574468085106383,
          0.012844036697247705,
          0.013373860182370821,
          0.009932279909706547,
          0.005333333333333333,
          0.012799999999999999,
          -0.0036036036036036037,
          0.05928571428571429,
          0.01873536299765808,
          0.027493261455525605,
          0.015034409740603494,
          0.007222222222222223,
          0.07348837209302327,
          0.011675675675675677,
          0.026815642458100558,
          0.019318181818181818,
          0.032335329341317366,
          0.011891891891891892,
          0.008191126279863481,
          0.010465116279069767,
          0.01518987341772152,
          0.012482662968099861,
          0.0034115138592750536,
          0.009054593874833554,
          0.02588235294117647,
          0.02727272727272727,
          0.004564315352697096,
          0.026984126984126982,
          0.007079646017699116,
          0.00893854748603352,
          0.010588235294117648,
          0.01746031746031746,
          0.013300492610837438,
          -0.001619433198380567,
          0.013071895424836602,
          0.03,
          0.008620689655172414,
          0.01278538812785388,
          0,
          0.008,
          0.03272727272727273,
          0.013756613756613757,
          0.016049382716049384,
          0.017469879518072287,
          0.0057692307692307696,
          0.009868421052631578,
          0,
          0.023487544483985764,
          0.02867383512544803,
          0.01671826625386997,
          0.010843373493975903,
          -0.008906882591093119,
          0.0017316017316017316,
          0.00625,
          -0.0006060606060606061,
          0.017873100983020553,
          0.022429906542056073,
          0.00911854103343465,
          0.0208955223880597,
          0.02629310344827586,
          0.014915254237288136,
          0.01375422773393461,
          0.024354243542435424,
          -0.0025806451612903226,
          -0.008247422680412371,
          0.02005420054200542,
          0.003194888178913738,
          0.02536945812807882,
          0.02993197278911565,
          0.028333333333333332,
          0.01893491124260355,
          0.0175,
          0.009523809523809523,
          0.033777777777777775,
          0.008860759493670886,
          -0.016853932584269662,
          -0.005369127516778524,
          0.0024752475247524753,
          -0.010843373493975903,
          0.007291666666666666,
          0.0066298342541436465,
          -0.01592920353982301,
          -0.01751824817518248,
          -0.0008849557522123895,
          -0.0123943661971831,
          -0.0193717277486911,
          -0.011811023622047244,
          -0.014213197969543146,
          -0.018867924528301886,
          -0.011398963730569948,
          -0.006542056074766355,
          -0.015873015873015872,
          -0.01639344262295082,
          0.0050420168067226885,
          -0.0061068702290076335,
          -0.021714285714285714,
          0.01723076923076923,
          0.0018779342723004697,
          0.008823529411764706,
          0.004597701149425287,
          -0.017655172413793104,
          0.008249312557286892,
          0.018481848184818482,
          0.008743169398907104,
          0.005513784461152882,
          0.03959390862944162,
          0.016753926701570682,
          0.013605442176870748,
          0.014379084967320262,
          0.016058394160583942,
          0.01,
          0.039603960396039604,
          0.03,
          -0.0008474576271186442,
          0.03692307692307692,
          0.007821229050279328,
          0.0144,
          0.004411764705882353,
          0.013076923076923076,
          0.01016949152542373,
          0.023170731707317073,
          0.022857142857142857,
          0.027461139896373055,
          0.008571428571428572,
          -0.011627906976744186,
          -0.00967741935483871,
          0,
          -0.0007797270955165693,
          -0.014159292035398232,
          0.0024242424242424242,
          0.04153354632587859,
          0.04015645371577575,
          0.0328125,
          0.0484375,
          0.03236994219653179,
          0.06482758620689655,
          0.025352112676056335,
          0.018340611353711792,
          0.003539823008849558,
          0.04950495049504951,
          0.03759398496240601,
          0.016822429906542057,
          0.017777777777777778,
          0.014485387547649302,
          0.008695652173913044,
          0.00955631399317406,
          0.017499999999999998,
          0.013333333333333334,
          0.01775147928994083,
          0.013999999999999999,
          0.02434782608695652,
          0.01780821917808219,
          -0.01037037037037037,
          0.030573248407643312,
          0.04582210242587601,
          0.08082706766917293,
          0.035526315789473684,
          0.040993788819875775,
          0.078125,
          0.05714285714285714,
          0.09239130434782608,
          0.08870967741935484,
          0.05196850393700787,
          0.007936507936507936,
          0.03508771929824561,
          0.0705521472392638,
          0.068359375,
          0.1661721068249258,
          0.1193069306930693,
          0.14622641509433962,
          0.103515625,
          0.14423076923076922,
          0.0387434554973822,
          0.01900452488687783,
          0.021176470588235293,
          0.020657276995305167,
          0.01856540084388186,
          0.03512544802867384,
          0.022172949002217297,
          0.02591093117408907,
          0.023214285714285715,
          0.03361344537815126,
          0.027046263345195727,
          0.018633540372670808,
          0.024242424242424242,
          -0.008849557522123894,
          -0.009145129224652087,
          0.01217391304347826,
          0.00625,
          -0.0106951871657754,
          0.016216216216216217,
          -0.008633093525179856,
          0.012,
          0.011764705882352941,
          0.014035087719298246,
          0.026063829787234045,
          0.022222222222222223,
          0.04661654135338346,
          0.022377622377622378,
          -0.0015999999999999999,
          0.010353535353535353,
          0.01648177496038035,
          0.023809523809523808,
          0.027195467422096317,
          0.050980392156862744,
          -0.0016597510373443985,
          0.01497584541062802,
          -0.00437956204379562,
          0.014906832298136646,
          0.008754208754208754,
          0.0033222591362126247,
          0.0005249343832020997,
          0.019939577039274924,
          0.023529411764705882,
          0.02635658914728682,
          -0.004428044280442804,
          0.0157085020242915,
          0.0176,
          -0.004571428571428572,
          0.005432937181663837,
          -0.002816901408450704,
          0.0064,
          -0.0035714285714285718,
          -0.011061946902654867,
          -0.025185185185185185,
          -0.006611570247933885,
          0.018633540372670808,
          -0.0025806451612903226,
          0.018772563176895306,
          0.018859138533178114,
          0.015151515151515152,
          0.0058823529411764705,
          -0.007272727272727273,
          0.0006153846153846154,
          0.04296296296296296,
          0.02139917695473251,
          0.04227212681638045,
          0.041249999999999995,
          0.04230769230769231,
          0,
          0.07352941176470588,
          0.11635220125786164
         ],
         "xaxis": "x2",
         "yaxis": "y2"
        }
       ],
       "layout": {
        "barmode": "relative",
        "legend": {
         "title": {
          "text": "variable"
         },
         "tracegroupgap": 0
        },
        "showlegend": false,
        "template": {
         "data": {
          "bar": [
           {
            "error_x": {
             "color": "#2a3f5f"
            },
            "error_y": {
             "color": "#2a3f5f"
            },
            "marker": {
             "line": {
              "color": "#E5ECF6",
              "width": 0.5
             },
             "pattern": {
              "fillmode": "overlay",
              "size": 10,
              "solidity": 0.2
             }
            },
            "type": "bar"
           }
          ],
          "barpolar": [
           {
            "marker": {
             "line": {
              "color": "#E5ECF6",
              "width": 0.5
             },
             "pattern": {
              "fillmode": "overlay",
              "size": 10,
              "solidity": 0.2
             }
            },
            "type": "barpolar"
           }
          ],
          "carpet": [
           {
            "aaxis": {
             "endlinecolor": "#2a3f5f",
             "gridcolor": "white",
             "linecolor": "white",
             "minorgridcolor": "white",
             "startlinecolor": "#2a3f5f"
            },
            "baxis": {
             "endlinecolor": "#2a3f5f",
             "gridcolor": "white",
             "linecolor": "white",
             "minorgridcolor": "white",
             "startlinecolor": "#2a3f5f"
            },
            "type": "carpet"
           }
          ],
          "choropleth": [
           {
            "colorbar": {
             "outlinewidth": 0,
             "ticks": ""
            },
            "type": "choropleth"
           }
          ],
          "contour": [
           {
            "colorbar": {
             "outlinewidth": 0,
             "ticks": ""
            },
            "colorscale": [
             [
              0,
              "#0d0887"
             ],
             [
              0.1111111111111111,
              "#46039f"
             ],
             [
              0.2222222222222222,
              "#7201a8"
             ],
             [
              0.3333333333333333,
              "#9c179e"
             ],
             [
              0.4444444444444444,
              "#bd3786"
             ],
             [
              0.5555555555555556,
              "#d8576b"
             ],
             [
              0.6666666666666666,
              "#ed7953"
             ],
             [
              0.7777777777777778,
              "#fb9f3a"
             ],
             [
              0.8888888888888888,
              "#fdca26"
             ],
             [
              1,
              "#f0f921"
             ]
            ],
            "type": "contour"
           }
          ],
          "contourcarpet": [
           {
            "colorbar": {
             "outlinewidth": 0,
             "ticks": ""
            },
            "type": "contourcarpet"
           }
          ],
          "heatmap": [
           {
            "colorbar": {
             "outlinewidth": 0,
             "ticks": ""
            },
            "colorscale": [
             [
              0,
              "#0d0887"
             ],
             [
              0.1111111111111111,
              "#46039f"
             ],
             [
              0.2222222222222222,
              "#7201a8"
             ],
             [
              0.3333333333333333,
              "#9c179e"
             ],
             [
              0.4444444444444444,
              "#bd3786"
             ],
             [
              0.5555555555555556,
              "#d8576b"
             ],
             [
              0.6666666666666666,
              "#ed7953"
             ],
             [
              0.7777777777777778,
              "#fb9f3a"
             ],
             [
              0.8888888888888888,
              "#fdca26"
             ],
             [
              1,
              "#f0f921"
             ]
            ],
            "type": "heatmap"
           }
          ],
          "heatmapgl": [
           {
            "colorbar": {
             "outlinewidth": 0,
             "ticks": ""
            },
            "colorscale": [
             [
              0,
              "#0d0887"
             ],
             [
              0.1111111111111111,
              "#46039f"
             ],
             [
              0.2222222222222222,
              "#7201a8"
             ],
             [
              0.3333333333333333,
              "#9c179e"
             ],
             [
              0.4444444444444444,
              "#bd3786"
             ],
             [
              0.5555555555555556,
              "#d8576b"
             ],
             [
              0.6666666666666666,
              "#ed7953"
             ],
             [
              0.7777777777777778,
              "#fb9f3a"
             ],
             [
              0.8888888888888888,
              "#fdca26"
             ],
             [
              1,
              "#f0f921"
             ]
            ],
            "type": "heatmapgl"
           }
          ],
          "histogram": [
           {
            "marker": {
             "pattern": {
              "fillmode": "overlay",
              "size": 10,
              "solidity": 0.2
             }
            },
            "type": "histogram"
           }
          ],
          "histogram2d": [
           {
            "colorbar": {
             "outlinewidth": 0,
             "ticks": ""
            },
            "colorscale": [
             [
              0,
              "#0d0887"
             ],
             [
              0.1111111111111111,
              "#46039f"
             ],
             [
              0.2222222222222222,
              "#7201a8"
             ],
             [
              0.3333333333333333,
              "#9c179e"
             ],
             [
              0.4444444444444444,
              "#bd3786"
             ],
             [
              0.5555555555555556,
              "#d8576b"
             ],
             [
              0.6666666666666666,
              "#ed7953"
             ],
             [
              0.7777777777777778,
              "#fb9f3a"
             ],
             [
              0.8888888888888888,
              "#fdca26"
             ],
             [
              1,
              "#f0f921"
             ]
            ],
            "type": "histogram2d"
           }
          ],
          "histogram2dcontour": [
           {
            "colorbar": {
             "outlinewidth": 0,
             "ticks": ""
            },
            "colorscale": [
             [
              0,
              "#0d0887"
             ],
             [
              0.1111111111111111,
              "#46039f"
             ],
             [
              0.2222222222222222,
              "#7201a8"
             ],
             [
              0.3333333333333333,
              "#9c179e"
             ],
             [
              0.4444444444444444,
              "#bd3786"
             ],
             [
              0.5555555555555556,
              "#d8576b"
             ],
             [
              0.6666666666666666,
              "#ed7953"
             ],
             [
              0.7777777777777778,
              "#fb9f3a"
             ],
             [
              0.8888888888888888,
              "#fdca26"
             ],
             [
              1,
              "#f0f921"
             ]
            ],
            "type": "histogram2dcontour"
           }
          ],
          "mesh3d": [
           {
            "colorbar": {
             "outlinewidth": 0,
             "ticks": ""
            },
            "type": "mesh3d"
           }
          ],
          "parcoords": [
           {
            "line": {
             "colorbar": {
              "outlinewidth": 0,
              "ticks": ""
             }
            },
            "type": "parcoords"
           }
          ],
          "pie": [
           {
            "automargin": true,
            "type": "pie"
           }
          ],
          "scatter": [
           {
            "marker": {
             "colorbar": {
              "outlinewidth": 0,
              "ticks": ""
             }
            },
            "type": "scatter"
           }
          ],
          "scatter3d": [
           {
            "line": {
             "colorbar": {
              "outlinewidth": 0,
              "ticks": ""
             }
            },
            "marker": {
             "colorbar": {
              "outlinewidth": 0,
              "ticks": ""
             }
            },
            "type": "scatter3d"
           }
          ],
          "scattercarpet": [
           {
            "marker": {
             "colorbar": {
              "outlinewidth": 0,
              "ticks": ""
             }
            },
            "type": "scattercarpet"
           }
          ],
          "scattergeo": [
           {
            "marker": {
             "colorbar": {
              "outlinewidth": 0,
              "ticks": ""
             }
            },
            "type": "scattergeo"
           }
          ],
          "scattergl": [
           {
            "marker": {
             "colorbar": {
              "outlinewidth": 0,
              "ticks": ""
             }
            },
            "type": "scattergl"
           }
          ],
          "scattermapbox": [
           {
            "marker": {
             "colorbar": {
              "outlinewidth": 0,
              "ticks": ""
             }
            },
            "type": "scattermapbox"
           }
          ],
          "scatterpolar": [
           {
            "marker": {
             "colorbar": {
              "outlinewidth": 0,
              "ticks": ""
             }
            },
            "type": "scatterpolar"
           }
          ],
          "scatterpolargl": [
           {
            "marker": {
             "colorbar": {
              "outlinewidth": 0,
              "ticks": ""
             }
            },
            "type": "scatterpolargl"
           }
          ],
          "scatterternary": [
           {
            "marker": {
             "colorbar": {
              "outlinewidth": 0,
              "ticks": ""
             }
            },
            "type": "scatterternary"
           }
          ],
          "surface": [
           {
            "colorbar": {
             "outlinewidth": 0,
             "ticks": ""
            },
            "colorscale": [
             [
              0,
              "#0d0887"
             ],
             [
              0.1111111111111111,
              "#46039f"
             ],
             [
              0.2222222222222222,
              "#7201a8"
             ],
             [
              0.3333333333333333,
              "#9c179e"
             ],
             [
              0.4444444444444444,
              "#bd3786"
             ],
             [
              0.5555555555555556,
              "#d8576b"
             ],
             [
              0.6666666666666666,
              "#ed7953"
             ],
             [
              0.7777777777777778,
              "#fb9f3a"
             ],
             [
              0.8888888888888888,
              "#fdca26"
             ],
             [
              1,
              "#f0f921"
             ]
            ],
            "type": "surface"
           }
          ],
          "table": [
           {
            "cells": {
             "fill": {
              "color": "#EBF0F8"
             },
             "line": {
              "color": "white"
             }
            },
            "header": {
             "fill": {
              "color": "#C8D4E3"
             },
             "line": {
              "color": "white"
             }
            },
            "type": "table"
           }
          ]
         },
         "layout": {
          "annotationdefaults": {
           "arrowcolor": "#2a3f5f",
           "arrowhead": 0,
           "arrowwidth": 1
          },
          "autotypenumbers": "strict",
          "coloraxis": {
           "colorbar": {
            "outlinewidth": 0,
            "ticks": ""
           }
          },
          "colorscale": {
           "diverging": [
            [
             0,
             "#8e0152"
            ],
            [
             0.1,
             "#c51b7d"
            ],
            [
             0.2,
             "#de77ae"
            ],
            [
             0.3,
             "#f1b6da"
            ],
            [
             0.4,
             "#fde0ef"
            ],
            [
             0.5,
             "#f7f7f7"
            ],
            [
             0.6,
             "#e6f5d0"
            ],
            [
             0.7,
             "#b8e186"
            ],
            [
             0.8,
             "#7fbc41"
            ],
            [
             0.9,
             "#4d9221"
            ],
            [
             1,
             "#276419"
            ]
           ],
           "sequential": [
            [
             0,
             "#0d0887"
            ],
            [
             0.1111111111111111,
             "#46039f"
            ],
            [
             0.2222222222222222,
             "#7201a8"
            ],
            [
             0.3333333333333333,
             "#9c179e"
            ],
            [
             0.4444444444444444,
             "#bd3786"
            ],
            [
             0.5555555555555556,
             "#d8576b"
            ],
            [
             0.6666666666666666,
             "#ed7953"
            ],
            [
             0.7777777777777778,
             "#fb9f3a"
            ],
            [
             0.8888888888888888,
             "#fdca26"
            ],
            [
             1,
             "#f0f921"
            ]
           ],
           "sequentialminus": [
            [
             0,
             "#0d0887"
            ],
            [
             0.1111111111111111,
             "#46039f"
            ],
            [
             0.2222222222222222,
             "#7201a8"
            ],
            [
             0.3333333333333333,
             "#9c179e"
            ],
            [
             0.4444444444444444,
             "#bd3786"
            ],
            [
             0.5555555555555556,
             "#d8576b"
            ],
            [
             0.6666666666666666,
             "#ed7953"
            ],
            [
             0.7777777777777778,
             "#fb9f3a"
            ],
            [
             0.8888888888888888,
             "#fdca26"
            ],
            [
             1,
             "#f0f921"
            ]
           ]
          },
          "colorway": [
           "#636efa",
           "#EF553B",
           "#00cc96",
           "#ab63fa",
           "#FFA15A",
           "#19d3f3",
           "#FF6692",
           "#B6E880",
           "#FF97FF",
           "#FECB52"
          ],
          "font": {
           "color": "#2a3f5f"
          },
          "geo": {
           "bgcolor": "white",
           "lakecolor": "white",
           "landcolor": "#E5ECF6",
           "showlakes": true,
           "showland": true,
           "subunitcolor": "white"
          },
          "hoverlabel": {
           "align": "left"
          },
          "hovermode": "closest",
          "mapbox": {
           "style": "light"
          },
          "paper_bgcolor": "white",
          "plot_bgcolor": "#E5ECF6",
          "polar": {
           "angularaxis": {
            "gridcolor": "white",
            "linecolor": "white",
            "ticks": ""
           },
           "bgcolor": "#E5ECF6",
           "radialaxis": {
            "gridcolor": "white",
            "linecolor": "white",
            "ticks": ""
           }
          },
          "scene": {
           "xaxis": {
            "backgroundcolor": "#E5ECF6",
            "gridcolor": "white",
            "gridwidth": 2,
            "linecolor": "white",
            "showbackground": true,
            "ticks": "",
            "zerolinecolor": "white"
           },
           "yaxis": {
            "backgroundcolor": "#E5ECF6",
            "gridcolor": "white",
            "gridwidth": 2,
            "linecolor": "white",
            "showbackground": true,
            "ticks": "",
            "zerolinecolor": "white"
           },
           "zaxis": {
            "backgroundcolor": "#E5ECF6",
            "gridcolor": "white",
            "gridwidth": 2,
            "linecolor": "white",
            "showbackground": true,
            "ticks": "",
            "zerolinecolor": "white"
           }
          },
          "shapedefaults": {
           "line": {
            "color": "#2a3f5f"
           }
          },
          "ternary": {
           "aaxis": {
            "gridcolor": "white",
            "linecolor": "white",
            "ticks": ""
           },
           "baxis": {
            "gridcolor": "white",
            "linecolor": "white",
            "ticks": ""
           },
           "bgcolor": "#E5ECF6",
           "caxis": {
            "gridcolor": "white",
            "linecolor": "white",
            "ticks": ""
           }
          },
          "title": {
           "x": 0.05
          },
          "xaxis": {
           "automargin": true,
           "gridcolor": "white",
           "linecolor": "white",
           "ticks": "",
           "title": {
            "standoff": 15
           },
           "zerolinecolor": "white",
           "zerolinewidth": 2
          },
          "yaxis": {
           "automargin": true,
           "gridcolor": "white",
           "linecolor": "white",
           "ticks": "",
           "title": {
            "standoff": 15
           },
           "zerolinecolor": "white",
           "zerolinewidth": 2
          }
         }
        },
        "title": {
         "text": "<b>Normalized Average 5yr Tick Velocity</b><br>Number of Ticks > 100",
         "x": 0.5
        },
        "xaxis": {
         "anchor": "y",
         "domain": [
          0,
          1
         ],
         "title": {
          "text": "Normalized Average 5yr Tick Velocity"
         }
        },
        "xaxis2": {
         "anchor": "y2",
         "domain": [
          0,
          1
         ],
         "matches": "x",
         "showgrid": true,
         "showticklabels": false
        },
        "yaxis": {
         "anchor": "x",
         "domain": [
          0,
          0.7326
         ],
         "title": {
          "text": "Value"
         }
        },
        "yaxis2": {
         "anchor": "x2",
         "domain": [
          0.7426,
          1
         ],
         "matches": "y2",
         "showgrid": false,
         "showline": false,
         "showticklabels": false,
         "ticks": ""
        }
       }
      }
     },
     "metadata": {},
     "output_type": "display_data"
    }
   ],
   "source": [
    "df = df[df['Num Ticks'] >= 100]\n",
    "df['Norm Avg Tick Velo'] = df['Avg Tick Velo'] / df['Num Ticks']\n",
    "df.sort_values('Norm Avg Tick Velo', ascending=False)[0:30]\n",
    "fig = px.histogram(df['Norm Avg Tick Velo'], marginal='box', title='<b>Normalized Average 5yr Tick Velocity</b><br>Number of Ticks > 100')\n",
    "fig.update_layout(showlegend=False, title_x=0.5)\n",
    "fig.update_xaxes(title=\"Normalized Average 5yr Tick Velocity\", row=1,col=1, range=_)\n",
    "fig.update_yaxes(title='Value', row=1,col=1)\n",
    "fig.write_html(\"Norm_Average5yr_Tick_Velocity.html\")\n",
    "fig"
   ]
  },
  {
   "cell_type": "code",
   "execution_count": 302,
   "metadata": {},
   "outputs": [
    {
     "data": {
      "text/html": [
       "<div>\n",
       "<style scoped>\n",
       "    .dataframe tbody tr th:only-of-type {\n",
       "        vertical-align: middle;\n",
       "    }\n",
       "\n",
       "    .dataframe tbody tr th {\n",
       "        vertical-align: top;\n",
       "    }\n",
       "\n",
       "    .dataframe thead th {\n",
       "        text-align: right;\n",
       "    }\n",
       "</style>\n",
       "<table border=\"1\" class=\"dataframe\">\n",
       "  <thead>\n",
       "    <tr style=\"text-align: right;\">\n",
       "      <th></th>\n",
       "      <th>Route</th>\n",
       "      <th>Location</th>\n",
       "      <th>URL</th>\n",
       "      <th>Rating</th>\n",
       "      <th>Norm Avg Tick Velo</th>\n",
       "    </tr>\n",
       "  </thead>\n",
       "  <tbody>\n",
       "    <tr>\n",
       "      <th>815</th>\n",
       "      <td>Unknown 5.8</td>\n",
       "      <td>Habitado &gt; Indian Creek &gt; Southeast Utah &gt; Utah</td>\n",
       "      <td>https://www.mountainproject.com/route/116668323/unknown-58</td>\n",
       "      <td>5.8+</td>\n",
       "      <td>0.166172</td>\n",
       "    </tr>\n",
       "    <tr>\n",
       "      <th>819</th>\n",
       "      <td>Mariposa</td>\n",
       "      <td>Habitado &gt; Indian Creek &gt; Southeast Utah &gt; Utah</td>\n",
       "      <td>https://www.mountainproject.com/route/116668339/mariposa</td>\n",
       "      <td>5.10-</td>\n",
       "      <td>0.146226</td>\n",
       "    </tr>\n",
       "    <tr>\n",
       "      <th>838</th>\n",
       "      <td>Zits</td>\n",
       "      <td>Trick or Treat Wall &gt; Indian Creek &gt; Southeast Utah &gt; Utah</td>\n",
       "      <td>https://www.mountainproject.com/route/116707833/zits</td>\n",
       "      <td>5.10</td>\n",
       "      <td>0.144231</td>\n",
       "    </tr>\n",
       "    <tr>\n",
       "      <th>816</th>\n",
       "      <td>Lightning Bolt Crack</td>\n",
       "      <td>Habitado &gt; Indian Creek &gt; Southeast Utah &gt; Utah</td>\n",
       "      <td>https://www.mountainproject.com/route/116177998/lightning-bolt-crack</td>\n",
       "      <td>5.9</td>\n",
       "      <td>0.119307</td>\n",
       "    </tr>\n",
       "    <tr>\n",
       "      <th>1526</th>\n",
       "      <td>Horse Crack</td>\n",
       "      <td>Trick or Treat Wall &gt; Indian Creek &gt; Southeast Utah &gt; Utah</td>\n",
       "      <td>https://www.mountainproject.com/route/116707890/horse-crack</td>\n",
       "      <td>5.11</td>\n",
       "      <td>0.116352</td>\n",
       "    </tr>\n",
       "    <tr>\n",
       "      <th>823</th>\n",
       "      <td>Unnamed 5.10</td>\n",
       "      <td>Habitado &gt; Indian Creek &gt; Southeast Utah &gt; Utah</td>\n",
       "      <td>https://www.mountainproject.com/route/117925164/unnamed-510</td>\n",
       "      <td>5.10</td>\n",
       "      <td>0.103516</td>\n",
       "    </tr>\n",
       "    <tr>\n",
       "      <th>678</th>\n",
       "      <td>Fission Quest</td>\n",
       "      <td>Sinbad Wall aka Nuclear Wall &gt; Indian Creek &gt; Southeast Utah &gt; Utah</td>\n",
       "      <td>https://www.mountainproject.com/route/116134631/fission-quest</td>\n",
       "      <td>5.10</td>\n",
       "      <td>0.092391</td>\n",
       "    </tr>\n",
       "    <tr>\n",
       "      <th>685</th>\n",
       "      <td>Nuclear Fingers</td>\n",
       "      <td>Sinbad Wall aka Nuclear Wall &gt; Indian Creek &gt; Southeast Utah &gt; Utah</td>\n",
       "      <td>https://www.mountainproject.com/route/116134602/nuclear-fingers</td>\n",
       "      <td>5.11-</td>\n",
       "      <td>0.088710</td>\n",
       "    </tr>\n",
       "    <tr>\n",
       "      <th>669</th>\n",
       "      <td>Meltdown</td>\n",
       "      <td>Sinbad Wall aka Nuclear Wall &gt; Indian Creek &gt; Southeast Utah &gt; Utah</td>\n",
       "      <td>https://www.mountainproject.com/route/116093642/meltdown</td>\n",
       "      <td>5.9+</td>\n",
       "      <td>0.080827</td>\n",
       "    </tr>\n",
       "    <tr>\n",
       "      <th>675</th>\n",
       "      <td>Tiffany's Mall Tour</td>\n",
       "      <td>Sinbad Wall aka Nuclear Wall &gt; Indian Creek &gt; Southeast Utah &gt; Utah</td>\n",
       "      <td>https://www.mountainproject.com/route/107658941/tiffanys-mall-tour</td>\n",
       "      <td>5.10</td>\n",
       "      <td>0.078125</td>\n",
       "    </tr>\n",
       "    <tr>\n",
       "      <th>1525</th>\n",
       "      <td>Overthruster</td>\n",
       "      <td>Trick or Treat Wall &gt; Indian Creek &gt; Southeast Utah &gt; Utah</td>\n",
       "      <td>https://www.mountainproject.com/route/116707845/overthruster</td>\n",
       "      <td>5.11</td>\n",
       "      <td>0.073529</td>\n",
       "    </tr>\n",
       "    <tr>\n",
       "      <th>139</th>\n",
       "      <td>Triple Jeopardy</td>\n",
       "      <td>Supercrack Buttress &gt; Indian Creek &gt; Southeast Utah &gt; Utah</td>\n",
       "      <td>https://www.mountainproject.com/route/105717421/triple-jeopardy</td>\n",
       "      <td>5.8</td>\n",
       "      <td>0.073488</td>\n",
       "    </tr>\n",
       "    <tr>\n",
       "      <th>794</th>\n",
       "      <td>Crack Slabbath</td>\n",
       "      <td>The Beach &gt; Indian Creek &gt; Southeast Utah &gt; Utah</td>\n",
       "      <td>https://www.mountainproject.com/route/116094125/crack-slabbath</td>\n",
       "      <td>5.9+</td>\n",
       "      <td>0.070552</td>\n",
       "    </tr>\n",
       "    <tr>\n",
       "      <th>796</th>\n",
       "      <td>Kelley Route 8</td>\n",
       "      <td>The Beach &gt; Indian Creek &gt; Southeast Utah &gt; Utah</td>\n",
       "      <td>https://www.mountainproject.com/route/116094137/kelley-route-8</td>\n",
       "      <td>5.10-</td>\n",
       "      <td>0.068359</td>\n",
       "    </tr>\n",
       "    <tr>\n",
       "      <th>527</th>\n",
       "      <td>Jump Start</td>\n",
       "      <td>Sparks Wall &gt; Indian Creek &gt; Southeast Utah &gt; Utah</td>\n",
       "      <td>https://www.mountainproject.com/route/107883640/jump-start</td>\n",
       "      <td>5.11-</td>\n",
       "      <td>0.064828</td>\n",
       "    </tr>\n",
       "    <tr>\n",
       "      <th>130</th>\n",
       "      <td>Vienna</td>\n",
       "      <td>Scarface &gt; Indian Creek &gt; Southeast Utah &gt; Utah</td>\n",
       "      <td>https://www.mountainproject.com/route/106787270/vienna</td>\n",
       "      <td>5.11-</td>\n",
       "      <td>0.059286</td>\n",
       "    </tr>\n",
       "    <tr>\n",
       "      <th>677</th>\n",
       "      <td>Act or React</td>\n",
       "      <td>Sinbad Wall aka Nuclear Wall &gt; Indian Creek &gt; Southeast Utah &gt; Utah</td>\n",
       "      <td>https://www.mountainproject.com/route/109698733/act-or-react</td>\n",
       "      <td>5.10</td>\n",
       "      <td>0.057143</td>\n",
       "    </tr>\n",
       "    <tr>\n",
       "      <th>7</th>\n",
       "      <td>Owl Crack</td>\n",
       "      <td>Donnelly Canyon &gt; Indian Creek &gt; Southeast Utah &gt; Utah</td>\n",
       "      <td>https://www.mountainproject.com/route/107653915/owl-crack</td>\n",
       "      <td>5.10</td>\n",
       "      <td>0.054592</td>\n",
       "    </tr>\n",
       "    <tr>\n",
       "      <th>727</th>\n",
       "      <td>Bud's Route</td>\n",
       "      <td>The Gash &gt; Indian Creek &gt; Southeast Utah &gt; Utah</td>\n",
       "      <td>https://www.mountainproject.com/route/110183139/buds-route</td>\n",
       "      <td>5.10</td>\n",
       "      <td>0.051969</td>\n",
       "    </tr>\n",
       "    <tr>\n",
       "      <th>1056</th>\n",
       "      <td>Yehaw</td>\n",
       "      <td>Pistol Whipped &gt; Indian Creek &gt; Southeast Utah &gt; Utah</td>\n",
       "      <td>https://www.mountainproject.com/route/107144667/yehaw</td>\n",
       "      <td>5.12</td>\n",
       "      <td>0.050980</td>\n",
       "    </tr>\n",
       "    <tr>\n",
       "      <th>598</th>\n",
       "      <td>Cactus Flower</td>\n",
       "      <td>Fringe Walls &gt; Indian Creek &gt; Southeast Utah &gt; Utah</td>\n",
       "      <td>https://www.mountainproject.com/route/106268346/cactus-flower</td>\n",
       "      <td>5.10+</td>\n",
       "      <td>0.049505</td>\n",
       "    </tr>\n",
       "    <tr>\n",
       "      <th>521</th>\n",
       "      <td>Divide and Conquer</td>\n",
       "      <td>Sparks Wall &gt; Indian Creek &gt; Southeast Utah &gt; Utah</td>\n",
       "      <td>https://www.mountainproject.com/route/105893736/divide-and-conquer</td>\n",
       "      <td>5.10+</td>\n",
       "      <td>0.048438</td>\n",
       "    </tr>\n",
       "    <tr>\n",
       "      <th>1018</th>\n",
       "      <td>Binge and Purge</td>\n",
       "      <td>Supercrack Buttress &gt; Indian Creek &gt; Southeast Utah &gt; Utah</td>\n",
       "      <td>https://www.mountainproject.com/route/105717481/binge-and-purge</td>\n",
       "      <td>5.11b</td>\n",
       "      <td>0.046617</td>\n",
       "    </tr>\n",
       "    <tr>\n",
       "      <th>668</th>\n",
       "      <td>Hot Sex</td>\n",
       "      <td>Sinbad Wall aka Nuclear Wall &gt; Indian Creek &gt; Southeast Utah &gt; Utah</td>\n",
       "      <td>https://www.mountainproject.com/route/106950462/hot-sex</td>\n",
       "      <td>5.9</td>\n",
       "      <td>0.045822</td>\n",
       "    </tr>\n",
       "    <tr>\n",
       "      <th>1348</th>\n",
       "      <td>Slings and Arrows</td>\n",
       "      <td>Sparks Wall &gt; Indian Creek &gt; Southeast Utah &gt; Utah</td>\n",
       "      <td>https://www.mountainproject.com/route/105893732/slings-and-arrows</td>\n",
       "      <td>5.11</td>\n",
       "      <td>0.042963</td>\n",
       "    </tr>\n",
       "    <tr>\n",
       "      <th>1375</th>\n",
       "      <td>Critic's Choice</td>\n",
       "      <td>Critic's Choice &gt; Indian Creek &gt; Southeast Utah &gt; Utah</td>\n",
       "      <td>https://www.mountainproject.com/route/105930590/critics-choice</td>\n",
       "      <td>5.12</td>\n",
       "      <td>0.042308</td>\n",
       "    </tr>\n",
       "    <tr>\n",
       "      <th>1353</th>\n",
       "      <td>Go Sparky Go</td>\n",
       "      <td>Sparks Wall &gt; Indian Creek &gt; Southeast Utah &gt; Utah</td>\n",
       "      <td>https://www.mountainproject.com/route/105888734/go-sparky-go</td>\n",
       "      <td>5.11b/c</td>\n",
       "      <td>0.042272</td>\n",
       "    </tr>\n",
       "    <tr>\n",
       "      <th>507</th>\n",
       "      <td>Skraps</td>\n",
       "      <td>Sparks Wall &gt; Indian Creek &gt; Southeast Utah &gt; Utah</td>\n",
       "      <td>https://www.mountainproject.com/route/105893726/skraps</td>\n",
       "      <td>5.9</td>\n",
       "      <td>0.041534</td>\n",
       "    </tr>\n",
       "    <tr>\n",
       "      <th>1354</th>\n",
       "      <td>Sparks of the Tempest</td>\n",
       "      <td>Sparks Wall &gt; Indian Creek &gt; Southeast Utah &gt; Utah</td>\n",
       "      <td>https://www.mountainproject.com/route/106065226/sparks-of-the-tempest</td>\n",
       "      <td>5.11c</td>\n",
       "      <td>0.041250</td>\n",
       "    </tr>\n",
       "    <tr>\n",
       "      <th>672</th>\n",
       "      <td>Manifesto</td>\n",
       "      <td>Sinbad Wall aka Nuclear Wall &gt; Indian Creek &gt; Southeast Utah &gt; Utah</td>\n",
       "      <td>https://www.mountainproject.com/route/106950430/manifesto</td>\n",
       "      <td>5.10</td>\n",
       "      <td>0.040994</td>\n",
       "    </tr>\n",
       "  </tbody>\n",
       "</table>\n",
       "</div>"
      ],
      "text/plain": [
       "                      Route                                                             Location                                                                    URL   Rating  Norm Avg Tick Velo\n",
       "815             Unknown 5.8                      Habitado > Indian Creek > Southeast Utah > Utah             https://www.mountainproject.com/route/116668323/unknown-58     5.8+            0.166172\n",
       "819                Mariposa                      Habitado > Indian Creek > Southeast Utah > Utah               https://www.mountainproject.com/route/116668339/mariposa    5.10-            0.146226\n",
       "838                    Zits           Trick or Treat Wall > Indian Creek > Southeast Utah > Utah                   https://www.mountainproject.com/route/116707833/zits     5.10            0.144231\n",
       "816    Lightning Bolt Crack                      Habitado > Indian Creek > Southeast Utah > Utah   https://www.mountainproject.com/route/116177998/lightning-bolt-crack      5.9            0.119307\n",
       "1526            Horse Crack           Trick or Treat Wall > Indian Creek > Southeast Utah > Utah            https://www.mountainproject.com/route/116707890/horse-crack     5.11            0.116352\n",
       "823            Unnamed 5.10                      Habitado > Indian Creek > Southeast Utah > Utah            https://www.mountainproject.com/route/117925164/unnamed-510     5.10            0.103516\n",
       "678           Fission Quest  Sinbad Wall aka Nuclear Wall > Indian Creek > Southeast Utah > Utah          https://www.mountainproject.com/route/116134631/fission-quest     5.10            0.092391\n",
       "685         Nuclear Fingers  Sinbad Wall aka Nuclear Wall > Indian Creek > Southeast Utah > Utah        https://www.mountainproject.com/route/116134602/nuclear-fingers    5.11-            0.088710\n",
       "669                Meltdown  Sinbad Wall aka Nuclear Wall > Indian Creek > Southeast Utah > Utah               https://www.mountainproject.com/route/116093642/meltdown     5.9+            0.080827\n",
       "675     Tiffany's Mall Tour  Sinbad Wall aka Nuclear Wall > Indian Creek > Southeast Utah > Utah     https://www.mountainproject.com/route/107658941/tiffanys-mall-tour     5.10            0.078125\n",
       "1525           Overthruster           Trick or Treat Wall > Indian Creek > Southeast Utah > Utah           https://www.mountainproject.com/route/116707845/overthruster     5.11            0.073529\n",
       "139         Triple Jeopardy           Supercrack Buttress > Indian Creek > Southeast Utah > Utah        https://www.mountainproject.com/route/105717421/triple-jeopardy      5.8            0.073488\n",
       "794          Crack Slabbath                     The Beach > Indian Creek > Southeast Utah > Utah         https://www.mountainproject.com/route/116094125/crack-slabbath     5.9+            0.070552\n",
       "796          Kelley Route 8                     The Beach > Indian Creek > Southeast Utah > Utah         https://www.mountainproject.com/route/116094137/kelley-route-8    5.10-            0.068359\n",
       "527              Jump Start                   Sparks Wall > Indian Creek > Southeast Utah > Utah             https://www.mountainproject.com/route/107883640/jump-start    5.11-            0.064828\n",
       "130                  Vienna                      Scarface > Indian Creek > Southeast Utah > Utah                 https://www.mountainproject.com/route/106787270/vienna    5.11-            0.059286\n",
       "677            Act or React  Sinbad Wall aka Nuclear Wall > Indian Creek > Southeast Utah > Utah           https://www.mountainproject.com/route/109698733/act-or-react     5.10            0.057143\n",
       "7                 Owl Crack               Donnelly Canyon > Indian Creek > Southeast Utah > Utah              https://www.mountainproject.com/route/107653915/owl-crack     5.10            0.054592\n",
       "727             Bud's Route                      The Gash > Indian Creek > Southeast Utah > Utah             https://www.mountainproject.com/route/110183139/buds-route     5.10            0.051969\n",
       "1056                  Yehaw                Pistol Whipped > Indian Creek > Southeast Utah > Utah                  https://www.mountainproject.com/route/107144667/yehaw     5.12            0.050980\n",
       "598           Cactus Flower                  Fringe Walls > Indian Creek > Southeast Utah > Utah          https://www.mountainproject.com/route/106268346/cactus-flower    5.10+            0.049505\n",
       "521      Divide and Conquer                   Sparks Wall > Indian Creek > Southeast Utah > Utah     https://www.mountainproject.com/route/105893736/divide-and-conquer    5.10+            0.048438\n",
       "1018        Binge and Purge           Supercrack Buttress > Indian Creek > Southeast Utah > Utah        https://www.mountainproject.com/route/105717481/binge-and-purge    5.11b            0.046617\n",
       "668                 Hot Sex  Sinbad Wall aka Nuclear Wall > Indian Creek > Southeast Utah > Utah                https://www.mountainproject.com/route/106950462/hot-sex      5.9            0.045822\n",
       "1348      Slings and Arrows                   Sparks Wall > Indian Creek > Southeast Utah > Utah      https://www.mountainproject.com/route/105893732/slings-and-arrows     5.11            0.042963\n",
       "1375        Critic's Choice               Critic's Choice > Indian Creek > Southeast Utah > Utah         https://www.mountainproject.com/route/105930590/critics-choice     5.12            0.042308\n",
       "1353           Go Sparky Go                   Sparks Wall > Indian Creek > Southeast Utah > Utah           https://www.mountainproject.com/route/105888734/go-sparky-go  5.11b/c            0.042272\n",
       "507                  Skraps                   Sparks Wall > Indian Creek > Southeast Utah > Utah                 https://www.mountainproject.com/route/105893726/skraps      5.9            0.041534\n",
       "1354  Sparks of the Tempest                   Sparks Wall > Indian Creek > Southeast Utah > Utah  https://www.mountainproject.com/route/106065226/sparks-of-the-tempest    5.11c            0.041250\n",
       "672               Manifesto  Sinbad Wall aka Nuclear Wall > Indian Creek > Southeast Utah > Utah              https://www.mountainproject.com/route/106950430/manifesto     5.10            0.040994"
      ]
     },
     "execution_count": 302,
     "metadata": {},
     "output_type": "execute_result"
    }
   ],
   "source": [
    "pd.set_option('display.max_colwidth', None)\n",
    "df.sort_values('Norm Avg Tick Velo', ascending=False)[0:30][['Route', 'Location', 'URL', 'Rating', 'Norm Avg Tick Velo']]"
   ]
  },
  {
   "cell_type": "code",
   "execution_count": null,
   "metadata": {},
   "outputs": [],
   "source": [
    "df_cumz = df[df['Num Ticks']>100][['Num Ticks', 'Lead Ratio', 'Normalized Repeat Sender Sum', 'Norm Avg Tick Velo']].apply(zscore)\n",
    "df['C Score'] = 0.4*df_cumz['Num Ticks'] + -0.15*df_cumz['Lead Ratio'] + 0.15*df_cumz['Normalized Repeat Sender Sum'] + 0.3*df_cumz['Norm Avg Tick Velo']\n",
    "df.sort_values('C Score', ascending=False)[['Route', 'Location', 'URL', 'Rating', 'Num Ticks', 'Norm Avg Tick Velo', 'Lead Ratio', 'Normalized Repeat Sender Sum', 'CZ Score']][0:60]"
   ]
  },
  {
   "cell_type": "code",
   "execution_count": 369,
   "metadata": {},
   "outputs": [
    {
     "data": {
      "text/html": [
       "<div>\n",
       "<style scoped>\n",
       "    .dataframe tbody tr th:only-of-type {\n",
       "        vertical-align: middle;\n",
       "    }\n",
       "\n",
       "    .dataframe tbody tr th {\n",
       "        vertical-align: top;\n",
       "    }\n",
       "\n",
       "    .dataframe thead th {\n",
       "        text-align: right;\n",
       "    }\n",
       "</style>\n",
       "<table border=\"1\" class=\"dataframe\">\n",
       "  <thead>\n",
       "    <tr style=\"text-align: right;\">\n",
       "      <th></th>\n",
       "      <th>Route</th>\n",
       "      <th>Location</th>\n",
       "      <th>URL</th>\n",
       "      <th>Avg Stars</th>\n",
       "      <th>Your Stars</th>\n",
       "      <th>Route Type</th>\n",
       "      <th>Original Rating</th>\n",
       "      <th>Rating</th>\n",
       "      <th>Pitches</th>\n",
       "      <th>Length</th>\n",
       "      <th>...</th>\n",
       "      <th>OS Ratio</th>\n",
       "      <th>Repeat Sender Ratio</th>\n",
       "      <th>Mean Attempts To RP</th>\n",
       "      <th>Tick Counts</th>\n",
       "      <th>Avg Tick Velo</th>\n",
       "      <th>Norm Avg Tick Velo</th>\n",
       "      <th>C Score</th>\n",
       "      <th>Repeat Sender Sum</th>\n",
       "      <th>Normalized Repeat Sender Sum</th>\n",
       "      <th>CZ Score</th>\n",
       "    </tr>\n",
       "  </thead>\n",
       "  <tbody>\n",
       "    <tr>\n",
       "      <th>149</th>\n",
       "      <td>Incredible Hand Crack</td>\n",
       "      <td>Supercrack Buttress &gt; Indian Creek &gt; Southeast Utah &gt; Utah</td>\n",
       "      <td>https://www.mountainproject.com/route/105717367/incredible-hand-crack</td>\n",
       "      <td>3.8</td>\n",
       "      <td>NaN</td>\n",
       "      <td>Trad</td>\n",
       "      <td>5.10</td>\n",
       "      <td>5.10</td>\n",
       "      <td>1</td>\n",
       "      <td>100.0</td>\n",
       "      <td>...</td>\n",
       "      <td>0.513678</td>\n",
       "      <td>1.046326</td>\n",
       "      <td>1.591241</td>\n",
       "      <td>Lead         1178\n",
       "TR            517\n",
       "Onsight       404\n",
       "Fell/Hung     323\n",
       "Redpoint      153\n",
       "Follow        110\n",
       "Flash         103\n",
       "Solo            4\n",
       "Pinkpoint       4\n",
       "Send            0\n",
       "Attempt         0\n",
       "dtype: int64</td>\n",
       "      <td>24.000000</td>\n",
       "      <td>0.008191</td>\n",
       "      <td>2.265847</td>\n",
       "      <td>655</td>\n",
       "      <td>0.223549</td>\n",
       "      <td>4.545311</td>\n",
       "    </tr>\n",
       "    <tr>\n",
       "      <th>148</th>\n",
       "      <td>Supercrack of the Desert</td>\n",
       "      <td>Supercrack Buttress &gt; Indian Creek &gt; Southeast Utah &gt; Utah</td>\n",
       "      <td>https://www.mountainproject.com/route/105717364/supercrack-of-the-desert</td>\n",
       "      <td>3.8</td>\n",
       "      <td>NaN</td>\n",
       "      <td>Trad</td>\n",
       "      <td>5.10</td>\n",
       "      <td>5.10</td>\n",
       "      <td>3</td>\n",
       "      <td>70.0</td>\n",
       "      <td>...</td>\n",
       "      <td>0.573626</td>\n",
       "      <td>1.068627</td>\n",
       "      <td>1.471154</td>\n",
       "      <td>Lead         1087\n",
       "TR            544\n",
       "Onsight       407\n",
       "Fell/Hung     252\n",
       "Redpoint      130\n",
       "Flash         115\n",
       "Follow         78\n",
       "Pinkpoint       6\n",
       "Solo            2\n",
       "Send            0\n",
       "Attempt         0\n",
       "dtype: int64</td>\n",
       "      <td>33.000000</td>\n",
       "      <td>0.011892</td>\n",
       "      <td>2.204033</td>\n",
       "      <td>654</td>\n",
       "      <td>0.235676</td>\n",
       "      <td>4.421312</td>\n",
       "    </tr>\n",
       "    <tr>\n",
       "      <th>3</th>\n",
       "      <td>Chocolate Corner</td>\n",
       "      <td>Donnelly Canyon &gt; Indian Creek &gt; Southeast Utah &gt; Utah</td>\n",
       "      <td>https://www.mountainproject.com/route/105717349/chocolate-corner</td>\n",
       "      <td>3.0</td>\n",
       "      <td>NaN</td>\n",
       "      <td>Trad</td>\n",
       "      <td>5.9+</td>\n",
       "      <td>5.9+</td>\n",
       "      <td>1</td>\n",
       "      <td>50.0</td>\n",
       "      <td>...</td>\n",
       "      <td>0.555152</td>\n",
       "      <td>1.057658</td>\n",
       "      <td>1.685185</td>\n",
       "      <td>Lead         1064\n",
       "TR            470\n",
       "Onsight       378\n",
       "Fell/Hung     234\n",
       "Redpoint      130\n",
       "Follow         86\n",
       "Flash          80\n",
       "Pinkpoint       3\n",
       "Solo            2\n",
       "Send            0\n",
       "Attempt         0\n",
       "dtype: int64</td>\n",
       "      <td>31.000000</td>\n",
       "      <td>0.012020</td>\n",
       "      <td>1.969974</td>\n",
       "      <td>587</td>\n",
       "      <td>0.227608</td>\n",
       "      <td>3.951787</td>\n",
       "    </tr>\n",
       "    <tr>\n",
       "      <th>4</th>\n",
       "      <td>Generic Crack</td>\n",
       "      <td>Donnelly Canyon &gt; Indian Creek &gt; Southeast Utah &gt; Utah</td>\n",
       "      <td>https://www.mountainproject.com/route/105717328/generic-crack</td>\n",
       "      <td>3.4</td>\n",
       "      <td>NaN</td>\n",
       "      <td>Trad</td>\n",
       "      <td>5.10-</td>\n",
       "      <td>5.10-</td>\n",
       "      <td>1</td>\n",
       "      <td>120.0</td>\n",
       "      <td>...</td>\n",
       "      <td>0.620205</td>\n",
       "      <td>1.068015</td>\n",
       "      <td>1.693333</td>\n",
       "      <td>Lead         945\n",
       "TR           477\n",
       "Onsight      397\n",
       "Fell/Hung    195\n",
       "Redpoint      98\n",
       "Flash         88\n",
       "Follow        85\n",
       "Pinkpoint      3\n",
       "Solo           2\n",
       "Attempt        1\n",
       "Send           0\n",
       "dtype: int64</td>\n",
       "      <td>29.600000</td>\n",
       "      <td>0.012323</td>\n",
       "      <td>1.869641</td>\n",
       "      <td>581</td>\n",
       "      <td>0.241882</td>\n",
       "      <td>3.750517</td>\n",
       "    </tr>\n",
       "    <tr>\n",
       "      <th>815</th>\n",
       "      <td>Unknown 5.8</td>\n",
       "      <td>Habitado &gt; Indian Creek &gt; Southeast Utah &gt; Utah</td>\n",
       "      <td>https://www.mountainproject.com/route/116668323/unknown-58</td>\n",
       "      <td>2.4</td>\n",
       "      <td>NaN</td>\n",
       "      <td>Trad</td>\n",
       "      <td>5.8+</td>\n",
       "      <td>5.8+</td>\n",
       "      <td>1</td>\n",
       "      <td>40.0</td>\n",
       "      <td>...</td>\n",
       "      <td>0.633987</td>\n",
       "      <td>1.045045</td>\n",
       "      <td>1.785714</td>\n",
       "      <td>Lead         187\n",
       "Onsight       82\n",
       "TR            77\n",
       "Fell/Hung     37\n",
       "Redpoint      19\n",
       "Follow        17\n",
       "Flash         15\n",
       "Solo           1\n",
       "Pinkpoint      0\n",
       "Send           0\n",
       "Attempt        0\n",
       "dtype: int64</td>\n",
       "      <td>56.000000</td>\n",
       "      <td>0.166172</td>\n",
       "      <td>1.793561</td>\n",
       "      <td>116</td>\n",
       "      <td>0.344214</td>\n",
       "      <td>3.597900</td>\n",
       "    </tr>\n",
       "    <tr>\n",
       "      <th>354</th>\n",
       "      <td>Blue Sun</td>\n",
       "      <td>Way Rambo &gt; Indian Creek &gt; Southeast Utah &gt; Utah</td>\n",
       "      <td>https://www.mountainproject.com/route/105718435/blue-sun</td>\n",
       "      <td>3.6</td>\n",
       "      <td>NaN</td>\n",
       "      <td>Trad</td>\n",
       "      <td>5.10-</td>\n",
       "      <td>5.10-</td>\n",
       "      <td>1</td>\n",
       "      <td>70.0</td>\n",
       "      <td>...</td>\n",
       "      <td>0.725537</td>\n",
       "      <td>1.070465</td>\n",
       "      <td>1.557143</td>\n",
       "      <td>Lead         1010\n",
       "Onsight       474\n",
       "TR            371\n",
       "Flash         134\n",
       "Fell/Hung     119\n",
       "Redpoint      108\n",
       "Follow         51\n",
       "Pinkpoint       2\n",
       "Solo            1\n",
       "Attempt         1\n",
       "Send            0\n",
       "dtype: int64</td>\n",
       "      <td>18.000000</td>\n",
       "      <td>0.008249</td>\n",
       "      <td>1.646315</td>\n",
       "      <td>714</td>\n",
       "      <td>0.327223</td>\n",
       "      <td>3.302524</td>\n",
       "    </tr>\n",
       "    <tr>\n",
       "      <th>819</th>\n",
       "      <td>Mariposa</td>\n",
       "      <td>Habitado &gt; Indian Creek &gt; Southeast Utah &gt; Utah</td>\n",
       "      <td>https://www.mountainproject.com/route/116668339/mariposa</td>\n",
       "      <td>2.7</td>\n",
       "      <td>NaN</td>\n",
       "      <td>Trad</td>\n",
       "      <td>5.10-</td>\n",
       "      <td>5.10-</td>\n",
       "      <td>1</td>\n",
       "      <td>50.0</td>\n",
       "      <td>...</td>\n",
       "      <td>0.622642</td>\n",
       "      <td>1.054054</td>\n",
       "      <td>2.000000</td>\n",
       "      <td>TR           117\n",
       "Lead          60\n",
       "Onsight       27\n",
       "Fell/Hung     14\n",
       "Flash          6\n",
       "Redpoint       6\n",
       "Solo           0\n",
       "Follow         0\n",
       "Pinkpoint      0\n",
       "Send           0\n",
       "Attempt        0\n",
       "dtype: int64</td>\n",
       "      <td>31.000000</td>\n",
       "      <td>0.146226</td>\n",
       "      <td>1.624408</td>\n",
       "      <td>39</td>\n",
       "      <td>0.183962</td>\n",
       "      <td>3.258577</td>\n",
       "    </tr>\n",
       "    <tr>\n",
       "      <th>1</th>\n",
       "      <td>Binou's Crack</td>\n",
       "      <td>Donnelly Canyon &gt; Indian Creek &gt; Southeast Utah &gt; Utah</td>\n",
       "      <td>https://www.mountainproject.com/route/105717346/binous-crack</td>\n",
       "      <td>2.7</td>\n",
       "      <td>NaN</td>\n",
       "      <td>Trad</td>\n",
       "      <td>5.8+</td>\n",
       "      <td>5.8+</td>\n",
       "      <td>1</td>\n",
       "      <td>70.0</td>\n",
       "      <td>...</td>\n",
       "      <td>0.784281</td>\n",
       "      <td>1.038536</td>\n",
       "      <td>1.557377</td>\n",
       "      <td>Lead         752\n",
       "Onsight      393\n",
       "TR           332\n",
       "Flash         76\n",
       "Follow        70\n",
       "Redpoint      63\n",
       "Fell/Hung     56\n",
       "Pinkpoint     10\n",
       "Solo           1\n",
       "Send           0\n",
       "Attempt        0\n",
       "dtype: int64</td>\n",
       "      <td>22.200000</td>\n",
       "      <td>0.011467</td>\n",
       "      <td>1.434985</td>\n",
       "      <td>539</td>\n",
       "      <td>0.278409</td>\n",
       "      <td>2.878593</td>\n",
       "    </tr>\n",
       "    <tr>\n",
       "      <th>816</th>\n",
       "      <td>Lightning Bolt Crack</td>\n",
       "      <td>Habitado &gt; Indian Creek &gt; Southeast Utah &gt; Utah</td>\n",
       "      <td>https://www.mountainproject.com/route/116177998/lightning-bolt-crack</td>\n",
       "      <td>3.1</td>\n",
       "      <td>NaN</td>\n",
       "      <td>Trad</td>\n",
       "      <td>5.9</td>\n",
       "      <td>5.9</td>\n",
       "      <td>1</td>\n",
       "      <td>50.0</td>\n",
       "      <td>...</td>\n",
       "      <td>0.631356</td>\n",
       "      <td>1.060976</td>\n",
       "      <td>1.562500</td>\n",
       "      <td>Lead         288\n",
       "TR           133\n",
       "Onsight      120\n",
       "Fell/Hung     62\n",
       "Flash         29\n",
       "Redpoint      20\n",
       "Follow        17\n",
       "Pinkpoint      5\n",
       "Solo           0\n",
       "Send           0\n",
       "Attempt        0\n",
       "dtype: int64</td>\n",
       "      <td>60.250000</td>\n",
       "      <td>0.119307</td>\n",
       "      <td>1.418233</td>\n",
       "      <td>174</td>\n",
       "      <td>0.344554</td>\n",
       "      <td>2.844989</td>\n",
       "    </tr>\n",
       "    <tr>\n",
       "      <th>141</th>\n",
       "      <td>Twin Cracks</td>\n",
       "      <td>Supercrack Buttress &gt; Indian Creek &gt; Southeast Utah &gt; Utah</td>\n",
       "      <td>https://www.mountainproject.com/route/105717445/twin-cracks</td>\n",
       "      <td>2.5</td>\n",
       "      <td>NaN</td>\n",
       "      <td>Trad</td>\n",
       "      <td>5.8+</td>\n",
       "      <td>5.8+</td>\n",
       "      <td>1</td>\n",
       "      <td>40.0</td>\n",
       "      <td>...</td>\n",
       "      <td>0.810241</td>\n",
       "      <td>1.050590</td>\n",
       "      <td>1.645161</td>\n",
       "      <td>Lead         824\n",
       "Onsight      436\n",
       "TR           288\n",
       "Flash        102\n",
       "Redpoint      80\n",
       "Follow        59\n",
       "Fell/Hung     40\n",
       "Pinkpoint      6\n",
       "Solo           3\n",
       "Send           0\n",
       "Attempt        0\n",
       "dtype: int64</td>\n",
       "      <td>21.600000</td>\n",
       "      <td>0.011676</td>\n",
       "      <td>1.382420</td>\n",
       "      <td>623</td>\n",
       "      <td>0.336757</td>\n",
       "      <td>2.773147</td>\n",
       "    </tr>\n",
       "    <tr>\n",
       "      <th>838</th>\n",
       "      <td>Zits</td>\n",
       "      <td>Trick or Treat Wall &gt; Indian Creek &gt; Southeast Utah &gt; Utah</td>\n",
       "      <td>https://www.mountainproject.com/route/116707833/zits</td>\n",
       "      <td>2.9</td>\n",
       "      <td>NaN</td>\n",
       "      <td>Trad</td>\n",
       "      <td>5.10</td>\n",
       "      <td>5.10</td>\n",
       "      <td>1</td>\n",
       "      <td>70.0</td>\n",
       "      <td>...</td>\n",
       "      <td>0.604651</td>\n",
       "      <td>1.000000</td>\n",
       "      <td>1.400000</td>\n",
       "      <td>Lead         46\n",
       "TR           28\n",
       "Onsight      24\n",
       "Fell/Hung    12\n",
       "Redpoint      5\n",
       "Follow        4\n",
       "Flash         2\n",
       "Solo          0\n",
       "Pinkpoint     0\n",
       "Send          0\n",
       "Attempt       0\n",
       "dtype: int64</td>\n",
       "      <td>15.000000</td>\n",
       "      <td>0.144231</td>\n",
       "      <td>1.335802</td>\n",
       "      <td>31</td>\n",
       "      <td>0.298077</td>\n",
       "      <td>2.679631</td>\n",
       "    </tr>\n",
       "    <tr>\n",
       "      <th>135</th>\n",
       "      <td>Scarface</td>\n",
       "      <td>Scarface &gt; Indian Creek &gt; Southeast Utah &gt; Utah</td>\n",
       "      <td>https://www.mountainproject.com/route/105717484/scarface</td>\n",
       "      <td>3.8</td>\n",
       "      <td>NaN</td>\n",
       "      <td>Trad</td>\n",
       "      <td>5.11a/b</td>\n",
       "      <td>5.11a/b</td>\n",
       "      <td>1</td>\n",
       "      <td>70.0</td>\n",
       "      <td>...</td>\n",
       "      <td>0.365621</td>\n",
       "      <td>1.050378</td>\n",
       "      <td>1.530612</td>\n",
       "      <td>Lead         843\n",
       "TR           370\n",
       "Fell/Hung    307\n",
       "Onsight      193\n",
       "Redpoint     152\n",
       "Flash         75\n",
       "Follow        41\n",
       "Pinkpoint      6\n",
       "Solo           1\n",
       "Send           0\n",
       "Attempt        0\n",
       "dtype: int64</td>\n",
       "      <td>28.400000</td>\n",
       "      <td>0.015034</td>\n",
       "      <td>1.298182</td>\n",
       "      <td>417</td>\n",
       "      <td>0.220752</td>\n",
       "      <td>2.604166</td>\n",
       "    </tr>\n",
       "    <tr>\n",
       "      <th>1526</th>\n",
       "      <td>Horse Crack</td>\n",
       "      <td>Trick or Treat Wall &gt; Indian Creek &gt; Southeast Utah &gt; Utah</td>\n",
       "      <td>https://www.mountainproject.com/route/116707890/horse-crack</td>\n",
       "      <td>3.8</td>\n",
       "      <td>NaN</td>\n",
       "      <td>Trad</td>\n",
       "      <td>5.11</td>\n",
       "      <td>5.11</td>\n",
       "      <td>1</td>\n",
       "      <td>90.0</td>\n",
       "      <td>...</td>\n",
       "      <td>0.729730</td>\n",
       "      <td>1.068966</td>\n",
       "      <td>1.333333</td>\n",
       "      <td>TR           40\n",
       "Lead         40\n",
       "Onsight      22\n",
       "Fell/Hung     6\n",
       "Flash         5\n",
       "Redpoint      4\n",
       "Follow        3\n",
       "Solo          0\n",
       "Pinkpoint     0\n",
       "Send          0\n",
       "Attempt       0\n",
       "dtype: int64</td>\n",
       "      <td>12.333333</td>\n",
       "      <td>0.116352</td>\n",
       "      <td>1.156228</td>\n",
       "      <td>31</td>\n",
       "      <td>0.292453</td>\n",
       "      <td>2.319404</td>\n",
       "    </tr>\n",
       "    <tr>\n",
       "      <th>154</th>\n",
       "      <td>3AM Crack</td>\n",
       "      <td>Supercrack Buttress &gt; Indian Creek &gt; Southeast Utah &gt; Utah</td>\n",
       "      <td>https://www.mountainproject.com/route/105717766/3am-crack</td>\n",
       "      <td>3.5</td>\n",
       "      <td>NaN</td>\n",
       "      <td>Trad</td>\n",
       "      <td>5.10</td>\n",
       "      <td>5.10</td>\n",
       "      <td>1</td>\n",
       "      <td>115.0</td>\n",
       "      <td>...</td>\n",
       "      <td>0.556541</td>\n",
       "      <td>1.031802</td>\n",
       "      <td>1.475000</td>\n",
       "      <td>Lead         544\n",
       "TR           286\n",
       "Onsight      205\n",
       "Fell/Hung    156\n",
       "Follow        62\n",
       "Flash         46\n",
       "Redpoint      42\n",
       "Pinkpoint      2\n",
       "Solo           0\n",
       "Send           0\n",
       "Attempt        0\n",
       "dtype: int64</td>\n",
       "      <td>13.600000</td>\n",
       "      <td>0.009055</td>\n",
       "      <td>0.894055</td>\n",
       "      <td>292</td>\n",
       "      <td>0.194407</td>\n",
       "      <td>1.793482</td>\n",
       "    </tr>\n",
       "    <tr>\n",
       "      <th>5</th>\n",
       "      <td>Elephant Man</td>\n",
       "      <td>Donnelly Canyon &gt; Indian Creek &gt; Southeast Utah &gt; Utah</td>\n",
       "      <td>https://www.mountainproject.com/route/105717661/elephant-man</td>\n",
       "      <td>2.5</td>\n",
       "      <td>NaN</td>\n",
       "      <td>Trad</td>\n",
       "      <td>5.10-</td>\n",
       "      <td>5.10-</td>\n",
       "      <td>1</td>\n",
       "      <td>80.0</td>\n",
       "      <td>...</td>\n",
       "      <td>0.627119</td>\n",
       "      <td>1.013652</td>\n",
       "      <td>1.527778</td>\n",
       "      <td>Lead         520\n",
       "TR           287\n",
       "Onsight      220\n",
       "Fell/Hung    114\n",
       "Follow        57\n",
       "Flash         39\n",
       "Redpoint      38\n",
       "Solo           3\n",
       "Pinkpoint      2\n",
       "Send           0\n",
       "Attempt        0\n",
       "dtype: int64</td>\n",
       "      <td>19.200000</td>\n",
       "      <td>0.014159</td>\n",
       "      <td>0.867417</td>\n",
       "      <td>297</td>\n",
       "      <td>0.219027</td>\n",
       "      <td>1.740046</td>\n",
       "    </tr>\n",
       "    <tr>\n",
       "      <th>678</th>\n",
       "      <td>Fission Quest</td>\n",
       "      <td>Sinbad Wall aka Nuclear Wall &gt; Indian Creek &gt; Southeast Utah &gt; Utah</td>\n",
       "      <td>https://www.mountainproject.com/route/116134631/fission-quest</td>\n",
       "      <td>2.6</td>\n",
       "      <td>NaN</td>\n",
       "      <td>Trad</td>\n",
       "      <td>5.10</td>\n",
       "      <td>5.10</td>\n",
       "      <td>1</td>\n",
       "      <td>45.0</td>\n",
       "      <td>...</td>\n",
       "      <td>0.716418</td>\n",
       "      <td>1.000000</td>\n",
       "      <td>1.000000</td>\n",
       "      <td>Lead         79\n",
       "TR           73\n",
       "Onsight      40\n",
       "Fell/Hung    17\n",
       "Flash         8\n",
       "Redpoint      2\n",
       "Follow        1\n",
       "Solo          0\n",
       "Pinkpoint     0\n",
       "Send          0\n",
       "Attempt       0\n",
       "dtype: int64</td>\n",
       "      <td>17.000000</td>\n",
       "      <td>0.092391</td>\n",
       "      <td>0.853765</td>\n",
       "      <td>49</td>\n",
       "      <td>0.266304</td>\n",
       "      <td>1.712660</td>\n",
       "    </tr>\n",
       "    <tr>\n",
       "      <th>675</th>\n",
       "      <td>Tiffany's Mall Tour</td>\n",
       "      <td>Sinbad Wall aka Nuclear Wall &gt; Indian Creek &gt; Southeast Utah &gt; Utah</td>\n",
       "      <td>https://www.mountainproject.com/route/107658941/tiffanys-mall-tour</td>\n",
       "      <td>3.2</td>\n",
       "      <td>NaN</td>\n",
       "      <td>Trad</td>\n",
       "      <td>5.10</td>\n",
       "      <td>5.10</td>\n",
       "      <td>1</td>\n",
       "      <td>100.0</td>\n",
       "      <td>...</td>\n",
       "      <td>0.979167</td>\n",
       "      <td>1.000000</td>\n",
       "      <td>NaN</td>\n",
       "      <td>Lead         54\n",
       "TR           44\n",
       "Onsight      40\n",
       "Follow        8\n",
       "Flash         7\n",
       "Fell/Hung     1\n",
       "Solo          0\n",
       "Redpoint      0\n",
       "Pinkpoint     0\n",
       "Send          0\n",
       "Attempt       0\n",
       "dtype: int64</td>\n",
       "      <td>10.000000</td>\n",
       "      <td>0.078125</td>\n",
       "      <td>0.821722</td>\n",
       "      <td>47</td>\n",
       "      <td>0.367188</td>\n",
       "      <td>1.648383</td>\n",
       "    </tr>\n",
       "    <tr>\n",
       "      <th>823</th>\n",
       "      <td>Unnamed 5.10</td>\n",
       "      <td>Habitado &gt; Indian Creek &gt; Southeast Utah &gt; Utah</td>\n",
       "      <td>https://www.mountainproject.com/route/117925164/unnamed-510</td>\n",
       "      <td>3.0</td>\n",
       "      <td>NaN</td>\n",
       "      <td>Trad</td>\n",
       "      <td>5.10</td>\n",
       "      <td>5.10</td>\n",
       "      <td>1</td>\n",
       "      <td>70.0</td>\n",
       "      <td>...</td>\n",
       "      <td>0.637931</td>\n",
       "      <td>1.000000</td>\n",
       "      <td>1.000000</td>\n",
       "      <td>Lead         70\n",
       "Onsight      34\n",
       "TR           31\n",
       "Fell/Hung    19\n",
       "Follow        6\n",
       "Flash         3\n",
       "Redpoint      2\n",
       "Solo          0\n",
       "Pinkpoint     0\n",
       "Send          0\n",
       "Attempt       0\n",
       "dtype: int64</td>\n",
       "      <td>13.250000</td>\n",
       "      <td>0.103516</td>\n",
       "      <td>0.798597</td>\n",
       "      <td>39</td>\n",
       "      <td>0.304688</td>\n",
       "      <td>1.601993</td>\n",
       "    </tr>\n",
       "    <tr>\n",
       "      <th>510</th>\n",
       "      <td>Sparkling Zygote</td>\n",
       "      <td>Sparks Wall &gt; Indian Creek &gt; Southeast Utah &gt; Utah</td>\n",
       "      <td>https://www.mountainproject.com/route/106293592/sparkling-zygote</td>\n",
       "      <td>2.8</td>\n",
       "      <td>NaN</td>\n",
       "      <td>Trad</td>\n",
       "      <td>5.10-</td>\n",
       "      <td>5.10-</td>\n",
       "      <td>1</td>\n",
       "      <td>60.0</td>\n",
       "      <td>...</td>\n",
       "      <td>0.814208</td>\n",
       "      <td>1.038462</td>\n",
       "      <td>1.300000</td>\n",
       "      <td>Lead         438\n",
       "Onsight      239\n",
       "TR           144\n",
       "Flash         59\n",
       "Fell/Hung     41\n",
       "Redpoint      24\n",
       "Follow        21\n",
       "Pinkpoint      3\n",
       "Solo           0\n",
       "Send           0\n",
       "Attempt        0\n",
       "dtype: int64</td>\n",
       "      <td>30.800000</td>\n",
       "      <td>0.040156</td>\n",
       "      <td>0.781972</td>\n",
       "      <td>324</td>\n",
       "      <td>0.422425</td>\n",
       "      <td>1.568642</td>\n",
       "    </tr>\n",
       "    <tr>\n",
       "      <th>685</th>\n",
       "      <td>Nuclear Fingers</td>\n",
       "      <td>Sinbad Wall aka Nuclear Wall &gt; Indian Creek &gt; Southeast Utah &gt; Utah</td>\n",
       "      <td>https://www.mountainproject.com/route/116134602/nuclear-fingers</td>\n",
       "      <td>3.1</td>\n",
       "      <td>NaN</td>\n",
       "      <td>Trad</td>\n",
       "      <td>5.11-</td>\n",
       "      <td>5.11-</td>\n",
       "      <td>1</td>\n",
       "      <td>45.0</td>\n",
       "      <td>...</td>\n",
       "      <td>0.317308</td>\n",
       "      <td>1.000000</td>\n",
       "      <td>1.347826</td>\n",
       "      <td>Lead         111\n",
       "TR            86\n",
       "Fell/Hung     48\n",
       "Onsight       28\n",
       "Redpoint      20\n",
       "Follow        12\n",
       "Flash          5\n",
       "Pinkpoint      3\n",
       "Solo           0\n",
       "Send           0\n",
       "Attempt        0\n",
       "dtype: int64</td>\n",
       "      <td>22.000000</td>\n",
       "      <td>0.088710</td>\n",
       "      <td>0.779042</td>\n",
       "      <td>56</td>\n",
       "      <td>0.225806</td>\n",
       "      <td>1.562765</td>\n",
       "    </tr>\n",
       "    <tr>\n",
       "      <th>139</th>\n",
       "      <td>Triple Jeopardy</td>\n",
       "      <td>Supercrack Buttress &gt; Indian Creek &gt; Southeast Utah &gt; Utah</td>\n",
       "      <td>https://www.mountainproject.com/route/105717421/triple-jeopardy</td>\n",
       "      <td>2.3</td>\n",
       "      <td>NaN</td>\n",
       "      <td>Trad</td>\n",
       "      <td>5.8</td>\n",
       "      <td>5.8</td>\n",
       "      <td>1</td>\n",
       "      <td>50.0</td>\n",
       "      <td>...</td>\n",
       "      <td>0.910000</td>\n",
       "      <td>1.032258</td>\n",
       "      <td>1.500000</td>\n",
       "      <td>Lead         116\n",
       "Onsight       80\n",
       "TR            50\n",
       "Flash         11\n",
       "Follow         8\n",
       "Fell/Hung      4\n",
       "Redpoint       4\n",
       "Solo           2\n",
       "Pinkpoint      1\n",
       "Send           0\n",
       "Attempt        0\n",
       "dtype: int64</td>\n",
       "      <td>15.800000</td>\n",
       "      <td>0.073488</td>\n",
       "      <td>0.765642</td>\n",
       "      <td>96</td>\n",
       "      <td>0.446512</td>\n",
       "      <td>1.535884</td>\n",
       "    </tr>\n",
       "    <tr>\n",
       "      <th>114</th>\n",
       "      <td>Wavy Gravy</td>\n",
       "      <td>Scarface &gt; Indian Creek &gt; Southeast Utah &gt; Utah</td>\n",
       "      <td>https://www.mountainproject.com/route/105717922/wavy-gravy</td>\n",
       "      <td>3.2</td>\n",
       "      <td>NaN</td>\n",
       "      <td>Trad</td>\n",
       "      <td>5.10</td>\n",
       "      <td>5.10</td>\n",
       "      <td>1</td>\n",
       "      <td>70.0</td>\n",
       "      <td>...</td>\n",
       "      <td>0.594480</td>\n",
       "      <td>1.050633</td>\n",
       "      <td>1.395349</td>\n",
       "      <td>Lead         547\n",
       "TR           247\n",
       "Onsight      220\n",
       "Fell/Hung    134\n",
       "Flash         60\n",
       "Follow        54\n",
       "Redpoint      54\n",
       "Pinkpoint      3\n",
       "Solo           0\n",
       "Send           0\n",
       "Attempt        0\n",
       "dtype: int64</td>\n",
       "      <td>9.600000</td>\n",
       "      <td>0.007132</td>\n",
       "      <td>0.761732</td>\n",
       "      <td>332</td>\n",
       "      <td>0.246657</td>\n",
       "      <td>1.528042</td>\n",
       "    </tr>\n",
       "    <tr>\n",
       "      <th>1144</th>\n",
       "      <td>Annunaki</td>\n",
       "      <td>The Optimator &gt; Indian Creek &gt; Southeast Utah &gt; Utah</td>\n",
       "      <td>https://www.mountainproject.com/route/105718786/annunaki</td>\n",
       "      <td>3.8</td>\n",
       "      <td>NaN</td>\n",
       "      <td>Trad</td>\n",
       "      <td>5.11+</td>\n",
       "      <td>5.11+</td>\n",
       "      <td>1</td>\n",
       "      <td>50.0</td>\n",
       "      <td>...</td>\n",
       "      <td>0.203947</td>\n",
       "      <td>1.076923</td>\n",
       "      <td>1.806723</td>\n",
       "      <td>Lead         502\n",
       "TR           365\n",
       "Fell/Hung    229\n",
       "Redpoint     131\n",
       "Onsight       58\n",
       "Flash         35\n",
       "Follow        25\n",
       "Pinkpoint      3\n",
       "Solo           0\n",
       "Send           0\n",
       "Attempt        0\n",
       "dtype: int64</td>\n",
       "      <td>19.400000</td>\n",
       "      <td>0.015709</td>\n",
       "      <td>0.757090</td>\n",
       "      <td>224</td>\n",
       "      <td>0.181377</td>\n",
       "      <td>1.518730</td>\n",
       "    </tr>\n",
       "    <tr>\n",
       "      <th>1353</th>\n",
       "      <td>Go Sparky Go</td>\n",
       "      <td>Sparks Wall &gt; Indian Creek &gt; Southeast Utah &gt; Utah</td>\n",
       "      <td>https://www.mountainproject.com/route/105888734/go-sparky-go</td>\n",
       "      <td>3.4</td>\n",
       "      <td>NaN</td>\n",
       "      <td>Trad</td>\n",
       "      <td>5.11b/c</td>\n",
       "      <td>5.11b/c</td>\n",
       "      <td>1</td>\n",
       "      <td>70.0</td>\n",
       "      <td>...</td>\n",
       "      <td>0.333333</td>\n",
       "      <td>1.025126</td>\n",
       "      <td>1.363636</td>\n",
       "      <td>Lead         401\n",
       "TR           209\n",
       "Fell/Hung    164\n",
       "Redpoint      82\n",
       "Flash         66\n",
       "Onsight       57\n",
       "Follow        21\n",
       "Solo           1\n",
       "Pinkpoint      0\n",
       "Send           0\n",
       "Attempt        0\n",
       "dtype: int64</td>\n",
       "      <td>32.000000</td>\n",
       "      <td>0.042272</td>\n",
       "      <td>0.655584</td>\n",
       "      <td>204</td>\n",
       "      <td>0.269485</td>\n",
       "      <td>1.315108</td>\n",
       "    </tr>\n",
       "    <tr>\n",
       "      <th>794</th>\n",
       "      <td>Crack Slabbath</td>\n",
       "      <td>The Beach &gt; Indian Creek &gt; Southeast Utah &gt; Utah</td>\n",
       "      <td>https://www.mountainproject.com/route/116094125/crack-slabbath</td>\n",
       "      <td>3.5</td>\n",
       "      <td>NaN</td>\n",
       "      <td>Trad</td>\n",
       "      <td>5.9+</td>\n",
       "      <td>5.9+</td>\n",
       "      <td>1</td>\n",
       "      <td>60.0</td>\n",
       "      <td>...</td>\n",
       "      <td>0.761905</td>\n",
       "      <td>1.057971</td>\n",
       "      <td>1.000000</td>\n",
       "      <td>Lead         102\n",
       "Onsight       49\n",
       "TR            37\n",
       "Flash         15\n",
       "Fell/Hung     11\n",
       "Redpoint       8\n",
       "Follow         5\n",
       "Pinkpoint      1\n",
       "Solo           0\n",
       "Send           0\n",
       "Attempt        0\n",
       "dtype: int64</td>\n",
       "      <td>11.500000</td>\n",
       "      <td>0.070552</td>\n",
       "      <td>0.622363</td>\n",
       "      <td>73</td>\n",
       "      <td>0.447853</td>\n",
       "      <td>1.248465</td>\n",
       "    </tr>\n",
       "    <tr>\n",
       "      <th>669</th>\n",
       "      <td>Meltdown</td>\n",
       "      <td>Sinbad Wall aka Nuclear Wall &gt; Indian Creek &gt; Southeast Utah &gt; Utah</td>\n",
       "      <td>https://www.mountainproject.com/route/116093642/meltdown</td>\n",
       "      <td>2.2</td>\n",
       "      <td>NaN</td>\n",
       "      <td>Trad</td>\n",
       "      <td>5.9+</td>\n",
       "      <td>5.9+</td>\n",
       "      <td>1</td>\n",
       "      <td>45.0</td>\n",
       "      <td>...</td>\n",
       "      <td>0.755102</td>\n",
       "      <td>1.027778</td>\n",
       "      <td>NaN</td>\n",
       "      <td>Lead         62\n",
       "TR           40\n",
       "Onsight      32\n",
       "Fell/Hung    12\n",
       "Follow        7\n",
       "Flash         5\n",
       "Solo          0\n",
       "Redpoint      0\n",
       "Pinkpoint     0\n",
       "Send          0\n",
       "Attempt       0\n",
       "dtype: int64</td>\n",
       "      <td>10.750000</td>\n",
       "      <td>0.080827</td>\n",
       "      <td>0.613166</td>\n",
       "      <td>37</td>\n",
       "      <td>0.278195</td>\n",
       "      <td>1.230016</td>\n",
       "    </tr>\n",
       "    <tr>\n",
       "      <th>24</th>\n",
       "      <td>Railroad Tracks</td>\n",
       "      <td>Battle of the Bulge Buttress &gt; Indian Creek &gt; Southeast Utah &gt; Utah</td>\n",
       "      <td>https://www.mountainproject.com/route/105821587/railroad-tracks</td>\n",
       "      <td>2.5</td>\n",
       "      <td>NaN</td>\n",
       "      <td>Trad</td>\n",
       "      <td>5.10</td>\n",
       "      <td>5.10</td>\n",
       "      <td>1</td>\n",
       "      <td>75.0</td>\n",
       "      <td>...</td>\n",
       "      <td>0.612500</td>\n",
       "      <td>1.030435</td>\n",
       "      <td>1.578947</td>\n",
       "      <td>Lead         403\n",
       "TR           218\n",
       "Onsight      155\n",
       "Fell/Hung     79\n",
       "Redpoint      45\n",
       "Flash         41\n",
       "Follow        34\n",
       "Solo           0\n",
       "Pinkpoint      0\n",
       "Send           0\n",
       "Attempt        0\n",
       "dtype: int64</td>\n",
       "      <td>16.600000</td>\n",
       "      <td>0.015146</td>\n",
       "      <td>0.601150</td>\n",
       "      <td>237</td>\n",
       "      <td>0.216241</td>\n",
       "      <td>1.205912</td>\n",
       "    </tr>\n",
       "    <tr>\n",
       "      <th>34</th>\n",
       "      <td>Cave Route</td>\n",
       "      <td>Battle of the Bulge Buttress &gt; Indian Creek &gt; Southeast Utah &gt; Utah</td>\n",
       "      <td>https://www.mountainproject.com/route/105717361/cave-route</td>\n",
       "      <td>3.5</td>\n",
       "      <td>NaN</td>\n",
       "      <td>Trad</td>\n",
       "      <td>5.10d</td>\n",
       "      <td>5.10d</td>\n",
       "      <td>1</td>\n",
       "      <td>70.0</td>\n",
       "      <td>...</td>\n",
       "      <td>0.430693</td>\n",
       "      <td>1.050691</td>\n",
       "      <td>1.479167</td>\n",
       "      <td>Lead         500\n",
       "TR           258\n",
       "Fell/Hung    175\n",
       "Onsight      141\n",
       "Redpoint      54\n",
       "Follow        33\n",
       "Flash         33\n",
       "Pinkpoint      1\n",
       "Solo           0\n",
       "Send           0\n",
       "Attempt        0\n",
       "dtype: int64</td>\n",
       "      <td>12.200000</td>\n",
       "      <td>0.009799</td>\n",
       "      <td>0.599878</td>\n",
       "      <td>228</td>\n",
       "      <td>0.183133</td>\n",
       "      <td>1.203361</td>\n",
       "    </tr>\n",
       "    <tr>\n",
       "      <th>236</th>\n",
       "      <td>South Face</td>\n",
       "      <td>South Sixshooter &gt; Indian Creek &gt; Southeast Utah &gt; Utah</td>\n",
       "      <td>https://www.mountainproject.com/route/105717562/south-face</td>\n",
       "      <td>2.8</td>\n",
       "      <td>NaN</td>\n",
       "      <td>Trad</td>\n",
       "      <td>5.7</td>\n",
       "      <td>5.7</td>\n",
       "      <td>3</td>\n",
       "      <td>70.0</td>\n",
       "      <td>...</td>\n",
       "      <td>0.939759</td>\n",
       "      <td>1.038339</td>\n",
       "      <td>1.300000</td>\n",
       "      <td>Lead         505\n",
       "Onsight      278\n",
       "Follow       157\n",
       "Flash         34\n",
       "Solo          29\n",
       "TR            13\n",
       "Redpoint      12\n",
       "Fell/Hung      7\n",
       "Pinkpoint      1\n",
       "Send           0\n",
       "Attempt        0\n",
       "dtype: int64</td>\n",
       "      <td>20.000000</td>\n",
       "      <td>0.017873</td>\n",
       "      <td>0.595465</td>\n",
       "      <td>325</td>\n",
       "      <td>0.290438</td>\n",
       "      <td>1.194509</td>\n",
       "    </tr>\n",
       "    <tr>\n",
       "      <th>796</th>\n",
       "      <td>Kelley Route 8</td>\n",
       "      <td>The Beach &gt; Indian Creek &gt; Southeast Utah &gt; Utah</td>\n",
       "      <td>https://www.mountainproject.com/route/116094137/kelley-route-8</td>\n",
       "      <td>3.0</td>\n",
       "      <td>NaN</td>\n",
       "      <td>Trad</td>\n",
       "      <td>5.10-</td>\n",
       "      <td>5.10-</td>\n",
       "      <td>1</td>\n",
       "      <td>45.0</td>\n",
       "      <td>...</td>\n",
       "      <td>0.890909</td>\n",
       "      <td>1.040816</td>\n",
       "      <td>1.500000</td>\n",
       "      <td>Lead         66\n",
       "Onsight      42\n",
       "TR           34\n",
       "Flash         7\n",
       "Follow        4\n",
       "Fell/Hung     4\n",
       "Redpoint      1\n",
       "Pinkpoint     1\n",
       "Solo          0\n",
       "Send          0\n",
       "Attempt       0\n",
       "dtype: int64</td>\n",
       "      <td>8.750000</td>\n",
       "      <td>0.068359</td>\n",
       "      <td>0.581089</td>\n",
       "      <td>51</td>\n",
       "      <td>0.398438</td>\n",
       "      <td>1.165671</td>\n",
       "    </tr>\n",
       "    <tr>\n",
       "      <th>1525</th>\n",
       "      <td>Overthruster</td>\n",
       "      <td>Trick or Treat Wall &gt; Indian Creek &gt; Southeast Utah &gt; Utah</td>\n",
       "      <td>https://www.mountainproject.com/route/116707845/overthruster</td>\n",
       "      <td>3.9</td>\n",
       "      <td>NaN</td>\n",
       "      <td>Trad</td>\n",
       "      <td>5.11</td>\n",
       "      <td>5.11</td>\n",
       "      <td>1</td>\n",
       "      <td>70.0</td>\n",
       "      <td>...</td>\n",
       "      <td>0.701754</td>\n",
       "      <td>1.000000</td>\n",
       "      <td>1.500000</td>\n",
       "      <td>Lead         57\n",
       "Onsight      33\n",
       "TR           28\n",
       "Fell/Hung    15\n",
       "Follow        7\n",
       "Flash         7\n",
       "Redpoint      2\n",
       "Solo          1\n",
       "Pinkpoint     0\n",
       "Send          0\n",
       "Attempt       0\n",
       "dtype: int64</td>\n",
       "      <td>8.750000</td>\n",
       "      <td>0.073529</td>\n",
       "      <td>0.573642</td>\n",
       "      <td>42</td>\n",
       "      <td>0.352941</td>\n",
       "      <td>1.150731</td>\n",
       "    </tr>\n",
       "    <tr>\n",
       "      <th>7</th>\n",
       "      <td>Owl Crack</td>\n",
       "      <td>Donnelly Canyon &gt; Indian Creek &gt; Southeast Utah &gt; Utah</td>\n",
       "      <td>https://www.mountainproject.com/route/107653915/owl-crack</td>\n",
       "      <td>3.1</td>\n",
       "      <td>NaN</td>\n",
       "      <td>Trad</td>\n",
       "      <td>5.10</td>\n",
       "      <td>5.10</td>\n",
       "      <td>1</td>\n",
       "      <td>80.0</td>\n",
       "      <td>...</td>\n",
       "      <td>0.625000</td>\n",
       "      <td>1.038760</td>\n",
       "      <td>1.600000</td>\n",
       "      <td>Lead         216\n",
       "Onsight       99\n",
       "TR            92\n",
       "Fell/Hung     57\n",
       "Follow        27\n",
       "Flash         21\n",
       "Redpoint      14\n",
       "Pinkpoint      1\n",
       "Solo           0\n",
       "Send           0\n",
       "Attempt        0\n",
       "dtype: int64</td>\n",
       "      <td>21.400000</td>\n",
       "      <td>0.054592</td>\n",
       "      <td>0.560574</td>\n",
       "      <td>134</td>\n",
       "      <td>0.341837</td>\n",
       "      <td>1.124517</td>\n",
       "    </tr>\n",
       "    <tr>\n",
       "      <th>352</th>\n",
       "      <td>Rochambeau</td>\n",
       "      <td>Way Rambo &gt; Indian Creek &gt; Southeast Utah &gt; Utah</td>\n",
       "      <td>https://www.mountainproject.com/route/105718441/rochambeau</td>\n",
       "      <td>2.6</td>\n",
       "      <td>NaN</td>\n",
       "      <td>Trad</td>\n",
       "      <td>5.9</td>\n",
       "      <td>5.9</td>\n",
       "      <td>1</td>\n",
       "      <td>70.0</td>\n",
       "      <td>...</td>\n",
       "      <td>0.817629</td>\n",
       "      <td>1.037801</td>\n",
       "      <td>1.310345</td>\n",
       "      <td>Lead         426\n",
       "Onsight      222\n",
       "TR           206\n",
       "Flash         47\n",
       "Follow        33\n",
       "Redpoint      30\n",
       "Fell/Hung     26\n",
       "Pinkpoint      4\n",
       "Solo           0\n",
       "Send           0\n",
       "Attempt        0\n",
       "dtype: int64</td>\n",
       "      <td>4.800000</td>\n",
       "      <td>0.004598</td>\n",
       "      <td>0.520176</td>\n",
       "      <td>302</td>\n",
       "      <td>0.289272</td>\n",
       "      <td>1.043477</td>\n",
       "    </tr>\n",
       "    <tr>\n",
       "      <th>248</th>\n",
       "      <td>Neat</td>\n",
       "      <td>The Optimator &gt; Indian Creek &gt; Southeast Utah &gt; Utah</td>\n",
       "      <td>https://www.mountainproject.com/route/105718657/neat</td>\n",
       "      <td>3.2</td>\n",
       "      <td>NaN</td>\n",
       "      <td>Trad</td>\n",
       "      <td>5.10</td>\n",
       "      <td>5.10</td>\n",
       "      <td>1</td>\n",
       "      <td>100.0</td>\n",
       "      <td>...</td>\n",
       "      <td>0.684385</td>\n",
       "      <td>1.012821</td>\n",
       "      <td>1.600000</td>\n",
       "      <td>Lead         342\n",
       "TR           181\n",
       "Onsight      165\n",
       "Fell/Hung     62\n",
       "Flash         41\n",
       "Redpoint      32\n",
       "Follow        27\n",
       "Pinkpoint      1\n",
       "Solo           0\n",
       "Send           0\n",
       "Attempt        0\n",
       "dtype: int64</td>\n",
       "      <td>12.200000</td>\n",
       "      <td>0.013754</td>\n",
       "      <td>0.462629</td>\n",
       "      <td>237</td>\n",
       "      <td>0.267193</td>\n",
       "      <td>0.928039</td>\n",
       "    </tr>\n",
       "    <tr>\n",
       "      <th>632</th>\n",
       "      <td>Hand Solo</td>\n",
       "      <td>Selfish Wall &gt; Indian Creek &gt; Southeast Utah &gt; Utah</td>\n",
       "      <td>https://www.mountainproject.com/route/106720518/hand-solo</td>\n",
       "      <td>2.6</td>\n",
       "      <td>NaN</td>\n",
       "      <td>Trad</td>\n",
       "      <td>5.9</td>\n",
       "      <td>5.9</td>\n",
       "      <td>1</td>\n",
       "      <td>30.0</td>\n",
       "      <td>...</td>\n",
       "      <td>0.722857</td>\n",
       "      <td>1.091575</td>\n",
       "      <td>1.451613</td>\n",
       "      <td>Lead         436\n",
       "Onsight      214\n",
       "TR           149\n",
       "Fell/Hung     52\n",
       "Redpoint      43\n",
       "Flash         39\n",
       "Follow        23\n",
       "Solo          11\n",
       "Pinkpoint      2\n",
       "Send           0\n",
       "Attempt        0\n",
       "dtype: int64</td>\n",
       "      <td>11.400000</td>\n",
       "      <td>0.014485</td>\n",
       "      <td>0.434729</td>\n",
       "      <td>298</td>\n",
       "      <td>0.378653</td>\n",
       "      <td>0.872070</td>\n",
       "    </tr>\n",
       "    <tr>\n",
       "      <th>668</th>\n",
       "      <td>Hot Sex</td>\n",
       "      <td>Sinbad Wall aka Nuclear Wall &gt; Indian Creek &gt; Southeast Utah &gt; Utah</td>\n",
       "      <td>https://www.mountainproject.com/route/106950462/hot-sex</td>\n",
       "      <td>2.8</td>\n",
       "      <td>NaN</td>\n",
       "      <td>Trad</td>\n",
       "      <td>5.9</td>\n",
       "      <td>5.9</td>\n",
       "      <td>1</td>\n",
       "      <td>45.0</td>\n",
       "      <td>...</td>\n",
       "      <td>0.709877</td>\n",
       "      <td>1.031496</td>\n",
       "      <td>1.250000</td>\n",
       "      <td>Lead         194\n",
       "Onsight       92\n",
       "TR            89\n",
       "Fell/Hung     31\n",
       "Flash         23\n",
       "Redpoint      16\n",
       "Follow        10\n",
       "Solo           0\n",
       "Pinkpoint      0\n",
       "Send           0\n",
       "Attempt        0\n",
       "dtype: int64</td>\n",
       "      <td>17.000000</td>\n",
       "      <td>0.045822</td>\n",
       "      <td>0.431930</td>\n",
       "      <td>131</td>\n",
       "      <td>0.353100</td>\n",
       "      <td>0.866455</td>\n",
       "    </tr>\n",
       "    <tr>\n",
       "      <th>527</th>\n",
       "      <td>Jump Start</td>\n",
       "      <td>Sparks Wall &gt; Indian Creek &gt; Southeast Utah &gt; Utah</td>\n",
       "      <td>https://www.mountainproject.com/route/107883640/jump-start</td>\n",
       "      <td>2.9</td>\n",
       "      <td>NaN</td>\n",
       "      <td>Trad</td>\n",
       "      <td>5.11-</td>\n",
       "      <td>5.11-</td>\n",
       "      <td>1</td>\n",
       "      <td>60.0</td>\n",
       "      <td>...</td>\n",
       "      <td>0.565217</td>\n",
       "      <td>1.000000</td>\n",
       "      <td>1.000000</td>\n",
       "      <td>Lead         54\n",
       "TR           39\n",
       "Onsight      20\n",
       "Fell/Hung    13\n",
       "Follow        7\n",
       "Redpoint      7\n",
       "Flash         6\n",
       "Solo          0\n",
       "Pinkpoint     0\n",
       "Send          0\n",
       "Attempt       0\n",
       "dtype: int64</td>\n",
       "      <td>9.400000</td>\n",
       "      <td>0.064828</td>\n",
       "      <td>0.388016</td>\n",
       "      <td>33</td>\n",
       "      <td>0.227586</td>\n",
       "      <td>0.778365</td>\n",
       "    </tr>\n",
       "    <tr>\n",
       "      <th>155</th>\n",
       "      <td>Wild Works of Fire</td>\n",
       "      <td>Supercrack Buttress &gt; Indian Creek &gt; Southeast Utah &gt; Utah</td>\n",
       "      <td>https://www.mountainproject.com/route/105717886/wild-works-of-fire</td>\n",
       "      <td>2.9</td>\n",
       "      <td>NaN</td>\n",
       "      <td>Trad</td>\n",
       "      <td>5.10</td>\n",
       "      <td>5.10</td>\n",
       "      <td>1</td>\n",
       "      <td>80.0</td>\n",
       "      <td>...</td>\n",
       "      <td>0.698630</td>\n",
       "      <td>1.008772</td>\n",
       "      <td>1.500000</td>\n",
       "      <td>TR           170\n",
       "Lead         169\n",
       "Onsight       87\n",
       "Fell/Hung     31\n",
       "Follow        21\n",
       "Flash         15\n",
       "Redpoint      11\n",
       "Pinkpoint      2\n",
       "Solo           0\n",
       "Send           0\n",
       "Attempt        0\n",
       "dtype: int64</td>\n",
       "      <td>13.200000</td>\n",
       "      <td>0.025882</td>\n",
       "      <td>0.384348</td>\n",
       "      <td>115</td>\n",
       "      <td>0.225490</td>\n",
       "      <td>0.771007</td>\n",
       "    </tr>\n",
       "    <tr>\n",
       "      <th>264</th>\n",
       "      <td>Soul Fire</td>\n",
       "      <td>The Optimator &gt; Indian Creek &gt; Southeast Utah &gt; Utah</td>\n",
       "      <td>https://www.mountainproject.com/route/105718753/soul-fire</td>\n",
       "      <td>3.3</td>\n",
       "      <td>NaN</td>\n",
       "      <td>Trad</td>\n",
       "      <td>5.11-</td>\n",
       "      <td>5.11-</td>\n",
       "      <td>1</td>\n",
       "      <td>80.0</td>\n",
       "      <td>...</td>\n",
       "      <td>0.450311</td>\n",
       "      <td>1.027027</td>\n",
       "      <td>1.488889</td>\n",
       "      <td>Lead         374\n",
       "TR           156\n",
       "Fell/Hung    129\n",
       "Onsight      109\n",
       "Redpoint      48\n",
       "Flash         36\n",
       "Follow        14\n",
       "Solo           0\n",
       "Pinkpoint      0\n",
       "Send           0\n",
       "Attempt        0\n",
       "dtype: int64</td>\n",
       "      <td>20.600000</td>\n",
       "      <td>0.025369</td>\n",
       "      <td>0.371495</td>\n",
       "      <td>190</td>\n",
       "      <td>0.233990</td>\n",
       "      <td>0.745223</td>\n",
       "    </tr>\n",
       "    <tr>\n",
       "      <th>201</th>\n",
       "      <td>Tom Cat</td>\n",
       "      <td>Cat Wall &gt; Indian Creek &gt; Southeast Utah &gt; Utah</td>\n",
       "      <td>https://www.mountainproject.com/route/105718192/tom-cat</td>\n",
       "      <td>3.2</td>\n",
       "      <td>NaN</td>\n",
       "      <td>Trad</td>\n",
       "      <td>5.10</td>\n",
       "      <td>5.10</td>\n",
       "      <td>1</td>\n",
       "      <td>100.0</td>\n",
       "      <td>...</td>\n",
       "      <td>0.753676</td>\n",
       "      <td>1.032864</td>\n",
       "      <td>2.076923</td>\n",
       "      <td>Lead         330\n",
       "Onsight      170\n",
       "TR           147\n",
       "Fell/Hung     49\n",
       "Flash         35\n",
       "Follow        21\n",
       "Redpoint      16\n",
       "Pinkpoint      1\n",
       "Send           1\n",
       "Solo           0\n",
       "Attempt        0\n",
       "dtype: int64</td>\n",
       "      <td>13.000000</td>\n",
       "      <td>0.016049</td>\n",
       "      <td>0.363212</td>\n",
       "      <td>220</td>\n",
       "      <td>0.271605</td>\n",
       "      <td>0.728607</td>\n",
       "    </tr>\n",
       "    <tr>\n",
       "      <th>507</th>\n",
       "      <td>Skraps</td>\n",
       "      <td>Sparks Wall &gt; Indian Creek &gt; Southeast Utah &gt; Utah</td>\n",
       "      <td>https://www.mountainproject.com/route/105893726/skraps</td>\n",
       "      <td>2.9</td>\n",
       "      <td>NaN</td>\n",
       "      <td>Trad</td>\n",
       "      <td>5.9</td>\n",
       "      <td>5.9</td>\n",
       "      <td>1</td>\n",
       "      <td>70.0</td>\n",
       "      <td>...</td>\n",
       "      <td>0.787879</td>\n",
       "      <td>1.009174</td>\n",
       "      <td>1.500000</td>\n",
       "      <td>Lead         151\n",
       "Onsight       91\n",
       "TR            78\n",
       "Fell/Hung     21\n",
       "Flash         13\n",
       "Follow         8\n",
       "Redpoint       7\n",
       "Solo           0\n",
       "Pinkpoint      0\n",
       "Send           0\n",
       "Attempt        0\n",
       "dtype: int64</td>\n",
       "      <td>13.000000</td>\n",
       "      <td>0.041534</td>\n",
       "      <td>0.358235</td>\n",
       "      <td>110</td>\n",
       "      <td>0.351438</td>\n",
       "      <td>0.718623</td>\n",
       "    </tr>\n",
       "    <tr>\n",
       "      <th>111</th>\n",
       "      <td>Italian Combo</td>\n",
       "      <td>Scarface &gt; Indian Creek &gt; Southeast Utah &gt; Utah</td>\n",
       "      <td>https://www.mountainproject.com/route/108787826/italian-combo</td>\n",
       "      <td>2.2</td>\n",
       "      <td>NaN</td>\n",
       "      <td>Trad</td>\n",
       "      <td>5.9+</td>\n",
       "      <td>5.9+</td>\n",
       "      <td>1</td>\n",
       "      <td>50.0</td>\n",
       "      <td>...</td>\n",
       "      <td>0.660777</td>\n",
       "      <td>1.040609</td>\n",
       "      <td>1.230769</td>\n",
       "      <td>Lead         332\n",
       "Onsight      163\n",
       "TR           142\n",
       "Fell/Hung     77\n",
       "Flash         24\n",
       "Follow        22\n",
       "Redpoint      19\n",
       "Solo           0\n",
       "Pinkpoint      0\n",
       "Send           0\n",
       "Attempt        0\n",
       "dtype: int64</td>\n",
       "      <td>15.800000</td>\n",
       "      <td>0.021823</td>\n",
       "      <td>0.358204</td>\n",
       "      <td>205</td>\n",
       "      <td>0.283149</td>\n",
       "      <td>0.718560</td>\n",
       "    </tr>\n",
       "    <tr>\n",
       "      <th>677</th>\n",
       "      <td>Act or React</td>\n",
       "      <td>Sinbad Wall aka Nuclear Wall &gt; Indian Creek &gt; Southeast Utah &gt; Utah</td>\n",
       "      <td>https://www.mountainproject.com/route/109698733/act-or-react</td>\n",
       "      <td>2.6</td>\n",
       "      <td>NaN</td>\n",
       "      <td>Trad</td>\n",
       "      <td>5.10</td>\n",
       "      <td>5.10</td>\n",
       "      <td>1</td>\n",
       "      <td>70.0</td>\n",
       "      <td>...</td>\n",
       "      <td>0.555556</td>\n",
       "      <td>1.071429</td>\n",
       "      <td>1.500000</td>\n",
       "      <td>Lead         48\n",
       "TR           33\n",
       "Onsight      21\n",
       "Fell/Hung    15\n",
       "Follow        5\n",
       "Redpoint      5\n",
       "Flash         4\n",
       "Solo          0\n",
       "Pinkpoint     0\n",
       "Send          0\n",
       "Attempt       0\n",
       "dtype: int64</td>\n",
       "      <td>6.000000</td>\n",
       "      <td>0.057143</td>\n",
       "      <td>0.336221</td>\n",
       "      <td>30</td>\n",
       "      <td>0.285714</td>\n",
       "      <td>0.674462</td>\n",
       "    </tr>\n",
       "    <tr>\n",
       "      <th>536</th>\n",
       "      <td>Bunny Slope</td>\n",
       "      <td>Critic's Choice &gt; Indian Creek &gt; Southeast Utah &gt; Utah</td>\n",
       "      <td>https://www.mountainproject.com/route/105930583/bunny-slope</td>\n",
       "      <td>3.6</td>\n",
       "      <td>NaN</td>\n",
       "      <td>Trad</td>\n",
       "      <td>5.9</td>\n",
       "      <td>5.9</td>\n",
       "      <td>1</td>\n",
       "      <td>140.0</td>\n",
       "      <td>...</td>\n",
       "      <td>0.718894</td>\n",
       "      <td>1.006250</td>\n",
       "      <td>1.333333</td>\n",
       "      <td>Lead         278\n",
       "Onsight      136\n",
       "TR           126\n",
       "Fell/Hung     54\n",
       "Follow        42\n",
       "Flash         20\n",
       "Redpoint       6\n",
       "Solo           1\n",
       "Pinkpoint      1\n",
       "Send           0\n",
       "Attempt        0\n",
       "dtype: int64</td>\n",
       "      <td>16.200000</td>\n",
       "      <td>0.025352</td>\n",
       "      <td>0.327899</td>\n",
       "      <td>161</td>\n",
       "      <td>0.251956</td>\n",
       "      <td>0.657768</td>\n",
       "    </tr>\n",
       "    <tr>\n",
       "      <th>1351</th>\n",
       "      <td>Jupiter Crack</td>\n",
       "      <td>Sparks Wall &gt; Indian Creek &gt; Southeast Utah &gt; Utah</td>\n",
       "      <td>https://www.mountainproject.com/route/107516399/jupiter-crack</td>\n",
       "      <td>3.9</td>\n",
       "      <td>NaN</td>\n",
       "      <td>Trad</td>\n",
       "      <td>5.11</td>\n",
       "      <td>5.11</td>\n",
       "      <td>1</td>\n",
       "      <td>130.0</td>\n",
       "      <td>...</td>\n",
       "      <td>0.674797</td>\n",
       "      <td>1.055556</td>\n",
       "      <td>1.619048</td>\n",
       "      <td>Lead         260\n",
       "Onsight      125\n",
       "Follow        68\n",
       "TR            66\n",
       "Fell/Hung     56\n",
       "Flash         41\n",
       "Redpoint      20\n",
       "Pinkpoint      4\n",
       "Solo           0\n",
       "Send           0\n",
       "Attempt        0\n",
       "dtype: int64</td>\n",
       "      <td>10.400000</td>\n",
       "      <td>0.021399</td>\n",
       "      <td>0.327630</td>\n",
       "      <td>190</td>\n",
       "      <td>0.390947</td>\n",
       "      <td>0.657230</td>\n",
       "    </tr>\n",
       "    <tr>\n",
       "      <th>26</th>\n",
       "      <td>The Mayes</td>\n",
       "      <td>Battle of the Bulge Buttress &gt; Indian Creek &gt; Southeast Utah &gt; Utah</td>\n",
       "      <td>https://www.mountainproject.com/route/105871554/the-mayes</td>\n",
       "      <td>2.4</td>\n",
       "      <td>NaN</td>\n",
       "      <td>Trad</td>\n",
       "      <td>5.10</td>\n",
       "      <td>5.10</td>\n",
       "      <td>1</td>\n",
       "      <td>50.0</td>\n",
       "      <td>...</td>\n",
       "      <td>0.650350</td>\n",
       "      <td>1.039604</td>\n",
       "      <td>1.555556</td>\n",
       "      <td>Lead         165\n",
       "TR           103\n",
       "Onsight       73\n",
       "Fell/Hung     38\n",
       "Flash         20\n",
       "Follow        13\n",
       "Redpoint      12\n",
       "Solo           0\n",
       "Pinkpoint      0\n",
       "Send           0\n",
       "Attempt        0\n",
       "dtype: int64</td>\n",
       "      <td>16.000000</td>\n",
       "      <td>0.038647</td>\n",
       "      <td>0.320362</td>\n",
       "      <td>105</td>\n",
       "      <td>0.253623</td>\n",
       "      <td>0.642650</td>\n",
       "    </tr>\n",
       "    <tr>\n",
       "      <th>1258</th>\n",
       "      <td>Way Rambo</td>\n",
       "      <td>Way Rambo &gt; Indian Creek &gt; Southeast Utah &gt; Utah</td>\n",
       "      <td>https://www.mountainproject.com/route/105718642/way-rambo</td>\n",
       "      <td>3.8</td>\n",
       "      <td>NaN</td>\n",
       "      <td>Trad</td>\n",
       "      <td>5.12-</td>\n",
       "      <td>5.12-</td>\n",
       "      <td>1</td>\n",
       "      <td>100.0</td>\n",
       "      <td>...</td>\n",
       "      <td>0.061644</td>\n",
       "      <td>1.026316</td>\n",
       "      <td>1.474576</td>\n",
       "      <td>Lead         322\n",
       "TR           262\n",
       "Fell/Hung    213\n",
       "Redpoint      60\n",
       "Follow        29\n",
       "Onsight       12\n",
       "Flash          6\n",
       "Pinkpoint      1\n",
       "Solo           0\n",
       "Send           0\n",
       "Attempt        0\n",
       "dtype: int64</td>\n",
       "      <td>16.200000</td>\n",
       "      <td>0.018859</td>\n",
       "      <td>0.320160</td>\n",
       "      <td>78</td>\n",
       "      <td>0.090803</td>\n",
       "      <td>0.642243</td>\n",
       "    </tr>\n",
       "    <tr>\n",
       "      <th>171</th>\n",
       "      <td>Jolly Rancher</td>\n",
       "      <td>Pistol Whipped &gt; Indian Creek &gt; Southeast Utah &gt; Utah</td>\n",
       "      <td>https://www.mountainproject.com/route/105717571/jolly-rancher</td>\n",
       "      <td>3.9</td>\n",
       "      <td>NaN</td>\n",
       "      <td>Trad</td>\n",
       "      <td>5.10</td>\n",
       "      <td>5.10</td>\n",
       "      <td>1</td>\n",
       "      <td>130.0</td>\n",
       "      <td>...</td>\n",
       "      <td>0.613115</td>\n",
       "      <td>1.029703</td>\n",
       "      <td>1.950000</td>\n",
       "      <td>Lead         354\n",
       "TR           160\n",
       "Onsight      147\n",
       "Fell/Hung     94\n",
       "Flash         40\n",
       "Redpoint      24\n",
       "Follow        23\n",
       "Solo           0\n",
       "Pinkpoint      0\n",
       "Send           0\n",
       "Attempt        0\n",
       "dtype: int64</td>\n",
       "      <td>10.800000</td>\n",
       "      <td>0.013300</td>\n",
       "      <td>0.310200</td>\n",
       "      <td>208</td>\n",
       "      <td>0.256158</td>\n",
       "      <td>0.622264</td>\n",
       "    </tr>\n",
       "    <tr>\n",
       "      <th>107</th>\n",
       "      <td>Spam</td>\n",
       "      <td>Scarface &gt; Indian Creek &gt; Southeast Utah &gt; Utah</td>\n",
       "      <td>https://www.mountainproject.com/route/106609255/spam</td>\n",
       "      <td>2.2</td>\n",
       "      <td>NaN</td>\n",
       "      <td>Trad</td>\n",
       "      <td>5.9</td>\n",
       "      <td>5.9</td>\n",
       "      <td>1</td>\n",
       "      <td>60.0</td>\n",
       "      <td>...</td>\n",
       "      <td>0.836957</td>\n",
       "      <td>1.055901</td>\n",
       "      <td>1.444444</td>\n",
       "      <td>Lead         217\n",
       "Onsight      128\n",
       "TR            78\n",
       "Flash         26\n",
       "Redpoint      15\n",
       "Follow        14\n",
       "Fell/Hung     14\n",
       "Pinkpoint      1\n",
       "Solo           0\n",
       "Send           0\n",
       "Attempt        0\n",
       "dtype: int64</td>\n",
       "      <td>13.400000</td>\n",
       "      <td>0.029778</td>\n",
       "      <td>0.306079</td>\n",
       "      <td>170</td>\n",
       "      <td>0.377778</td>\n",
       "      <td>0.613997</td>\n",
       "    </tr>\n",
       "    <tr>\n",
       "      <th>21</th>\n",
       "      <td>Unnamed 5.10 LF flake in deep corner</td>\n",
       "      <td>Battle of the Bulge Buttress &gt; Indian Creek &gt; Southeast Utah &gt; Utah</td>\n",
       "      <td>https://www.mountainproject.com/route/105867613/unnamed-510-lf-flake-in-deep-corner</td>\n",
       "      <td>1.7</td>\n",
       "      <td>NaN</td>\n",
       "      <td>Trad</td>\n",
       "      <td>5.9</td>\n",
       "      <td>5.9</td>\n",
       "      <td>1</td>\n",
       "      <td>70.0</td>\n",
       "      <td>...</td>\n",
       "      <td>0.819383</td>\n",
       "      <td>1.078049</td>\n",
       "      <td>1.720000</td>\n",
       "      <td>Lead         281\n",
       "Onsight      154\n",
       "TR           139\n",
       "Redpoint      33\n",
       "Flash         32\n",
       "Follow        14\n",
       "Fell/Hung      5\n",
       "Pinkpoint      3\n",
       "Solo           1\n",
       "Send           0\n",
       "Attempt        0\n",
       "dtype: int64</td>\n",
       "      <td>7.200000</td>\n",
       "      <td>0.010242</td>\n",
       "      <td>0.289075</td>\n",
       "      <td>221</td>\n",
       "      <td>0.314367</td>\n",
       "      <td>0.579887</td>\n",
       "    </tr>\n",
       "    <tr>\n",
       "      <th>356</th>\n",
       "      <td>Fuzz</td>\n",
       "      <td>Way Rambo &gt; Indian Creek &gt; Southeast Utah &gt; Utah</td>\n",
       "      <td>https://www.mountainproject.com/route/105718768/fuzz</td>\n",
       "      <td>3.3</td>\n",
       "      <td>NaN</td>\n",
       "      <td>Trad</td>\n",
       "      <td>5.10</td>\n",
       "      <td>5.10</td>\n",
       "      <td>1</td>\n",
       "      <td>115.0</td>\n",
       "      <td>...</td>\n",
       "      <td>0.612745</td>\n",
       "      <td>1.020979</td>\n",
       "      <td>1.421053</td>\n",
       "      <td>Lead         237\n",
       "TR           188\n",
       "Onsight       98\n",
       "Fell/Hung     58\n",
       "Flash         27\n",
       "Follow        25\n",
       "Redpoint      20\n",
       "Pinkpoint      1\n",
       "Solo           0\n",
       "Send           0\n",
       "Attempt        0\n",
       "dtype: int64</td>\n",
       "      <td>6.400000</td>\n",
       "      <td>0.008743</td>\n",
       "      <td>0.269586</td>\n",
       "      <td>146</td>\n",
       "      <td>0.199454</td>\n",
       "      <td>0.540793</td>\n",
       "    </tr>\n",
       "    <tr>\n",
       "      <th>152</th>\n",
       "      <td>Gorilla</td>\n",
       "      <td>Supercrack Buttress &gt; Indian Creek &gt; Southeast Utah &gt; Utah</td>\n",
       "      <td>https://www.mountainproject.com/route/105717424/gorilla</td>\n",
       "      <td>3.1</td>\n",
       "      <td>NaN</td>\n",
       "      <td>Trad</td>\n",
       "      <td>5.10</td>\n",
       "      <td>5.10</td>\n",
       "      <td>1</td>\n",
       "      <td>70.0</td>\n",
       "      <td>...</td>\n",
       "      <td>0.650000</td>\n",
       "      <td>1.019608</td>\n",
       "      <td>1.666667</td>\n",
       "      <td>Lead         258\n",
       "TR           168\n",
       "Onsight      119\n",
       "Fell/Hung     62\n",
       "Flash         24\n",
       "Follow        21\n",
       "Redpoint      15\n",
       "Solo           0\n",
       "Pinkpoint      0\n",
       "Send           0\n",
       "Attempt        0\n",
       "dtype: int64</td>\n",
       "      <td>9.000000</td>\n",
       "      <td>0.012483</td>\n",
       "      <td>0.259785</td>\n",
       "      <td>156</td>\n",
       "      <td>0.216366</td>\n",
       "      <td>0.521131</td>\n",
       "    </tr>\n",
       "    <tr>\n",
       "      <th>130</th>\n",
       "      <td>Vienna</td>\n",
       "      <td>Scarface &gt; Indian Creek &gt; Southeast Utah &gt; Utah</td>\n",
       "      <td>https://www.mountainproject.com/route/106787270/vienna</td>\n",
       "      <td>2.6</td>\n",
       "      <td>NaN</td>\n",
       "      <td>Trad</td>\n",
       "      <td>5.11-</td>\n",
       "      <td>5.11-</td>\n",
       "      <td>1</td>\n",
       "      <td>60.0</td>\n",
       "      <td>...</td>\n",
       "      <td>0.345455</td>\n",
       "      <td>1.046512</td>\n",
       "      <td>2.166667</td>\n",
       "      <td>Lead         127\n",
       "TR            82\n",
       "Fell/Hung     65\n",
       "Onsight       32\n",
       "Flash          6\n",
       "Redpoint       6\n",
       "Follow         5\n",
       "Pinkpoint      1\n",
       "Solo           0\n",
       "Send           0\n",
       "Attempt        0\n",
       "dtype: int64</td>\n",
       "      <td>16.600000</td>\n",
       "      <td>0.059286</td>\n",
       "      <td>0.257331</td>\n",
       "      <td>45</td>\n",
       "      <td>0.160714</td>\n",
       "      <td>0.516208</td>\n",
       "    </tr>\n",
       "    <tr>\n",
       "      <th>278</th>\n",
       "      <td>Town</td>\n",
       "      <td>4X4 &gt; Indian Creek &gt; Southeast Utah &gt; Utah</td>\n",
       "      <td>https://www.mountainproject.com/route/105718396/town</td>\n",
       "      <td>2.5</td>\n",
       "      <td>NaN</td>\n",
       "      <td>Trad</td>\n",
       "      <td>5.10d</td>\n",
       "      <td>5.10d</td>\n",
       "      <td>1</td>\n",
       "      <td>70.0</td>\n",
       "      <td>...</td>\n",
       "      <td>0.575758</td>\n",
       "      <td>1.000000</td>\n",
       "      <td>1.500000</td>\n",
       "      <td>TR           106\n",
       "Lead          41\n",
       "Onsight       18\n",
       "Fell/Hung     12\n",
       "Follow         6\n",
       "Flash          1\n",
       "Redpoint       1\n",
       "Pinkpoint      1\n",
       "Solo           0\n",
       "Send           0\n",
       "Attempt        0\n",
       "dtype: int64</td>\n",
       "      <td>7.600000</td>\n",
       "      <td>0.033778</td>\n",
       "      <td>0.255514</td>\n",
       "      <td>21</td>\n",
       "      <td>0.093333</td>\n",
       "      <td>0.512564</td>\n",
       "    </tr>\n",
       "    <tr>\n",
       "      <th>108</th>\n",
       "      <td>Fertile Crescent</td>\n",
       "      <td>Scarface &gt; Indian Creek &gt; Southeast Utah &gt; Utah</td>\n",
       "      <td>https://www.mountainproject.com/route/106058069/fertile-crescent</td>\n",
       "      <td>2.5</td>\n",
       "      <td>NaN</td>\n",
       "      <td>Trad</td>\n",
       "      <td>5.9</td>\n",
       "      <td>5.9</td>\n",
       "      <td>1</td>\n",
       "      <td>80.0</td>\n",
       "      <td>...</td>\n",
       "      <td>0.722222</td>\n",
       "      <td>1.014286</td>\n",
       "      <td>1.600000</td>\n",
       "      <td>Lead         108\n",
       "TR            74\n",
       "Onsight       60\n",
       "Fell/Hung     19\n",
       "Follow         9\n",
       "Redpoint       6\n",
       "Flash          5\n",
       "Solo           0\n",
       "Pinkpoint      0\n",
       "Send           0\n",
       "Attempt        0\n",
       "dtype: int64</td>\n",
       "      <td>11.000000</td>\n",
       "      <td>0.040741</td>\n",
       "      <td>0.252866</td>\n",
       "      <td>71</td>\n",
       "      <td>0.262963</td>\n",
       "      <td>0.507252</td>\n",
       "    </tr>\n",
       "    <tr>\n",
       "      <th>900</th>\n",
       "      <td>Naked and the Dead Variation</td>\n",
       "      <td>Donnelly Canyon &gt; Indian Creek &gt; Southeast Utah &gt; Utah</td>\n",
       "      <td>https://www.mountainproject.com/route/105943086/naked-and-the-dead-variation</td>\n",
       "      <td>2.3</td>\n",
       "      <td>NaN</td>\n",
       "      <td>Trad</td>\n",
       "      <td>5.11</td>\n",
       "      <td>5.11</td>\n",
       "      <td>1</td>\n",
       "      <td>40.0</td>\n",
       "      <td>...</td>\n",
       "      <td>0.500000</td>\n",
       "      <td>1.000000</td>\n",
       "      <td>1.000000</td>\n",
       "      <td>TR           136\n",
       "Lead          10\n",
       "Onsight        5\n",
       "Fell/Hung      3\n",
       "Follow         1\n",
       "Redpoint       1\n",
       "Attempt        1\n",
       "Solo           0\n",
       "Flash          0\n",
       "Pinkpoint      0\n",
       "Send           0\n",
       "dtype: int64</td>\n",
       "      <td>4.200000</td>\n",
       "      <td>0.019005</td>\n",
       "      <td>0.249663</td>\n",
       "      <td>6</td>\n",
       "      <td>0.027149</td>\n",
       "      <td>0.500827</td>\n",
       "    </tr>\n",
       "    <tr>\n",
       "      <th>119</th>\n",
       "      <td>Where's Carruthers?</td>\n",
       "      <td>Scarface &gt; Indian Creek &gt; Southeast Utah &gt; Utah</td>\n",
       "      <td>https://www.mountainproject.com/route/106132196/wheres-carruthers</td>\n",
       "      <td>2.7</td>\n",
       "      <td>NaN</td>\n",
       "      <td>Trad</td>\n",
       "      <td>5.10c</td>\n",
       "      <td>5.10c</td>\n",
       "      <td>1</td>\n",
       "      <td>60.0</td>\n",
       "      <td>...</td>\n",
       "      <td>0.673077</td>\n",
       "      <td>1.051613</td>\n",
       "      <td>1.600000</td>\n",
       "      <td>Lead         231\n",
       "TR           145\n",
       "Onsight      122\n",
       "Fell/Hung     45\n",
       "Redpoint      21\n",
       "Flash         18\n",
       "Follow        15\n",
       "Pinkpoint      2\n",
       "Solo           0\n",
       "Send           0\n",
       "Attempt        0\n",
       "dtype: int64</td>\n",
       "      <td>8.800000</td>\n",
       "      <td>0.013374</td>\n",
       "      <td>0.245153</td>\n",
       "      <td>163</td>\n",
       "      <td>0.247720</td>\n",
       "      <td>0.491779</td>\n",
       "    </tr>\n",
       "    <tr>\n",
       "      <th>521</th>\n",
       "      <td>Divide and Conquer</td>\n",
       "      <td>Sparks Wall &gt; Indian Creek &gt; Southeast Utah &gt; Utah</td>\n",
       "      <td>https://www.mountainproject.com/route/105893736/divide-and-conquer</td>\n",
       "      <td>3.1</td>\n",
       "      <td>NaN</td>\n",
       "      <td>Trad</td>\n",
       "      <td>5.10+</td>\n",
       "      <td>5.10+</td>\n",
       "      <td>1</td>\n",
       "      <td>100.0</td>\n",
       "      <td>...</td>\n",
       "      <td>0.584906</td>\n",
       "      <td>1.028571</td>\n",
       "      <td>1.500000</td>\n",
       "      <td>Lead         58\n",
       "TR           39\n",
       "Onsight      20\n",
       "Fell/Hung    17\n",
       "Flash        11\n",
       "Follow        5\n",
       "Redpoint      5\n",
       "Solo          0\n",
       "Pinkpoint     0\n",
       "Send          0\n",
       "Attempt       0\n",
       "dtype: int64</td>\n",
       "      <td>6.200000</td>\n",
       "      <td>0.048438</td>\n",
       "      <td>0.233052</td>\n",
       "      <td>36</td>\n",
       "      <td>0.281250</td>\n",
       "      <td>0.467505</td>\n",
       "    </tr>\n",
       "    <tr>\n",
       "      <th>404</th>\n",
       "      <td>Prepare for Disappointment</td>\n",
       "      <td>Cliffs of Insanity &gt; Indian Creek &gt; Southeast Utah &gt; Utah</td>\n",
       "      <td>https://www.mountainproject.com/route/113834967/prepare-for-disappointment</td>\n",
       "      <td>2.4</td>\n",
       "      <td>NaN</td>\n",
       "      <td>Trad</td>\n",
       "      <td>5.9</td>\n",
       "      <td>5.9</td>\n",
       "      <td>1</td>\n",
       "      <td>50.0</td>\n",
       "      <td>...</td>\n",
       "      <td>0.892857</td>\n",
       "      <td>1.020000</td>\n",
       "      <td>NaN</td>\n",
       "      <td>Lead         67\n",
       "Onsight      43\n",
       "TR           36\n",
       "Flash         7\n",
       "Follow        6\n",
       "Fell/Hung     5\n",
       "Redpoint      1\n",
       "Solo          0\n",
       "Pinkpoint     0\n",
       "Send          0\n",
       "Attempt       0\n",
       "dtype: int64</td>\n",
       "      <td>4.800000</td>\n",
       "      <td>0.036923</td>\n",
       "      <td>0.231260</td>\n",
       "      <td>51</td>\n",
       "      <td>0.392308</td>\n",
       "      <td>0.463910</td>\n",
       "    </tr>\n",
       "    <tr>\n",
       "      <th>1032</th>\n",
       "      <td>Coyne Crack</td>\n",
       "      <td>Supercrack Buttress &gt; Indian Creek &gt; Southeast Utah &gt; Utah</td>\n",
       "      <td>https://www.mountainproject.com/route/105717343/coyne-crack</td>\n",
       "      <td>3.7</td>\n",
       "      <td>NaN</td>\n",
       "      <td>Trad</td>\n",
       "      <td>5.11d</td>\n",
       "      <td>5.11d</td>\n",
       "      <td>1</td>\n",
       "      <td>70.0</td>\n",
       "      <td>...</td>\n",
       "      <td>0.143498</td>\n",
       "      <td>1.024691</td>\n",
       "      <td>1.529412</td>\n",
       "      <td>Lead         254\n",
       "TR           243\n",
       "Fell/Hung    138\n",
       "Redpoint      53\n",
       "Onsight       23\n",
       "Follow        20\n",
       "Flash          9\n",
       "Solo           1\n",
       "Pinkpoint      0\n",
       "Send           0\n",
       "Attempt        0\n",
       "dtype: int64</td>\n",
       "      <td>8.200000</td>\n",
       "      <td>0.010354</td>\n",
       "      <td>0.229142</td>\n",
       "      <td>83</td>\n",
       "      <td>0.104798</td>\n",
       "      <td>0.459661</td>\n",
       "    </tr>\n",
       "  </tbody>\n",
       "</table>\n",
       "<p>60 rows × 32 columns</p>\n",
       "</div>"
      ],
      "text/plain": [
       "                                     Route                                                             Location                                                                                  URL  Avg Stars  Your Stars Route Type Original Rating   Rating  Pitches  Length  ...  OS Ratio  Repeat Sender Ratio  Mean Attempts To RP                                                                                                                                                                                                         Tick Counts Avg Tick Velo Norm Avg Tick Velo   C Score Repeat Sender Sum Normalized Repeat Sender Sum  CZ Score\n",
       "149                  Incredible Hand Crack           Supercrack Buttress > Indian Creek > Southeast Utah > Utah                https://www.mountainproject.com/route/105717367/incredible-hand-crack        3.8         NaN       Trad            5.10     5.10        1   100.0  ...  0.513678             1.046326             1.591241  Lead         1178\n",
       "TR            517\n",
       "Onsight       404\n",
       "Fell/Hung     323\n",
       "Redpoint      153\n",
       "Follow        110\n",
       "Flash         103\n",
       "Solo            4\n",
       "Pinkpoint       4\n",
       "Send            0\n",
       "Attempt         0\n",
       "dtype: int64     24.000000           0.008191  2.265847               655                     0.223549  4.545311\n",
       "148               Supercrack of the Desert           Supercrack Buttress > Indian Creek > Southeast Utah > Utah             https://www.mountainproject.com/route/105717364/supercrack-of-the-desert        3.8         NaN       Trad            5.10     5.10        3    70.0  ...  0.573626             1.068627             1.471154  Lead         1087\n",
       "TR            544\n",
       "Onsight       407\n",
       "Fell/Hung     252\n",
       "Redpoint      130\n",
       "Flash         115\n",
       "Follow         78\n",
       "Pinkpoint       6\n",
       "Solo            2\n",
       "Send            0\n",
       "Attempt         0\n",
       "dtype: int64     33.000000           0.011892  2.204033               654                     0.235676  4.421312\n",
       "3                         Chocolate Corner               Donnelly Canyon > Indian Creek > Southeast Utah > Utah                     https://www.mountainproject.com/route/105717349/chocolate-corner        3.0         NaN       Trad            5.9+     5.9+        1    50.0  ...  0.555152             1.057658             1.685185  Lead         1064\n",
       "TR            470\n",
       "Onsight       378\n",
       "Fell/Hung     234\n",
       "Redpoint      130\n",
       "Follow         86\n",
       "Flash          80\n",
       "Pinkpoint       3\n",
       "Solo            2\n",
       "Send            0\n",
       "Attempt         0\n",
       "dtype: int64     31.000000           0.012020  1.969974               587                     0.227608  3.951787\n",
       "4                            Generic Crack               Donnelly Canyon > Indian Creek > Southeast Utah > Utah                        https://www.mountainproject.com/route/105717328/generic-crack        3.4         NaN       Trad           5.10-    5.10-        1   120.0  ...  0.620205             1.068015             1.693333             Lead         945\n",
       "TR           477\n",
       "Onsight      397\n",
       "Fell/Hung    195\n",
       "Redpoint      98\n",
       "Flash         88\n",
       "Follow        85\n",
       "Pinkpoint      3\n",
       "Solo           2\n",
       "Attempt        1\n",
       "Send           0\n",
       "dtype: int64     29.600000           0.012323  1.869641               581                     0.241882  3.750517\n",
       "815                            Unknown 5.8                      Habitado > Indian Creek > Southeast Utah > Utah                           https://www.mountainproject.com/route/116668323/unknown-58        2.4         NaN       Trad            5.8+     5.8+        1    40.0  ...  0.633987             1.045045             1.785714             Lead         187\n",
       "Onsight       82\n",
       "TR            77\n",
       "Fell/Hung     37\n",
       "Redpoint      19\n",
       "Follow        17\n",
       "Flash         15\n",
       "Solo           1\n",
       "Pinkpoint      0\n",
       "Send           0\n",
       "Attempt        0\n",
       "dtype: int64     56.000000           0.166172  1.793561               116                     0.344214  3.597900\n",
       "354                               Blue Sun                     Way Rambo > Indian Creek > Southeast Utah > Utah                             https://www.mountainproject.com/route/105718435/blue-sun        3.6         NaN       Trad           5.10-    5.10-        1    70.0  ...  0.725537             1.070465             1.557143  Lead         1010\n",
       "Onsight       474\n",
       "TR            371\n",
       "Flash         134\n",
       "Fell/Hung     119\n",
       "Redpoint      108\n",
       "Follow         51\n",
       "Pinkpoint       2\n",
       "Solo            1\n",
       "Attempt         1\n",
       "Send            0\n",
       "dtype: int64     18.000000           0.008249  1.646315               714                     0.327223  3.302524\n",
       "819                               Mariposa                      Habitado > Indian Creek > Southeast Utah > Utah                             https://www.mountainproject.com/route/116668339/mariposa        2.7         NaN       Trad           5.10-    5.10-        1    50.0  ...  0.622642             1.054054             2.000000             TR           117\n",
       "Lead          60\n",
       "Onsight       27\n",
       "Fell/Hung     14\n",
       "Flash          6\n",
       "Redpoint       6\n",
       "Solo           0\n",
       "Follow         0\n",
       "Pinkpoint      0\n",
       "Send           0\n",
       "Attempt        0\n",
       "dtype: int64     31.000000           0.146226  1.624408                39                     0.183962  3.258577\n",
       "1                            Binou's Crack               Donnelly Canyon > Indian Creek > Southeast Utah > Utah                         https://www.mountainproject.com/route/105717346/binous-crack        2.7         NaN       Trad            5.8+     5.8+        1    70.0  ...  0.784281             1.038536             1.557377             Lead         752\n",
       "Onsight      393\n",
       "TR           332\n",
       "Flash         76\n",
       "Follow        70\n",
       "Redpoint      63\n",
       "Fell/Hung     56\n",
       "Pinkpoint     10\n",
       "Solo           1\n",
       "Send           0\n",
       "Attempt        0\n",
       "dtype: int64     22.200000           0.011467  1.434985               539                     0.278409  2.878593\n",
       "816                   Lightning Bolt Crack                      Habitado > Indian Creek > Southeast Utah > Utah                 https://www.mountainproject.com/route/116177998/lightning-bolt-crack        3.1         NaN       Trad             5.9      5.9        1    50.0  ...  0.631356             1.060976             1.562500             Lead         288\n",
       "TR           133\n",
       "Onsight      120\n",
       "Fell/Hung     62\n",
       "Flash         29\n",
       "Redpoint      20\n",
       "Follow        17\n",
       "Pinkpoint      5\n",
       "Solo           0\n",
       "Send           0\n",
       "Attempt        0\n",
       "dtype: int64     60.250000           0.119307  1.418233               174                     0.344554  2.844989\n",
       "141                            Twin Cracks           Supercrack Buttress > Indian Creek > Southeast Utah > Utah                          https://www.mountainproject.com/route/105717445/twin-cracks        2.5         NaN       Trad            5.8+     5.8+        1    40.0  ...  0.810241             1.050590             1.645161             Lead         824\n",
       "Onsight      436\n",
       "TR           288\n",
       "Flash        102\n",
       "Redpoint      80\n",
       "Follow        59\n",
       "Fell/Hung     40\n",
       "Pinkpoint      6\n",
       "Solo           3\n",
       "Send           0\n",
       "Attempt        0\n",
       "dtype: int64     21.600000           0.011676  1.382420               623                     0.336757  2.773147\n",
       "838                                   Zits           Trick or Treat Wall > Indian Creek > Southeast Utah > Utah                                 https://www.mountainproject.com/route/116707833/zits        2.9         NaN       Trad            5.10     5.10        1    70.0  ...  0.604651             1.000000             1.400000                        Lead         46\n",
       "TR           28\n",
       "Onsight      24\n",
       "Fell/Hung    12\n",
       "Redpoint      5\n",
       "Follow        4\n",
       "Flash         2\n",
       "Solo          0\n",
       "Pinkpoint     0\n",
       "Send          0\n",
       "Attempt       0\n",
       "dtype: int64     15.000000           0.144231  1.335802                31                     0.298077  2.679631\n",
       "135                               Scarface                      Scarface > Indian Creek > Southeast Utah > Utah                             https://www.mountainproject.com/route/105717484/scarface        3.8         NaN       Trad         5.11a/b  5.11a/b        1    70.0  ...  0.365621             1.050378             1.530612             Lead         843\n",
       "TR           370\n",
       "Fell/Hung    307\n",
       "Onsight      193\n",
       "Redpoint     152\n",
       "Flash         75\n",
       "Follow        41\n",
       "Pinkpoint      6\n",
       "Solo           1\n",
       "Send           0\n",
       "Attempt        0\n",
       "dtype: int64     28.400000           0.015034  1.298182               417                     0.220752  2.604166\n",
       "1526                           Horse Crack           Trick or Treat Wall > Indian Creek > Southeast Utah > Utah                          https://www.mountainproject.com/route/116707890/horse-crack        3.8         NaN       Trad            5.11     5.11        1    90.0  ...  0.729730             1.068966             1.333333                        TR           40\n",
       "Lead         40\n",
       "Onsight      22\n",
       "Fell/Hung     6\n",
       "Flash         5\n",
       "Redpoint      4\n",
       "Follow        3\n",
       "Solo          0\n",
       "Pinkpoint     0\n",
       "Send          0\n",
       "Attempt       0\n",
       "dtype: int64     12.333333           0.116352  1.156228                31                     0.292453  2.319404\n",
       "154                              3AM Crack           Supercrack Buttress > Indian Creek > Southeast Utah > Utah                            https://www.mountainproject.com/route/105717766/3am-crack        3.5         NaN       Trad            5.10     5.10        1   115.0  ...  0.556541             1.031802             1.475000             Lead         544\n",
       "TR           286\n",
       "Onsight      205\n",
       "Fell/Hung    156\n",
       "Follow        62\n",
       "Flash         46\n",
       "Redpoint      42\n",
       "Pinkpoint      2\n",
       "Solo           0\n",
       "Send           0\n",
       "Attempt        0\n",
       "dtype: int64     13.600000           0.009055  0.894055               292                     0.194407  1.793482\n",
       "5                             Elephant Man               Donnelly Canyon > Indian Creek > Southeast Utah > Utah                         https://www.mountainproject.com/route/105717661/elephant-man        2.5         NaN       Trad           5.10-    5.10-        1    80.0  ...  0.627119             1.013652             1.527778             Lead         520\n",
       "TR           287\n",
       "Onsight      220\n",
       "Fell/Hung    114\n",
       "Follow        57\n",
       "Flash         39\n",
       "Redpoint      38\n",
       "Solo           3\n",
       "Pinkpoint      2\n",
       "Send           0\n",
       "Attempt        0\n",
       "dtype: int64     19.200000           0.014159  0.867417               297                     0.219027  1.740046\n",
       "678                          Fission Quest  Sinbad Wall aka Nuclear Wall > Indian Creek > Southeast Utah > Utah                        https://www.mountainproject.com/route/116134631/fission-quest        2.6         NaN       Trad            5.10     5.10        1    45.0  ...  0.716418             1.000000             1.000000                        Lead         79\n",
       "TR           73\n",
       "Onsight      40\n",
       "Fell/Hung    17\n",
       "Flash         8\n",
       "Redpoint      2\n",
       "Follow        1\n",
       "Solo          0\n",
       "Pinkpoint     0\n",
       "Send          0\n",
       "Attempt       0\n",
       "dtype: int64     17.000000           0.092391  0.853765                49                     0.266304  1.712660\n",
       "675                    Tiffany's Mall Tour  Sinbad Wall aka Nuclear Wall > Indian Creek > Southeast Utah > Utah                   https://www.mountainproject.com/route/107658941/tiffanys-mall-tour        3.2         NaN       Trad            5.10     5.10        1   100.0  ...  0.979167             1.000000                  NaN                        Lead         54\n",
       "TR           44\n",
       "Onsight      40\n",
       "Follow        8\n",
       "Flash         7\n",
       "Fell/Hung     1\n",
       "Solo          0\n",
       "Redpoint      0\n",
       "Pinkpoint     0\n",
       "Send          0\n",
       "Attempt       0\n",
       "dtype: int64     10.000000           0.078125  0.821722                47                     0.367188  1.648383\n",
       "823                           Unnamed 5.10                      Habitado > Indian Creek > Southeast Utah > Utah                          https://www.mountainproject.com/route/117925164/unnamed-510        3.0         NaN       Trad            5.10     5.10        1    70.0  ...  0.637931             1.000000             1.000000                        Lead         70\n",
       "Onsight      34\n",
       "TR           31\n",
       "Fell/Hung    19\n",
       "Follow        6\n",
       "Flash         3\n",
       "Redpoint      2\n",
       "Solo          0\n",
       "Pinkpoint     0\n",
       "Send          0\n",
       "Attempt       0\n",
       "dtype: int64     13.250000           0.103516  0.798597                39                     0.304688  1.601993\n",
       "510                       Sparkling Zygote                   Sparks Wall > Indian Creek > Southeast Utah > Utah                     https://www.mountainproject.com/route/106293592/sparkling-zygote        2.8         NaN       Trad           5.10-    5.10-        1    60.0  ...  0.814208             1.038462             1.300000             Lead         438\n",
       "Onsight      239\n",
       "TR           144\n",
       "Flash         59\n",
       "Fell/Hung     41\n",
       "Redpoint      24\n",
       "Follow        21\n",
       "Pinkpoint      3\n",
       "Solo           0\n",
       "Send           0\n",
       "Attempt        0\n",
       "dtype: int64     30.800000           0.040156  0.781972               324                     0.422425  1.568642\n",
       "685                        Nuclear Fingers  Sinbad Wall aka Nuclear Wall > Indian Creek > Southeast Utah > Utah                      https://www.mountainproject.com/route/116134602/nuclear-fingers        3.1         NaN       Trad           5.11-    5.11-        1    45.0  ...  0.317308             1.000000             1.347826             Lead         111\n",
       "TR            86\n",
       "Fell/Hung     48\n",
       "Onsight       28\n",
       "Redpoint      20\n",
       "Follow        12\n",
       "Flash          5\n",
       "Pinkpoint      3\n",
       "Solo           0\n",
       "Send           0\n",
       "Attempt        0\n",
       "dtype: int64     22.000000           0.088710  0.779042                56                     0.225806  1.562765\n",
       "139                        Triple Jeopardy           Supercrack Buttress > Indian Creek > Southeast Utah > Utah                      https://www.mountainproject.com/route/105717421/triple-jeopardy        2.3         NaN       Trad             5.8      5.8        1    50.0  ...  0.910000             1.032258             1.500000             Lead         116\n",
       "Onsight       80\n",
       "TR            50\n",
       "Flash         11\n",
       "Follow         8\n",
       "Fell/Hung      4\n",
       "Redpoint       4\n",
       "Solo           2\n",
       "Pinkpoint      1\n",
       "Send           0\n",
       "Attempt        0\n",
       "dtype: int64     15.800000           0.073488  0.765642                96                     0.446512  1.535884\n",
       "114                             Wavy Gravy                      Scarface > Indian Creek > Southeast Utah > Utah                           https://www.mountainproject.com/route/105717922/wavy-gravy        3.2         NaN       Trad            5.10     5.10        1    70.0  ...  0.594480             1.050633             1.395349             Lead         547\n",
       "TR           247\n",
       "Onsight      220\n",
       "Fell/Hung    134\n",
       "Flash         60\n",
       "Follow        54\n",
       "Redpoint      54\n",
       "Pinkpoint      3\n",
       "Solo           0\n",
       "Send           0\n",
       "Attempt        0\n",
       "dtype: int64      9.600000           0.007132  0.761732               332                     0.246657  1.528042\n",
       "1144                              Annunaki                 The Optimator > Indian Creek > Southeast Utah > Utah                             https://www.mountainproject.com/route/105718786/annunaki        3.8         NaN       Trad           5.11+    5.11+        1    50.0  ...  0.203947             1.076923             1.806723             Lead         502\n",
       "TR           365\n",
       "Fell/Hung    229\n",
       "Redpoint     131\n",
       "Onsight       58\n",
       "Flash         35\n",
       "Follow        25\n",
       "Pinkpoint      3\n",
       "Solo           0\n",
       "Send           0\n",
       "Attempt        0\n",
       "dtype: int64     19.400000           0.015709  0.757090               224                     0.181377  1.518730\n",
       "1353                          Go Sparky Go                   Sparks Wall > Indian Creek > Southeast Utah > Utah                         https://www.mountainproject.com/route/105888734/go-sparky-go        3.4         NaN       Trad         5.11b/c  5.11b/c        1    70.0  ...  0.333333             1.025126             1.363636             Lead         401\n",
       "TR           209\n",
       "Fell/Hung    164\n",
       "Redpoint      82\n",
       "Flash         66\n",
       "Onsight       57\n",
       "Follow        21\n",
       "Solo           1\n",
       "Pinkpoint      0\n",
       "Send           0\n",
       "Attempt        0\n",
       "dtype: int64     32.000000           0.042272  0.655584               204                     0.269485  1.315108\n",
       "794                         Crack Slabbath                     The Beach > Indian Creek > Southeast Utah > Utah                       https://www.mountainproject.com/route/116094125/crack-slabbath        3.5         NaN       Trad            5.9+     5.9+        1    60.0  ...  0.761905             1.057971             1.000000             Lead         102\n",
       "Onsight       49\n",
       "TR            37\n",
       "Flash         15\n",
       "Fell/Hung     11\n",
       "Redpoint       8\n",
       "Follow         5\n",
       "Pinkpoint      1\n",
       "Solo           0\n",
       "Send           0\n",
       "Attempt        0\n",
       "dtype: int64     11.500000           0.070552  0.622363                73                     0.447853  1.248465\n",
       "669                               Meltdown  Sinbad Wall aka Nuclear Wall > Indian Creek > Southeast Utah > Utah                             https://www.mountainproject.com/route/116093642/meltdown        2.2         NaN       Trad            5.9+     5.9+        1    45.0  ...  0.755102             1.027778                  NaN                        Lead         62\n",
       "TR           40\n",
       "Onsight      32\n",
       "Fell/Hung    12\n",
       "Follow        7\n",
       "Flash         5\n",
       "Solo          0\n",
       "Redpoint      0\n",
       "Pinkpoint     0\n",
       "Send          0\n",
       "Attempt       0\n",
       "dtype: int64     10.750000           0.080827  0.613166                37                     0.278195  1.230016\n",
       "24                         Railroad Tracks  Battle of the Bulge Buttress > Indian Creek > Southeast Utah > Utah                      https://www.mountainproject.com/route/105821587/railroad-tracks        2.5         NaN       Trad            5.10     5.10        1    75.0  ...  0.612500             1.030435             1.578947             Lead         403\n",
       "TR           218\n",
       "Onsight      155\n",
       "Fell/Hung     79\n",
       "Redpoint      45\n",
       "Flash         41\n",
       "Follow        34\n",
       "Solo           0\n",
       "Pinkpoint      0\n",
       "Send           0\n",
       "Attempt        0\n",
       "dtype: int64     16.600000           0.015146  0.601150               237                     0.216241  1.205912\n",
       "34                              Cave Route  Battle of the Bulge Buttress > Indian Creek > Southeast Utah > Utah                           https://www.mountainproject.com/route/105717361/cave-route        3.5         NaN       Trad           5.10d    5.10d        1    70.0  ...  0.430693             1.050691             1.479167             Lead         500\n",
       "TR           258\n",
       "Fell/Hung    175\n",
       "Onsight      141\n",
       "Redpoint      54\n",
       "Follow        33\n",
       "Flash         33\n",
       "Pinkpoint      1\n",
       "Solo           0\n",
       "Send           0\n",
       "Attempt        0\n",
       "dtype: int64     12.200000           0.009799  0.599878               228                     0.183133  1.203361\n",
       "236                             South Face              South Sixshooter > Indian Creek > Southeast Utah > Utah                           https://www.mountainproject.com/route/105717562/south-face        2.8         NaN       Trad             5.7      5.7        3    70.0  ...  0.939759             1.038339             1.300000             Lead         505\n",
       "Onsight      278\n",
       "Follow       157\n",
       "Flash         34\n",
       "Solo          29\n",
       "TR            13\n",
       "Redpoint      12\n",
       "Fell/Hung      7\n",
       "Pinkpoint      1\n",
       "Send           0\n",
       "Attempt        0\n",
       "dtype: int64     20.000000           0.017873  0.595465               325                     0.290438  1.194509\n",
       "796                         Kelley Route 8                     The Beach > Indian Creek > Southeast Utah > Utah                       https://www.mountainproject.com/route/116094137/kelley-route-8        3.0         NaN       Trad           5.10-    5.10-        1    45.0  ...  0.890909             1.040816             1.500000                        Lead         66\n",
       "Onsight      42\n",
       "TR           34\n",
       "Flash         7\n",
       "Follow        4\n",
       "Fell/Hung     4\n",
       "Redpoint      1\n",
       "Pinkpoint     1\n",
       "Solo          0\n",
       "Send          0\n",
       "Attempt       0\n",
       "dtype: int64      8.750000           0.068359  0.581089                51                     0.398438  1.165671\n",
       "1525                          Overthruster           Trick or Treat Wall > Indian Creek > Southeast Utah > Utah                         https://www.mountainproject.com/route/116707845/overthruster        3.9         NaN       Trad            5.11     5.11        1    70.0  ...  0.701754             1.000000             1.500000                        Lead         57\n",
       "Onsight      33\n",
       "TR           28\n",
       "Fell/Hung    15\n",
       "Follow        7\n",
       "Flash         7\n",
       "Redpoint      2\n",
       "Solo          1\n",
       "Pinkpoint     0\n",
       "Send          0\n",
       "Attempt       0\n",
       "dtype: int64      8.750000           0.073529  0.573642                42                     0.352941  1.150731\n",
       "7                                Owl Crack               Donnelly Canyon > Indian Creek > Southeast Utah > Utah                            https://www.mountainproject.com/route/107653915/owl-crack        3.1         NaN       Trad            5.10     5.10        1    80.0  ...  0.625000             1.038760             1.600000             Lead         216\n",
       "Onsight       99\n",
       "TR            92\n",
       "Fell/Hung     57\n",
       "Follow        27\n",
       "Flash         21\n",
       "Redpoint      14\n",
       "Pinkpoint      1\n",
       "Solo           0\n",
       "Send           0\n",
       "Attempt        0\n",
       "dtype: int64     21.400000           0.054592  0.560574               134                     0.341837  1.124517\n",
       "352                             Rochambeau                     Way Rambo > Indian Creek > Southeast Utah > Utah                           https://www.mountainproject.com/route/105718441/rochambeau        2.6         NaN       Trad             5.9      5.9        1    70.0  ...  0.817629             1.037801             1.310345             Lead         426\n",
       "Onsight      222\n",
       "TR           206\n",
       "Flash         47\n",
       "Follow        33\n",
       "Redpoint      30\n",
       "Fell/Hung     26\n",
       "Pinkpoint      4\n",
       "Solo           0\n",
       "Send           0\n",
       "Attempt        0\n",
       "dtype: int64      4.800000           0.004598  0.520176               302                     0.289272  1.043477\n",
       "248                                   Neat                 The Optimator > Indian Creek > Southeast Utah > Utah                                 https://www.mountainproject.com/route/105718657/neat        3.2         NaN       Trad            5.10     5.10        1   100.0  ...  0.684385             1.012821             1.600000             Lead         342\n",
       "TR           181\n",
       "Onsight      165\n",
       "Fell/Hung     62\n",
       "Flash         41\n",
       "Redpoint      32\n",
       "Follow        27\n",
       "Pinkpoint      1\n",
       "Solo           0\n",
       "Send           0\n",
       "Attempt        0\n",
       "dtype: int64     12.200000           0.013754  0.462629               237                     0.267193  0.928039\n",
       "632                              Hand Solo                  Selfish Wall > Indian Creek > Southeast Utah > Utah                            https://www.mountainproject.com/route/106720518/hand-solo        2.6         NaN       Trad             5.9      5.9        1    30.0  ...  0.722857             1.091575             1.451613             Lead         436\n",
       "Onsight      214\n",
       "TR           149\n",
       "Fell/Hung     52\n",
       "Redpoint      43\n",
       "Flash         39\n",
       "Follow        23\n",
       "Solo          11\n",
       "Pinkpoint      2\n",
       "Send           0\n",
       "Attempt        0\n",
       "dtype: int64     11.400000           0.014485  0.434729               298                     0.378653  0.872070\n",
       "668                                Hot Sex  Sinbad Wall aka Nuclear Wall > Indian Creek > Southeast Utah > Utah                              https://www.mountainproject.com/route/106950462/hot-sex        2.8         NaN       Trad             5.9      5.9        1    45.0  ...  0.709877             1.031496             1.250000             Lead         194\n",
       "Onsight       92\n",
       "TR            89\n",
       "Fell/Hung     31\n",
       "Flash         23\n",
       "Redpoint      16\n",
       "Follow        10\n",
       "Solo           0\n",
       "Pinkpoint      0\n",
       "Send           0\n",
       "Attempt        0\n",
       "dtype: int64     17.000000           0.045822  0.431930               131                     0.353100  0.866455\n",
       "527                             Jump Start                   Sparks Wall > Indian Creek > Southeast Utah > Utah                           https://www.mountainproject.com/route/107883640/jump-start        2.9         NaN       Trad           5.11-    5.11-        1    60.0  ...  0.565217             1.000000             1.000000                        Lead         54\n",
       "TR           39\n",
       "Onsight      20\n",
       "Fell/Hung    13\n",
       "Follow        7\n",
       "Redpoint      7\n",
       "Flash         6\n",
       "Solo          0\n",
       "Pinkpoint     0\n",
       "Send          0\n",
       "Attempt       0\n",
       "dtype: int64      9.400000           0.064828  0.388016                33                     0.227586  0.778365\n",
       "155                     Wild Works of Fire           Supercrack Buttress > Indian Creek > Southeast Utah > Utah                   https://www.mountainproject.com/route/105717886/wild-works-of-fire        2.9         NaN       Trad            5.10     5.10        1    80.0  ...  0.698630             1.008772             1.500000             TR           170\n",
       "Lead         169\n",
       "Onsight       87\n",
       "Fell/Hung     31\n",
       "Follow        21\n",
       "Flash         15\n",
       "Redpoint      11\n",
       "Pinkpoint      2\n",
       "Solo           0\n",
       "Send           0\n",
       "Attempt        0\n",
       "dtype: int64     13.200000           0.025882  0.384348               115                     0.225490  0.771007\n",
       "264                              Soul Fire                 The Optimator > Indian Creek > Southeast Utah > Utah                            https://www.mountainproject.com/route/105718753/soul-fire        3.3         NaN       Trad           5.11-    5.11-        1    80.0  ...  0.450311             1.027027             1.488889             Lead         374\n",
       "TR           156\n",
       "Fell/Hung    129\n",
       "Onsight      109\n",
       "Redpoint      48\n",
       "Flash         36\n",
       "Follow        14\n",
       "Solo           0\n",
       "Pinkpoint      0\n",
       "Send           0\n",
       "Attempt        0\n",
       "dtype: int64     20.600000           0.025369  0.371495               190                     0.233990  0.745223\n",
       "201                                Tom Cat                      Cat Wall > Indian Creek > Southeast Utah > Utah                              https://www.mountainproject.com/route/105718192/tom-cat        3.2         NaN       Trad            5.10     5.10        1   100.0  ...  0.753676             1.032864             2.076923             Lead         330\n",
       "Onsight      170\n",
       "TR           147\n",
       "Fell/Hung     49\n",
       "Flash         35\n",
       "Follow        21\n",
       "Redpoint      16\n",
       "Pinkpoint      1\n",
       "Send           1\n",
       "Solo           0\n",
       "Attempt        0\n",
       "dtype: int64     13.000000           0.016049  0.363212               220                     0.271605  0.728607\n",
       "507                                 Skraps                   Sparks Wall > Indian Creek > Southeast Utah > Utah                               https://www.mountainproject.com/route/105893726/skraps        2.9         NaN       Trad             5.9      5.9        1    70.0  ...  0.787879             1.009174             1.500000             Lead         151\n",
       "Onsight       91\n",
       "TR            78\n",
       "Fell/Hung     21\n",
       "Flash         13\n",
       "Follow         8\n",
       "Redpoint       7\n",
       "Solo           0\n",
       "Pinkpoint      0\n",
       "Send           0\n",
       "Attempt        0\n",
       "dtype: int64     13.000000           0.041534  0.358235               110                     0.351438  0.718623\n",
       "111                          Italian Combo                      Scarface > Indian Creek > Southeast Utah > Utah                        https://www.mountainproject.com/route/108787826/italian-combo        2.2         NaN       Trad            5.9+     5.9+        1    50.0  ...  0.660777             1.040609             1.230769             Lead         332\n",
       "Onsight      163\n",
       "TR           142\n",
       "Fell/Hung     77\n",
       "Flash         24\n",
       "Follow        22\n",
       "Redpoint      19\n",
       "Solo           0\n",
       "Pinkpoint      0\n",
       "Send           0\n",
       "Attempt        0\n",
       "dtype: int64     15.800000           0.021823  0.358204               205                     0.283149  0.718560\n",
       "677                           Act or React  Sinbad Wall aka Nuclear Wall > Indian Creek > Southeast Utah > Utah                         https://www.mountainproject.com/route/109698733/act-or-react        2.6         NaN       Trad            5.10     5.10        1    70.0  ...  0.555556             1.071429             1.500000                        Lead         48\n",
       "TR           33\n",
       "Onsight      21\n",
       "Fell/Hung    15\n",
       "Follow        5\n",
       "Redpoint      5\n",
       "Flash         4\n",
       "Solo          0\n",
       "Pinkpoint     0\n",
       "Send          0\n",
       "Attempt       0\n",
       "dtype: int64      6.000000           0.057143  0.336221                30                     0.285714  0.674462\n",
       "536                            Bunny Slope               Critic's Choice > Indian Creek > Southeast Utah > Utah                          https://www.mountainproject.com/route/105930583/bunny-slope        3.6         NaN       Trad             5.9      5.9        1   140.0  ...  0.718894             1.006250             1.333333             Lead         278\n",
       "Onsight      136\n",
       "TR           126\n",
       "Fell/Hung     54\n",
       "Follow        42\n",
       "Flash         20\n",
       "Redpoint       6\n",
       "Solo           1\n",
       "Pinkpoint      1\n",
       "Send           0\n",
       "Attempt        0\n",
       "dtype: int64     16.200000           0.025352  0.327899               161                     0.251956  0.657768\n",
       "1351                         Jupiter Crack                   Sparks Wall > Indian Creek > Southeast Utah > Utah                        https://www.mountainproject.com/route/107516399/jupiter-crack        3.9         NaN       Trad            5.11     5.11        1   130.0  ...  0.674797             1.055556             1.619048             Lead         260\n",
       "Onsight      125\n",
       "Follow        68\n",
       "TR            66\n",
       "Fell/Hung     56\n",
       "Flash         41\n",
       "Redpoint      20\n",
       "Pinkpoint      4\n",
       "Solo           0\n",
       "Send           0\n",
       "Attempt        0\n",
       "dtype: int64     10.400000           0.021399  0.327630               190                     0.390947  0.657230\n",
       "26                               The Mayes  Battle of the Bulge Buttress > Indian Creek > Southeast Utah > Utah                            https://www.mountainproject.com/route/105871554/the-mayes        2.4         NaN       Trad            5.10     5.10        1    50.0  ...  0.650350             1.039604             1.555556             Lead         165\n",
       "TR           103\n",
       "Onsight       73\n",
       "Fell/Hung     38\n",
       "Flash         20\n",
       "Follow        13\n",
       "Redpoint      12\n",
       "Solo           0\n",
       "Pinkpoint      0\n",
       "Send           0\n",
       "Attempt        0\n",
       "dtype: int64     16.000000           0.038647  0.320362               105                     0.253623  0.642650\n",
       "1258                             Way Rambo                     Way Rambo > Indian Creek > Southeast Utah > Utah                            https://www.mountainproject.com/route/105718642/way-rambo        3.8         NaN       Trad           5.12-    5.12-        1   100.0  ...  0.061644             1.026316             1.474576             Lead         322\n",
       "TR           262\n",
       "Fell/Hung    213\n",
       "Redpoint      60\n",
       "Follow        29\n",
       "Onsight       12\n",
       "Flash          6\n",
       "Pinkpoint      1\n",
       "Solo           0\n",
       "Send           0\n",
       "Attempt        0\n",
       "dtype: int64     16.200000           0.018859  0.320160                78                     0.090803  0.642243\n",
       "171                          Jolly Rancher                Pistol Whipped > Indian Creek > Southeast Utah > Utah                        https://www.mountainproject.com/route/105717571/jolly-rancher        3.9         NaN       Trad            5.10     5.10        1   130.0  ...  0.613115             1.029703             1.950000             Lead         354\n",
       "TR           160\n",
       "Onsight      147\n",
       "Fell/Hung     94\n",
       "Flash         40\n",
       "Redpoint      24\n",
       "Follow        23\n",
       "Solo           0\n",
       "Pinkpoint      0\n",
       "Send           0\n",
       "Attempt        0\n",
       "dtype: int64     10.800000           0.013300  0.310200               208                     0.256158  0.622264\n",
       "107                                   Spam                      Scarface > Indian Creek > Southeast Utah > Utah                                 https://www.mountainproject.com/route/106609255/spam        2.2         NaN       Trad             5.9      5.9        1    60.0  ...  0.836957             1.055901             1.444444             Lead         217\n",
       "Onsight      128\n",
       "TR            78\n",
       "Flash         26\n",
       "Redpoint      15\n",
       "Follow        14\n",
       "Fell/Hung     14\n",
       "Pinkpoint      1\n",
       "Solo           0\n",
       "Send           0\n",
       "Attempt        0\n",
       "dtype: int64     13.400000           0.029778  0.306079               170                     0.377778  0.613997\n",
       "21    Unnamed 5.10 LF flake in deep corner  Battle of the Bulge Buttress > Indian Creek > Southeast Utah > Utah  https://www.mountainproject.com/route/105867613/unnamed-510-lf-flake-in-deep-corner        1.7         NaN       Trad             5.9      5.9        1    70.0  ...  0.819383             1.078049             1.720000             Lead         281\n",
       "Onsight      154\n",
       "TR           139\n",
       "Redpoint      33\n",
       "Flash         32\n",
       "Follow        14\n",
       "Fell/Hung      5\n",
       "Pinkpoint      3\n",
       "Solo           1\n",
       "Send           0\n",
       "Attempt        0\n",
       "dtype: int64      7.200000           0.010242  0.289075               221                     0.314367  0.579887\n",
       "356                                   Fuzz                     Way Rambo > Indian Creek > Southeast Utah > Utah                                 https://www.mountainproject.com/route/105718768/fuzz        3.3         NaN       Trad            5.10     5.10        1   115.0  ...  0.612745             1.020979             1.421053             Lead         237\n",
       "TR           188\n",
       "Onsight       98\n",
       "Fell/Hung     58\n",
       "Flash         27\n",
       "Follow        25\n",
       "Redpoint      20\n",
       "Pinkpoint      1\n",
       "Solo           0\n",
       "Send           0\n",
       "Attempt        0\n",
       "dtype: int64      6.400000           0.008743  0.269586               146                     0.199454  0.540793\n",
       "152                                Gorilla           Supercrack Buttress > Indian Creek > Southeast Utah > Utah                              https://www.mountainproject.com/route/105717424/gorilla        3.1         NaN       Trad            5.10     5.10        1    70.0  ...  0.650000             1.019608             1.666667             Lead         258\n",
       "TR           168\n",
       "Onsight      119\n",
       "Fell/Hung     62\n",
       "Flash         24\n",
       "Follow        21\n",
       "Redpoint      15\n",
       "Solo           0\n",
       "Pinkpoint      0\n",
       "Send           0\n",
       "Attempt        0\n",
       "dtype: int64      9.000000           0.012483  0.259785               156                     0.216366  0.521131\n",
       "130                                 Vienna                      Scarface > Indian Creek > Southeast Utah > Utah                               https://www.mountainproject.com/route/106787270/vienna        2.6         NaN       Trad           5.11-    5.11-        1    60.0  ...  0.345455             1.046512             2.166667             Lead         127\n",
       "TR            82\n",
       "Fell/Hung     65\n",
       "Onsight       32\n",
       "Flash          6\n",
       "Redpoint       6\n",
       "Follow         5\n",
       "Pinkpoint      1\n",
       "Solo           0\n",
       "Send           0\n",
       "Attempt        0\n",
       "dtype: int64     16.600000           0.059286  0.257331                45                     0.160714  0.516208\n",
       "278                                   Town                           4X4 > Indian Creek > Southeast Utah > Utah                                 https://www.mountainproject.com/route/105718396/town        2.5         NaN       Trad           5.10d    5.10d        1    70.0  ...  0.575758             1.000000             1.500000             TR           106\n",
       "Lead          41\n",
       "Onsight       18\n",
       "Fell/Hung     12\n",
       "Follow         6\n",
       "Flash          1\n",
       "Redpoint       1\n",
       "Pinkpoint      1\n",
       "Solo           0\n",
       "Send           0\n",
       "Attempt        0\n",
       "dtype: int64      7.600000           0.033778  0.255514                21                     0.093333  0.512564\n",
       "108                       Fertile Crescent                      Scarface > Indian Creek > Southeast Utah > Utah                     https://www.mountainproject.com/route/106058069/fertile-crescent        2.5         NaN       Trad             5.9      5.9        1    80.0  ...  0.722222             1.014286             1.600000             Lead         108\n",
       "TR            74\n",
       "Onsight       60\n",
       "Fell/Hung     19\n",
       "Follow         9\n",
       "Redpoint       6\n",
       "Flash          5\n",
       "Solo           0\n",
       "Pinkpoint      0\n",
       "Send           0\n",
       "Attempt        0\n",
       "dtype: int64     11.000000           0.040741  0.252866                71                     0.262963  0.507252\n",
       "900           Naked and the Dead Variation               Donnelly Canyon > Indian Creek > Southeast Utah > Utah         https://www.mountainproject.com/route/105943086/naked-and-the-dead-variation        2.3         NaN       Trad            5.11     5.11        1    40.0  ...  0.500000             1.000000             1.000000             TR           136\n",
       "Lead          10\n",
       "Onsight        5\n",
       "Fell/Hung      3\n",
       "Follow         1\n",
       "Redpoint       1\n",
       "Attempt        1\n",
       "Solo           0\n",
       "Flash          0\n",
       "Pinkpoint      0\n",
       "Send           0\n",
       "dtype: int64      4.200000           0.019005  0.249663                 6                     0.027149  0.500827\n",
       "119                    Where's Carruthers?                      Scarface > Indian Creek > Southeast Utah > Utah                    https://www.mountainproject.com/route/106132196/wheres-carruthers        2.7         NaN       Trad           5.10c    5.10c        1    60.0  ...  0.673077             1.051613             1.600000             Lead         231\n",
       "TR           145\n",
       "Onsight      122\n",
       "Fell/Hung     45\n",
       "Redpoint      21\n",
       "Flash         18\n",
       "Follow        15\n",
       "Pinkpoint      2\n",
       "Solo           0\n",
       "Send           0\n",
       "Attempt        0\n",
       "dtype: int64      8.800000           0.013374  0.245153               163                     0.247720  0.491779\n",
       "521                     Divide and Conquer                   Sparks Wall > Indian Creek > Southeast Utah > Utah                   https://www.mountainproject.com/route/105893736/divide-and-conquer        3.1         NaN       Trad           5.10+    5.10+        1   100.0  ...  0.584906             1.028571             1.500000                        Lead         58\n",
       "TR           39\n",
       "Onsight      20\n",
       "Fell/Hung    17\n",
       "Flash        11\n",
       "Follow        5\n",
       "Redpoint      5\n",
       "Solo          0\n",
       "Pinkpoint     0\n",
       "Send          0\n",
       "Attempt       0\n",
       "dtype: int64      6.200000           0.048438  0.233052                36                     0.281250  0.467505\n",
       "404             Prepare for Disappointment            Cliffs of Insanity > Indian Creek > Southeast Utah > Utah           https://www.mountainproject.com/route/113834967/prepare-for-disappointment        2.4         NaN       Trad             5.9      5.9        1    50.0  ...  0.892857             1.020000                  NaN                        Lead         67\n",
       "Onsight      43\n",
       "TR           36\n",
       "Flash         7\n",
       "Follow        6\n",
       "Fell/Hung     5\n",
       "Redpoint      1\n",
       "Solo          0\n",
       "Pinkpoint     0\n",
       "Send          0\n",
       "Attempt       0\n",
       "dtype: int64      4.800000           0.036923  0.231260                51                     0.392308  0.463910\n",
       "1032                           Coyne Crack           Supercrack Buttress > Indian Creek > Southeast Utah > Utah                          https://www.mountainproject.com/route/105717343/coyne-crack        3.7         NaN       Trad           5.11d    5.11d        1    70.0  ...  0.143498             1.024691             1.529412             Lead         254\n",
       "TR           243\n",
       "Fell/Hung    138\n",
       "Redpoint      53\n",
       "Onsight       23\n",
       "Follow        20\n",
       "Flash          9\n",
       "Solo           1\n",
       "Pinkpoint      0\n",
       "Send           0\n",
       "Attempt        0\n",
       "dtype: int64      8.200000           0.010354  0.229142                83                     0.104798  0.459661\n",
       "\n",
       "[60 rows x 32 columns]"
      ]
     },
     "execution_count": 369,
     "metadata": {},
     "output_type": "execute_result"
    }
   ],
   "source": [
    "df['CZ Score'] = zscore(df['C Score'], nan_policy='omit')\n",
    "df.sort_values('CZ Score', ascending=False)[0:60]"
   ]
  },
  {
   "cell_type": "code",
   "execution_count": 355,
   "metadata": {},
   "outputs": [
    {
     "data": {
      "application/vnd.plotly.v1+json": {
       "config": {
        "plotlyServerURL": "https://plot.ly"
       },
       "data": [
        {
         "alignmentgroup": "True",
         "bingroup": "x",
         "hovertemplate": "variable=C Score<br>value=%{x}<br>count=%{y}<extra></extra>",
         "legendgroup": "C Score",
         "marker": {
          "color": "#636efa",
          "pattern": {
           "shape": ""
          }
         },
         "name": "C Score",
         "nbinsx": 50,
         "offsetgroup": "C Score",
         "orientation": "v",
         "showlegend": true,
         "type": "histogram",
         "x": [
          0.10840671367917093,
          2.878593012090026,
          -0.8676791896510844,
          3.9517873622970234,
          3.750516681423866,
          1.740046453161816,
          -0.33906098822301833,
          1.1245173194913154,
          0.44792735374353687,
          -0.043911883521285104,
          -1.05164833137154,
          -1.0964059505542056,
          -0.7055701426547353,
          0.12489302327386334,
          -0.31111406010133463,
          0.5798874601084962,
          1.205911650525961,
          0.32609384308253264,
          0.6426499625503812,
          1.2033609293505285,
          -0.46895448427059944,
          -0.044666158839220475,
          0.32415336385599663,
          -1.1741035840935647,
          -1.667409962566891,
          -1.0571807758557714,
          -0.21671466296176164,
          -0.06474247383301952,
          0.17713967328009003,
          -0.8491942057642268,
          -0.4170964623815954,
          -0.3019000491824266,
          -0.21616281267880805,
          -1.0560807413966158,
          0.032697501664876984,
          -0.1631409112552725,
          -0.6668346738047272,
          -0.5784219715359411,
          -0.5449617257444831,
          -0.1316428661983134,
          -0.2133978006150207,
          -0.9412987612253435,
          0.6139974205212884,
          0.5072519628593296,
          -0.07665039628785195,
          0.7185598726024393,
          -0.7141237432942897,
          1.5280424301924769,
          -0.30012164545086545,
          -0.5330753818409347,
          0.49177935649866444,
          -0.012617690971687086,
          -0.7357881054837722,
          0.04109503759057932,
          -1.0535013189913125,
          0.5162080252884336,
          0.0821718035048852,
          0.2684671536515552,
          2.604166287595806,
          -0.4610446871581203,
          1.5358844354711023,
          2.773147428266615,
          0.2990783066496731,
          0.34214035659058034,
          -0.2109927623233676,
          4.421311976005485,
          4.545310952249476,
          -0.09799470421899492,
          -0.05661117444830176,
          0.5211313565288088,
          -0.20647766645237012,
          1.7934821786404114,
          0.7710066997408425,
          -0.21287933555597102,
          -0.4876639827065435,
          -0.3876787226839654,
          -0.629083556898267,
          -0.5626483687776449,
          -0.009745798736618527,
          0.08399809687963715,
          0.6222635438953767,
          -0.8614936235003771,
          -0.1649849881557614,
          null,
          -0.08909782843667764,
          -0.308456961984894,
          -1.0624660328192956,
          0.05511329781754693,
          0.26315877117982,
          -0.09435493043663443,
          0.728607472398098,
          0.0000016850700337607607,
          -0.4173445634934311,
          -0.2701598923489655,
          -0.8556262643107138,
          0.02845272768412816,
          0.13184173636762986,
          -0.2478889895480234,
          -0.7519267416510527,
          -1.0458101292317639,
          -0.5995861861163913,
          -0.6738496530308847,
          -0.4291449995847669,
          1.1945093016290094,
          -0.3524265156177436,
          -0.09343565439486519,
          0.18017307269102242,
          0.3932192969030271,
          0.4444173541406819,
          0.9280388113666873,
          0.21956376061060645,
          -0.741893316265728,
          -0.7029116121912322,
          -0.14690769404754753,
          -0.17963948440084587,
          0.745222868734445,
          -0.2205539211451376,
          0.1485443981142671,
          -0.07532006828403921,
          -0.18462476807924885,
          -0.41017560398214037,
          0.5125641887344191,
          -0.2474469293544911,
          -1.2248223416002224,
          -0.7943199768390915,
          -0.8748687678933075,
          -1.3599071826654558,
          -0.6250427083231067,
          -0.7548216163911795,
          -1.4036900075221934,
          -1.429864841924617,
          -1.053913987963124,
          -0.8740737365918892,
          -0.8356825563511419,
          -0.7715686519257088,
          -1.1450791726485352,
          -1.2881248434633514,
          -0.18958822108169326,
          -0.9775240225769992,
          -1.1314462104370344,
          -1.135858928405513,
          -0.3725935430727839,
          -1.149839314568441,
          -1.1820110120647214,
          0.0579951631067358,
          -0.7952801123510185,
          -0.15551334049979282,
          1.0434772395456582,
          -0.022875009626148225,
          3.3025236317374196,
          -0.32570114147170715,
          0.5407930367210126,
          -0.4151081785754697,
          0.33704214537703314,
          -0.4701511228084882,
          -0.14435943211025629,
          -0.9028448420595891,
          -0.21862432605716922,
          -0.9792807000161597,
          0.34176873339631103,
          0.2879361986708727,
          -0.5823103251921256,
          0.46391020376928627,
          -0.2147344935430679,
          -0.17639327126393003,
          -0.5172553122651391,
          -0.08831966985975326,
          0.06747253707336501,
          -0.2230465590076843,
          -0.023140533223420873,
          0.3597233047464781,
          -0.8536554356779121,
          -0.8177322800310431,
          -0.9363841211235627,
          -0.31475585486556845,
          -0.16605721214938438,
          -0.5768529269778728,
          -0.373766810400189,
          0.7186231216902687,
          1.568642479928504,
          -0.31866463590643995,
          0.46750465560339877,
          0.17582820142761466,
          0.778364586991365,
          0.6577677311939797,
          -0.09591621147982823,
          -0.4267977673375021,
          0.43074527606203966,
          0.2266324081020127,
          -0.04826121521326663,
          0.040456228595398436,
          0.8720695622228198,
          -0.5820172374298861,
          -0.1938900387710458,
          0.2298714744616644,
          -0.06254495908469247,
          -0.024654052590517502,
          null,
          -0.23548061900381723,
          -0.32884542551933804,
          -1.0771032652521635,
          0.16659110025895177,
          0.8664551354363655,
          1.230015945911031,
          0.1900284457261653,
          -0.10532957416164873,
          1.6483830591997422,
          0.6744623890088309,
          1.7126604385780255,
          1.5627649471797358,
          0.33671091375595497,
          -0.45996354460347355,
          0.26833930331615136,
          1.248465418685274,
          1.1656708674572243,
          3.5978995996741743,
          2.8449887316010614,
          3.2585768965865793,
          1.6019933205345864,
          2.679630619511515,
          0.15092244773082747,
          0.5008265893128425,
          -0.2513863939022804,
          -0.38762943710865905,
          -0.12161027920457412,
          0.2937500344927505,
          0.3606634597183968,
          -0.13079712653140377,
          -0.25881252365969337,
          -0.08583906269327564,
          0.2964017676187985,
          -0.4135267549832379,
          -0.09896618800302627,
          -1.9447844661799882,
          -0.6120836631947035,
          -0.6298686711061517,
          -0.6620065116377891,
          -1.0803644573107227,
          -0.6306437393006443,
          -1.1515957499384346,
          -0.31297710259769396,
          -0.7172482306416803,
          -0.9734106695283601,
          -0.01435455197681529,
          -0.5189495993350149,
          0.4580047517821324,
          0.44019808736776156,
          -0.4917072726075724,
          0.4596612291423425,
          0.4505995189914619,
          -0.6812411897108583,
          0.2371896565955551,
          0.32643458576484535,
          -0.8245594898825114,
          0.27075050816213275,
          -1.064983401643824,
          -0.6480952340032113,
          -0.5408247754597467,
          -0.9129832170169866,
          -0.3720559733142369,
          -0.22022766036536032,
          -0.47417460781970994,
          -0.43815122098338055,
          -0.9615750412918954,
          1.5187295774701863,
          -0.5517926609279853,
          -1.1930792099892928,
          -0.02408181553929317,
          -0.8740764983823623,
          -1.2162019504679098,
          -0.4904296233841977,
          -0.6656629788870294,
          -1.7686890212055568,
          -0.9881497556169475,
          -0.42747445390822114,
          -1.074672989448314,
          -0.4578288357874893,
          0.6422434870353196,
          -0.5252697578803515,
          -0.5351517004424704,
          -0.9468100922249787,
          -0.4466390498466452,
          0.40075614678206617,
          0.6572298371867393,
          1.315108194799866,
          0.12301870490657257,
          -0.37708137769030786,
          -0.8836124157728433,
          1.1507306303757219,
          2.3194036808048684
         ],
         "xaxis": "x",
         "yaxis": "y"
        },
        {
         "alignmentgroup": "True",
         "hovertemplate": "variable=C Score<br>value=%{x}<extra></extra>",
         "legendgroup": "C Score",
         "marker": {
          "color": "#636efa"
         },
         "name": "C Score",
         "notched": true,
         "offsetgroup": "C Score",
         "showlegend": false,
         "type": "box",
         "x": [
          0.10840671367917093,
          2.878593012090026,
          -0.8676791896510844,
          3.9517873622970234,
          3.750516681423866,
          1.740046453161816,
          -0.33906098822301833,
          1.1245173194913154,
          0.44792735374353687,
          -0.043911883521285104,
          -1.05164833137154,
          -1.0964059505542056,
          -0.7055701426547353,
          0.12489302327386334,
          -0.31111406010133463,
          0.5798874601084962,
          1.205911650525961,
          0.32609384308253264,
          0.6426499625503812,
          1.2033609293505285,
          -0.46895448427059944,
          -0.044666158839220475,
          0.32415336385599663,
          -1.1741035840935647,
          -1.667409962566891,
          -1.0571807758557714,
          -0.21671466296176164,
          -0.06474247383301952,
          0.17713967328009003,
          -0.8491942057642268,
          -0.4170964623815954,
          -0.3019000491824266,
          -0.21616281267880805,
          -1.0560807413966158,
          0.032697501664876984,
          -0.1631409112552725,
          -0.6668346738047272,
          -0.5784219715359411,
          -0.5449617257444831,
          -0.1316428661983134,
          -0.2133978006150207,
          -0.9412987612253435,
          0.6139974205212884,
          0.5072519628593296,
          -0.07665039628785195,
          0.7185598726024393,
          -0.7141237432942897,
          1.5280424301924769,
          -0.30012164545086545,
          -0.5330753818409347,
          0.49177935649866444,
          -0.012617690971687086,
          -0.7357881054837722,
          0.04109503759057932,
          -1.0535013189913125,
          0.5162080252884336,
          0.0821718035048852,
          0.2684671536515552,
          2.604166287595806,
          -0.4610446871581203,
          1.5358844354711023,
          2.773147428266615,
          0.2990783066496731,
          0.34214035659058034,
          -0.2109927623233676,
          4.421311976005485,
          4.545310952249476,
          -0.09799470421899492,
          -0.05661117444830176,
          0.5211313565288088,
          -0.20647766645237012,
          1.7934821786404114,
          0.7710066997408425,
          -0.21287933555597102,
          -0.4876639827065435,
          -0.3876787226839654,
          -0.629083556898267,
          -0.5626483687776449,
          -0.009745798736618527,
          0.08399809687963715,
          0.6222635438953767,
          -0.8614936235003771,
          -0.1649849881557614,
          null,
          -0.08909782843667764,
          -0.308456961984894,
          -1.0624660328192956,
          0.05511329781754693,
          0.26315877117982,
          -0.09435493043663443,
          0.728607472398098,
          0.0000016850700337607607,
          -0.4173445634934311,
          -0.2701598923489655,
          -0.8556262643107138,
          0.02845272768412816,
          0.13184173636762986,
          -0.2478889895480234,
          -0.7519267416510527,
          -1.0458101292317639,
          -0.5995861861163913,
          -0.6738496530308847,
          -0.4291449995847669,
          1.1945093016290094,
          -0.3524265156177436,
          -0.09343565439486519,
          0.18017307269102242,
          0.3932192969030271,
          0.4444173541406819,
          0.9280388113666873,
          0.21956376061060645,
          -0.741893316265728,
          -0.7029116121912322,
          -0.14690769404754753,
          -0.17963948440084587,
          0.745222868734445,
          -0.2205539211451376,
          0.1485443981142671,
          -0.07532006828403921,
          -0.18462476807924885,
          -0.41017560398214037,
          0.5125641887344191,
          -0.2474469293544911,
          -1.2248223416002224,
          -0.7943199768390915,
          -0.8748687678933075,
          -1.3599071826654558,
          -0.6250427083231067,
          -0.7548216163911795,
          -1.4036900075221934,
          -1.429864841924617,
          -1.053913987963124,
          -0.8740737365918892,
          -0.8356825563511419,
          -0.7715686519257088,
          -1.1450791726485352,
          -1.2881248434633514,
          -0.18958822108169326,
          -0.9775240225769992,
          -1.1314462104370344,
          -1.135858928405513,
          -0.3725935430727839,
          -1.149839314568441,
          -1.1820110120647214,
          0.0579951631067358,
          -0.7952801123510185,
          -0.15551334049979282,
          1.0434772395456582,
          -0.022875009626148225,
          3.3025236317374196,
          -0.32570114147170715,
          0.5407930367210126,
          -0.4151081785754697,
          0.33704214537703314,
          -0.4701511228084882,
          -0.14435943211025629,
          -0.9028448420595891,
          -0.21862432605716922,
          -0.9792807000161597,
          0.34176873339631103,
          0.2879361986708727,
          -0.5823103251921256,
          0.46391020376928627,
          -0.2147344935430679,
          -0.17639327126393003,
          -0.5172553122651391,
          -0.08831966985975326,
          0.06747253707336501,
          -0.2230465590076843,
          -0.023140533223420873,
          0.3597233047464781,
          -0.8536554356779121,
          -0.8177322800310431,
          -0.9363841211235627,
          -0.31475585486556845,
          -0.16605721214938438,
          -0.5768529269778728,
          -0.373766810400189,
          0.7186231216902687,
          1.568642479928504,
          -0.31866463590643995,
          0.46750465560339877,
          0.17582820142761466,
          0.778364586991365,
          0.6577677311939797,
          -0.09591621147982823,
          -0.4267977673375021,
          0.43074527606203966,
          0.2266324081020127,
          -0.04826121521326663,
          0.040456228595398436,
          0.8720695622228198,
          -0.5820172374298861,
          -0.1938900387710458,
          0.2298714744616644,
          -0.06254495908469247,
          -0.024654052590517502,
          null,
          -0.23548061900381723,
          -0.32884542551933804,
          -1.0771032652521635,
          0.16659110025895177,
          0.8664551354363655,
          1.230015945911031,
          0.1900284457261653,
          -0.10532957416164873,
          1.6483830591997422,
          0.6744623890088309,
          1.7126604385780255,
          1.5627649471797358,
          0.33671091375595497,
          -0.45996354460347355,
          0.26833930331615136,
          1.248465418685274,
          1.1656708674572243,
          3.5978995996741743,
          2.8449887316010614,
          3.2585768965865793,
          1.6019933205345864,
          2.679630619511515,
          0.15092244773082747,
          0.5008265893128425,
          -0.2513863939022804,
          -0.38762943710865905,
          -0.12161027920457412,
          0.2937500344927505,
          0.3606634597183968,
          -0.13079712653140377,
          -0.25881252365969337,
          -0.08583906269327564,
          0.2964017676187985,
          -0.4135267549832379,
          -0.09896618800302627,
          -1.9447844661799882,
          -0.6120836631947035,
          -0.6298686711061517,
          -0.6620065116377891,
          -1.0803644573107227,
          -0.6306437393006443,
          -1.1515957499384346,
          -0.31297710259769396,
          -0.7172482306416803,
          -0.9734106695283601,
          -0.01435455197681529,
          -0.5189495993350149,
          0.4580047517821324,
          0.44019808736776156,
          -0.4917072726075724,
          0.4596612291423425,
          0.4505995189914619,
          -0.6812411897108583,
          0.2371896565955551,
          0.32643458576484535,
          -0.8245594898825114,
          0.27075050816213275,
          -1.064983401643824,
          -0.6480952340032113,
          -0.5408247754597467,
          -0.9129832170169866,
          -0.3720559733142369,
          -0.22022766036536032,
          -0.47417460781970994,
          -0.43815122098338055,
          -0.9615750412918954,
          1.5187295774701863,
          -0.5517926609279853,
          -1.1930792099892928,
          -0.02408181553929317,
          -0.8740764983823623,
          -1.2162019504679098,
          -0.4904296233841977,
          -0.6656629788870294,
          -1.7686890212055568,
          -0.9881497556169475,
          -0.42747445390822114,
          -1.074672989448314,
          -0.4578288357874893,
          0.6422434870353196,
          -0.5252697578803515,
          -0.5351517004424704,
          -0.9468100922249787,
          -0.4466390498466452,
          0.40075614678206617,
          0.6572298371867393,
          1.315108194799866,
          0.12301870490657257,
          -0.37708137769030786,
          -0.8836124157728433,
          1.1507306303757219,
          2.3194036808048684
         ],
         "xaxis": "x2",
         "yaxis": "y2"
        }
       ],
       "layout": {
        "barmode": "relative",
        "legend": {
         "title": {
          "text": "variable"
         },
         "tracegroupgap": 0
        },
        "showlegend": false,
        "template": {
         "data": {
          "bar": [
           {
            "error_x": {
             "color": "#2a3f5f"
            },
            "error_y": {
             "color": "#2a3f5f"
            },
            "marker": {
             "line": {
              "color": "#E5ECF6",
              "width": 0.5
             },
             "pattern": {
              "fillmode": "overlay",
              "size": 10,
              "solidity": 0.2
             }
            },
            "type": "bar"
           }
          ],
          "barpolar": [
           {
            "marker": {
             "line": {
              "color": "#E5ECF6",
              "width": 0.5
             },
             "pattern": {
              "fillmode": "overlay",
              "size": 10,
              "solidity": 0.2
             }
            },
            "type": "barpolar"
           }
          ],
          "carpet": [
           {
            "aaxis": {
             "endlinecolor": "#2a3f5f",
             "gridcolor": "white",
             "linecolor": "white",
             "minorgridcolor": "white",
             "startlinecolor": "#2a3f5f"
            },
            "baxis": {
             "endlinecolor": "#2a3f5f",
             "gridcolor": "white",
             "linecolor": "white",
             "minorgridcolor": "white",
             "startlinecolor": "#2a3f5f"
            },
            "type": "carpet"
           }
          ],
          "choropleth": [
           {
            "colorbar": {
             "outlinewidth": 0,
             "ticks": ""
            },
            "type": "choropleth"
           }
          ],
          "contour": [
           {
            "colorbar": {
             "outlinewidth": 0,
             "ticks": ""
            },
            "colorscale": [
             [
              0,
              "#0d0887"
             ],
             [
              0.1111111111111111,
              "#46039f"
             ],
             [
              0.2222222222222222,
              "#7201a8"
             ],
             [
              0.3333333333333333,
              "#9c179e"
             ],
             [
              0.4444444444444444,
              "#bd3786"
             ],
             [
              0.5555555555555556,
              "#d8576b"
             ],
             [
              0.6666666666666666,
              "#ed7953"
             ],
             [
              0.7777777777777778,
              "#fb9f3a"
             ],
             [
              0.8888888888888888,
              "#fdca26"
             ],
             [
              1,
              "#f0f921"
             ]
            ],
            "type": "contour"
           }
          ],
          "contourcarpet": [
           {
            "colorbar": {
             "outlinewidth": 0,
             "ticks": ""
            },
            "type": "contourcarpet"
           }
          ],
          "heatmap": [
           {
            "colorbar": {
             "outlinewidth": 0,
             "ticks": ""
            },
            "colorscale": [
             [
              0,
              "#0d0887"
             ],
             [
              0.1111111111111111,
              "#46039f"
             ],
             [
              0.2222222222222222,
              "#7201a8"
             ],
             [
              0.3333333333333333,
              "#9c179e"
             ],
             [
              0.4444444444444444,
              "#bd3786"
             ],
             [
              0.5555555555555556,
              "#d8576b"
             ],
             [
              0.6666666666666666,
              "#ed7953"
             ],
             [
              0.7777777777777778,
              "#fb9f3a"
             ],
             [
              0.8888888888888888,
              "#fdca26"
             ],
             [
              1,
              "#f0f921"
             ]
            ],
            "type": "heatmap"
           }
          ],
          "heatmapgl": [
           {
            "colorbar": {
             "outlinewidth": 0,
             "ticks": ""
            },
            "colorscale": [
             [
              0,
              "#0d0887"
             ],
             [
              0.1111111111111111,
              "#46039f"
             ],
             [
              0.2222222222222222,
              "#7201a8"
             ],
             [
              0.3333333333333333,
              "#9c179e"
             ],
             [
              0.4444444444444444,
              "#bd3786"
             ],
             [
              0.5555555555555556,
              "#d8576b"
             ],
             [
              0.6666666666666666,
              "#ed7953"
             ],
             [
              0.7777777777777778,
              "#fb9f3a"
             ],
             [
              0.8888888888888888,
              "#fdca26"
             ],
             [
              1,
              "#f0f921"
             ]
            ],
            "type": "heatmapgl"
           }
          ],
          "histogram": [
           {
            "marker": {
             "pattern": {
              "fillmode": "overlay",
              "size": 10,
              "solidity": 0.2
             }
            },
            "type": "histogram"
           }
          ],
          "histogram2d": [
           {
            "colorbar": {
             "outlinewidth": 0,
             "ticks": ""
            },
            "colorscale": [
             [
              0,
              "#0d0887"
             ],
             [
              0.1111111111111111,
              "#46039f"
             ],
             [
              0.2222222222222222,
              "#7201a8"
             ],
             [
              0.3333333333333333,
              "#9c179e"
             ],
             [
              0.4444444444444444,
              "#bd3786"
             ],
             [
              0.5555555555555556,
              "#d8576b"
             ],
             [
              0.6666666666666666,
              "#ed7953"
             ],
             [
              0.7777777777777778,
              "#fb9f3a"
             ],
             [
              0.8888888888888888,
              "#fdca26"
             ],
             [
              1,
              "#f0f921"
             ]
            ],
            "type": "histogram2d"
           }
          ],
          "histogram2dcontour": [
           {
            "colorbar": {
             "outlinewidth": 0,
             "ticks": ""
            },
            "colorscale": [
             [
              0,
              "#0d0887"
             ],
             [
              0.1111111111111111,
              "#46039f"
             ],
             [
              0.2222222222222222,
              "#7201a8"
             ],
             [
              0.3333333333333333,
              "#9c179e"
             ],
             [
              0.4444444444444444,
              "#bd3786"
             ],
             [
              0.5555555555555556,
              "#d8576b"
             ],
             [
              0.6666666666666666,
              "#ed7953"
             ],
             [
              0.7777777777777778,
              "#fb9f3a"
             ],
             [
              0.8888888888888888,
              "#fdca26"
             ],
             [
              1,
              "#f0f921"
             ]
            ],
            "type": "histogram2dcontour"
           }
          ],
          "mesh3d": [
           {
            "colorbar": {
             "outlinewidth": 0,
             "ticks": ""
            },
            "type": "mesh3d"
           }
          ],
          "parcoords": [
           {
            "line": {
             "colorbar": {
              "outlinewidth": 0,
              "ticks": ""
             }
            },
            "type": "parcoords"
           }
          ],
          "pie": [
           {
            "automargin": true,
            "type": "pie"
           }
          ],
          "scatter": [
           {
            "marker": {
             "colorbar": {
              "outlinewidth": 0,
              "ticks": ""
             }
            },
            "type": "scatter"
           }
          ],
          "scatter3d": [
           {
            "line": {
             "colorbar": {
              "outlinewidth": 0,
              "ticks": ""
             }
            },
            "marker": {
             "colorbar": {
              "outlinewidth": 0,
              "ticks": ""
             }
            },
            "type": "scatter3d"
           }
          ],
          "scattercarpet": [
           {
            "marker": {
             "colorbar": {
              "outlinewidth": 0,
              "ticks": ""
             }
            },
            "type": "scattercarpet"
           }
          ],
          "scattergeo": [
           {
            "marker": {
             "colorbar": {
              "outlinewidth": 0,
              "ticks": ""
             }
            },
            "type": "scattergeo"
           }
          ],
          "scattergl": [
           {
            "marker": {
             "colorbar": {
              "outlinewidth": 0,
              "ticks": ""
             }
            },
            "type": "scattergl"
           }
          ],
          "scattermapbox": [
           {
            "marker": {
             "colorbar": {
              "outlinewidth": 0,
              "ticks": ""
             }
            },
            "type": "scattermapbox"
           }
          ],
          "scatterpolar": [
           {
            "marker": {
             "colorbar": {
              "outlinewidth": 0,
              "ticks": ""
             }
            },
            "type": "scatterpolar"
           }
          ],
          "scatterpolargl": [
           {
            "marker": {
             "colorbar": {
              "outlinewidth": 0,
              "ticks": ""
             }
            },
            "type": "scatterpolargl"
           }
          ],
          "scatterternary": [
           {
            "marker": {
             "colorbar": {
              "outlinewidth": 0,
              "ticks": ""
             }
            },
            "type": "scatterternary"
           }
          ],
          "surface": [
           {
            "colorbar": {
             "outlinewidth": 0,
             "ticks": ""
            },
            "colorscale": [
             [
              0,
              "#0d0887"
             ],
             [
              0.1111111111111111,
              "#46039f"
             ],
             [
              0.2222222222222222,
              "#7201a8"
             ],
             [
              0.3333333333333333,
              "#9c179e"
             ],
             [
              0.4444444444444444,
              "#bd3786"
             ],
             [
              0.5555555555555556,
              "#d8576b"
             ],
             [
              0.6666666666666666,
              "#ed7953"
             ],
             [
              0.7777777777777778,
              "#fb9f3a"
             ],
             [
              0.8888888888888888,
              "#fdca26"
             ],
             [
              1,
              "#f0f921"
             ]
            ],
            "type": "surface"
           }
          ],
          "table": [
           {
            "cells": {
             "fill": {
              "color": "#EBF0F8"
             },
             "line": {
              "color": "white"
             }
            },
            "header": {
             "fill": {
              "color": "#C8D4E3"
             },
             "line": {
              "color": "white"
             }
            },
            "type": "table"
           }
          ]
         },
         "layout": {
          "annotationdefaults": {
           "arrowcolor": "#2a3f5f",
           "arrowhead": 0,
           "arrowwidth": 1
          },
          "autotypenumbers": "strict",
          "coloraxis": {
           "colorbar": {
            "outlinewidth": 0,
            "ticks": ""
           }
          },
          "colorscale": {
           "diverging": [
            [
             0,
             "#8e0152"
            ],
            [
             0.1,
             "#c51b7d"
            ],
            [
             0.2,
             "#de77ae"
            ],
            [
             0.3,
             "#f1b6da"
            ],
            [
             0.4,
             "#fde0ef"
            ],
            [
             0.5,
             "#f7f7f7"
            ],
            [
             0.6,
             "#e6f5d0"
            ],
            [
             0.7,
             "#b8e186"
            ],
            [
             0.8,
             "#7fbc41"
            ],
            [
             0.9,
             "#4d9221"
            ],
            [
             1,
             "#276419"
            ]
           ],
           "sequential": [
            [
             0,
             "#0d0887"
            ],
            [
             0.1111111111111111,
             "#46039f"
            ],
            [
             0.2222222222222222,
             "#7201a8"
            ],
            [
             0.3333333333333333,
             "#9c179e"
            ],
            [
             0.4444444444444444,
             "#bd3786"
            ],
            [
             0.5555555555555556,
             "#d8576b"
            ],
            [
             0.6666666666666666,
             "#ed7953"
            ],
            [
             0.7777777777777778,
             "#fb9f3a"
            ],
            [
             0.8888888888888888,
             "#fdca26"
            ],
            [
             1,
             "#f0f921"
            ]
           ],
           "sequentialminus": [
            [
             0,
             "#0d0887"
            ],
            [
             0.1111111111111111,
             "#46039f"
            ],
            [
             0.2222222222222222,
             "#7201a8"
            ],
            [
             0.3333333333333333,
             "#9c179e"
            ],
            [
             0.4444444444444444,
             "#bd3786"
            ],
            [
             0.5555555555555556,
             "#d8576b"
            ],
            [
             0.6666666666666666,
             "#ed7953"
            ],
            [
             0.7777777777777778,
             "#fb9f3a"
            ],
            [
             0.8888888888888888,
             "#fdca26"
            ],
            [
             1,
             "#f0f921"
            ]
           ]
          },
          "colorway": [
           "#636efa",
           "#EF553B",
           "#00cc96",
           "#ab63fa",
           "#FFA15A",
           "#19d3f3",
           "#FF6692",
           "#B6E880",
           "#FF97FF",
           "#FECB52"
          ],
          "font": {
           "color": "#2a3f5f"
          },
          "geo": {
           "bgcolor": "white",
           "lakecolor": "white",
           "landcolor": "#E5ECF6",
           "showlakes": true,
           "showland": true,
           "subunitcolor": "white"
          },
          "hoverlabel": {
           "align": "left"
          },
          "hovermode": "closest",
          "mapbox": {
           "style": "light"
          },
          "paper_bgcolor": "white",
          "plot_bgcolor": "#E5ECF6",
          "polar": {
           "angularaxis": {
            "gridcolor": "white",
            "linecolor": "white",
            "ticks": ""
           },
           "bgcolor": "#E5ECF6",
           "radialaxis": {
            "gridcolor": "white",
            "linecolor": "white",
            "ticks": ""
           }
          },
          "scene": {
           "xaxis": {
            "backgroundcolor": "#E5ECF6",
            "gridcolor": "white",
            "gridwidth": 2,
            "linecolor": "white",
            "showbackground": true,
            "ticks": "",
            "zerolinecolor": "white"
           },
           "yaxis": {
            "backgroundcolor": "#E5ECF6",
            "gridcolor": "white",
            "gridwidth": 2,
            "linecolor": "white",
            "showbackground": true,
            "ticks": "",
            "zerolinecolor": "white"
           },
           "zaxis": {
            "backgroundcolor": "#E5ECF6",
            "gridcolor": "white",
            "gridwidth": 2,
            "linecolor": "white",
            "showbackground": true,
            "ticks": "",
            "zerolinecolor": "white"
           }
          },
          "shapedefaults": {
           "line": {
            "color": "#2a3f5f"
           }
          },
          "ternary": {
           "aaxis": {
            "gridcolor": "white",
            "linecolor": "white",
            "ticks": ""
           },
           "baxis": {
            "gridcolor": "white",
            "linecolor": "white",
            "ticks": ""
           },
           "bgcolor": "#E5ECF6",
           "caxis": {
            "gridcolor": "white",
            "linecolor": "white",
            "ticks": ""
           }
          },
          "title": {
           "x": 0.05
          },
          "xaxis": {
           "automargin": true,
           "gridcolor": "white",
           "linecolor": "white",
           "ticks": "",
           "title": {
            "standoff": 15
           },
           "zerolinecolor": "white",
           "zerolinewidth": 2
          },
          "yaxis": {
           "automargin": true,
           "gridcolor": "white",
           "linecolor": "white",
           "ticks": "",
           "title": {
            "standoff": 15
           },
           "zerolinecolor": "white",
           "zerolinewidth": 2
          }
         }
        },
        "title": {
         "text": "<b>Z Score of Cumulative Metric</b><br>Number of Ticks > 100",
         "x": 0.5
        },
        "xaxis": {
         "anchor": "y",
         "domain": [
          0,
          1
         ],
         "title": {
          "text": "Z Score of Cumulative Metric"
         }
        },
        "xaxis2": {
         "anchor": "y2",
         "domain": [
          0,
          1
         ],
         "matches": "x",
         "showgrid": true,
         "showticklabels": false
        },
        "yaxis": {
         "anchor": "x",
         "domain": [
          0,
          0.7326
         ],
         "title": {
          "text": "Count"
         }
        },
        "yaxis2": {
         "anchor": "x2",
         "domain": [
          0.7426,
          1
         ],
         "matches": "y2",
         "showgrid": false,
         "showline": false,
         "showticklabels": false,
         "ticks": ""
        }
       }
      }
     },
     "metadata": {},
     "output_type": "display_data"
    }
   ],
   "source": [
    "fig = px.histogram(zscore(df['C Score'], nan_policy='omit'), nbins=50, marginal='box', title='<b>Z Score of Cumulative Metric</b><br>Number of Ticks > 100')\n",
    "fig.update_layout(showlegend=False, title_x=0.5)\n",
    "fig.update_xaxes(title=\"Z Score of Cumulative Metric\", row=1,col=1, range=_)\n",
    "fig.update_yaxes(title='Count', row=1,col=1)\n",
    "fig.write_html(\"Cum_Hist.html\")\n",
    "fig"
   ]
  }
 ],
 "metadata": {
  "kernelspec": {
   "display_name": "base",
   "language": "python",
   "name": "python3"
  },
  "language_info": {
   "codemirror_mode": {
    "name": "ipython",
    "version": 3
   },
   "file_extension": ".py",
   "mimetype": "text/x-python",
   "name": "python",
   "nbconvert_exporter": "python",
   "pygments_lexer": "ipython3",
   "version": "3.9.12"
  },
  "orig_nbformat": 4,
  "vscode": {
   "interpreter": {
    "hash": "ccb792db5169fd270d24b9d2cdc2f385afb52a39756a6557b502e64efe9aa0c1"
   }
  }
 },
 "nbformat": 4,
 "nbformat_minor": 2
}
